{
 "cells": [
  {
   "cell_type": "markdown",
   "metadata": {
    "id": "DWf0BXOWfWkG"
   },
   "source": [
    "#  Zebonastic Prompt Playground\n",
    "\n",
    "The Zebonastic Prompt Playground is a Google colab notebook that helps play with prompts. It has lists of tens of thousands of terms related to the components of a midjourney prompt. That is, the subject, action, place, styles, format, booster, perspective, camera view, media type (illustration,photo or design, artistic inspiration, other mj prompts, and midjourney parameters.\n",
    "\n",
    "To use the Zebonastic Prompt Playground you need to upload it to the free Google colab, and hit \"Run All\".  Please watch the Colab intro video [https://colab.research.google.com/](https://colab.research.google.com/) if unfamiliar with colab. The code is very simple and comes with python lists for the subject, action, place, styles, format, booster, perspective, camera view, media type (illustration,photo or design, artistic inspiration, other mj prompts, and midjourney parameters. It is intended as a sandbox to begin the play with prompt engineering and as a starting point for you to make the noteboook your own.\n",
    "\n",
    "\n",
    "The Zebonastic Prompt Playground [https://www.instagram.com/zebonastic.ai/](https://www.instagram.com/zebonastic.ai/) works especially well with our 9999 Midjourney Prompts lists which, besides a .csv file, gives two text files with two formatted python lists called mj_prompts, which can be cut and pasted into the Zebonastic Prompt Playground Colab notebook to create prompts that are specific to a topic like fashion, game art, or data visualization.\n",
    "\n",
    "Zebonastic has used this notebook the create over 50,000 stuning midjourney images some of which you can see at [https://www.instagram.com/zebonastic.ai/](https://www.instagram.com/zebonastic.ai/) and [https://www.etsy.com/shop/Zebonastic](https://www.etsy.com/shop/Zebonastic)\n",
    "\n",
    "_*Anatomy of a Midjourney prompt*_\n",
    "\n",
    "1. Subject (1) - person, animal, character, location, object, etc.\n",
    "2. Action (0.1) - jumping, dancing, posing, etc.\n",
    "3. Place (0,1) - supermarket, Venice beach, Eiffel Tower, etc.\n",
    "4. Style (0,2) - Expressionism, Steampunk, Renaissance, Pop Art, etc.\n",
    "5. Format (0,2) -  3D Render, Action Photography, Advertising Campaign, etc.\n",
    "6. Booster (0,5) - #wow, 4k,Arnold Render, Beautiful, Blender 3d,Contest Winner  etc.\n",
    "7. Perspective (0,1) -  85mm, Aerial View, Bokeh, Close Face, etc.\n",
    "8. View (0,1) - Portrait, headshot, closeup, birds-eye view, etc.\n",
    "9. Artists (0,3) - Wes Anderson, Arcimboldo, Pierre Auguste Renoir, Banksy, etc.\n",
    "10. Medium (0,1) - photo, painting, illustration, sculpture, doodle, tapestry, etc.\n",
    "11. Environment (0,1) - indoors, outdoors, on the moon, in Narnia, underwater, the Emerald City, etc.\n",
    "12. Lighting (0,1) - soft, ambient, overcast, neon, studio lights, etc\n",
    "13. Color (0,5) - vibrant, muted, bright, monochromatic, colorful, black and white, pastel, etc.\n",
    "14. Mood (0,1) - Sedate, calm, raucous, energetic, etc.\n",
    "15. Time Travel (0,1) - 1700s, 1960s, 2070s, etc.\n",
    "16. mj_prompt (0,1) - an existing mj prompt that has worked\n",
    "17. Midjourney parameters (0,2)  , etc.\n",
    "\n",
    "The notebook is very simple, (1) means one of the element is required, (0,5) anywhere from zero to five elements of the type, for example, zero to five boosters might be added.\n",
    "\n",
    "The user specifies the subject or lets the script assingn and random subject and hitting \"Run All\" generates num_prompts random prompt strings.\n",
    "\n",
    "The strings can be pasted into midjourney or as English prompts that can be edited by hand.  Note that while you can choose to write your prompts like a traditional sentnce all Midjourney cares about is the keywords in the prompt string.\n",
    "\n",
    "## Grammar\n",
    "\n",
    "The Midjourney Bot does not understand grammar, sentence structure, or words like humans. Word choice also matters. More specific synonyms work better in many circumstances. Instead of big, try gigantic, enormous, or immense. Remove words when possible. Fewer words mean each word has a more powerful influence. Use commas, brackets, and hyphens to help organize your thoughts, but know the Midjourney Bot will not reliably interpret them. The Midjourney Bot does not consider capitalization.\n",
    "\n",
    "## Use Collective Nouns\n",
    "\n",
    "Plural words leave a lot to chance. Try specific numbers. \"Three cats\" is more specific than \"cats.\" Collective nouns also work, “flock of birds” instead of \"birds.”  Try 27-year-old woman rather than woman.\n",
    "\n",
    "## Basic Parameters\n",
    "\n",
    "Using an Apple device?\n",
    "Many Apple devices automatically change double hyphens (--) to an em-dash (—). Midjourney accepts both!\n",
    "\n",
    "Aspect Ratios\n",
    "--aspect, or --ar Change the aspect ratio of a generation.\n",
    "\n",
    "Chaos\n",
    "--chaos <number 0–100> Change how varied the results will be. Higher values produce more unusual and unexpected generations.\n",
    "\n",
    "Image Weight\n",
    "--iw Sets image prompt weight relative to text weight. The default value is --iw 0.25.\n",
    "\n",
    "No\n",
    "--no Negative prompting, --no plants would try to remove plants from the image.\n",
    "\n",
    "Quality\n",
    "--quality <.25, .5, or 1>, or --q <.25, .5, or 1> How much rendering quality time you want to spend. The default value is 1. Higher values use more GPU minutes; lower values use less.\n",
    "\n",
    "Repeat\n",
    "--repeat <1–40>, or --r <1–40> Create multiple Jobs from a single prompt. --repeat is useful for quickly rerunning a job multiple times.\n",
    "\n",
    "Seed\n",
    "--seed <integer between 0–4294967295> The Midjourney bot uses a seed number to create a field of visual noise, like television static, as a starting point to generate the initial image grids. Seed numbers are generated randomly for each image but can be specified with the --seed or --sameseed parameter. Using the same seed number and prompt will produce similar ending images.\n",
    "\n",
    "Stop\n",
    "--stop <integer between 10–100> Use the --stop parameter to finish a Job partway through the process. Stopping a Job at an earlier percentage can create blurrier, less detailed results.\n",
    "\n",
    "Style\n",
    "--style <raw> Switch between versions of the Midjourney Model Version 5.1.\n",
    "--style <4a, 4b, or 4c> Switch between versions of the Midjourney Model Version 4.\n",
    "--style <cute, expressive, or scenic> Switch between versions of the Niji Model Version 5.\n",
    "\n",
    "Stylize\n",
    "--stylize <number>, or --s <number> parameter influences how strongly Midjourney's default aesthetic style is applied to Jobs.\n",
    "\n",
    "Tile\n",
    "--tile parameter generates images that can be used as repeating tiles to create seamless patterns.\n"
   ]
  },
  {
   "cell_type": "code",
   "execution_count": 1,
   "metadata": {
    "id": "0UE-Da3ggqzv"
   },
   "outputs": [],
   "source": [
    "# Some helper functions, most of these aren't used in this notebook but Zebonastic uses them for more advanced prompting so are included just in case they are useful\n",
    "import string\n",
    "import re, random\n",
    "\n",
    "def clean_lists(input_list):\n",
    "    cleaned_list = list(set(filter(lambda x: len(x) >= 3, input_list)))\n",
    "    return cleaned_list\n",
    "\n",
    "def clean_up_commas(string):\n",
    "    # Replace multiple commas with a single comma\n",
    "    string = re.sub(r',+', ',', string)\n",
    "\n",
    "    # Replace commas not properly flushed with a letter and a single white space\n",
    "    string = re.sub(r'(?<=[a-zA-Z]),(?!\\s|$)', ', ', string)\n",
    "\n",
    "    return string\n",
    "\n",
    "def combine_lists(list_of_lists):\n",
    "    combined_list = [element.title() for sublist in list_of_lists for element in sublist]\n",
    "    unique_list = list(set(combined_list))\n",
    "    return unique_list\n",
    "\n",
    "def alpha_numeric(n):\n",
    "    non_ascii_letters = ''.join([char for char in string.printable if char not in string.ascii_letters and ord(char) < 128 and char.isprintable()])\n",
    "    alpha_numeric = string.ascii_letters + string.digits  # contains both upper and lowercase letters and digits\n",
    "    result = ''\n",
    "    while len(result) < n:\n",
    "        result += random.choice(alpha_numeric)\n",
    "   # result += random.choice(non_ascii_letters)\n",
    "    result += str(random.randint(0, 9))\n",
    "    return result\n",
    "\n",
    "def decades():\n",
    "    start_year = 1840\n",
    "    end_year = 2040\n",
    "    decade = random.randint(start_year, end_year) // 10 * 10\n",
    "    return f\"{decade}s\"\n",
    "\n",
    "def biased_coin_flip(probability):\n",
    "    flip = random.random() # random number between 0 and 1\n",
    "    if flip < probability:\n",
    "        return True\n",
    "    else:\n",
    "        return False\n",
    "\n",
    "def replace_photoart(string, reverse=False):\n",
    "    if reverse:\n",
    "        replacements = {\n",
    "            'photo': 'art',\n",
    "            'photograph': 'drawing',\n",
    "            'photography': 'illustration'\n",
    "        }\n",
    "    else:\n",
    "        replacements = {\n",
    "            'illustration': 'photography',\n",
    "            'drawing': 'photograph',\n",
    "            'art': 'photo',\n",
    "            'artgraphy': 'photography'\n",
    "        }\n",
    "    for old_word, new_word in replacements.items():\n",
    "        string = string.replace(old_word, new_word)\n",
    "    replacements = {\n",
    "            'artgraphy': 'drawing',\n",
    "            'artgraph': 'drawing'\n",
    "        }\n",
    "    for old_word, new_word in replacements.items():\n",
    "        string = string.replace(old_word, new_word)\n",
    "    return string\n"
   ]
  },
  {
   "cell_type": "code",
   "execution_count": null,
   "metadata": {
    "id": "TD_8kmtKdBKM"
   },
   "outputs": [],
   "source": [
    "# Lists\n",
    "\n",
    "\n",
    "subjects = ['Hadrosauridae', 'Bullmastiff',  'Nancy Thompson A Nightmare On Elm Street', 'Belgian Tervuren', 'Scarlett Ohara Gone With The Wind', '27-Year-Old Snow White', 'Torvosaurus', 'Maleficent Sleeping Beauty', 'Bearded Collie', 'Troodon', 'Religious Figure', 'Mussaurus', 'Panda', '27-Year-Old Anna', 'Psittacosaurus', 'Brussels Griffon', 'Airedale Terrier', 'Einiosaurus', 'Cavalier King Charles Spaniel', 'Lord Dhanvantari', 'Vaporeon', 'Planet', 'Time Period', 'Lucario', 'Sinornithosaurus', 'Weapon', 'Lord Agni', 'Goddess Radha', '27-Year-Old Disney Princess Maleficent', 'Larry The Lobster', 'Lugia', 'Goddess', 'Mouse', 'Lord Murugan', 'Ornithischia', '27-Year-Old Ursula', 'Sinornithoides', '27-Year-Old Disney Princess Dorothy', '27-Year-Old Jasmine', 'Black And Tan Coonhound', 'Squidward Tentacles', 'Spectacled Bear', 'Jessica Rabbit Who Framed Roger Rabbit', 'Segnosaurus', '27-Year-Old Beast', '27-Year-Old Rumpelstiltskin', 'Constellation', 'Holly Golightly Breakfast At Tiffanys', 'Zodiac Sign', '27-Year-Old Belle', 'Jasmine Aladdin', 'Collie', 'Mononykus', 'Greninja', 'Charizard', 'Maiasaura', 'Mina Harker Dracula', 'Cryolophosaurus', 'Lord Shiva', 'Camarasaurus', 'Celebrity', '27-Year-Old Merida', 'Sheep', 'Tyrannosaurus', 'Lambeosaurus', 'Lord Ganesha', '27-Year-Old Disney Princess Beast', 'Male Model', 'Buffy Summers Buffy The Vampire Slayer', 'Artifact', 'Fashion Trend', 'Microraptor', 'Therizinosaurus', 'Emotion', 'Australian Terrier', 'Selina Kyle/Catwoman Batman', 'Movie', 'Compsognathidae', '27-Year-Old Pocahontas', 'Lord Vishnu', '27-Year-Old Maid Marian', '27-Year-Old Ariel', 'Cat', 'Arcanine', 'Natasha Romanoff/Black Widow Marvel Comics', 'Citipati', 'Butterfly', 'Alakazam', 'Goddess Satyabhama', 'Baryonyx', 'Lord Vishwakarma', 'Giant Panda', 'Dorothy Gale The Wizard Of Oz', 'Karen Plankton', 'Australian Cattle Dog', 'Language', 'Hesperornis', 'Ankylosaurus', 'Dragonfly', 'Historical Period', '27-Year-Old Disney Princess Fairy Godmother', 'Tiger', 'Sabrina Spellman Sabrina, The Teenage Witch', 'Occupation', 'Centrosaurus', 'Barnacle Boy', 'Mrs. Puff', 'Supermodel', 'Stegosaurus', 'Dog', 'Ophelia Hamlet', 'Juliet Capulet Romeo And Juliet', 'Musician', 'Nanotyrannus', '27-Year-Old Supermodel Mary Poppins', 'Book', 'Rizzo Grease', 'Bee', 'Coelurosauria', 'Lord Indra', 'Mythical Realm', 'Offred The Handmaids Tale', '27-Year-Old Wendy Darling', '27-Year-Old Disney Princess Cinderella', 'Saurischia', 'Event', 'Canaan Dog', 'Fitness Model', 'Octopus', 'Alice Alice In Wonderland', 'Mamenchisaurus', '27-Year-Old Disney Princess Princess Tiana', 'Mermaid Man', 'Lord Surya', 'Superhero', 'Fantasy Creature', 'Yangchuanosaurus', 'Saurolophus', 'Mythical Creature', 'Rayquaza', 'Ornithomimus', '27-Year-Old Elsa', 'Lisbeth Salander The Girl With The Dragon Tattoo', 'Country', 'Hermione Granger Harry Potter', 'Coelophysis', 'Allosauridae', 'American Black Bear', 'Pikachu', 'Hua Mulan Ballad Of Mulan', 'Chinese Shar-Pei', 'Brachiosaurus', '27-Year-Old Disney Princess Little Red Riding Hood', '27-Year-Old Mother Gothel', 'Bulbasaur', 'Gengar', 'City', 'Gyarados', 'Akita', 'Art Style', 'Bubble Bass', '27-Year-Old Princess Tiana', 'Allosaurus', 'Goddess Parvati', 'Rose Dewitt Bukater Titanic', '27-Year-Old Little Red Riding Hood', '27-Year-Old Red Queen', 'Lord Yama', 'Penguin', '27-Year-Old Queen Of Hearts', 'Archetype', 'American Water Spaniel', 'Frog', 'Asiatic Black Bear', 'Boykin Spaniel', 'Artwork', 'Fiona', 'Monkey', 'Bear', 'Body Part', 'Comic Book', 'Goddess Sita', 'Legend', 'Squirtle', '27-Year-Old Disney Princess Merida', '27-Year-Old Disney Princess Princess Jasmine', 'Boston Terrier', 'Australian Shepherd', 'Goddess Renuka', 'Science Concept', 'Lord Hanuman', '27-Year-Old Disney Princess Elsa', 'Fictional World', 'Zebra', 'Mythology', 'Tinker Bell', 'Dolphin', 'Pinacosaurus', '27-Year-Old Disney Princess Queen Of Hearts', 'Bloodhound', '27-Year-Old Dorothy', 'Monster', 'Duck', 'Ladybug', '27-Year-Old Disney Princess Evil Queen', 'Cersei Lannister A Song Of Ice And Fire', 'Troodontidae', '27-Year-Old Disney Princess Rumpelstiltskin', 'Koala', '27-Year-Old Disney Princess Rapunzel', 'Snorlax', 'Tenontosaurus', 'Lord Brahma', 'Princess Fiona', 'Food', 'Carnosauria', 'Shunosaurus', 'Folk Hero', 'Albertosaurus', '27-Year-Old Disney Princess Wicked Witch Of The West', 'Lord Chandra', 'Theropoda', 'Ariel The Little Mermaid', 'Eoraptor', '27-Year-Old Disney Princess Blue Fairy', 'Katniss Everdeen The Hunger Games', '27-Year-Old Disney Princess Maid Marian', 'Elasmosaurus', 'Dracorex', 'Natural Phenomenon', 'Outer Space', 'Hypsilophodon', 'Invention', 'Cruella De Vil', 'Velociraptorinae', 'Euoplocephalus', 'Fairy Tale', 'Literary Genre', 'Border Collie', 'Lord Garuda', 'Spongebob Squarepants', 'Villain', '27-Year-Old Disney Princess Beauty', 'Animal', 'Cairn Terrier', 'European Rabbit', 'Belgian Sheepdog', 'Lois Lane Superman', 'Giganotosaurus', 'Samantha Jones Sex And The City', 'Cardigan Welsh Corgi', 'Sandy Cheeks', 'Goddess Annapurna', 'Horse', 'Sport', 'Historical Figure', '27-Year-Old Maleficent', 'Charmander', '27-Year-Old Disney Princess Sleeping Beauty', 'Deinonychus', 'Giraffe', 'Kentrosaurus', 'American Staffordshire Terrier', 'Monolophosaurus', '27-Year-Old Disney Princess Pocahontas', 'Merida Brave', 'Polar Bear', '27-Year-Old Disney Princess Anna', 'Folklore', 'Anatomy', 'Abelisauridae', 'Dacentrurus', 'Iguanodontidae', 'Element', 'Chihuahua', '27-Year-Old Cinderella', 'Rapunzel Tangled', 'Tyranitar', 'Ninetales', 'Salamence', 'Titanosauria', 'Turtle', 'Quetzalcoatlus', 'Goddess Meenakshi', 'Building', 'Dragonite', '27-Year-Old Supermodel Maleficent', '27-Year-Old Princess Jasmine', 'The Little Mermaid', '27-Year-Old Alice', 'Dimetrodon', 'Stygimoloch', 'Technology', 'Snow White Snow White And The Seven Dwarfs', 'Meg March Little Women', 'Diplodocus', 'Goddess Kali', '27-Year-Old Queen Elsa', 'Anna Karenina Anna Karenina', '27-Year-Old Queen Clarion', '27-Year-Old Blue Fairy', 'Rabbit', 'Vehicle', 'Curly-Coated Retriever', 'Lord Shani', 'Lion', 'Patchy The Pirate', 'Elephant', 'Plant', 'Comic Character', 'Goddess Rukmini', 'Daenerys Targaryen A Song Of Ice And Fire', '27-Year-Old Disney Princess Wendy Darling', 'Bernese Mountain Dog', '27-Year-Old Tiana', 'Goddess Draupadi', 'Serena Van Der Woodsen Gossip Girl', '27-Year-Old Disney Princess Snow White', 'Goddess Saraswati', 'Chesapeake Bay Retriever', 'Game', 'Gastonia', '27-Year-Old Disney Princess Red Queen', 'Pig', 'Velocisaurus', 'Sarah Connor Terminator', 'Goddess Durga']\n",
    "actions = ['Goddess Pose', 'Drawing', 'Create A Decoy To Distract Opponents', 'Use Fear Or Intimidation To Make Opponents Hesitate', 'Summon A Storm To Create Chaos And Confusion', 'Listening', 'Running', 'Inspiring', 'Use Healing Powers To Mend Their Own Wounds Or Those Of Others', 'Creating', 'Throw A Punch', 'Use Their Ability To Shapeshift To Confuse Opponents', 'Create A Tornado Or Hurricane To Blow Away Opponents', 'Create A Blinding Light To Blind Opponents', 'Exploring', 'Mountain Pose', 'Baddha Konasana', 'Side Plank Pose', 'Eagle Pose', 'Use Their Knowledge Of Martial Arts To Defeat Opponents', 'Use Their Ability To Transform Into An Animal To Gain An Advantage In Battle', 'Plow Pose', 'Reading', 'Cooking', 'Competing', 'Use Super Senses To See In The Dark Or Through Walls', 'Yoga Pose', 'Posing', 'Use Super Speed To Evade Attacks', 'Vajrasana', 'Use Super Breath To Blow Away Opponents Or Extinguish Flames', 'Garudasana', 'Vrikshasana', 'Sleeping', 'Gomukhasana', 'Balasana', 'Cobra Pose', 'Lotus Pose', 'Camel Pose', 'Fighting', 'Supta Virasana', 'Solving', 'Crocodile Pose', 'Half Frog Pose', 'Paschimottanasana', 'Surfing', 'Bound Angle Pose', 'Planning', 'Four-Limbed Staff Pose', 'Supporting', 'Create An Illusion To Confuse Opponents', 'Traveling', 'Photographing', 'Celebrating', 'Create An Earthquake Or Fissure To Create Obstacles And Confusion', 'Experimenting', 'Use Phasing To Move Through Solid Objects', 'Uttanpadasana', 'Dhanurasana', 'Triangle Pose', 'Prasarita Padottanasana', 'Locust Pose', 'Eating', 'Dancing', 'Ustrasana', 'Use Sonic Waves To Create Shockwaves Or Blasts', 'Singing', 'Bridge Pose', 'Phalakasana', 'Create A Diversion To Distract Opponents', 'Performing', 'Kapotasana', 'Raised Leg Pose', 'Summon A Weapon, Such As A Sword Or Shield', 'Use Heat Vision To Melt Objects Or Burn Opponents', 'Use Magic To Cast Spells, Such As Curses Or Enchantments', 'Volunteering', 'Use Sonic Powers To Stun Opponents', 'Easy Pose', 'Block An Attack', 'Chatting', 'Reclining Bound Angle Pose', 'Standing Forward Bend', 'Teaching', 'As An Arrogant And Beautiful Luminous Sakyamuni Buddha, High Resolution, Exquisite Facial Features Exquisite Hand Portrait Exquisite Face, Sitting Crosslegged On A Colorful Lotus Seat', 'Use Telepathy To Read Opponents Minds', 'Virabhadrasana Ii', 'Use Their Surroundings As Weapons, Such As Throwing Cars Or Debris', 'Bow Pose', 'Wide-Legged Forward Bend', 'Summon An Elemental Creature, Such As A Golem Or Elemental', 'Urdhva Mukha Svanasana', 'Child’S Pose', 'Halasana', 'Upward-Facing Dog Pose', 'Relaxing', 'Designing', 'Building', 'Create A Powerful Blast Of Wind To Knock Opponents Off Balance', 'Cat Pose', 'Utkata Konasana', 'Janu Sirsasana', 'Meditating', 'Create A Clone Of Themselves To Confuse Opponents', 'Ardha Chandrasana', 'Navasana', 'Climbing', 'Staff Pose', 'Reclining Hero Pose', 'Use Super Strength To Lift And Throw An Object', 'Sukhasana', 'Marjaryasana', 'Skating', 'Use Ice Powers To Freeze Opponents Or Create Obstacles', 'Crying', 'Growing', 'Writing', 'Chaturanga Dandasana', 'Padmasana', 'Summon A Swarm Of Insects Or Birds To Attack Opponents', 'Ardha Bhekasana', 'Malasana', 'Thunderbolt Pose', 'Summon An Animal Ally, Such As A Wolf Or Eagle, To Fight For Them', 'Use Telekinesis To Move Objects And People', 'Working', 'Low Plank Pose', 'Use Super Hearing To Detect Opponents Movements', 'Become Invisible To Sneak Past Opponents', 'Create A Shield To Protect Themselves Or Others From Attacks', 'Plank Pose', 'Seated Forward Bend', 'Summon A Creature, Such As A Dragon Or Giant Spider, To Fight For Them', 'Create A Hologram To Confuse Opponents', 'Use Time Manipulation To Slow Down Or Speed Up Opponents', 'Savasana', 'Head-To-Knee Forward Bend', 'Create A Barrier To Protect Themselves Or Others', 'Garland Pose', 'Legs-Up-The-Wall Pose', 'Use Their Knowledge Of Science Or Technology To Gain An Advantage', 'Summon A Vehicle, Such As A Car Or Motorcycle, To Chase Opponents', 'Dandasana', 'Boat Pose', 'Virabhadrasana I', 'Seated Forward Bend With Locked Fingers Yoga', 'Laughing', 'Baddha Konasana (Bound Angle Pose)', 'Dreaming', 'Swimming', 'Virabhadrasana Iii', 'Kumbhakasana', 'Adho Mukha Svanasana', 'Urdhva Dhanurasana', 'Playing', 'Helping', 'Skiing', 'Create A Force Field To Protect Themselves Or Others', 'Uttanasana', 'Fly To Gain An Advantage In Battle', 'Utkatasana', 'Shopping', 'Tree Pose', 'Create An Energy Blast To Knock Opponents Off Their Feet', 'Use A Grappling Hook To Swing Around The Battlefield', 'Learning', 'Warrior Pose Iii', 'Use Their Powers To Control The Weather, Such As Creating Rain Or Hail', 'Yoga Mudrasana', 'Use Their Ability To Phase Through Objects To Attack Opponents From Unexpected Angles', 'Pigeon Pose', 'Dodge A Punch', 'Setu Bandha Sarvangasana', 'Warrior Pose Ii', 'Downward-Facing Dog Pose', 'Supta Baddha Konasana', 'Biking', 'Fish Pose', 'Bhujangasana', 'Use Acid Or Poison To Weaken Opponents', 'Use Magnetism To Attract Or Repel Objects Or Opponents', 'Half Moon Pose', 'Trikonasana', 'Use Elemental Powers, Such As Controlling Fire Or Water', 'Use Their Agility To Dodge Attacks And Move Quickly', 'Use Camouflage To Blend In With Their Surroundings', 'Warrior Pose I', 'Use Mind Control To Force Opponents To Do Their Bidding', 'As An Arrogant And Beautiful Luminous Sakyamuni Buddha, Sitting Crosslegged On A Colorful Lotus Seat', 'Use Electricity To Shock Opponents', 'Use Their Heightened Senses To Detect Danger And Anticipate Attacks', 'Cow Face Pose', 'Modeling', 'Chair Pose', 'Makarasana', 'Salabhasana', 'Serving', 'Create A Portal To Move Themselves Or Others To A Different Location', 'Exercising', 'Tadasana', 'Painting', 'Create A Portal To Transport Themselves Or Others To A Different Dimension', 'Investigating', 'Vasisthasana', 'Viparita Karani', 'Flying', 'Matsyasana', 'Upward Bow Pose', 'Jumping', 'Hiking']\n",
    "places = ['Furniture Store', 'Barbados', 'Countryside', 'Liquor Store', 'Gondor (The Lord Of The Rings)', 'Jewelry Store', 'Hanoi, Vietnam', 'Library', 'Grocery Store', 'Desert', 'The Ministry Of Magic (Harry Potter)', 'Orgrimmar (World Of Warcraft)', 'Avalon (Arthurian Legends)', 'Johannesburg, South Africa', 'Hawaii, Usa', 'Post Office', 'Hogwarts Express (Harry Potter)', 'Botanical Garden', 'Moscow, Russia', 'Bruges, Belgium', 'Plains', 'Atlantis (Atlantis: The Lost Empire)', 'Tattoo Parlor', 'Fire Station', 'Photography Studio', 'Bar', 'Police Station', 'Venice Beach', 'Midgar (Final Fantasy Vii)', 'Bank', 'Spa', 'Nail Salon', 'Stockholm, Sweden', 'Brussels, Belgium', 'Harbor', 'Record Store', 'San Francisco, Usa', 'Hydaelyn (Final Fantasy Xiv)', 'Lucerne, Switzerland', 'Queenstown, New Zealand', 'Hill House (The Haunting Of Hill House)', 'Las Vegas, Usa', 'Recreation Center', 'Massage Center', 'Prison', \"Lawyer'S Office\", 'Monument', 'Singapore', 'Beach', 'Phuket, Thailand', \"Veterinarian'S Office\", 'Jungle', 'Bangkok, Thailand', 'Santiago, Chile', 'Electronics Store', 'Bridge', 'Abu Dhabi, Uae', 'Haddonfield (Halloween)', 'Planetarium', 'Ice Cream Shop', 'Mid-World (The Dark Tower Series)', 'Copenhagen, Denmark', 'Barber Shop', 'Bali, Indonesia', 'Pharmacy', 'Hospital', 'The Room Of Requirement (Harry Potter)', 'Synagogue', 'Lisbon, Portugal', 'Cusco, Peru', 'Lighthouse', 'Naboo (Star Wars)', 'Madrid, Spain', 'Toy Store', 'Middle-Earth (The Lord Of The Rings)', 'Cairo, Egypt', 'Florence, Italy', 'Hotel', 'Buenos Aires, Argentina', 'Siena, Italy', 'Westeros (A Song Of Ice And Fire)', 'Dubrovnik, Croatia', 'Krakow, Poland', 'Tropics', 'Train Station', 'Mountain', 'Prague, Czech Republic', 'Underwater', 'Montreal, Canada', 'Swimming Pool', 'New York City, Usa', 'Taxi Stand', 'Coffee Shop', 'Chiang Mai, Thailand', 'Amity Island (Jaws)', 'Art Gallery', 'Salzburg, Austria', 'Winery', 'Science Center', 'State Park', 'Deserts', 'Rome, Italy', 'Exhibition Hall', 'Art Studio', 'Machu Picchu, Peru', \"Dentist'S Office\", 'Sarajevo, Bosnia And Herzegovina', 'Island', 'Mordor (The Lord Of The Rings)', 'Bookstore', 'Movie Theater', 'Music Studio', 'Quaint Village', 'Juice Bar', 'Rio De Janeiro, Brazil', 'Trade Show Center', 'Hyrule (The Legend Of Zelda)', 'Derry, Maine (Stephen King Novels)', 'Puerto Rico', 'The Barrow-Downs (The Lord Of The Rings)', 'Jeju Island, South Korea', 'Forest', 'Dublin, Ireland', 'Munich, Germany', \"Wonderland (Alice'S Adventures In Wonderland)\", 'Cave', 'Kyoto, Japan', 'The Tower Of Cirith Ungol (The Lord Of The Rings)', 'Miami, Usa', 'London, Uk', 'Water Park', 'The Death Star (Star Wars)', 'Neverland (Peter Pan)', 'Fiji', 'National Park', 'Coruscant (Star Wars)', 'Edinburgh, Uk', 'Oslo, Norway', 'Istanbul, Turkey', 'Kansas: A Rural, Flat State In The Midwest, Where Dorothy Lives With Her Aunt And Uncle On Their Farm.', 'Space', 'Columbia (Bioshock Infinite)', 'Convenience Store', 'Gym', 'Banff, Canada', 'Mountains', 'Barcelona, Spain', 'Honolulu, Usa', 'The Shire (The Lord Of The Rings)', 'Neighborhood', 'Airport', 'Butcher Shop', 'River', 'Nightclub', 'Seville, Spain', 'Temple', 'Split, Croatia', 'Krabi, Thailand', 'Convention Center', 'Space Station', 'University', 'Hong Kong', 'City Park', 'City', 'Restaurant', 'Historic Site', 'Castle', 'The Forbidden Forest (Harry Potter)', 'Granada, Spain', 'Castle Rock (Stephen King Novels)', 'Diagon Alley (Harry Potter)', 'Budapest, Hungary', 'Amsterdam, Netherlands', 'The Quidditch Pitch (Harry Potter)', 'Siem Reap, Cambodia', 'Hardware Store', 'Palace', 'Zermatt, Switzerland', 'Toronto, Canada', 'Cinema', \"Optometrist'S Office\", 'Lima, Peru', 'Harrowing (The Dark Tower Series)', 'Melbourne, Australia', 'Concert Venue', 'Tokyo, Japan', 'Federation Space (Star Trek)', 'Stormwind City (World Of Warcraft)', 'Pandora (Avatar)', 'Aquarium', 'Eorzea (Final Fantasy Xiv)', 'Tatooine (Star Wars)', 'Helsinki, Finland', 'Quebec City, Canada', 'Hogwarts School Of Witchcraft And Wizardry (Harry Potter)', 'Marrakesh, Morocco', 'Cancun, Mexico', 'Gas Station', 'Mid-World (Stephen King Novels)', 'Antique Store', 'The Lonely Mountain (The Hobbit)', 'Endor (Star Wars)', 'Spira (Final Fantasy X)', \"Willy Wonka'S Chocolate Factory (Charlie And The Chocolate Factory)\", 'Bakery', 'Cape Town, South Africa', 'Observatory', 'Farm', 'Gilead (The Dark Tower Series)', 'Playground', 'Lake', 'Smoothie Shop', \"Doctor'S Office\", 'Sporting Goods Store', 'Mykonos, Greece', 'Mosque', 'Garden Center', 'Cafe', 'Monte Carlo, Monaco', 'Berlin, Germany', 'Stadium', 'Metropolis (Superman Comics)', 'Amusement Park', 'The Great Hall (Harry Potter)', 'Subway Station', 'Paris, France', 'Church', 'Street', 'Cemetery', 'Fish Market', 'San Juan, Puerto Rico', 'Lud (The Dark Tower Series)', 'Office', 'Park', 'The Prancing Pony (The Lord Of The Rings)', 'Fruit Stand', 'Eiffel Tower', 'Taipei, Taiwan', 'Pandaria (World Of Warcraft)', 'Tea Shop', 'Real Estate Agency', 'Abandoned House', 'Naples, Italy', 'Los Angeles, Usa', 'Skatepark', 'Hoth (Star Wars)', 'College', 'Puerto Vallarta, Mexico', 'Whoville (How The Grinch Stole Christmas!)', 'Sleepy Hollow (The Legend Of Sleepy Hollow)', 'Nice, France', 'Azeroth (World Of Warcraft)', 'Dubai, Uae', 'Volcano', 'Cologne, Germany', 'Business Center', 'Bowling Alley', 'Office Building', 'Clothing Store', 'Venice, Italy', 'Farmers Market', 'Warsaw, Poland', 'Nature Preserve', 'Gotham City (Batman Comics)', 'Oz (The Wonderful Wizard Of Oz)', 'Garden', 'Supermarket', 'Rivendell (The Lord Of The Rings)', 'Alaska, Usa', 'Shopping Mall', 'Jamaica', 'Community Center', 'Discworld (Discworld Series)', 'Beauty Salon', 'Waterfall', 'Ho Chi Minh City, Vietnam', 'Bus Station', 'Conference Center', \"Helm'S Deep (The Lord Of The Rings)\", 'The Black Gate (The Lord Of The Rings)', 'The Burrow (Harry Potter)', 'Cathedral', 'Sydney, Australia', 'The Mines Of Moria (The Lord Of The Rings)', 'St. Petersburg, Russia', 'Platform 9 3/4 (Harry Potter)', 'Theater', 'Landmark', 'Pet Store', 'Co-Working Space', \"Accountant'S Office\", 'Narnia (The Chronicles Of Narnia)', 'Hamburg, Germany', 'Zanarkand (Final Fantasy X)', 'The Gale Farm: The Home Of Dorothy, Aunt Em, And Uncle Henry', 'Rapture (Bioshock)', 'Auckland, New Zealand', 'Seoul, South Korea', 'Yoga Studio', 'Ruins', 'The Chamber Of Secrets (Harry Potter)', 'Hogsmeade (Harry Potter)', 'Arcade', 'Bora Bora, French Polynesia', 'Whistler, Canada', 'Santorini, Greece', 'Sports Stadium', 'Museum', 'Reykjavik, Iceland', 'School', 'Skyscraper', 'Zoo', 'Brewery', 'Wildlife Refuge', 'Shoe Store', 'Polar Regions', 'Market', 'Vancouver, Canada', 'Recording Studio', 'Mount Doom (The Lord Of The Rings)', 'Cannes, France', 'Café', 'Shangri-La (Lost Horizon)', 'Wetlands', 'Vienna, Austria', 'Dance Studio', 'Tourist Attraction', 'Athens, Greece']\n",
    "styles = ['De Stijl', 'Realism', 'Abstract Art', 'Medieval Art', 'Primitivism', 'Modernism', 'Conceptual Art', 'Avant-Garde', 'Impressionist', 'Post-Apocalyptic', 'Impressionism', 'Minimalism', 'Airbrush', 'Prehistoric Art', 'Collage', 'Romanticism', 'Punk', 'Rococo', 'Digital Art', 'Vintage', 'Surrealist', 'Hieroglyphics', 'Neoclassicism', 'Ancient Art', 'Installation', 'Graffiti', 'Constructivism', 'Ecological', 'Abstract', 'Fauvism', 'Fractal', 'Steampunk', 'Baroque', 'Casual', 'Symbolism', 'Glam', 'Low Poly', 'Futurism', 'Calligraphy', 'Classicism', 'Eclectic', 'Street Art', 'Expressionism', 'Babylonian Art', 'Dieselpunk', 'Contemporary', 'Biopunk', 'Traditional', 'Gothic', 'Photorealism', 'Sculpture', 'Glitchcore', 'Land Art', 'Pop Art', 'Cinematic', 'Afrofuturism', 'Dadaism', 'Synthwave', 'Abstract Organic', 'Suprematism', 'Op Art', 'Formal', 'Suminagashi', 'Abstract Expressionism', 'Anime', 'Mexican Muralism', 'Renaissance', 'Ethnic', 'Surrealism', 'Alegria', 'Retro', 'Industrial', 'Mannerism', 'Skeumorphism', 'Cubism', 'Vaporwave', 'Art Deco', 'Cyberpunk', 'Folk Art', 'Bohemian', 'Art Nouveau', 'Cybernetic', 'Post-Impressionism', 'Kinetic Art', 'Ancient Egyptian Art', 'Pointillism', 'Chinese Watercolor']\n",
    "formats = ['Street Photography', 'Courtroom Sketch', 'Claymation', 'Camera Obscura', 'Wireframe', 'One-Line Drawing', 'Lomography', 'Book Cover', 'Theatrical Press Release', 'Line Drawing', 'Brand Identity', 'Stage Set Design', 'Comic Book Art', 'Modeling Photoshoot', 'Advertising Campaign', 'Fashion Editorial', 'Professional Corporate Portrait', 'Watercolor Painting', 'Macro 35Mm Photograph', 'Music Video', 'Sound Installation', 'Collage', 'Concept Art', 'Promotional Video', 'Interactive Installation', '3D Render', 'Architectural Photography From Magazine', 'Social Media Campaign', 'Logo Design', 'Short Film', 'Animated Gif', 'Pixel Art', 'Real Estate Photography', 'Architectural Blueprint', 'Aquatint Print', 'Poster Design', 'Motion Graphics', 'Layered Paper', 'Stained Glass Window', 'Illustration', 'Autochrome', 'Long-Exposure Photograph With Slow Shutter Speed', 'Portrait Photography', 'Album Art Cover', 'Infographic', 'Photo Manipulation', 'Web Design', 'Photograph', 'Editorial Fashion Photography', 'Travel Photography', 'Street Art Mural', 'Portrait', 'Fifth Grade Yearbook', 'Line Art', 'Brochure Design', 'Cartoon', 'Spray-Painted Onto A Wall', 'Oil Painting', 'Harsh Flash Photography', 'Data Visualization', 'Sigma 75Mm', 'Press Release', 'Shot On Iphone 11', 'Low Poly', 'Fashion Show', 'Full Body Photo', 'Disposable Camera', 'Marble Statue', 'Typography Design', 'Storyboard', 'Commercial Print Ad', 'Street Art', 'Augmented Reality (Ar) App', 'Charcoal Drawing', 'Under Electron Microscope', 'T-Shirt Design', 'Trail Cam', 'Origami', 'Pinhole Photography', 'Aztec Carving', 'Colouring-In Sheet', 'Pastel Drawing', 'Video Game Design', 'Sketchbook', 'Blueprint', 'Visual Effects (Vfx)', 'Topiary', 'Decorative Minoan Mural', 'Storybook', 'Houdini 3D Render', 'Voynich Manuscript', 'Ice Carving', 'Editorial Illustration', 'Album Cover', 'Medieval Portrait', 'Pencil Sketch', 'Mugshot', 'Action Photography', 'Selfie', 'Logo Animation', 'Instruction Manual', 'Byzantine Icon', 'Ancient Egypt Papyrus', 'Interior Design', 'Manuscripts', 'Stop-Motion Animation', 'Fashion Lookbook', 'Roman Mosaic', 'Diagram', 'Linocut', 'Packaging Design', 'Pencil And Watercolor Drawing', 'Product Prototype', 'Virtual Reality (Vr) Experience', 'Packaging Prototype', 'Event Poster', 'Documentary Film', 'Polaroid', 'Advertising Poster', 'Sticker Illustration', 'Mythological Map', 'Double Exposure', 'Dashcam', 'Catalog Design', 'Photoshopped Image', 'Cgi', 'Product Photography', 'Patent Drawing', 'Magazine Layout', 'Art Installation', 'Cave Painting', 'Tattoo', 'Comic Strip', 'Brand Mascot', 'Vector Art', 'Pirate Map', 'Experimental Expired Film Photo', 'Crayon Drawing', 'Exhibition Design', 'Studio Photography', 'Bronze Statue', 'Kindergartener Drawing', 'Painting', 'Cinematography From Music Video', 'Terracotta Warriors', 'Branding Guidelines']\n",
    "boosters = ['Beautiful', 'Inspiring', 'Extraordinary', 'Unbelievable', 'Innovative', 'Rendered In Unreal Engine', 'Exceptionally Skilled', 'Unique', 'Spectacular', 'Stunning', 'Game-Changing', 'Hyper Realistic', 'Striking', 'Detailed', 'Studio Lighting', 'Jaw-Dropping', 'Magical', 'Digital Art', 'Skillful', 'Fantastic', 'Unforgettable', 'Visionary', 'Exceptional', 'Very Beautiful', 'Captivating', 'Genius', 'Expertise', 'Masterful', 'Outstanding', 'Impressive', 'Highly Detailed', 'Arnold Render', 'Contest Winner', 'Perspectives', 'State-Of-The-Art', 'Iconic', 'Mind-Blowing', '4K Resolution', 'Well Preserved', 'Rendering', 'One-Of-A-Kind', 'Exquisite', 'Groundbreaking', 'Vibes', 'Mesmerizing', 'Unmatched', 'Exemplary', 'Aesthetic', 'Ingenious', 'Hyperrealistic', 'Epic', 'High Poly', 'Top-Notch', 'Wow Factor', 'Trailblazing', 'Impressive Detail', 'Trending On Artstation', 'Vfx', 'Incredible', 'Photorealistic', 'Ultra High Poly', 'Remarkable', 'Wondrous', 'Blender 3D', '#Wow', 'Postprocessing', 'Creative', 'Phenomenal', 'Unreal Engine', 'Octane Render', 'Talented', 'Revolutionary', '70Mm', 'Extremely Detailed', 'Vivid', 'Cutting-Edge', 'Professional', 'Masterpiece', 'Inspire', 'World-Class', 'High Detail', 'Fascinating']\n",
    "\n",
    "# Part 2 perspectives, views, artists, mediums, environments, lights, colors, moods, decades, mj_prompts, mj_parameters lists\n",
    "perspectives = ['Off-Center', 'Panning', 'Plain Background', 'Candid', 'Wide Angle', 'In The Distance', 'Low Angle', 'Tilt-Shift', 'Oversaturated Filter', 'Underwater', \"Bird'S Eye\", 'Overhead View', 'Close Face', 'Zoomed', 'Overhead', 'High Angle', 'First-Person', 'Through A Periscope', 'From Above', 'From Below', 'Infrared', 'Drone', 'Unconventional', 'Telephoto', 'Reverse', 'Aerial View', 'Hard Lighting', 'Leading Lines', 'Close-Up', 'Portrait', 'Dutch Angle', 'Abstract', 'Split Screen', 'Fish-Eye', 'Forced Perspective', 'Night Vision', 'Vertical', 'White Background', '85Mm', 'Diagonal', 'Landscape', 'Sunset Photo At Golden Hour', 'X-Ray', 'Tilted Frame', 'Through A Porthole', 'Flat Lay', 'Head-And-Shoulders Shot', 'Extreme Close-Up', 'Panoramic', 'Spherical', 'Tilted', 'Shallow Depth Of Field', 'Warped', 'Cinematic', 'Lens Flare', 'Top-Down', 'Wide-Angle', 'Astrological', 'Long Shot', 'Long Exposure', 'Full Shot', 'Midshot', 'Parallel', 'Selective Focus', 'Omniscient', 'Bokeh', 'Isometric', 'From Behind', 'Viewed From Behind', 'Vertigo Effect', 'Silhouette', 'Time-Lapse', 'Wide Shot', 'Framed', 'Motion Blur', 'On Canvas', 'Multiple Exposure', 'Reflection', 'Fisheye Lens', 'Symmetrical', 'Macro', 'Close Up', 'Over-The-Shoulder Shot', 'Point Of View (Pov)']\n",
    "views = ['Birds-Eye View', 'Panning', 'Wide-Angle View', 'Drone Shot', 'Street View', 'Close-Up Shot, ', 'Focus Shot On The Style Inspired Clothing, ', 'Split Focus', 'Plain Background', 'Hdr (High Dynamic Range)', 'Candid', 'In The Distance', 'Front View', 'Low Angle', 'Medium Close-Up Shot Of Style Inspired Clothing, ', 'Tilt-Shift', 'Light Painting', 'Oversaturated Filter', 'Backlit Subjectmedium-Wide Full Body Shot Doing Yoga, Focus Shot On The Model, ', 'Medium-Wide Full Body Shot, ', 'Handheld', 'Overhead View', 'Macro View', 'Cityscape View', 'Collage View', 'Selective View', 'Close Face', 'Night Photography', 'Low Angle View', 'Split View', 'Night View', 'Overhead', 'High Angle', 'Through A Periscope', 'From Above', 'From Below', 'Infrared', 'Symmetrical View', 'Asymmetric View', 'Tracking Shot', 'Telephoto', 'Close-Up Shot Of Style Inspired Clothing On The Style Inspired Clothing, ', 'Focus Shot On The Model, ', 'Top-Down View', 'Aerial View', 'High Angle View', 'Hard Lighting', 'Narrow-Angle View', 'Medium-Wide Full Body Shot Doing Yoga, Focus Shot On The Model, ', 'Close-Up', 'Rooftop View', 'Portrait', 'Dutch Angle', 'Medium Close-Up Shot, ', 'Slow Motion', 'Zoomed-Out View', 'Extreme Close-Up View', 'Fixed View', 'Fish-Eye', 'Dark Background', 'Interior View', 'Back View', '85Mm', 'Rack Focus', 'Narrow Perspective View', 'Landscape', 'Sunset Photo At Golden Hour', 'Scenic View', 'Tilted Frame', 'Close-Up Shot On The Model, ', 'Micro View', 'Through A Porthole', 'Exterior View', 'Head-And-Shoulders Shot', '360-Degree View', 'Panoramic', 'Focus Shot On The Style Inspired Clothing, Focus Shot On The Model, ', 'Dynamic View', 'Close-Up Shot Of Style Inspired Clothing, ', 'Extreme Close-Up Shot On The Model, ', 'Over-The-Shoulder View', 'Zoomed-In View', 'Crane Shot', 'Shallow Depth Of Field', 'Lens Flare', 'Distant View', 'Extreme Close-Up Shot Of Style Inspired Clothing On The Style Inspired Clothing, ', 'Wide-Angle', 'Long Shot', 'Vertical View', 'Long Exposure', 'Full Shot', 'Midshot', 'Extreme Wide Shot', 'Point-Of-View (Pov)', 'Extreme Close-Up Shot, ', '360-Degree Panoramic View', 'Bokeh', 'Static View', 'Steadicam', 'Subject In Motion', 'Framed Shot', '35Mm Aerial View', 'Isometric', 'First-Person View', 'Seascape View', 'From Behind', 'Viewed From Behind', 'Close Distance View', 'Horizontal View', 'Double Exposure', 'Landscape View', 'Panoramic View', 'Wide Perspective View', 'Headshot', 'Full View', 'Silhouette', 'Time-Lapse', 'Wide Shot', 'Motion Blur', 'On Canvas', 'Candid View', 'Reflection', 'Fisheye Lens', 'Partial View', \"Bird'S Eye View\", 'Side View', 'Unconventional Framing', 'Slo-Mo View', 'Skyline View', 'Extreme Close-Up Shot', 'Detailed View Of The Model, ', 'Macro', 'Extreme Close-Up Shot Of Style Inspired Clothing, ', 'Close Up', 'Over-The-Shoulder Shot', 'Underwater View', 'Time-Lapse View']\n",
    "artists = ['Pablo Picasso', 'Lisa Frank', 'Georges Seurat', 'Edvard Munch', 'Norman Rockwell', 'Georges Braque', 'Duffer Brothers', 'Frank Frazetta', 'René Magritte', 'Toshi Yoshida', 'Duchamp', 'Maurice Sendak', 'Charles Schulz', 'Goya', 'Piet Mondrian', 'Beatrix Potter', 'Rembrandt', 'Francisco Goya', 'Raphael', 'Leonardo Da Vinci', 'Kazimir Malevich', 'Thomas Kinkaid', 'Dorothea Lange', 'Frida Kahlo', 'Brueghel The Elder', 'Roy Lichtenstein', 'Hatsune Miku', 'Samuel Daniell', 'Caravaggio', 'Seurat', 'Yves Klein', 'Cezanne', 'Mark Rothko', 'Saul Leiter', 'Salvador Dali', 'Diego Rivera', 'Banksy', 'Michelangelo', 'Gustave Doré', 'Jean-Michel Basquiat', 'Yoji Shinkawa', 'Bacon', 'Albert Bierstadt', 'Dean Cornwell', 'Mary Blair', 'Marc Chagall', 'Gainsborough', 'Vermeer', 'Hokusai', 'Kahlo', 'Rene Magritte', 'Vincent Van Gogh', 'Lucian Freud', 'Robert Hargreaves', 'Henri Matisse', 'Galen', 'Simon Stalenhag', 'Hayao Miyazaki', 'Alphonse Mucha', 'Pieter Brueghel', 'Frank Gehry', 'Modigliani', 'J.K. Rowling', 'Turner', 'Arcimboldo', 'Gustave Dore', 'Margaret Keane', 'Axel Schaefer', 'Mc Escher', 'Dr. Seuss', 'Jackson Pollock', 'Ivan Shishkin', 'Robert Mccall', \"Georgia O'Keeffe\", 'Keith Haring', 'Katsushika Hokusai', 'Edward Hopper', 'Eric Carle', 'Yayoi Kusama', 'Andy Warhol', 'Terry Richardson', 'Basquiat', 'Sargent', 'Ansel Adams', 'Lichtenstein', 'Henri Rousseau', 'Edouard Manet', 'Toulouse-Lautrec', 'Claude Lorrain', 'Utagawa Kuniyoshi', 'Pierre Auguste Renoir', 'Thomas Cole', 'Ralph Mcquarrie', 'Annie Leibovitz', 'Wes Anderson', 'Hieronymus Bosch', 'Zdzislaw Beksinski', 'Gustav Klimt', 'Gericault', 'Johannes Vermeer', 'John Constable', 'Botticelli', 'Claude Monet', 'Craig Mullins', 'Edgar Degas', 'Bill Watterson', 'James Gurney', 'Auguste Rodin', 'Paul Gauguin', 'Greg Rutkowski', 'Salvador Dalí', 'Hanna Barbera', 'Paul Cézanne']\n",
    "mediums = ['Fiber Art', 'Performance Art', 'Charcoal Drawing', 'Woodworking', 'Metal Sculpture', 'Gouache Painting', 'Marker Art', 'Wire Sculpture', 'Illustration', 'Assemblage', 'Acrylic Painting', 'Printmaking', 'Mosaic', 'Pastel Drawing', 'Textile Printing', 'Encaustic Art', 'Spray Painting', 'Scratchboard Art', 'Installation Art', 'Metalwork', 'Lithography', 'Textile Art', 'Pencil Drawing', 'Stained Glass', 'Ink Art', 'Bronze Sculpture', 'Doodle', 'Sculpture', 'Pottery', 'Pen And Ink Drawing', 'Watercolor Painting', 'Digital Painting', 'Collage', 'Screen Printing', 'Engraving', 'Glass Art', 'Ceramics', 'Oil Painting', 'Tapestry', 'Photomontage', 'Photo', 'Painting', 'Airbrush Art', 'Digital Art', 'Calligraphy', 'Childrens Art', 'Batik Art', 'Clay Sculpture', 'Paper Art', 'Etching', 'Video Art', 'Graphite Drawing', 'Mixed Media']\n",
    "environments = ['In A Surreal Landscape', 'In A Post-Apocalyptic Setting', 'In A Utopian Society', 'In A Cityscape', 'In A Dream', 'In A Desert', 'In A Cozy Cottage', 'In A Wild West Town', 'In A Futuristic City', 'In A Forest', 'In A Celestial Realm', 'Indoors', 'In A Mythical Land', 'In A Fantasy Kingdom', 'In A Museum', 'In An Alternate Dimension', 'In A Historical Setting', 'In A Science Laboratory', 'Outdoors', 'On The Moon', 'In A Parallel Universe', 'In Narnia', 'In A Small Town', 'In A Space Station', 'In A Haunted House', 'In A Futuristic Spaceship', 'In An Underwater City', 'In A Film Noir Setting', 'In A Circus', 'Underwater', 'In An Enchanted Forest', 'In A Bustling Market', 'In A Castle', 'In A Snowy Landscape', 'In A Hidden Cave', 'In A Zen Garden', 'Yoga Studio', 'The Emerald City', 'In A Lunar Colony', 'In A Jungle', 'In A Magical Realm', 'In A Dystopian World', 'In A Virtual Reality', 'In A Cyberpunk City', 'In A Floating City', 'In A Steampunk World', 'In A Time-Traveling Adventure', 'In A Tropical Paradise', 'In A War Zone']\n",
    "lights = ['Rainy', 'Sunrise', 'Stormy', 'Candlelight', 'Moonlight', 'Firelight', 'Misty', 'Torchlight', 'Strobe', 'Gloomy', 'Intense', 'Chandelier', 'Fairy Lights', 'Cloudy', 'Backlighting', 'Laser', 'Ambient', 'Twilight', 'Lantern', 'Mysterious', 'Moody', 'Foggy', 'Silhouette', 'Soft', 'High-Key', 'Dramatic', 'Dusk', 'Dynamic', 'Streetlights', 'Dreamy', 'Subtle', 'Vibrant', 'Glowing', 'Bright', 'Low-Key', 'Rim Lighting', 'Dappled', 'Underwater', 'Cinematic', 'Studio Lights', 'Romantic', 'Overcast', 'Ethereal', 'Dawn', 'Magical', 'Fluorescent', 'Harsh', 'Spotlight', 'Firefly', 'Disco Lights', 'Natural Light', 'Golden Hour', 'Ambient Lighting', 'Neon', 'Sunset', 'Fireworks']\n",
    "colors = ['Iridescent', 'Cool', 'Red Apple Color', 'Black And White', 'Deep', 'Autumnal Colors', 'Nectarine Color', 'Cool Blues', 'Blueberry Color', 'Endive Color', 'Kiwi Color', 'Turnip Color', 'Subtle', 'Raspberry Color', 'Primary Colors', 'Sun-Kissed', 'Pale', 'Potato Color', 'Metallic', 'Yellow Apple Color', 'Broccoli Color', 'Desaturated', 'Yellow Squash Color', 'Warm', 'Purple Potato Color', 'Persimmon Color', 'Carrot Color', 'Playful', 'Pop Of Color', 'Harmonious', 'Yellow Tomato Color', 'Bell Pepper Color', 'Rhubarb Color', 'Lemon Color', 'Soothing', 'Jewel Tones', 'Thyme Color', 'Eggplant Color', 'Garlic Color', 'Watermelon Color', 'Yellow Bell Pepper Color', 'Apricot Color', 'Elegant', 'Lime Color', 'Papaya Color', 'Dramatic', 'Purple Carrot Color', 'Bold', 'Faded', 'Contrasting', 'Tangerine Color', 'Rosemary Color', 'Gradient', 'Variegated', 'Chili Pepper Color', 'Parsley Color', 'Pastel Pinks', 'Pepper Color', 'Green Pea Color', 'Honeydew Melon Color', 'Cucumber Color', 'Turmeric Color', 'Neon', 'Saturated', 'Lavender Color', 'Whimsical', 'Mango Color', 'Sweet Potato Color', 'Translucent', 'Orange Color', 'Butternut Squash Color', 'Passion Fruit Color', 'Warm Yellows', 'Toned', 'Rich', 'Sage Color', 'Crisp', 'Secondary Colors', 'Plum Color', 'Jalapeno Pepper Color', 'Earth Tones', 'Tomato Color', 'Red Onion Color', 'Vivid Greens', 'Radish Color', 'Monochromatic', 'Tinted', 'Vibrant', 'Glowing', 'Peach Color', 'Cantaloupe Color', 'Okra Color', 'Grape Color', 'Acai Color', 'Popsicle Colors', 'Strawberry Color', 'Mint Color', 'Zucchini Color', 'Grapefruit Color', 'Colorful', 'Clementine Color', 'Soothing Purples', 'Spinach Color', 'Guava Color', 'Ginger Color', 'Pear Color', 'Kale Color', 'Transitional', 'Pineapple Color', 'Green Bean Color', 'Purple Cabbage Color', 'Muted', 'Glossy', 'Cranberry Color', 'Complementary', 'Shades Of Gray', 'Green Apple Color', 'Bright', 'Blackberry Color', 'Fig Color', 'Beet Color', 'Cherry Color', 'Earthy Browns', 'Pastel', 'Pumpkin Color', 'Pearlescent', 'Red Cabbage Color', 'Pomegranate Color', 'Arugula Color', 'Opaque', 'Multicolored', 'Matte', 'Red Pepper Color', 'Dusky Oranges']\n",
    "moods = ['Brooding', 'Whimsical', 'Lively', 'Enigmatic', 'Soothing', 'Blissful', 'Optimistic', 'Raucous', 'Captivating', 'Hopeful', 'Intense', 'Joyful', 'Elegant', 'Moody', 'Mysterious', 'Pensive', 'Energetic', 'Reflective', 'Uplifting', 'Upbeat', 'Peaceful', 'Thoughtful', 'Melancholic', 'Euphoric', 'Dreamlike', 'Dreamy', 'Sedate', 'Mellow', 'Passionate', 'Enchanting', 'Soulful', 'Exuberant', 'Serene', 'Suspenseful', 'Romantic', 'Empowering', 'Contemplative', 'Ethereal', 'Fierce', 'Magical', 'Tranquil', 'Haunting', 'Calm', 'Smiling Happy', 'Chill', 'Playful', 'Funky', 'Dark', 'Nostalgic', 'Hypnotic']\n",
    "decades = ['Ancient Greece', 'Future Dystopia', 'World War Ii', 'Ancient Egypt', 'Colonial Era', 'Swinging Sixties', 'Ice Age', 'Information Age', 'Roaring Twenties', 'Middle Ages', 'Gothic Era', 'Inca Empire', 'Elizabethan Era', 'Renaissance Period', 'Great Depression', 'Viking Age', 'Digital Age', 'Belle Époque', 'Disco Era', 'Post-War Era', 'Jurassic Era', 'Hippie Era', 'New Wave Era', 'World War I', 'Industrial Revolution', 'Feudal Japan', 'Prehistorical', 'Space Exploration Era', '1920S', '1800S', 'Cretaceous Period', 'Ancient Rome', 'Civil Rights Movement', 'Space Age', 'Art Deco Era', 'Aztec Civilization', 'Victorian Era', 'Age Of Exploration', 'Wild West', 'Age Of Enlightenment', 'Punk Rock Era', 'Edwardian Era', 'Medieval Era', 'Prohibition Era', 'Prehistoric Times', 'Regency Era', '1960S', 'Future', 'Gilded Age', 'Golden Age Of Hollywood', 'Stone Age', 'Cold War', 'Art Nouveau Period']\n",
    "mj_parameters = []"
   ]
  },
  {
   "cell_type": "code",
   "execution_count": null,
   "metadata": {
    "id": "T855-lo3V5Ey"
   },
   "outputs": [],
   "source": [
    "# mj_prompts\n",
    "mj_prompts = []\n"
   ]
  },
  {
   "cell_type": "code",
   "execution_count": null,
   "metadata": {
    "colab": {
     "base_uri": "https://localhost:8080/",
     "height": 35
    },
    "id": "2fBL2g-IhZfv",
    "outputId": "135ad53e-093f-46ad-e75f-67722b13fa37"
   },
   "outputs": [
    {
     "data": {
      "application/vnd.google.colaboratory.intrinsic+json": {
       "type": "string"
      },
      "text/plain": [
       "'\\nl=[colorful_foods, color_terms]\\ntmp = clean_lists(combine_lists(l))\\nprint(tmp)\\n'"
      ]
     },
     "execution_count": 4,
     "metadata": {},
     "output_type": "execute_result"
    }
   ],
   "source": [
    "'''\n",
    "l=[colorful_foods, color_terms]\n",
    "tmp = clean_lists(combine_lists(l))\n",
    "print(tmp)\n",
    "'''"
   ]
  },
  {
   "cell_type": "code",
   "execution_count": null,
   "metadata": {
    "colab": {
     "base_uri": "https://localhost:8080/"
    },
    "id": "ku4CJVP_f8rb",
    "outputId": "194c15a5-80fb-4c75-bfe8-217adc42a6d2"
   },
   "outputs": [
    {
     "name": "stdout",
     "output_type": "stream",
     "text": [
      "Bharatanatyam\n",
      "Kathak\n",
      "Kathakali\n",
      "Odissi\n",
      "Manipuri\n",
      "Mohiniyattam\n",
      "Kuchipudi\n",
      "Sattriya\n",
      "Garba\n",
      "Dandiya Raas\n",
      "Ghoomar\n",
      "Chhau\n",
      "Bihu\n",
      "Bhangra\n",
      "Giddha\n",
      "Kashmiri\n",
      "Koli\n",
      "Lavani\n",
      "Kathak fusion\n",
      "Rouff\n",
      "Dalkhai\n",
      "Gotipua\n",
      "Pung cholom\n",
      "Karakattam\n",
      "Kerala Natanam\n",
      "Yakshagana\n",
      "Thirayattam\n",
      "Mayilattam\n",
      "Kolattam\n",
      "Kummi\n",
      "Oyilattam\n",
      "Parai attam\n",
      "Thiruvathirakali\n",
      "Pulikali\n",
      "Chakyar Koothu\n",
      "Margamkali\n",
      "Oppana\n",
      "Mohini attam\n",
      "Kalaripayattu\n",
      "Thang-ta\n",
      "Chhau dance\n",
      "Sambalpuri\n",
      "Pandavani\n",
      "Sankirtana\n"
     ]
    }
   ],
   "source": [
    "indian_dances = [\n",
    "    \"Bharatanatyam\",\n",
    "    \"Kathak\",\n",
    "    \"Kathakali\",\n",
    "    \"Odissi\",\n",
    "    \"Manipuri\",\n",
    "    \"Mohiniyattam\",\n",
    "    \"Kuchipudi\",\n",
    "    \"Sattriya\",\n",
    "    \"Garba\",\n",
    "    \"Dandiya Raas\",\n",
    "    \"Ghoomar\",\n",
    "    \"Chhau\",\n",
    "    \"Bihu\",\n",
    "    \"Bhangra\",\n",
    "    \"Giddha\",\n",
    "    \"Kashmiri\",\n",
    "    \"Koli\",\n",
    "    \"Lavani\",\n",
    "    \"Kathak fusion\",\n",
    "    \"Rouff\",\n",
    "    \"Dalkhai\",\n",
    "    \"Gotipua\",\n",
    "    \"Pung cholom\",\n",
    "    \"Karakattam\",\n",
    "    \"Kerala Natanam\",\n",
    "    \"Yakshagana\",\n",
    "    \"Thirayattam\",\n",
    "    \"Mayilattam\",\n",
    "    \"Kolattam\",\n",
    "    \"Kummi\",\n",
    "    \"Oyilattam\",\n",
    "    \"Parai attam\",\n",
    "    \"Thiruvathirakali\",\n",
    "    \"Pulikali\",\n",
    "    \"Chakyar Koothu\",\n",
    "    \"Margamkali\",\n",
    "    \"Oppana\",\n",
    "    \"Mohini attam\",\n",
    "    \"Kalaripayattu\",\n",
    "    \"Thang-ta\",\n",
    "    \"Chhau dance\",\n",
    "    \"Sambalpuri\",\n",
    "    \"Pandavani\",\n",
    "    \"Sankirtana\"\n",
    "]\n",
    "\n",
    "# Print the list of Indian dances\n",
    "for dance in indian_dances:\n",
    "    print(dance)\n"
   ]
  },
  {
   "cell_type": "markdown",
   "metadata": {
    "id": "zufhoEcdcLN8"
   },
   "source": [
    "# A simple example of prompt generation\n",
    "\n",
    "The function *generate_random_text* assumes there are 6 lists that have text elements. The lists are called subjects, actions,\n",
    "places, styles, formats, and boosters.\n",
    "\n",
    "The text prompt returned has the following structure\n",
    "1. Subject - exactly 1 element from the subjects list\n",
    "2. Action  -  0 or 1 elements from the actions list\n",
    "3. Place  - 0 or 1 elements from the places list\n",
    "4. Style  - 0 to 2 elements from the styles list with no duplicates\n",
    "5. Format - 0 to 2 elements from the formats list with no duplicates\n",
    "6. Booster - 0 to 5 elements from the boosters list with no duplicates\n"
   ]
  },
  {
   "cell_type": "code",
   "execution_count": null,
   "metadata": {
    "colab": {
     "base_uri": "https://localhost:8080/"
    },
    "id": "OesquV-kcUjg",
    "outputId": "166b4a52-3a88-410e-8642-d0cdf9393b17"
   },
   "outputs": [
    {
     "name": "stdout",
     "output_type": "stream",
     "text": [
      "Torvosaurus, Wide-Legged Forward Bend, Harrowing (The Dark Tower Series), Ancient Egyptian Art, Professional, Fascinating, Trending On Artstation, Exceptional\n"
     ]
    }
   ],
   "source": [
    "import random\n",
    "\n",
    "def generate_random_text(subjects, actions, places, styles, formats, boosters):\n",
    "    text = []\n",
    "\n",
    "    # Step 1: Subject\n",
    "    subject = random.choice(subjects)\n",
    "    text.append(subject)\n",
    "\n",
    "    # Step 2: Action\n",
    "    if random.random() < 0.5:\n",
    "        action = random.choice(actions)\n",
    "        text.append(action)\n",
    "\n",
    "    # Step 3: Place\n",
    "    if random.random() < 0.5:\n",
    "        place = random.choice(places)\n",
    "        text.append(place)\n",
    "\n",
    "    # Step 4: Style\n",
    "    num_styles = random.randint(0, 2)\n",
    "    styles = random.sample(styles, num_styles)\n",
    "    text.extend(styles)\n",
    "\n",
    "    # Step 5: Format\n",
    "    num_formats = random.randint(0, 2)\n",
    "    formats = random.sample(formats, num_formats)\n",
    "    text.extend(formats)\n",
    "\n",
    "    # Step 6: Booster\n",
    "    num_boosters = random.randint(0, 5)\n",
    "    boosters = random.sample(boosters, num_boosters)\n",
    "    text.extend(boosters)\n",
    "\n",
    "    return ', '.join(text)\n",
    "\n",
    "\n",
    "random_text = generate_random_text(subjects, actions, places, styles, formats, boosters)\n",
    "print(random_text)\n"
   ]
  },
  {
   "cell_type": "markdown",
   "metadata": {
    "id": "8LRnkyzBrF_T"
   },
   "source": [
    "# describe and midjounrey prompts"
   ]
  },
  {
   "cell_type": "code",
   "execution_count": null,
   "metadata": {
    "id": "J1ydgPXiAiif"
   },
   "outputs": [],
   "source": [
    "mj_prompts = [\n",
    "\"posters showing the words wonderwoman by dr michelle tassos, in the style of pop culture collages, go nagai, creative commons attribution, simplistic vector art, puzzle-like pieces, ahmed morsi, cut/ripped\",\n",
    "\"the face of wonder woman printed on paper, in the style of international typographic style, animated gifs, dignified poses, sudersan pattnaik, collaged elements\",\n",
    "\"women in wonder posters art print, in the style of boldly fragmented, superheroes, layered stencil work, letras y figuras, cut/ripped, blink-and-you-miss-it detail, dc comics\",\n",
    "\"a woman with the words wonder written in different parts, in the style of pop culture mashup, dc comics, cut/ripped, graphic design poster art, juxtapositions extraordinaire, detailed costumes, animated gifs\"\n",
    "]"
   ]
  },
  {
   "cell_type": "markdown",
   "metadata": {
    "id": "k62-VKEkrxQU"
   },
   "source": [
    "# mj_parameters"
   ]
  },
  {
   "cell_type": "code",
   "execution_count": null,
   "metadata": {
    "id": "KjBQ9vlSrwT6"
   },
   "outputs": [],
   "source": [
    "mj_parameters = [\n",
    "\"--v 5\",\n",
    "\"--v 5\"]"
   ]
  },
  {
   "cell_type": "markdown",
   "metadata": {
    "id": "SeZjdUJYyaQU"
   },
   "source": [
    "# Full Prompt Generator\n",
    "\n",
    "\n"
   ]
  },
  {
   "cell_type": "code",
   "execution_count": null,
   "metadata": {
    "colab": {
     "base_uri": "https://localhost:8080/"
    },
    "id": "XCylxOSDykvg",
    "outputId": "bca9437a-d5de-42c0-b059-16185a6b3c4c"
   },
   "outputs": [
    {
     "name": "stdout",
     "output_type": "stream",
     "text": [
      "Scarlett Ohara Gone With The Wind, Use Acid Or Poison To Weaken Opponents, Electronics Store, Formal, Street Art, Professional Corporate Portrait, Advertising Campaign, Game-Changing, Ingenious, Wide Shot, Duffer Brothers, Firefly, Desaturated, Red Apple Color, Cherry Color, Post-War Era, --v 5\n"
     ]
    }
   ],
   "source": [
    "import random\n",
    "\n",
    "def generate_random_prompt(subjects, actions, places, styles, formats, boosters, perspectives, views, artists, mediums, environments, lights, colors, moods, decades, mj_prompts, mj_parameters):\n",
    "    text = []\n",
    "\n",
    "    # Step 1: Subject\n",
    "    subject = random.choice(subjects)\n",
    "    text.append(subject)\n",
    "\n",
    "    # Step 2: Action\n",
    "    if random.random() < 0.5:\n",
    "        action = random.choice(actions)\n",
    "        text.append(action)\n",
    "\n",
    "    # Step 3: Place\n",
    "    if random.random() < 0.5:\n",
    "        place = random.choice(places)\n",
    "        text.append(place)\n",
    "\n",
    "    # Step 4: Style\n",
    "    num_styles = random.randint(0, 2)\n",
    "    styles = random.sample(styles, num_styles)\n",
    "    text.extend(styles)\n",
    "\n",
    "    # Step 5: Format\n",
    "    num_formats = random.randint(0, 2)\n",
    "    formats = random.sample(formats, num_formats)\n",
    "    text.extend(formats)\n",
    "\n",
    "    # Step 6: Booster\n",
    "    num_boosters = random.randint(0, 5)\n",
    "    boosters = random.sample(boosters, num_boosters)\n",
    "    text.extend(boosters)\n",
    "\n",
    "    # Step 7: Perspective\n",
    "    if random.random() < 0.5:\n",
    "        perspective = random.choice(perspectives)\n",
    "        text.append(perspective)\n",
    "\n",
    "    # Step 8: View\n",
    "    if random.random() < 0.5:\n",
    "        view = random.choice(views)\n",
    "        text.append(view)\n",
    "\n",
    "    # Step 9: Artists\n",
    "    num_artists = random.randint(0, 3)\n",
    "    artists = random.sample(artists, num_artists)\n",
    "    text.extend(artists)\n",
    "\n",
    "    # Step 10: Medium\n",
    "    if random.random() < 0.5:\n",
    "        medium = random.choice(mediums)\n",
    "        text.append(medium)\n",
    "\n",
    "    # Step 11: Environment\n",
    "    if random.random() < 0.5:\n",
    "        environment = random.choice(environments)\n",
    "        text.append(environment)\n",
    "\n",
    "    # Step 12: Lighting\n",
    "    if random.random() < 0.5:\n",
    "        lighting = random.choice(lights)\n",
    "        text.append(lighting)\n",
    "\n",
    "    # Step 13: Color\n",
    "    num_colors = random.randint(0, 5)\n",
    "    colors = random.sample(colors, num_colors)\n",
    "    text.extend(colors)\n",
    "\n",
    "    # Step 14: Mood\n",
    "    if random.random() < 0.5:\n",
    "        mood = random.choice(moods)\n",
    "        text.append(mood)\n",
    "\n",
    "    # Step 15: Decade\n",
    "    if random.random() < 0.5:\n",
    "        decade = random.choice(decades)\n",
    "        text.append(decade)\n",
    "\n",
    "    # Step 16: MJ_prompt\n",
    "    if random.random() < 0.5:\n",
    "        mj_prompt = random.choice(mj_prompts)\n",
    "        text.append(mj_prompt)\n",
    "\n",
    "    # Step 17: Parameters\n",
    "    num_parameters = random.randint(0, 2)\n",
    "    parameters = random.sample(mj_parameters, num_parameters)\n",
    "    text.extend(parameters)\n",
    "\n",
    "    return ', '.join(text)\n",
    "\n",
    "\n",
    "\n",
    "\n",
    "random_text = generate_random_prompt(subjects, actions, places, styles, formats, boosters, perspectives, views, artists, mediums, environments, lights, colors, moods, decades, mj_prompts, mj_parameters)\n",
    "print(random_text)\n",
    "\n"
   ]
  },
  {
   "cell_type": "markdown",
   "metadata": {
    "id": "izqpctlMlvNQ"
   },
   "source": [
    "# Generating a list of prompts\n",
    "\n",
    "Let's extend out script by creating a variable called *num_prompts* to create a bunch of prompts.   We will also add a \"Make it weird, \" modifier to 10% of the prompt for fun.  Again, the idea of this notebook and the products on the Zebonastic store is to act as a starting point for your prompt engineering journey.  See [https://www.instagram.com/zebonastic.ai/](https://www.instagram.com/zebonastic.ai/) and [https://www.etsy.com/shop/Zebonastic](https://www.etsy.com/shop/Zebonastic)\n",
    "\n",
    "\n"
   ]
  },
  {
   "cell_type": "code",
   "execution_count": null,
   "metadata": {
    "colab": {
     "base_uri": "https://localhost:8080/"
    },
    "id": "py70_QromXZT",
    "outputId": "97586ab5-fb72-4bc0-bf20-5fb7aef3cb9b"
   },
   "outputs": [
    {
     "name": "stdout",
     "output_type": "stream",
     "text": [
      "Monkey, Padmasana, Classicism, Contemporary, Press Release, Extraordinary, Inspire, Top-Notch, Octane Render, Infrared, Fixed View, Johannes Vermeer, Dr. Seuss, Mango Color, Variegated, Peach Color, Eggplant Color, Swinging Sixties, --v 5\n",
      "Make it weird, Cairn Terrier, Salzburg, Austria, Futurism, Vintage, Photoshopped Image, Sketchbook, 4K Resolution, Vivid, Talented, Creative, Wondrous, Hanna Barbera, In A Historical Setting, Subtle, Crisp, Garlic Color, Cucumber Color, Deep, Subtle, Playful, --v 5\n",
      "Tenontosaurus, Flying, Comic Strip, Extreme Close-Up, Tracking Shot, Modigliani, Gustave Dore, Cezanne, Scratchboard Art, Mint Color, Eggplant Color, Translucent, Uplifting, --v 5\n",
      "Make it weird, Albertosaurus, Shangri-La (Lost Horizon), Realism, Unconventional Framing, Dorothea Lange, Pierre Auguste Renoir, Woodworking, Pomegranate Color, Warm, Lime Color, Grapefruit Color, Muted, Smiling Happy, Future Dystopia, the face of wonder woman printed on paper, in the style of international typographic style, animated gifs, dignified poses, sudersan pattnaik, collaged elements, --v 5\n",
      "27-Year-Old Supermodel Maleficent, Origami, #Wow, Professional, Hyperrealistic, From Below, Sunrise, Joyful, Viking Age, women in wonder posters art print, in the style of boldly fragmented, superheroes, layered stencil work, letras y figuras, cut/ripped, blink-and-you-miss-it detail, dc comics, --v 5\n",
      "Lord Indra, Savasana, Munich, Germany, Pointillism, Iconic, Hyper Realistic, Rendering, Vfx, Masterpiece, In A Parallel Universe, Watermelon Color, Sun-Kissed, Faded, Elegant\n",
      "Goddess Satyabhama, Museum, Motion Graphics, Pirate Map, Phenomenal, Fantastic, Close-Up Shot Of Style Inspired Clothing, , Engraving, Yoga Studio, Jewel Tones, Dreamy, --v 5, --v 5\n",
      "Mononykus, Use Camouflage To Blend In With Their Surroundings, Restaurant, Editorial Illustration, Diagram, Unforgettable, Impressive Detail, Outstanding, Groundbreaking, Close-Up Shot, , Axel Schaefer, Low-Key, Pear Color, Desaturated, Pop Of Color, Neon, Soulful, Cretaceous Period, --v 5\n",
      "Mythology, Shopping, Cemetery, Mind-Blowing, Ingenious, Impressive Detail, Lucian Freud, Pieter Brueghel, Georgia O'Keeffe, Doodle, In A Bustling Market, Rainy, Colorful, Regency Era, the face of wonder woman printed on paper, in the style of international typographic style, animated gifs, dignified poses, sudersan pattnaik, collaged elements, --v 5\n",
      "European Rabbit, Calligraphy, Exquisite, Fascinating, Flat Lay, On Canvas, Eric Carle, In A Jungle, Sunset, Red Apple Color, Upbeat\n",
      "Canaan Dog, Triangle Pose, Hong Kong, Skeumorphism, Ethnic, Street Photography, Video Game Design, Visionary, Ultra High Poly, Tilted, Exterior View, Simon Stalenhag, Metal Sculpture, Medieval Era, a woman with the words wonder written in different parts, in the style of pop culture mashup, dc comics, cut/ripped, graphic design poster art, juxtapositions extraordinaire, detailed costumes, animated gifs, --v 5\n",
      "27-Year-Old Disney Princess Anna, Collage, Exhibition Design, Iconic, Candid, Rack Focus, Dean Cornwell, Kahlo, Textile Printing, Chandelier, Glossy, Yellow Bell Pepper Color, Pop Of Color, Cucumber Color, Cool, 1960S, posters showing the words wonderwoman by dr michelle tassos, in the style of pop culture collages, go nagai, creative commons attribution, simplistic vector art, puzzle-like pieces, ahmed morsi, cut/ripped, --v 5, --v 5\n",
      "Rapunzel Tangled, Diagon Alley (Harry Potter), Fashion Show, Typography Design, Wow Factor, Exquisite, Game-Changing, Well Preserved, Masterpiece, Low Angle, In A Steampunk World, Warm, Nostalgic, women in wonder posters art print, in the style of boldly fragmented, superheroes, layered stencil work, letras y figuras, cut/ripped, blink-and-you-miss-it detail, dc comics, --v 5\n",
      "Make it weird, Building, Virabhadrasana Iii, Skillful, Unmatched, Creative, 70Mm, Galen, In A Post-Apocalyptic Setting, Monochromatic, Ethereal, Elizabethan Era, a woman with the words wonder written in different parts, in the style of pop culture mashup, dc comics, cut/ripped, graphic design poster art, juxtapositions extraordinaire, detailed costumes, animated gifs, --v 5, --v 5\n",
      "Cryolophosaurus, Shot On Iphone 11, Logo Design, Ultra High Poly, Rendered In Unreal Engine, Blender 3D, Close-Up, First-Person View, Soothing Purples, Papaya Color, Thoughtful, Ancient Rome\n",
      "Emotion, Collage, Trail Cam, Comic Book Art, Innovative, Shallow Depth Of Field, Dutch Angle, Translucent, Green Bean Color, Warm Yellows, Cool Blues, Iridescent, Intense, Medieval Era\n",
      "Segnosaurus, Tattoo, Houdini 3D Render, Stunning, 70Mm, Mesmerizing, Overhead View, Hard Lighting, Lithography, In A Cozy Cottage, Cloudy, Dusky Oranges, Bright, Lime Color, Kale Color, Beet Color, --v 5, --v 5\n",
      "Mamenchisaurus, Casual, Post-Impressionism, Vector Art, Instruction Manual, Innovative, Simon Stalenhag, Arcimboldo, Hatsune Miku, Purple Cabbage Color, Exuberant, Information Age, women in wonder posters art print, in the style of boldly fragmented, superheroes, layered stencil work, letras y figuras, cut/ripped, blink-and-you-miss-it detail, dc comics\n",
      "27-Year-Old Disney Princess Little Red Riding Hood, Use Ice Powers To Freeze Opponents Or Create Obstacles, Constructivism, Colouring-In Sheet, Visual Effects (Vfx), Inspire, Contest Winner, Diego Rivera, Screen Printing, In A Magical Realm, Gloomy, Grape Color, Autumnal Colors, Funky, Industrial Revolution\n",
      "Scarlett Ohara Gone With The Wind, Quebec City, Canada, Industrial, Post-Apocalyptic, Illustration, Photorealistic, Forced Perspective, Landscape View, Claude Lorrain, Robert Hargreaves, Mark Rothko, Moody, Ancient Egypt, women in wonder posters art print, in the style of boldly fragmented, superheroes, layered stencil work, letras y figuras, cut/ripped, blink-and-you-miss-it detail, dc comics, --v 5\n",
      "Rapunzel Tangled, Listening, Ancient Art, Illustration, Social Media Campaign, Fantastic, Exceptionally Skilled, Exemplary, Professional, Stunning, Selective View, Norman Rockwell, Charles Schulz, Keith Haring, Photo, Vibrant, Orange Color, Matte, Rich, Chili Pepper Color, Mango Color, Joyful, World War I, the face of wonder woman printed on paper, in the style of international typographic style, animated gifs, dignified poses, sudersan pattnaik, collaged elements, --v 5\n",
      "Cavalier King Charles Spaniel, Moscow, Russia, Land Art, Cinematic, Album Art Cover, Hdr (High Dynamic Range), Gustave Dore, Auguste Rodin, Scratchboard Art, Foggy, Papaya Color, Pop Of Color, Blissful, Art Deco Era, posters showing the words wonderwoman by dr michelle tassos, in the style of pop culture collages, go nagai, creative commons attribution, simplistic vector art, puzzle-like pieces, ahmed morsi, cut/ripped, --v 5, --v 5\n",
      "Saurolophus, Moscow, Russia, Formal, Symbolism, Modeling Photoshoot, Aesthetic, Incredible, Vfx, Micro View, Ralph Mcquarrie, Duchamp, Kazimir Malevich, Gouache Painting, Dusk, Parsley Color, Tangerine Color, Empowering, Victorian Era\n",
      "American Black Bear, Block An Attack, Granada, Spain, Unbelievable, Digital Art, State-Of-The-Art, Medium Close-Up Shot Of Style Inspired Clothing, , Lichtenstein, Toshi Yoshida, Metal Sculpture, In A Zen Garden, Candlelight, Pineapple Color, Red Cabbage Color, Peach Color, Optimistic, Great Depression, women in wonder posters art print, in the style of boldly fragmented, superheroes, layered stencil work, letras y figuras, cut/ripped, blink-and-you-miss-it detail, dc comics\n",
      "Merida Brave, Building, Cafe, Glam, Pencil Sketch, Close-Up, Disco Lights, Apricot Color, Parsley Color, Lively, --v 5\n",
      "27-Year-Old Belle, Zermatt, Switzerland, Vintage, Outstanding, Fascinating, Saul Leiter, Collage, Firefly, Metallic, Plum Color, Dark, Aztec Civilization, posters showing the words wonderwoman by dr michelle tassos, in the style of pop culture collages, go nagai, creative commons attribution, simplistic vector art, puzzle-like pieces, ahmed morsi, cut/ripped\n",
      "Make it weird, Eoraptor, Cow Face Pose, Bookstore, Mannerism, Video Game Design, Street Art Mural, Highly Detailed, Iconic, Telephoto, Edvard Munch, René Magritte, Robert Hargreaves, Wire Sculpture, Underwater, Candlelight, posters showing the words wonderwoman by dr michelle tassos, in the style of pop culture collages, go nagai, creative commons attribution, simplistic vector art, puzzle-like pieces, ahmed morsi, cut/ripped, --v 5\n",
      "Mythology, Warrior Pose Iii, Steampunk, Gothic, Pixel Art, Hyperrealistic, Wow Factor, Ultra High Poly, Well Preserved, Highly Detailed, Gericault, Roy Lichtenstein, Dean Cornwell, In A Dream, Moody, Purple Carrot Color, Soothing, Vibrant, Cranberry Color, Cucumber Color, --v 5, --v 5\n",
      "Make it weird, 27-Year-Old Ariel, Cobra Pose, Honolulu, Usa, Fractal, Marble Statue, Magazine Layout, Stunning, Overhead View, Pablo Picasso, Vincent Van Gogh, Gustav Klimt, Subtle, Red Apple Color, Guava Color, Dramatic, Pineapple Color, Broccoli Color, Exuberant, Gilded Age, --v 5\n",
      "Coelurosauria, Swimming, Photograph, Very Beautiful, 70Mm, World-Class, Inspire, #Wow, Top-Down, Samuel Daniell, Saul Leiter, In A Jungle, Purple Cabbage Color, Fig Color, Thyme Color, Age Of Enlightenment, --v 5\n",
      "Sandy Cheeks, Create A Tornado Or Hurricane To Blow Away Opponents, Taipei, Taiwan, Airbrush, Low Poly, Advertising Poster, Vivid, 70Mm, Cutting-Edge, Detailed, Double Exposure, Yellow Apple Color, Brooding, Feudal Japan, women in wonder posters art print, in the style of boldly fragmented, superheroes, layered stencil work, letras y figuras, cut/ripped, blink-and-you-miss-it detail, dc comics, --v 5, --v 5\n",
      "Make it weird, Belgian Tervuren, Navasana, The Ministry Of Magic (Harry Potter), Ethnic, Web Design, Real Estate Photography, Skillful, World-Class, Rendered In Unreal Engine, Motion Blur, Narrow-Angle View, Raphael, Eric Carle, Georges Braque, Lithography, In A Desert, Blackberry Color, Butternut Squash Color, Ethereal, Punk Rock Era, --v 5, --v 5\n",
      "Compsognathidae, Abstract Expressionism, Suprematism, Studio Photography, Animated Gif, Inspire, Vibes, Trending On Artstation, Creative, Rendered In Unreal Engine, Suspenseful\n"
     ]
    }
   ],
   "source": [
    "output = []\n",
    "n = 33\n",
    "\n",
    "\n",
    "for i in range(n):\n",
    "    prompt = generate_random_prompt(subjects, actions, places, styles, formats, boosters, perspectives, views, artists, mediums, environments, lights, colors, moods, decades, mj_prompts, mj_parameters)\n",
    "    if biased_coin_flip(0.1):\n",
    "          prompt = 'Make it weird, ' + prompt\n",
    "    output.append(prompt)\n",
    "\n",
    "for i in output:\n",
    "  print(i)"
   ]
  },
  {
   "cell_type": "markdown",
   "metadata": {
    "id": "d6-4qNXLpb0K"
   },
   "source": [
    "## Creating a Custom Subject Specific Prompt Generator (Shoe Example)\n",
    "\n",
    "Let's use the Zebonatistic prompt model to create a custom prompt generator for shoes.  Use your expertise to create subject specific prompt generators.\n",
    "\n",
    "One basically asks the question, what are the elements of a shoe image and related that to the basic *Anatomy of a Midjourney prompt* model.\n",
    "\n",
    "Anatomy of a Midjourney prompt\n",
    "1. Subject (1) - person, animal, character, location, object, etc.\n",
    "2. Action (0.1) - jumping, dancing, posing, etc.\n",
    "3. Place (0,1) - supermarket, Venice beach, Eiffel Tower, etc.\n",
    "4. Style (0,2) - Expressionism, Steampunk, Renaissance, Pop Art, etc.\n",
    "5. Format (0,2) -  , etc.\n",
    "6. Booster (0,5) -  , etc.\n",
    "7. Perspective (0,1) -  , etc.\n",
    "8. View (0,1) - Portrait, headshot, closeup, birds-eye view, etc.\n",
    "9. Artists (0,3) -  , etc.\n",
    "10. Medium (0,1) - photo, painting, illustration, sculpture, doodle, tapestry, etc.\n",
    "11. Environment (0,1) - indoors, ouaitdoors, on the moon, in Narnia, underwater, the Emerald City, etc.\n",
    "12. Lighting (0,1) - soft, ambient, overcast, neon, studio lights, etc\n",
    "13. Color (0,5) - ibrant, muted, bright, monochromatic, colorful, black and white, pastel, etc.\n",
    "14. Mood (0,1) - Sedate, calm, raucous, energetic, etc.\n",
    "15. Time Travel (0,1) - 1700s, 1960s, 2070s, etc.\n",
    "16. mj_prompt (0,1) - an existing mj prompt that has worked\n",
    "17. Midjourney parameters (0,2)  , etc.\n",
    "\n",
    "All of the above relates to shoes but we will remove action to show that elements can be removed from a prompt generator. However a lot of shoe specific stuff is missing such as the type of shoe, the fabric of the shoe, the brand of shoe, etc.  Further we may want to make the camera view specific to shots used in shoe photography, design and illustration.\n",
    "\n",
    "The Zebonatic 9999 lists [https://www.etsy.com/shop/Zebonastic](https://www.etsy.com/shop/Zebonastic) are extremely useful for inspiration. These are lists of randomly selected prompts from the millions of prompts the were posted to the public Midjourney that contain a term like \"shoes\".  The 9999 lists also come with python formatted \"mj_prompts\" lists, and term counts of terms that co-occur with the term shoes.\n",
    "\n",
    "## Using ChatGPT to create term lists\n",
    "\n",
    "The \"Prompt Playground\" section [https://www.etsy.com/shop/Zebonastic](https://www.etsy.com/shop/Zebonastic) has many ChatGPT term lists for sale, all for $0.99 or less, so if your time is worth more than a $1 per hour that may be an option.\n",
    "\n",
    "However, all of the Zebonatic tools are intended to serve as a starting point and you may need to use your expertise to extend those lists using a tool like ChatGPT [https://chat.openai.com/](https://chat.openai.com/) or Bard [https://bard.google.com/](https://bard.google.com/)\n",
    "\n",
    "\n",
    "\n",
    "Type in something like:\n",
    "\n",
    "```bash\n",
    "\n",
    "Can you list the top 44  shoe brands and put that in a python list?\n",
    "\n",
    "````\n",
    " and get a response something like:\n",
    "\n",
    "Certainly! Here's a list of the top 44 shoe brands as of my knowledge cutoff in 2021:\n",
    "\n",
    "\n",
    "```python\n",
    "\n",
    "shoe_brands = [\n",
    "    \"Nike\",\n",
    "    \"Adidas\",\n",
    "    \"Jordan\",\n",
    "    \"Converse\",\n",
    "    \"Reebok\",\n",
    "    \"Vans\",\n",
    "    \"Puma\",\n",
    "    \"New Balance\",\n",
    "    \"Under Armour\",\n",
    "    \"ASICS\",\n",
    "    \"Skechers\",\n",
    "    \"Timberland\",\n",
    "    \"Dr. Martens\",\n",
    "    \"Salomon\",\n",
    "    \"Merrell\",\n",
    "    \"Brooks\",\n",
    "    \"Fila\",\n",
    "    \"Lacoste\",\n",
    "    \"Clarks\",\n",
    "    \"Hoka One One\",\n",
    "    \"Gucci\",\n",
    "    \"Balenciaga\",\n",
    "    \"Prada\",\n",
    "    \"Valentino\",\n",
    "    \"Saint Laurent\",\n",
    "    \"Versace\",\n",
    "    \"Burberry\",\n",
    "    \"Miu Miu\",\n",
    "    \"Givenchy\",\n",
    "    \"Alexander McQueen\",\n",
    "    \"Christian Louboutin\",\n",
    "    \"Jimmy Choo\",\n",
    "    \"Hermès\",\n",
    "    \"Bottega Veneta\",\n",
    "    \"Dior\",\n",
    "    \"Fendi\",\n",
    "    \"Off-White\",\n",
    "    \"Yeezy\",\n",
    "    \"Balmain\",\n",
    "    \"Maison Margiela\",\n",
    "    \"Common Projects\",\n",
    "    \"Rick Owens\",\n",
    "    \"Vetements\",\n",
    "    \"Acne Studios\",\n",
    "    \"Isabel Marant\"\n",
    "]\n",
    "\n",
    "\n",
    "````\n",
    "\n",
    "This list includes a mix of popular athletic shoe brands as well as luxury fashion brands known for their footwear. Please note that the popularity of shoe brands may change over time, and newer brands may emerge.\n",
    "\n",
    "Let's create some more lists *shoe_brands, shoe_fabrics, designers, colorful_foods, shoe_types, stitches, and clothing_patterns.* You can go wild and create as many relevent lists as you like.\n",
    "\n",
    "\n"
   ]
  },
  {
   "cell_type": "code",
   "execution_count": null,
   "metadata": {
    "id": "r9jKlPlJxaRR"
   },
   "outputs": [],
   "source": [
    "# ChatGPT generated shoe lists\n",
    "camera_view_shoes = [ \"Shoe advertisement\", \"Shoe advertisement\", \"Shoe advertisement\", \"Extreme close-up shot of shoe, shoe advertisement\", \"Close-up shot of shoe, shoe advertisement\", \"Medium close-up shot of shoe, shoe advertisement\", \"Extreme close-up shot of shoe, shoe advertisement on the KALI inspired shoe\", \"Close-up shot of shoe, shoe advertisement on the KALI inspired shoe\", \"Shoe advertisement\", \"Focus shot on shoe, shoe advertisement\", \"Focus shot on shoe, shoe advertisement\", \"Focus shot on shoe, shoe advertisement\", \"Extreme close-up shot of shoe, clothing advertisement\", \"Close-up shot of shoe, clothing advertisement\", \"Medium close-up shot of shoe, clothing advertisement\", \"Extreme close-up shot of shoe, clothing advertisement on shoe, shoe advertisement\", \"Close-up shot of shoe, clothing advertisement on shoe, shoe advertisement\", \"Focus shot on shoe, shoe advertisement\", \"Medium-wide full body shot doing yoga, focus shot on the shoe\", \"Medium-wide full body shot doing yoga, focus shot on the shoe\", \"Focus shot on the shoe\", \"Extreme close-up shot on the shoe\", \"Close-up shot on the shoe\", \"Focus shot on the shoe\", \"Detailed view of shoe\", \"Detailed view of shoe\" ]\n",
    "shoe_skus = [\"Timberland PRO Mens 6 inch Pit Boss Steel Toe\", \"Timberland Mens White Ledge Mid Waterproof Ankle Boot\", \"Timberland Womens Nellie Double Waterproof Ankle Boot\", \"Timberland PRO Mens 6 inch Boondock Soft Toe Waterproof\", \"Timberland Mens Earthkeepers Rugged Boot\", \"Timberland Womens Earthkeepers Glancy 6 inch Boot\", \"Timberland PRO Mens 6 inch Endurance Steel Toe\", \"Timberland Womens Norwood Mid Waterproof Hiking Boot\", \"Timberland PRO Mens 6 inch Powerwelt Steel Toe\", \"Timberland Mens Carter Notch Waterproof Oxford\", \"Timberland Womens Earthkeepers Glancy 6 inch Lace-Up Boot\", \"Timberland PRO Mens 6 inch Hyperion Waterproof\", \"Timberland Mens Earthkeepers 6 inch Lace-Up Boot\", \"Timberland Womens Nellie Waterproof Chukka Boot\", \"Timberland PRO Mens 6 inch Titan Safety Toe\", \"Timberland Mens Chocorua Trail Mid Waterproof Boot\", \"Timberland Womens Earthkeepers Amston 6 inch Boot\", \"Timberland PRO Mens 8\\\"Rigmaster XT Steel Toe\", \"Timberland Mens Icon 6 inch Premium Boot\", \"Timberland Womens Sutherlin Bay Mid Lace Boot\", \"Timberland PRO Mens 8\\\"Boondock Composite Toe\", \"Timberland Mens Mt. Maddsen Hiker Boot\", \"Timberland Womens Sutherlin Bay Mid Back Zip Boot\", \"Timberland PRO Mens 6 inch Helix HD Composite Toe\", \"Timberland Mens Euro Hiker Boot\", \"Timberland Womens Jayne Waterproof Teddy Fleece Fold Down\", \"Timberland PRO Mens 6 inch Pit Boss Soft Toe\", \"Timberland Mens Groveton LTT Chukka L/F Fashion Boot\", \"Timberland Womens Sutherlin Bay Mid Back Zip\", \"Timberland PRO Mens 6 inch Excave Steel Toe\", \"Timberland Mens Euro Sprint Hiker Boot\", \"Timberland Womens PRO Renova Slip-On\", \"Timberland PRO Mens 6 inch Boondock Composite Toe Waterproof\" ,\"Running shoes\", \"Walking shoes\", \"Cross Training shoes\", \"Hiking shoes\", \"Trail Running shoes\", \"Basketball shoes\", \"Soccer Cleats\", \"Football Cleats\", \"Baseball Cleats\", \"Golf shoes\", \"Tennis shoes\", \"Volleyball shoes\", \"Cycling shoes\", \"Skateboarding shoes\", \"Boxing shoes\", \"Wrestling shoes\", \"Weightlifting shoes\", \"Horse Riding Boots\", \"Rain Boots\", \"Snow Boots\", \"Chelsea Boots\", \"Desert Boots\", \"Chukka Boots\", \"Combat Boots\", \"Cowboy Boots\", \"Hiking Boots\", \"Mountaineering Boots\", \"Safety shoes\", \"Electrician Boots\", \"Mechanic shoes\", \"Chef shoes\", \"Nursing shoes\", \"Waiter/Waitress shoes\", \"Military Boots\", \"Firefighter Boots\", \"Police Boots\", \"Construction Boots\", \"Logger Boots\", \"Ballet Flats\", \"Loafers\", \"Oxfords\", \"Derby shoes\", \"Monk shoes\", \"Moccasins\", \"Boat shoes\", \"Slip-on shoes\", \"Sandals\", \"Flip-flops\", \"Slides\", \"Espadrilles\", \"Clogs\", \"Mules\", \"Wingtip shoes\", \"Penny Loafers\", \"Saddle shoes\", \"Spectator shoes\" ,\"Nike Air Force 1\", \"Converse Chuck Taylor All Star\", \"Adidas Stan Smith\", \"Adidas Superstar\", \"Nike Air Max 90\", \"Nike Air Jordan 1\", \"Nike Air Max 97\", \"Reebok Classic Leather\", \"Nike Air Max 1\", \"Vans Old Skool\", \"Adidas Gazelle\", \"New Balance 990\", \"Nike Cortez\", \"Puma Suede\", \"Nike Dunk\", \"Asics Gel-Kayano\", \"Adidas NMD\", \"Reebok Club C\", \"Nike Air Max 95\", \"Adidas Yeezy Boost 350\", \"Puma Clyde\", \"Adidas Ultraboost\", \"Nike SB Dunk\", \"Vans Sk8-Hi\", \"New Balance 574\", \"Converse Jack Purcell\", \"Nike Air Presto\", \"Nike Blazer\", \"Adidas Continental 80\", \"Adidas Originals Campus\", \"Adidas Originals ZX 750\", \"Fila Disruptor\", \"Nike Air Huarache\", \"Puma RS-X\", \"Nike Air Max 270\", \"Vans Authentic\", \"Reebok Workout\", \"Adidas Samba\", \"Nike Air Max 2090\", \"New Balance 990v5\", \"Nike Zoom Fly\", \"Puma RS-0\", \"Nike React Element 87\", \"Converse One Star\", \"Nike Flyknit Racer\", \"Adidas Originals Tubular\", \"Asics Gel-Lyte III\", \"Nike Air Vapormax\" \"Puma Suede Classic\", \"Puma RS-X\", \"Puma Cali\", \"Puma Cell Venom\", \"Puma Basket Classic\", \"Puma Roma\", \"Puma Clyde\", \"Puma Smash\", \"Puma Future Rider\", \"Puma Disc Blaze\", \"Puma Carson\", \"Puma Enzo\", \"Puma Mostro\", \"Puma Axis\", \"Puma Tazon\", \"Puma Vikky\", \"Puma Turin\", \"Puma Drift Cat\", \"Puma Speed Cat\", \"Puma Ferrari\", \"Puma BMW\", \"Puma Mercedes\", \"Puma Liga\", \"Puma GV Special\", \"Puma King\", \"Puma Dallas\", \"Puma Oslo\", \"Puma Madrid\", \"Puma Cabana\", \"Puma Whirlwind\", \"Puma Mirage\", \"Puma R78\", \"Puma Fast Rider\", \"Puma Ralph Sampson\", \"Puma Sky\", \"Puma Trailfox\", \"Puma Mirage Mox\", \"Puma Storm\", \"Puma Ralph Sampson Mid\", \"Puma Carina\", \"Puma Basket Heart\", \"Puma Basket Platform\", \"Puma Vikky Stacked\", \"Puma Platform Trace\", \"Puma Nova\", \"Puma Calibrate Runner\", \"Puma NRGY\", \"Puma Ignite\", \"Puma Hybrid\", \"Puma LQDCELL\" ,\"Adidas Stan Smith\", \"Adidas Superstar\", \"Adidas Gazelle\", \"Adidas NMD\", \"Adidas Ultraboost\", \"Adidas Yeezy Boost 350\", \"Adidas Campus\", \"Adidas Continental 80\", \"Adidas Samba\", \"Adidas Originals Tubular\", \"Adidas EQT\", \"Adidas Iniki\", \"Adidas Yeezy Boost 700\", \"Adidas ZX Flux\", \"Adidas Hamburg\", \"Adidas Yung-1\", \"Adidas Samoa\", \"Adidas Marathon TR\", \"Adidas Rivalry\", \"Adidas Dragon\", \"Adidas Ozweego\", \"Adidas Climacool\", \"Adidas Originals Tubular Doom\", \"Adidas Torsion\", \"Adidas Pureboost\", \"Adidas Deerupt\", \"Adidas Top Ten\", \"Adidas Stan Smith Boost\", \"Adidas Micropacer\", \"Adidas Yeezy Boost 750\", \"Adidas Originals Tubular Shadow\", \"Adidas Response\", \"Adidas Crazy Explosive\", \"Adidas Superstar Slip-on\", \"Adidas Adizero\", \"Adidas Swift\", \"Adidas Falcon\", \"Adidas X_PLR\", \"Adidas Sobakov\", \"Adidas F/22\", \"Adidas Terrex\", \"Adidas Tubular Nova\", \"Adidas Nite Jogger\", \"Adidas AlphaBounce\", \"Adidas Climacool 02/17\", \"Adidas Ultraboost Uncaged\", \"Adidas Busenitz\", \"Adidas Ultra Tech\", \"Adidas Climacool 1\" ,\"Wool shoes AllBirds Wool Runners\", \"Wool shoes AllBirds Tree Runners\", \"Wool shoes AllBirds Mizzle Runners\", \"Wool shoes AllBirds Wool Dasher Mizzles\", \"Wool shoes AllBirds Wool Dasher\", \"Wool shoes AllBirds Tree Dashers\", \"Wool shoes AllBirds Wool Pipers\", \"Wool shoes AllBirds Tree Pipers\", \"Wool shoes AllBirds Wool Loungers\", \"Wool shoes AllBirds Tree Loungers\", \"Wool shoes AllBirds Wool Skippers\", \"Wool shoes AllBirds Tree Skippers\", \"Wool shoes AllBirds Wool Runners-Up Mizzles\", \"Wool shoes AllBirds Wool Runners-Up\", \"Wool shoes AllBirds Tree Toppers\", \"Wool shoes AllBirds Wool Runner Fluffs\", \"Wool shoes AllBirds Tree Dashers-Up\", \"Wool shoes AllBirds Wool Dasher Mizzles-Up\", \"Wool shoes AllBirds Wool Dasher-Up\", \"Wool shoes AllBirds Wool Jumper-Up Mizzles\", \"Wool shoes AllBirds Wool Jumper Mizzles\", \"Wool shoes AllBirds Wool Jumper-Up\", \"Wool shoes AllBirds Wool Jumper\", \"Wool shoes AllBirds Tree Breezers\", \"Wool shoes AllBirds Tree Toppers-Up\", \"Wool shoes AllBirds Wool Runner-Up Fluffs\", \"Wool shoes AllBirds Tree Runners-Up\", \"Wool shoes AllBirds Wool Runner-Up Mizzles-Up\", \"Wool shoes AllBirds Wool Piper Mizzles\", \"Wool shoes AllBirds Wool Piper-Up\", \"Wool shoes AllBirds Tree Breezer Flats\", \"Wool shoes AllBirds Wool Pipers-Up\", \"Wool shoes AllBirds Wool Lounger-Up\", \"Wool shoes AllBirds Tree Lounger-Up\", \"Wool shoes AllBirds Wool Skipper-Up\", \"Wool shoes AllBirds Tree Skipper-Up\", \"Wool shoes AllBirds Tree Toppers Mizzles\", \"Wool shoes AllBirds Tree Toppers Mizzles-Up\", \"Wool shoes AllBirds Wool Jumper-Up Mizzles-Up\", \"Wool shoes AllBirds Wool Jumper Mizzles-Up\", \"Wool shoes AllBirds Tree Toppers-Up Mizzles\", \"Wool shoes AllBirds Wool Runner-Up Mizzles-Up Fluffs\", \"Wool shoes AllBirds Wool Runner Mizzles\", \"Wool shoes AllBirds Wool Piper Mizzles-Up\", \"Wool shoes AllBirds Tree Breezers Mizzles\", \"Wool shoes AllBirds Tree Loungers-Up\", \"Wool shoes AllBirds Wool Skipper Mizzles\", \"Wool shoes AllBirds Tree Skipper Mizzles\", \"Wool shoes AllBirds Wool Skipper Mizzles-Up\", \"Wool shoes AllBirds Tree Skipper Mizzles-Up\", \"Wool shoes AllBirds Tree Runners-Up Mizzles\", \"Wool shoes AllBirds Wool Dasher-Up Mizzles\", \"Wool shoes AllBirds Wool Runner-Up Mizzles\", \"Wool shoes AllBirds Wool Runner-Up Fluffs Mizzles-Up\", \"Wool shoes AllBirds Wool Runner Mizzles-Up\", \"AllBirds Wool Runners\", \"AllBirds Tree Runners\", \"AllBirds Mizzle Runners\", \"AllBirds Wool Dasher Mizzles\", \"AllBirds Wool Dasher\", \"AllBirds Tree Dashers\", \"AllBirds Wool Pipers\", \"AllBirds Tree Pipers\", \"AllBirds Wool Loungers\", \"AllBirds Tree Loungers\", \"AllBirds Wool Skippers\", \"AllBirds Tree Skippers\", \"AllBirds Wool Runners-Up Mizzles\", \"AllBirds Wool Runners-Up\", \"AllBirds Tree Toppers\", \"AllBirds Wool Runner Fluffs\", \"AllBirds Tree Dashers-Up\", \"AllBirds Wool Dasher Mizzles-Up\", \"AllBirds Wool Dasher-Up\", \"AllBirds Wool Jumper-Up Mizzles\", \"AllBirds Wool Jumper Mizzles\", \"AllBirds Wool Jumper-Up\", \"AllBirds Wool Jumper\", \"AllBirds Tree Breezers\", \"AllBirds Tree Toppers-Up\", \"AllBirds Wool Runner-Up Fluffs\", \"AllBirds Tree Runners-Up\", \"AllBirds Wool Runner-Up Mizzles-Up\", \"AllBirds Wool Piper Mizzles\", \"AllBirds Wool Piper-Up\", \"AllBirds Tree Breezer Flats\", \"AllBirds Wool Pipers-Up\", \"AllBirds Wool Lounger-Up\", \"AllBirds Tree Lounger-Up\", \"AllBirds Wool Skipper-Up\", \"AllBirds Tree Skipper-Up\", \"AllBirds Tree Toppers Mizzles\", \"AllBirds Tree Toppers Mizzles-Up\", \"AllBirds Wool Jumper-Up Mizzles-Up\", \"AllBirds Wool Jumper Mizzles-Up\", \"AllBirds Tree Toppers-Up Mizzles\", \"AllBirds Wool Runner-Up Mizzles-Up Fluffs\", \"AllBirds Wool Runner Mizzles\", \"AllBirds Wool Piper Mizzles-Up\", \"AllBirds Tree Breezers Mizzles\", \"AllBirds Tree Loungers-Up\", \"AllBirds Wool Skipper Mizzles\", \"AllBirds Tree Skipper Mizzles\", \"AllBirds Wool Skipper Mizzles-Up\", \"AllBirds Tree Skipper Mizzles-Up\", \"AllBirds Tree Runners-Up Mizzles\", \"AllBirds Wool Dasher-Up Mizzles\", \"AllBirds Wool Runner-Up Mizzles\", \"AllBirds Wool Runner-Up Fluffs Mizzles-Up\", \"AllBirds Wool Runner Mizzles-Up\" ,\"Wally Sox\", \"Wendy\", \"Mens Wally\", \"Womens Wendy Chambray\", \"Mens Wally Linen\", \"Womens Wendy Denim\", \"Mens Wally Funk\", \"Womens Mistral\", \"Mens Wally Canvas\", \"Womens Wendy Sox\", \"Mens Wally Stretch\", \"Womens Wendy Linen\", \"Mens Wally B Stretch\", \"Womens Wendy Sox Stretch\", \"Mens Wally L Stretch\", \"Womens Wendy Chambray Stretch\", \"Mens Wally Funk Stretch\", \"Womens Wendy Funk Stretch\", \"Mens Wally Stretch Textile\", \"Womens Wendy Stretch Textile\", \"Mens Wally Braided\", \"Womens Wendy Braided\", \"Mens Wally Braided Stretch\", \"Womens Wendy Braided Stretch\", \"Mens Wally Braided\", \"Womens Wendy L Braided\", \"Mens Wally Sox Loafer\", \"Womens Wendy Chambray Loafer\", \"Mens Wally Corduroy\", \"Womens Wendy Corduroy\" ]\n",
    "shoe_brands = ['Puma', 'Adidas', 'Alexander McQueen', 'Fila', 'Saint Laurent', 'Hoka One One', 'Balenciaga', 'Reebok', 'Dior', 'ASICS', 'Miu Miu', 'Skechers', 'Lacoste', 'Jimmy Choo', 'Timberland', 'Maison Margiela', 'Vans', 'Nike', 'New Balance', 'Versace', 'Rick Owens', 'Christian Louboutin', 'Clarks', 'Merrell', 'Balmain', 'Under Armour', 'Prada', 'Common Projects', 'Jordan', 'Salomon', 'Valentino', 'Dr. Martens', 'Fendi', 'Off-White', 'Acne Studios', 'Bottega Veneta', 'Converse', 'Vetements', 'Isabel Marant', 'Hermès', 'Givenchy', 'Yeezy', 'Gucci', 'Brooks', 'Burberry']\n",
    "shoe_fabrics = ['Organza', 'Silk', 'Georgette', 'Corduroy', 'Lace', 'Nylon', 'Satin', 'Wool', 'Velvet', 'Leather', 'Fleece', 'Poplin', 'Taffeta', 'Flannel', 'Tweed', 'Voile', 'Denim', 'Muslin', 'Brocade', 'Chambray', 'Spandex', 'Hemp', 'Broadcloth', 'Cashmere', 'Batiste', 'Jacquard', 'Cotton', 'Rayon', 'Chiffon', 'Polyester', 'Linen', 'Canvas', 'Seersucker', 'Crepe']\n",
    "designers = ['Alexander McQueen', 'Diane von Fürstenberg', 'Issey Miyake', 'Riccardo Tisci', 'Marc Jacobs', 'Balenciaga', 'Michael Kors', 'Vera Gucci', 'Jonathan Anderson', 'Karl Lagerfeld', 'Chloé', 'Miu Miu', 'Phoebe Philo', 'Donatella Versace', 'Calvin Klein', 'Jil Sander', 'Rei Kawakubo', 'Junya Watanabe', 'Giorgio Armani', 'Jimmy Choo', 'Thom Browne', 'Maison Margiela', 'Tom Ford', 'Versace', 'Azzedine Alaïa', 'Rick Owens', 'Marni', 'Jacquemus', 'Christian Dior', 'Mary-Kate and Ashley Olsen', 'Stella McCartney', 'Prada', 'Roberto Cavalli', 'Virgil Abloh', 'Valentino Garavani', 'Ralph Lauren', 'Oscar de la Renta', 'Tory Burch', 'Demna Gvasalia', 'Fendi', 'Alber Elbaz', 'Louis Vuitton', 'Yves Saint Laurent', 'Dolce & Gabbana', 'Coco Chanel', 'Hermès', 'Givenchy', 'Gucci', 'Jean Paul Gaultier', 'Burberry', 'Donna Karan']\n",
    "colorful_foods = ['Rhubarb color', 'Butternut squash color', 'Radish color', 'Strawberry color', 'Sweet potato color', 'Thyme color', 'Beet color', 'Honeydew melon color', 'Blueberry color', 'Lemon color', 'Endive color', 'Apricot color', 'Pomegranate color', 'Broccoli color', 'Green pea color', 'Tangerine color', 'Green bean color', 'Yellow tomato color', 'Pineapple color', 'Pepper color', 'Plum color', 'Green apple color', 'Fig color', 'Blackberry color', 'Red cabbage color', 'Tomato color', 'Cherry color', 'Papaya color', 'Arugula color', 'Turmeric color', 'Kale color', 'Chili pepper color', 'Mango color', 'Yellow bell pepper color', 'Peach color', 'Red pepper color', 'Orange color', 'Red apple color', 'Turnip color', 'Garlic color', 'Pear color', 'Watermelon color', 'Raspberry color', 'Cantaloupe color', 'Okra color', 'Lime color', 'Clementine color', 'Acai color', 'Red onion color', 'Parsley color', 'Purple potato color', 'Lavender color', 'Cucumber color', 'Purple carrot color', 'Potato color', 'Eggplant color', 'Guava color', 'Ginger color', 'Grapefruit color', 'Pumpkin color', 'Carrot color', 'Persimmon color', 'Rosemary color', 'Spinach color', 'Passion fruit color', 'Yellow squash color', 'Jalapeno pepper color', 'Cranberry color', 'Sage color', 'Bell pepper color', 'Kiwi color', 'Purple cabbage color', 'Mint color', 'Nectarine color', 'Yellow apple color', 'Grape color', 'Zucchini color']\n",
    "shoe_types = ['Running Shoes', 'Desert Boots', 'Hiking Boots', 'Penny Loafers', 'Spectator Shoes', 'Slip-on Shoes', 'Firefighter Boots', 'Volleyball Shoes', 'Soccer Cleats', 'Boxing Shoes', 'Weightlifting Shoes', 'Clogs', 'Mountaineering Boots', 'Ballet Flats', 'Wrestling Shoes', 'Snow Boots', 'Boat Shoes', 'Trail Running Shoes', 'Police Boots', 'Cowboy Boots', 'Oxfords', 'Safety Shoes', 'Tennis Shoes', 'Rain Boots', 'Sandals', 'Cross Training Shoes', 'Electrician Boots', 'Flip-flops', 'Skateboarding Shoes', 'Chukka Boots', 'Football Cleats', 'Walking Shoes', 'Mechanic Shoes', 'Military Boots', 'Derby Shoes', 'Hiking Shoes', 'Golf Shoes', 'Cycling Shoes', 'Nursing Shoes', 'Loafers', 'Combat Boots', 'Espadrilles', 'Baseball Cleats', 'Basketball Shoes', 'Horse Riding Boots', 'Moccasins', 'Wingtip Shoes', 'Slides', 'Mules', 'Chef Shoes', 'Monk Shoes', 'Chelsea Boots', 'Construction Boots', 'Logger Boots', 'Saddle Shoes']\n",
    "stitches = ['Buttonhole Stitch', 'Japanese Ribbon Stitch', 'Cross Stitch', 'Honeycomb Couching', 'Lattice Stitch', 'Satin Stitch', 'Colonial Knot', 'French Knot', 'Drizzle Stitch', 'Pistil Stitch', 'Raised Chain Band', 'Raised Fishbone Stitch', 'Long and Short Buttonhole Stitch', 'Fly Stitch', 'Raised Satin Stitch', 'French Knot Rose', 'Whip Stitch', 'Roumanian Couching', 'Split Stitch', 'Wheat Ear Stitch', 'Running Stitch', 'Rope Stitch', 'Blanket Stitch', 'Scalloped Buttonhole Stitch', 'Embroidery', 'Rosette Chain Stitch', 'Pekinese Stitch', 'Herringbone Stitch', 'Long and Short Stitch', 'Bullion Stitch', 'Backstitch', 'Stem Stitch', 'Seed Stitch', 'Oyster Stitch', 'Lazy Daisy Stitch', 'Fern Stitch', 'Fishbone Stitch', 'Bullion Knot Stitch', 'Coral Stitch', 'Chain Stitch', 'Cretan Stitch', 'Spider Web Stitch', 'Woven Wheel Stitch', 'Bokhara Couching', 'Couching Stitch', 'Feather Stitch']\n",
    "clothing_patterns = ['Vintage','Geometric', 'Damask', 'Stripes', 'Floral', 'Tropical', 'Scribble Print', 'Grid', 'Camo', 'Camouflage', 'Houndstooth', 'Mosaic', 'Tribal', 'Polka Dot', 'Tartan', 'Gingham', 'Retro', 'Watercolor', 'Herringbone', 'Plaid', 'Chevron', 'Abstract', 'Pinstripe', 'Starry Night', 'Ikat', 'Marble', 'Animal Print', 'Pop Art', 'Paisley', 'Cracked Ice', 'Psychedelic', 'Tattoo Print', 'Galaxy', 'Zigzag', 'Patchwork', 'Ombre', 'Argyle', 'Digital Print', 'Checkerboard', 'Tie-dye', 'Leopard Print']"
   ]
  },
  {
   "cell_type": "markdown",
   "metadata": {
    "id": "v69yvp-84Vbc"
   },
   "source": [
    "# Using ChatGPT or Bard to modify the prompt generator\n",
    "\n",
    "You can use ChatGPT [https://chat.openai.com/](https://chat.openai.com/) or Bard [https://bard.google.com/](https://bard.google.com/) to modify the prompt generator.  Just type in something like:\n",
    "\n",
    "*Can you extend the python function generate_random_prompt with the python lists shoe_brands, shoe_fabrics, designers, colorful_foods, shoe_types, stitches, and clothing_patterns.\n",
    "\n",
    "The new lists are all required exactly once, are at the beginning of the returned string and replace the lists subjects, and actions.*\n",
    "\n",
    "\n"
   ]
  },
  {
   "cell_type": "code",
   "execution_count": 2,
   "metadata": {
    "id": "uE3gpsVm40SG"
   },
   "outputs": [],
   "source": [
    "import random\n",
    "\n",
    "def generate_random_shoe_prompt(camera_view, shoe_sku, shoe_brands, shoe_fabrics, designers, colorful_foods, shoe_types, stitches, clothing_patterns, places, styles, formats, boosters, perspectives, views, artists, mediums, environments, lights, colors, moods, decades, mj_prompts, mj_parameters):\n",
    "    text = []\n",
    "\n",
    "    # Step 0A: Camera view\n",
    "    camera = random.choice(shoe_sku)\n",
    "    text.append(camera)\n",
    "\n",
    "    # Step 0A: SKU\n",
    "    sku = random.choice(shoe_sku)\n",
    "    text.append(sku)\n",
    "\n",
    "    # Step 1: Shoe Brand\n",
    "    shoe_brand = random.choice(shoe_brands)\n",
    "    text.append(shoe_brand)\n",
    "\n",
    "    # Step 2: Shoe Fabric\n",
    "    shoe_fabric = random.choice(shoe_fabrics)\n",
    "    text.append(shoe_fabric)\n",
    "\n",
    "    # Step 3: Designer\n",
    "    designer = random.choice(designers)\n",
    "    text.append(designer)\n",
    "\n",
    "    # Step 4: Colorful Food\n",
    "    colorful_food = random.choice(colorful_foods) + \" color\"\n",
    "    text.append(colorful_food)\n",
    "\n",
    "    # Step 5: Shoe Type\n",
    "    shoe_type = random.choice(shoe_types)\n",
    "    text.append(shoe_type)\n",
    "\n",
    "    # Step 6: Stitch\n",
    "    stitch = random.choice(stitches)\n",
    "    text.append(stitch)\n",
    "\n",
    "    # Step 7: Clothing Pattern\n",
    "    clothing_pattern = random.choice(clothing_patterns)\n",
    "    text.append(clothing_pattern)\n",
    "\n",
    "    # Step 8: Place\n",
    "    if random.random() < 0.5:\n",
    "        place = random.choice(places)\n",
    "        text.append(place)\n",
    "\n",
    "    # Step 9: Style\n",
    "    num_styles = random.randint(0, 2)\n",
    "    styles = random.sample(styles, num_styles)\n",
    "    text.extend(styles)\n",
    "\n",
    "    # Step 10: Format\n",
    "    num_formats = random.randint(0, 2)\n",
    "    formats = random.sample(formats, num_formats)\n",
    "    text.extend(formats)\n",
    "\n",
    "    # Step 11: Booster\n",
    "    num_boosters = random.randint(0, 5)\n",
    "    boosters = random.sample(boosters, num_boosters)\n",
    "    text.extend(boosters)\n",
    "\n",
    "    # Step 12: Perspective\n",
    "    if random.random() < 0.5:\n",
    "        perspective = random.choice(perspectives)\n",
    "        text.append(perspective)\n",
    "\n",
    "    # Step 13: View\n",
    "    if random.random() < 0.5:\n",
    "        view = random.choice(views)\n",
    "        text.append(view)\n",
    "\n",
    "    # Step 14: Artists\n",
    "    num_artists = random.randint(0, 3)\n",
    "    artists = random.sample(artists, num_artists)\n",
    "    text.extend(artists)\n",
    "\n",
    "    # Step 15: Medium\n",
    "    if random.random() < 0.5:\n",
    "        medium = random.choice(mediums)\n",
    "        text.append(medium)\n",
    "\n",
    "    # Step 16: Environment\n",
    "    if random.random() < 0.5:\n",
    "        environment = random.choice(environments)\n",
    "        text.append(environment)\n",
    "\n",
    "    # Step 17: Lighting\n",
    "    if random.random() < 0.5:\n",
    "        lighting = random.choice(lights)\n",
    "        text.append(lighting)\n",
    "\n",
    "    # Step 18: Color\n",
    "    num_colors = random.randint(0, 5)\n",
    "    colors = random.sample(colors, num_colors)\n",
    "    text.extend(colors)\n",
    "\n",
    "    # Step 19: Mood\n",
    "    if random.random() < 0.5:\n",
    "        mood = random.choice(moods)\n",
    "        text.append(mood)\n",
    "\n",
    "    # Step 20: Decade\n",
    "    if random.random() < 0.5:\n",
    "        decade = random.choice(decades)\n",
    "        text.append(decade)\n",
    "\n",
    "    # Step 21: MJ_prompt\n",
    "    if random.random() < 0.5:\n",
    "        mj_prompt = random.choice(mj_prompts)\n",
    "        text.append(mj_prompt)\n",
    "\n",
    "    # Step 22: Parameters\n",
    "    num_parameters = random.randint(0, 2)\n",
    "    parameters = random.sample(mj_parameters, num_parameters)\n",
    "    text.extend(parameters)\n",
    "\n",
    "    return 'Shoe ad, Focus on ' + ', '.join(text)\n",
    "\n",
    "\n",
    "\n"
   ]
  },
  {
   "cell_type": "markdown",
   "metadata": {
    "id": "vXylgame5OqT"
   },
   "source": [
    "## Generating a List of Shoe Prompts\n",
    "\n",
    "Let's extend out script by creating a variable called *num_prompts* to create a bunch of prompts."
   ]
  },
  {
   "cell_type": "code",
   "execution_count": null,
   "metadata": {
    "colab": {
     "base_uri": "https://localhost:8080/"
    },
    "id": "JZXhSyosz8CF",
    "outputId": "9365cbb7-69d7-41bd-f3a3-5dd2ce57d120"
   },
   "outputs": [
    {
     "name": "stdout",
     "output_type": "stream",
     "text": [
      "Shoe ad, Focus on Puma Future Rider, Wool shoes AllBirds Wool Runner Mizzles-Up, Puma, Flannel, Valentino Garavani, Red apple color color, Monk Shoes, Roumanian Couching, Camouflage, Café, Typography Design, Street Photography, Skillful, Postprocessing, Wondrous, Masterful, Magical, Panning, Portrait, Jackson Pollock, Lichtenstein, Henri Matisse, In A Surreal Landscape, Multicolored, Soulful, --v 5, --v 5\n",
      "Shoe ad, Focus on AllBirds Tree Breezers, Wool shoes AllBirds Wool Piper Mizzles-Up, Clarks, Velvet, Coco Chanel, Orange color color, Ballet Flats, Seed Stitch, Tattoo Print, Banff, Canada, Land Art, Byzantine Icon, Commercial Print Ad, Mind-Blowing, 70Mm, Trending On Artstation, Talented, Exemplary, Caravaggio, Eric Carle, Lively, posters showing the words wonderwoman by dr michelle tassos, in the style of pop culture collages, go nagai, creative commons attribution, simplistic vector art, puzzle-like pieces, ahmed morsi, cut/ripped\n",
      "Shoe ad, Focus on Timberland Mens Chocorua Trail Mid Waterproof Boot, Wool shoes AllBirds Tree Pipers, Dior, Muslin, Rei Kawakubo, Green bean color color, Logger Boots, Rope Stitch, Tartan, Anime, Bohemian, Masterpiece, Unbelievable, Impressive, One-Of-A-Kind, Low Angle, Saul Leiter, Yayoi Kusama, Galen, Soft, Transitional, Viking Age, the face of wonder woman printed on paper, in the style of international typographic style, animated gifs, dignified poses, sudersan pattnaik, collaged elements, --v 5, --v 5\n",
      "Shoe ad, Focus on AllBirds Wool Runner Mizzles, Wool shoes AllBirds Tree Toppers-Up Mizzles, Fendi, Taffeta, Phoebe Philo, Spinach color color, Walking Shoes, Backstitch, Ikat, Stadium, Modeling Photoshoot, Outstanding, Time-Lapse, Dutch Angle, Georges Braque, Vincent Van Gogh, Printmaking, In A Fantasy Kingdom, Intense, Serene, Regency Era, --v 5\n",
      "Shoe ad, Focus on Wool shoes AllBirds Tree Pipers, Adidas EQT, Vans, Voile, Diane von Fürstenberg, Pumpkin color color, Moccasins, Lattice Stitch, Geometric, Dieselpunk, Unique, Incredible, Low Angle, Johannes Vermeer, Arcimboldo, Claude Monet, Fiber Art, Lime Color, Jewel Tones, Secondary Colors, Kale Color, Cherry Color, Enchanting, Future Dystopia, women in wonder posters art print, in the style of boldly fragmented, superheroes, layered stencil work, letras y figuras, cut/ripped, blink-and-you-miss-it detail, dc comics, --v 5\n",
      "Shoe ad, Focus on Skateboarding shoes, Nike Air VapormaxPuma Suede Classic, Isabel Marant, Seersucker, Rei Kawakubo, Bell pepper color color, Skateboarding Shoes, Whip Stitch, Psychedelic, Cubism, Surrealism, Cinematography From Music Video, Portrait Photography, Framed, From Below, Brueghel The Elder, Airbrush Art, Mysterious, Rich, Guava Color, Turmeric Color, Lavender Color, Space Exploration Era, women in wonder posters art print, in the style of boldly fragmented, superheroes, layered stencil work, letras y figuras, cut/ripped, blink-and-you-miss-it detail, dc comics, --v 5, --v 5\n",
      "Shoe ad, Focus on Puma Carson, Adidas Originals Tubular Doom, Balmain, Spandex, Coco Chanel, Spinach color color, Slip-on Shoes, Scalloped Buttonhole Stitch, Galaxy, Unforgettable, Exceptionally Skilled, Ingenious, Exquisite, Diagonal, Extreme Close-Up Shot, , Hanna Barbera, Georgia O'Keeffe, In A Surreal Landscape, Harsh, Beet Color, Eggplant Color, Whimsical, Cretaceous Period, women in wonder posters art print, in the style of boldly fragmented, superheroes, layered stencil work, letras y figuras, cut/ripped, blink-and-you-miss-it detail, dc comics, --v 5\n",
      "Shoe ad, Focus on Wool shoes AllBirds Wool Skipper-Up, Puma BMW, Balenciaga, Flannel, Alber Elbaz, Red pepper color color, Desert Boots, Lazy Daisy Stitch, Ombre, Zoo, Abstract Expressionism, Instruction Manual, Polaroid, Wow Factor, Innovative, Hyper Realistic, Wide-Angle View, Glass Art, Warm, Kale Color, Passionate\n",
      "Shoe ad, Focus on Adidas Nite Jogger, Wool shoes AllBirds Tree Toppers Mizzles, Burberry, Organza, Azzedine Alaïa, Red apple color color, Snow Boots, French Knot Rose, Patchwork, Collage, Line Drawing, Very Beautiful, Blender 3D, Iconic, Exceptional, Pieter Brueghel, Ralph Mcquarrie, In A Tropical Paradise, High-Key, Sweet Potato Color, Art Nouveau Period, posters showing the words wonderwoman by dr michelle tassos, in the style of pop culture collages, go nagai, creative commons attribution, simplistic vector art, puzzle-like pieces, ahmed morsi, cut/ripped, --v 5, --v 5\n",
      "Shoe ad, Focus on AllBirds Wool Runners-Up, AllBirds Wool Dasher-Up, Reebok, Chiffon, Rick Owens, Green apple color color, Derby Shoes, Spider Web Stitch, Mosaic, Advertising Campaign, Book Cover, Extremely Detailed, Andy Warhol, Galen, Ivan Shishkin, Stained Glass, Dreamlike, --v 5\n",
      "Shoe ad, Focus on Nike Blazer, Desert Boots, Balenciaga, Hemp, Jonathan Anderson, Tomato color color, Golf Shoes, Fern Stitch, Marble, Abu Dhabi, Uae, Kinetic Art, Ethnic, Impressive, Inspire, Well Preserved, From Behind, Utagawa Kuniyoshi, Textile Art, In A Film Noir Setting, Purple Potato Color, Bright, Lavender Color, Ginger Color, Purple Cabbage Color, Magical, --v 5\n",
      "Shoe ad, Focus on Mens Wally Stretch Textile, Puma LQDCELL, Miu Miu, Broadcloth, Alber Elbaz, Parsley color color, Spectator Shoes, Raised Chain Band, Animal Print, Bakery, One-Line Drawing, Exceptionally Skilled, Time-Lapse, Low Angle View, In A Circus, Sunset, Butternut Squash Color, Lime Color, Colorful, Red Pepper Color, Prohibition Era, --v 5, --v 5\n",
      "Shoe ad, Focus on AllBirds Tree Breezers, AllBirds Tree Loungers, Reebok, Leather, Balenciaga, Purple cabbage color color, Basketball Shoes, Satin Stitch, Digital Print, Retro, Branding Guidelines, Visionary, Ultra High Poly, Phenomenal, Genius, Kahlo, Rembrandt, Encaustic Art, Gloomy, Jewel Tones, Dramatic, Lavender Color, Reflective, the face of wonder woman printed on paper, in the style of international typographic style, animated gifs, dignified poses, sudersan pattnaik, collaged elements, --v 5, --v 5\n",
      "Shoe ad, Focus on Spectator shoes, Adidas Yung-1, Fila, Chambray, Rick Owens, Orange color color, Desert Boots, Blanket Stitch, Watercolor, Brussels, Belgium, Digital Art, Mixed Media, In An Underwater City, Subtle, Popsicle Colors, 1920S, --v 5\n",
      "Shoe ad, Focus on Adidas Hamburg, Wool shoes AllBirds Tree Loungers, Gucci, Batiste, Chloé, Peach color color, Baseball Cleats, Honeycomb Couching, Gingham, Courtroom Sketch, Catalog Design, Impressive, Hyper Realistic, Edouard Manet, Ceramics, In A Snowy Landscape, Underwater, Colorful, Lemon Color, Pastel Pinks, Cherry Color, Chill, posters showing the words wonderwoman by dr michelle tassos, in the style of pop culture collages, go nagai, creative commons attribution, simplistic vector art, puzzle-like pieces, ahmed morsi, cut/ripped\n",
      "Shoe ad, Focus on Wool shoes AllBirds Wool Pipers-Up, Timberland Mens Chocorua Trail Mid Waterproof Boot, Balmain, Flannel, Valentino Garavani, Cherry color color, Weightlifting Shoes, Split Stitch, Gingham, Formal, Collage, Packaging Design, Architectural Photography From Magazine, Visionary, Aesthetic, Cutting-Edge, Highly Detailed, Striking, Fish-Eye, Thomas Cole, Lisa Frank, Gustav Klimt, In An Underwater City, Cool Blues, Dramatic, Lime Color, Smiling Happy\n",
      "Shoe ad, Focus on Womens Wendy Corduroy, Puma RS-0, Prada, Brocade, Louis Vuitton, Red apple color color, Football Cleats, Fly Stitch, Floral, Playground, Storybook, Trending On Artstation, Innovative, Hyperrealistic, Dark Background, Rembrandt, Gustave Dore, Bronze Sculpture, Fairy Lights, Grape Color, Sweet Potato Color, posters showing the words wonderwoman by dr michelle tassos, in the style of pop culture collages, go nagai, creative commons attribution, simplistic vector art, puzzle-like pieces, ahmed morsi, cut/ripped, --v 5\n",
      "Shoe ad, Focus on AllBirds Tree Skippers, Asics Gel-Lyte III, Common Projects, Georgette, Marc Jacobs, Jalapeno pepper color color, Flip-flops, Raised Chain Band, Floral, Abstract Art, Pastel Drawing, Wondrous, Photorealistic, Rendered In Unreal Engine, Paul Gauguin, Captivating, Roaring Twenties\n",
      "Shoe ad, Focus on Womens Mistral, Puma Clyde, Prada, Broadcloth, Riccardo Tisci, Guava color color, Rain Boots, Lattice Stitch, Psychedelic, Architectural Photography From Magazine, Editorial Illustration, Unbelievable, Unforgettable, Digital Art, Fascinating, Impressive, Long Exposure, Norman Rockwell, Albert Bierstadt, Gainsborough, In A Tropical Paradise, Firelight, Rosemary Color, Lime Color, Enchanting, Art Nouveau Period\n",
      "Shoe ad, Focus on AllBirds Tree Lounger-Up, AllBirds Wool Jumper-Up Mizzles, Acne Studios, Silk, Burberry, Pear color color, Volleyball Shoes, Long and Short Stitch, Animal Print, Siena, Italy, Baroque, Romanticism, Contest Winner, State-Of-The-Art, Phenomenal, In A Wild West Town, Dusky Oranges, Thyme Color, Transitional, Papaya Color, a woman with the words wonder written in different parts, in the style of pop culture mashup, dc comics, cut/ripped, graphic design poster art, juxtapositions extraordinaire, detailed costumes, animated gifs\n",
      "Shoe ad, Focus on Wool shoes AllBirds Wool Skipper Mizzles-Up, Basketball shoes, Rick Owens, Poplin, Karl Lagerfeld, Papaya color color, Saddle Shoes, Rosette Chain Stitch, Geometric, Space, Catalog Design, Rendering, Low Angle View, Keith Haring, Hieronymus Bosch, Kahlo, The Emerald City, Mysterious, Contrasting, Metallic, Apricot Color, Red Onion Color, Optimistic, Civil Rights Movement, a woman with the words wonder written in different parts, in the style of pop culture mashup, dc comics, cut/ripped, graphic design poster art, juxtapositions extraordinaire, detailed costumes, animated gifs, --v 5, --v 5\n",
      "Shoe ad, Focus on Wool shoes AllBirds Tree Breezer Flats, Wool shoes AllBirds Wool Runner Mizzles, Christian Louboutin, Crepe, Valentino Garavani, Pear color color, Volleyball Shoes, Fishbone Stitch, Herringbone, Ancient Art, Line Art, Storybook, Top-Notch, Professional, Wide-Angle, Close-Up Shot, , Bronze Sculpture, Elegant, Contrasting, Dark\n",
      "Shoe ad, Focus on Flip-flops, Mens Wally B Stretch, Isabel Marant, Voile, Mary-Kate and Ashley Olsen, Cranberry color color, Slip-on Shoes, Raised Chain Band, Tartan, Pointillism, Babylonian Art, Incredible, Trailblazing, Arnold Render, Digital Art, High Angle, Lemon Color, women in wonder posters art print, in the style of boldly fragmented, superheroes, layered stencil work, letras y figuras, cut/ripped, blink-and-you-miss-it detail, dc comics, --v 5\n",
      "Shoe ad, Focus on Nike Air Max 1, Wool shoes AllBirds Wool Piper Mizzles, Dr. Martens, Poplin, Giorgio Armani, Persimmon color color, Logger Boots, Raised Fishbone Stitch, Damask, Playground, Cyberpunk, Kinetic Art, Masterpiece, Top-Notch, Plain Background, Lichtenstein, Thomas Kinkaid, Dean Cornwell, Arugula Color, Dreamy, --v 5, --v 5\n",
      "Shoe ad, Focus on Adidas Originals Tubular, Timberland PRO Mens 6 inch Excave Steel Toe, Versace, Voile, Thom Browne, Tangerine color color, Boat Shoes, Bullion Knot Stitch, Polka Dot, Calligraphy, Courtroom Sketch, Cinematography From Music Video, Unforgettable, Genius, Blender 3D, Parallel, Subject In Motion, Gericault, In A Haunted House, Dawn, Pearlescent, Spinach Color, Purple Carrot Color, Pear Color, Opaque, Intense, a woman with the words wonder written in different parts, in the style of pop culture mashup, dc comics, cut/ripped, graphic design poster art, juxtapositions extraordinaire, detailed costumes, animated gifs\n",
      "Shoe ad, Focus on Adidas Micropacer, Wool shoes AllBirds Wool Piper Mizzles, Reebok, Brocade, Jacquemus, Turnip color color, Combat Boots, Pistil Stitch, Camouflage, Kinetic Art, Hieroglyphics, Event Poster, Press Release, Full Shot, In A Parallel Universe, Streetlights, Ancient Rome, --v 5\n",
      "Shoe ad, Focus on Puma Disc Blaze, Slides, Under Armour, Brocade, Versace, Yellow bell pepper color color, Safety Shoes, Woven Wheel Stitch, Tattoo Print, Juice Bar, Gothic, Alegria, Wondrous, Outstanding, Rendered In Unreal Engine, Contest Winner, 360-Degree View, Vincent Van Gogh, Installation Art, Contrasting, Monochromatic, Cherry Color, Pale, Matte, Fierce, --v 5, --v 5\n",
      "Shoe ad, Focus on Adidas Yung-1, Rain Boots, Maison Margiela, Batiste, Donna Karan, Nectarine color color, Police Boots, Pistil Stitch, Cracked Ice, Fauvism, Glitchcore, Iconic, Arnold Render, Blender 3D, In The Distance, Slow Motion, Yoji Shinkawa, Sunset, Apricot Color, Iridescent, Black And White, Rosemary Color, Pastel, Moody, Colonial Era, women in wonder posters art print, in the style of boldly fragmented, superheroes, layered stencil work, letras y figuras, cut/ripped, blink-and-you-miss-it detail, dc comics, --v 5\n",
      "Shoe ad, Focus on Saddle shoes, AllBirds Wool Dasher-Up Mizzles, Rick Owens, Wool, Thom Browne, Beet color color, Nursing Shoes, Japanese Ribbon Stitch, Tropical, London, Uk, Social Media Campaign, Wireframe, Mind-Blowing, Inspiring, Masterpiece, Wow Factor, Through A Periscope, Extreme Wide Shot, Pablo Picasso, Craig Mullins, Duchamp, In A Steampunk World, Grapefruit Color, Lemon Color, Wild West, women in wonder posters art print, in the style of boldly fragmented, superheroes, layered stencil work, letras y figuras, cut/ripped, blink-and-you-miss-it detail, dc comics, --v 5\n",
      "Shoe ad, Focus on Adidas Dragon, Womens Mistral, Fendi, Organza, Valentino Garavani, Strawberry color color, Flip-flops, Split Stitch, Digital Print, Landmark, Futurism, Fashion Editorial, Typography Design, State-Of-The-Art, Skillful, Ultra High Poly, High Angle, Annie Leibovitz, Duchamp, Digital Painting, In A Castle, Nectarine Color, Sweet Potato Color, Passionate, --v 5\n",
      "Shoe ad, Focus on Soccer Cleats, Nike Air Max 90, Givenchy, Muslin, Marc Jacobs, Carrot color color, Logger Boots, Split Stitch, Animal Print, Platform 9 3/4 (Harry Potter), Remarkable, Magical, Extraordinary, Stunning, Charles Schulz, Cezanne, In A Science Laboratory, Glowing, Variegated, Pastel Pinks, Toned, Potato Color, Red Pepper Color, Space Age, women in wonder posters art print, in the style of boldly fragmented, superheroes, layered stencil work, letras y figuras, cut/ripped, blink-and-you-miss-it detail, dc comics, --v 5, --v 5\n",
      "Shoe ad, Focus on Puma NRGY, Nike Zoom Fly, Gucci, Voile, Rick Owens, Thyme color color, Nursing Shoes, Embroidery, Zigzag, Warsaw, Poland, Land Art, Classicism, Photoshopped Image, Decorative Minoan Mural, State-Of-The-Art, Vertical View, Photomontage, In A Futuristic Spaceship, Dynamic, Guava Color, Saturated, Green Pea Color, women in wonder posters art print, in the style of boldly fragmented, superheroes, layered stencil work, letras y figuras, cut/ripped, blink-and-you-miss-it detail, dc comics\n",
      "Shoe ad, Focus on Wool shoes AllBirds Tree Dashers, Adidas Crazy Explosive, Burberry, Canvas, Jimmy Choo, Cantaloupe color color, Military Boots, Coral Stitch, Pop Art, Art Deco, Cinematic, Promotional Video, Selfie, Fantastic, Highly Detailed, Remarkable, Unforgettable, Underwater, Night Photography, Gustav Klimt, Vermeer, Bacon, --v 5\n"
     ]
    }
   ],
   "source": [
    "output.clear()\n",
    "n = 33\n",
    "\n",
    "\n",
    "for i in range(n):\n",
    "    prompt = generate_random_shoe_prompt(camera_view_shoes, shoe_skus, shoe_brands, shoe_fabrics, designers, colorful_foods, shoe_types, stitches, clothing_patterns, places, styles, formats, boosters, perspectives, views, artists, mediums, environments, lights, colors, moods, decades, mj_prompts, mj_parameters)\n",
    "    output.append(prompt)\n",
    "\n",
    "for i in output:\n",
    "  print(i)"
   ]
  },
  {
   "cell_type": "markdown",
   "metadata": {
    "id": "ptJGH3Ij8dRL"
   },
   "source": [
    "## Prompt Playground\n",
    "\n",
    "Prompt enginnering is a lot of playing with prompt. Tools like Zebonastic Prompt Playground [https://www.etsy.com/shop/Zebonastic](https://www.etsy.com/shop/Zebonastic) , ChatGPT [https://chat.openai.com/](https://chat.openai.com/) and Bard [https://bard.google.com/](https://bard.google.com/) make it easy to come up with prompt possibilities.\n",
    "\n",
    "Most prompt are written in English so one will often remove or add elements from a prompt string based on what seems cool and makes sense. Midjoureny makes is super easy to render a prompt once written so there is little downside to just pasting a prompt into Midjourney and then upscaling it of you like it.\n",
    "\n",
    "Zebonastic [https://www.etsy.com/shop/Zebonastic](https://www.etsy.com/shop/Zebonastic) will start post its fav prompts with images in its $0.55 listings in the \"Prompts\" section of the store.\n"
   ]
  },
  {
   "cell_type": "code",
   "execution_count": null,
   "metadata": {
    "id": "2bOPJYKuD2iD"
   },
   "outputs": [],
   "source": [
    "import random\n",
    "\n",
    "def generate_random_prompt(subject, actions, places, styles, formats, boosters, perspectives, views, artists, mediums, environments, lights, colors, moods):\n",
    "    text = []\n",
    "\n",
    "    # Step 1: Subject\n",
    "    text.append(subject)\n",
    "\n",
    "    # Step 2: Action\n",
    "    if random.random() < 0.5:\n",
    "        action = random.choice(actions)\n",
    "        text.append(action)\n",
    "\n",
    "    # Step 3: Place\n",
    "    if random.random() < 0.5:\n",
    "        place = random.choice(places)\n",
    "        text.append(place)\n",
    "\n",
    "    # Step 4: Style\n",
    "    num_styles = random.randint(0, 2)\n",
    "    styles = random.sample(styles, num_styles)\n",
    "    text.extend(styles)\n",
    "\n",
    "    # Step 5: Format\n",
    "    num_formats = random.randint(0, 2)\n",
    "    formats = random.sample(formats, num_formats)\n",
    "    text.extend(formats)\n",
    "\n",
    "    # Step 6: Booster\n",
    "    num_boosters = random.randint(0, 5)\n",
    "    boosters = random.sample(boosters, num_boosters)\n",
    "    text.extend(boosters)\n",
    "\n",
    "    # Step 7: Perspective\n",
    "    if random.random() < 0.5:\n",
    "        perspective = random.choice(perspectives)\n",
    "        text.append(perspective)\n",
    "\n",
    "    # Step 8: View\n",
    "    if random.random() < 0.5:\n",
    "        view = random.choice(views)\n",
    "        text.append(view)\n",
    "\n",
    "    # Step 9: Artists\n",
    "    num_artists = random.randint(0, 3)\n",
    "    artists = random.sample(artists, num_artists)\n",
    "    text.extend(artists)\n",
    "\n",
    "    # Step 10: Medium\n",
    "    if random.random() < 0.5:\n",
    "        medium = random.choice(mediums)\n",
    "        text.append(medium)\n",
    "\n",
    "    # Step 11: Environment\n",
    "    if random.random() < 0.5:\n",
    "        environment = random.choice(environments)\n",
    "        text.append(environment)\n",
    "\n",
    "    # Step 12: Lighting\n",
    "    if random.random() < 0.5:\n",
    "        lighting = random.choice(lights)\n",
    "        text.append(lighting)\n",
    "\n",
    "    # Step 13: Color\n",
    "    num_colors = random.randint(0, 5)\n",
    "    colors = random.sample(colors, num_colors)\n",
    "    text.extend(colors)\n",
    "\n",
    "    # Step 14: Mood\n",
    "    if random.random() < 0.5:\n",
    "        mood = random.choice(moods)\n",
    "        text.append(mood)\n",
    "\n",
    "    return ', '.join(text)\n"
   ]
  },
  {
   "cell_type": "code",
   "execution_count": null,
   "metadata": {
    "colab": {
     "base_uri": "https://localhost:8080/"
    },
    "id": "Iig2x8euhbJ-",
    "outputId": "1a84f4ff-6a62-4e09-e50f-e981a0b7c986"
   },
   "outputs": [
    {
     "name": "stdout",
     "output_type": "stream",
     "text": [
      "Birju Maharaj\n",
      "Rukmini Devi Arundale\n",
      "Mallika Sarabhai\n",
      "Yamini Krishnamurthy\n",
      "Uday Shankar\n",
      "Birju Maharaj\n",
      "Sonal Mansingh\n",
      "Shovana Narayan\n",
      "Kelucharan Mohapatra\n",
      "Padma Subrahmanyam\n",
      "Raja and Radha Reddy\n",
      "Madhavi Mudgal\n",
      "Sharmila Biswas\n",
      "Alarmel Valli\n",
      "Bijayini Satpathy\n",
      "Anita Ratnam\n",
      "Meenakshi Seshadri\n",
      "Vyjayanthimala\n",
      "Mallika Sarabhai\n",
      "Padma Subrahmanyam\n",
      "Asha Sarath\n",
      "Priyadarshini Govind\n",
      "Prabhu Deva\n",
      "Sridharan Nair\n",
      "Shobana\n",
      "Malavika Sarukkai\n",
      "Leela Samson\n",
      "Anita Ratnam\n",
      "Chitra Visweswaran\n",
      "Sonal Mansingh\n",
      "Rama Vaidyanathan\n",
      "Sanjukta Panigrahi\n",
      "Sharmila Biswas\n",
      "Savitha Sastry\n",
      "Ratikant Mohapatra\n",
      "Swapnasundari\n",
      "Pandit Birju Maharaj\n",
      "Sujata Mohapatra\n",
      "Geeta Chandran\n",
      "Malika Pukhraj\n",
      "Saswati Sen\n",
      "Shampa Gopikrishna\n",
      "Yamini Krishnamurthy\n"
     ]
    }
   ],
   "source": [
    "indian_dancers = [\n",
    "    \"Birju Maharaj\",\n",
    "    \"Rukmini Devi Arundale\",\n",
    "    \"Mallika Sarabhai\",\n",
    "    \"Yamini Krishnamurthy\",\n",
    "    \"Uday Shankar\",\n",
    "    \"Birju Maharaj\",\n",
    "    \"Sonal Mansingh\",\n",
    "    \"Shovana Narayan\",\n",
    "    \"Kelucharan Mohapatra\",\n",
    "    \"Padma Subrahmanyam\",\n",
    "    \"Raja and Radha Reddy\",\n",
    "    \"Madhavi Mudgal\",\n",
    "    \"Sharmila Biswas\",\n",
    "    \"Alarmel Valli\",\n",
    "    \"Bijayini Satpathy\",\n",
    "    \"Anita Ratnam\",\n",
    "    \"Meenakshi Seshadri\",\n",
    "    \"Vyjayanthimala\",\n",
    "    \"Mallika Sarabhai\",\n",
    "    \"Padma Subrahmanyam\",\n",
    "    \"Asha Sarath\",\n",
    "    \"Priyadarshini Govind\",\n",
    "    \"Prabhu Deva\",\n",
    "    \"Sridharan Nair\",\n",
    "    \"Shobana\",\n",
    "    \"Malavika Sarukkai\",\n",
    "    \"Leela Samson\",\n",
    "    \"Anita Ratnam\",\n",
    "    \"Chitra Visweswaran\",\n",
    "    \"Sonal Mansingh\",\n",
    "    \"Rama Vaidyanathan\",\n",
    "    \"Sanjukta Panigrahi\",\n",
    "    \"Sharmila Biswas\",\n",
    "    \"Savitha Sastry\",\n",
    "    \"Ratikant Mohapatra\",\n",
    "    \"Swapnasundari\",\n",
    "    \"Pandit Birju Maharaj\",\n",
    "    \"Sujata Mohapatra\",\n",
    "    \"Geeta Chandran\",\n",
    "    \"Malika Pukhraj\",\n",
    "    \"Saswati Sen\",\n",
    "    \"Shampa Gopikrishna\",\n",
    "    \"Yamini Krishnamurthy\"\n",
    "]\n",
    "\n",
    "# Print the list of famous Indian dancers\n",
    "for dancer in indian_dancers:\n",
    "    print(dancer)\n"
   ]
  },
  {
   "cell_type": "markdown",
   "metadata": {
    "id": "YAlon5QxBtxG"
   },
   "source": [
    "## Superhero Nocturne prompts\n"
   ]
  },
  {
   "cell_type": "code",
   "execution_count": 1,
   "metadata": {
    "id": "FXl_r-J2k-JK"
   },
   "outputs": [],
   "source": [
    "superhero_inspiration_list = [\n",
    "    \"Thunderstrike\",\n",
    "    \"Shadowfire\",\n",
    "    \"Solaris\",\n",
    "    \"Velocity\",\n",
    "    \"Nightshade\",\n",
    "    \"Blaze\",\n",
    "    \"Frostbite\",\n",
    "    \"Eclipse\",\n",
    "    \"Silverstorm\",\n",
    "    \"Photon\",\n",
    "    \"Thunderstorm\",\n",
    "    \"Nova\",\n",
    "    \"Starburst\",\n",
    "    \"Ironclad\",\n",
    "    \"Seraph\",\n",
    "    \"Cyclone\",\n",
    "    \"Dragonheart\",\n",
    "    \"Radiant\",\n",
    "    \"Wildfire\",\n",
    "    \"Mirage\",\n",
    "    \"Sentinel\",\n",
    "    \"Tempest\",\n",
    "    \"Phoenix\",\n",
    "    \"Hyperion\",\n",
    "    \"Inferno\",\n",
    "    \"Thunderbolt\",\n",
    "    \"Quicksilver\",\n",
    "    \"Vortex\",\n",
    "    \"Iceblade\",\n",
    "    \"Chronos\",\n",
    "    \"Nightfall\",\n",
    "    \"Electro\",\n",
    "    \"Nebula\",\n",
    "    \"Firestorm\",\n",
    "    \"Steelhawk\",\n",
    "    \"Frostwind\",\n",
    "    \"Shadowstrike\",\n",
    "    \"Meteor\",\n",
    "    \"Crimson\",\n",
    "    \"Torrent\",\n",
    "    \"Silverwing\",\n",
    "    \"Psion\",\n",
    "    \"Driftwood\",\n",
    "    \"Gravity\",\n",
    "    \"Lunar\",\n",
    "    \"Blazeheart\",\n",
    "    \"Thunderclap\",\n",
    "    \"Radiance\",\n",
    "    \"Ember\",\n",
    "    \"Stormrider\",\n",
    "    \"Spectra\",\n",
    "    \"Frostbite\",\n",
    "    \"Firefly\",\n",
    "    \"Avalanche\",\n",
    "    \"Swiftwind\",\n",
    "    \"Vapor\",\n",
    "    \"Aether\",\n",
    "    \"Bladehawk\",\n",
    "    \"Nightwatcher\",\n",
    "    \"Solstice\",\n",
    "    \"Thunderbird\",\n",
    "    \"Quasar\",\n",
    "    \"Moonshadow\",\n",
    "    \"Pyro\",\n",
    "    \"Starstrike\",\n",
    "    \"Frostfire\",\n",
    "    \"Shadowstorm\",\n",
    "    \"Electra\",\n",
    "    \"Nebulae\",\n",
    "    \"Pyre\",\n",
    "    \"Tempestuous\",\n",
    "    \"Blitz\",\n",
    "    \"Meteorite\",\n",
    "    \"Silverfox\",\n",
    "    \"Blitzkrieg\",\n",
    "    \"Vortexia\",\n",
    "    \"Ignite\",\n",
    "    \"Whirlwind\",\n",
    "    \"Stardust\",\n",
    "    \"Shadowflame\",\n",
    "    \"Cyclonus\",\n",
    "    \"Phoenixfire\",\n",
    "    \"Thunderclaw\",\n",
    "    \"Prism\",\n",
    "    \"Frostfang\",\n",
    "    \"Arcane\",\n",
    "    \"Incendia\",\n",
    "    \"Spectral\",\n",
    "    \"Windchaser\",\n",
    "    \"Nightflare\",\n",
    "    \"Solarflare\",\n",
    "    \"Stormbringer\",\n",
    "    \"Crimsonwing\",\n",
    "    \"Aurora\",\n",
    "    \"Thunderstrike\",\n",
    "    \"Swiftblade\",\n",
    "    \"Frostbyte\",\n",
    "    \"Pyromancer\",\n",
    "    \"Shadowstrike\",\n",
    "    \"Quicksilver\"\n",
    "]\n"
   ]
  },
  {
   "cell_type": "code",
   "execution_count": 2,
   "metadata": {
    "id": "ip7px4r8z0UQ"
   },
   "outputs": [],
   "source": [
    "costume_material_list = [\n",
    "    \"Spandex\",\n",
    "    \"Leather\",\n",
    "    \"Velvet\",\n",
    "    \"Lycra\",\n",
    "    \"Silk\",\n",
    "    \"Satin\",\n",
    "    \"Denim\",\n",
    "    \"Sequins\",\n",
    "    \"Fur\",\n",
    "    \"Feathers\",\n",
    "    \"Latex\",\n",
    "    \"Mesh\",\n",
    "    \"Vinyl\",\n",
    "    \"Metallic\",\n",
    "    \"Tulle\",\n",
    "    \"Chiffon\",\n",
    "    \"Cotton\",\n",
    "    \"Wool\",\n",
    "    \"Linen\",\n",
    "    \"Polyester\",\n",
    "    \"Nylon\",\n",
    "    \"Felt\",\n",
    "    \"Suede\",\n",
    "    \"Brocade\",\n",
    "    \"Taffeta\",\n",
    "    \"Organza\",\n",
    "    \"Rayon\",\n",
    "    \"Knit\",\n",
    "    \"Charmeuse\",\n",
    "    \"Corduroy\",\n",
    "    \"Holographic\",\n",
    "    \"Tweed\",\n",
    "    \"Gingham\",\n",
    "    \"Twill\",\n",
    "    \"Sateen\",\n",
    "    \"Chenille\",\n",
    "    \"Jacquard\",\n",
    "    \"Terry cloth\",\n",
    "    \"Burlap\",\n",
    "    \"Cambric\",\n",
    "    \"Crepe\",\n",
    "    \"Damask\",\n",
    "    \"Flannel\",\n",
    "    \"Georgette\",\n",
    "    \"Muslin\",\n",
    "    \"Poplin\",\n",
    "    \"Sailcloth\",\n",
    "    \"Sateen\",\n",
    "    \"Batik\",\n",
    "    \"Calico\",\n",
    "    \"Canvas\",\n",
    "    \"Gabardine\",\n",
    "    \"Gauze\",\n",
    "    \"Herringbone\",\n",
    "    \"Houndstooth\",\n",
    "    \"Interlock\",\n",
    "    \"Jersey\",\n",
    "    \"Lawn\",\n",
    "    \"Madras\",\n",
    "    \"Oxford\",\n",
    "    \"Piqué\",\n",
    "    \"Plisse\",\n",
    "    \"Ripstop\",\n",
    "    \"Satinette\",\n",
    "    \"Shantung\",\n",
    "    \"Tencel\",\n",
    "    \"Terrycloth\",\n",
    "    \"Toile\",\n",
    "    \"Voile\",\n",
    "    \"Faille\",\n",
    "    \"Angora\",\n",
    "    \"Cashmere\",\n",
    "    \"Mohair\",\n",
    "    \"Tweed\",\n",
    "    \"Chinchilla\",\n",
    "    \"Alpaca\",\n",
    "    \"Camel hair\",\n",
    "    \"Boucle\",\n",
    "    \"Faux fur\",\n",
    "    \"Microfiber\",\n",
    "    \"Acrylic\",\n",
    "    \"Modal\",\n",
    "    \"Viscose\",\n",
    "    \"Bamboo\",\n",
    "    \"Ramie\",\n",
    "    \"Soy silk\",\n",
    "    \"Hemp\",\n",
    "    \"Cupro\",\n",
    "    \"Velour\",\n",
    "    \"Flannelette\",\n",
    "    \"Spunbond\",\n",
    "    \"Melton\",\n",
    "    \"Acetate\",\n",
    "    \"Fleece\",\n",
    "    \"Metallic\",\n",
    "    \"Beaded\",\n",
    "    \"Crushed velvet\",\n",
    "    \"Rhinestone\",\n",
    "    \"Brocade\",\n",
    "    \"Embroidered\",\n",
    "    \"Patent leather\",\n",
    "    \"Shimmer\",\n",
    "    \"Gore-Tex\",\n",
    "    \"Neoprene\"\n",
    "]\n"
   ]
  },
  {
   "cell_type": "code",
   "execution_count": 3,
   "metadata": {
    "id": "NKJIYgbGlVHg"
   },
   "outputs": [],
   "source": [
    "designer_list = [\n",
    "    \"Stella Van Der Linde\",\n",
    "    \"Milo Rivera\",\n",
    "    \"Aria Moretti\",\n",
    "    \"Elijah Thompson\",\n",
    "    \"Isabella Chen\",\n",
    "    \"Dominic Rodriguez\",\n",
    "    \"Sophia Patel\",\n",
    "    \"Maxwell Lee\",\n",
    "    \"Penelope Martinez\",\n",
    "    \"Gabriel Kim\",\n",
    "    \"Ava Singh\",\n",
    "    \"Lucas Wilson\",\n",
    "    \"Evelyn Wang\",\n",
    "    \"Oliver Garcia\",\n",
    "    \"Amelia Wright\",\n",
    "    \"Julian Nguyen\",\n",
    "    \"Lily Anderson\",\n",
    "    \"Sebastian Khan\",\n",
    "    \"Charlotte Lewis\",\n",
    "    \"Xavier Martin\",\n",
    "    \"Grace Taylor\",\n",
    "    \"Adrian Brown\",\n",
    "    \"Chloe Johnson\",\n",
    "    \"Leo Smith\",\n",
    "    \"Eleanor Davis\",\n",
    "    \"Alexander Thomas\",\n",
    "    \"Scarlett Wilson\",\n",
    "    \"Zachary Moore\",\n",
    "    \"Victoria Clark\",\n",
    "    \"Samuel Baker\",\n",
    "    \"Natalie Hall\",\n",
    "    \"Henry Young\",\n",
    "    \"Avery Thompson\",\n",
    "    \"Daniel White\",\n",
    "    \"Madison Walker\",\n",
    "    \"Christopher Scott\",\n",
    "    \"Harper Green\",\n",
    "    \"Andrew Adams\",\n",
    "    \"Ella Hill\",\n",
    "    \"Ryan Mitchell\",\n",
    "    \"Avery Turner\",\n",
    "    \"Benjamin Lewis\",\n",
    "    \"Sofia Young\",\n",
    "    \"Jonathan Turner\",\n",
    "    \"Mia Allen\",\n",
    "    \"David Lee\",\n",
    "    \"Abigail Davis\",\n",
    "    \"Nicholas Phillips\",\n",
    "    \"Aria Rodriguez\",\n",
    "    \"Jack Wright\",\n",
    "    \"Addison Wilson\",\n",
    "    \"Matthew Johnson\",\n",
    "    \"Elena Martinez\",\n",
    "    \"Wyatt Moore\",\n",
    "    \"Elizabeth Clark\",\n",
    "    \"Nathan Hall\",\n",
    "    \"Ella Martin\",\n",
    "    \"Samuel Thompson\",\n",
    "    \"Chloe Davis\",\n",
    "    \"Tyler Walker\",\n",
    "    \"Aurora Turner\",\n",
    "    \"James Young\",\n",
    "    \"Avery Allen\",\n",
    "    \"Joseph Adams\",\n",
    "    \"Lily Hill\",\n",
    "    \"Jackson Mitchell\",\n",
    "    \"Victoria Turner\",\n",
    "    \"David Lewis\",\n",
    "    \"Eva Phillips\",\n",
    "    \"Michael Rodriguez\",\n",
    "    \"Scarlett Wright\",\n",
    "    \"Benjamin Johnson\",\n",
    "    \"Emily Clark\",\n",
    "    \"Daniel Moore\",\n",
    "    \"Sophia Hall\",\n",
    "    \"Matthew Davis\",\n",
    "    \"Avery Martin\",\n",
    "    \"Gabriel Thompson\",\n",
    "    \"Aria Davis\",\n",
    "    \"Samuel Phillips\",\n",
    "    \"Mila Wilson\",\n",
    "    \"Alexander Young\",\n",
    "    \"Olivia Adams\",\n",
    "    \"Elijah Hill\",\n",
    "    \"Isabella Mitchell\",\n",
    "    \"Noah Turner\",\n",
    "    \"Charlotte Lewis\",\n",
    "    \"David Lee\",\n",
    "    \"Avery Walker\",\n",
    "    \"Joseph Turner\",\n",
    "    \"Emily Allen\",\n",
    "    \"Michael Adams\",\n",
    "    \"Scarlett Hill\",\n",
    "    \"Jonathan Mitchell\",\n",
    "    \"Amelia Turner\",\n",
    "    \"Daniel Lewis\",\n",
    "    \"Sofia Phillips\",\n",
    "    \"Christopher Rodriguez\",\n",
    "    \"Grace Wright\"\n",
    "]\n"
   ]
  },
  {
   "cell_type": "code",
   "execution_count": 4,
   "metadata": {
    "id": "tKLOe9u_ln8k"
   },
   "outputs": [],
   "source": [
    "costume_pattern_list = [\n",
    "    \"Zigzag\",\n",
    "    \"Leopard Print\",\n",
    "    \"Polka Dots\",\n",
    "    \"Stripes\",\n",
    "    \"Checkered\",\n",
    "    \"Tie-Dye\",\n",
    "    \"Camouflage\",\n",
    "    \"Houndstooth\",\n",
    "    \"Argyle\",\n",
    "    \"Paisley\",\n",
    "    \"Floral\",\n",
    "    \"Plaid\",\n",
    "    \"Geometric\",\n",
    "    \"Animal Print\",\n",
    "    \"Harlequin\",\n",
    "    \"Chevron\",\n",
    "    \"Gingham\",\n",
    "    \"Tribal\",\n",
    "    \"Digital\",\n",
    "    \"Abstract\",\n",
    "    \"Marble\",\n",
    "    \"Galaxy\",\n",
    "    \"Camo\",\n",
    "    \"Herringbone\",\n",
    "    \"Color Block\",\n",
    "    \"Hexagon\",\n",
    "    \"Starburst\",\n",
    "    \"Tartan\",\n",
    "    \"Wave\",\n",
    "    \"Retro\",\n",
    "    \"Feather\",\n",
    "    \"Lace\",\n",
    "    \"Ombre\",\n",
    "    \"Patchwork\",\n",
    "    \"Stained Glass\",\n",
    "    \"Psychedelic\",\n",
    "    \"Tropical\",\n",
    "    \"Circles\",\n",
    "    \"Grid\",\n",
    "    \"Diamond\",\n",
    "    \"Scales\",\n",
    "    \"Sunburst\",\n",
    "    \"Basketweave\",\n",
    "    \"Fleck\",\n",
    "    \"Wavy Lines\",\n",
    "    \"Stipple\",\n",
    "    \"Ripple\",\n",
    "    \"Zebra Print\",\n",
    "    \"Splash\",\n",
    "    \"Cloud\",\n",
    "    \"Flame\",\n",
    "    \"Wood Grain\",\n",
    "    \"Swirl\",\n",
    "    \"Brushstroke\",\n",
    "    \"Leaves\",\n",
    "    \"Fringe\",\n",
    "    \"Graffiti\",\n",
    "    \"Starry Night\",\n",
    "    \"Glossy\",\n",
    "    \"Rustic\",\n",
    "    \"Pop Art\",\n",
    "    \"Barcode\",\n",
    "    \"Cracked\",\n",
    "    \"Digital Camo\",\n",
    "    \"Speckled\",\n",
    "    \"Abstract Print\",\n",
    "    \"Honeycomb\",\n",
    "    \"Cork\",\n",
    "    \"Basketball Texture\",\n",
    "    \"Pixelated\",\n",
    "    \"Smoke\",\n",
    "    \"Rainbow\",\n",
    "    \"Cheetah Print\",\n",
    "    \"Flower Power\",\n",
    "    \"Tiger Stripes\",\n",
    "    \"Fish Scale\",\n",
    "    \"Camouflage Print\",\n",
    "    \"Lightning\",\n",
    "    \"Watercolor\",\n",
    "    \"Circuit\",\n",
    "    \"Brushed Metal\",\n",
    "    \"Snake Skin\",\n",
    "    \"Torn\",\n",
    "    \"Fishnet\",\n",
    "    \"Gingham Check\",\n",
    "    \"Pixel\",\n",
    "    \"Feather Print\",\n",
    "    \"Shattered\",\n",
    "    \"Tie-Dye Print\",\n",
    "    \"Plaid Print\",\n",
    "    \"Quilted\",\n",
    "    \"Mosaic\",\n",
    "    \"Leopard Print\",\n",
    "    \"Crackle\",\n",
    "    \"Starry\",\n",
    "    \"Zigzag Print\",\n",
    "    \"Grunge\",\n",
    "    \"Hexagon Print\",\n",
    "    \"Vortex\",\n",
    "    \"Camo Print\"\n",
    "]\n"
   ]
  },
  {
   "cell_type": "code",
   "execution_count": 6,
   "metadata": {
    "id": "gmUNsdC0mbEJ"
   },
   "outputs": [],
   "source": [
    "home_city_list = [\n",
    "    \"Metropolis\",\n",
    "    \"Gotham City\",\n",
    "    \"Star City\",\n",
    "    \"Central City\",\n",
    "    \"Atlantis\",\n",
    "    \"Wakanda\",\n",
    "    \"Themyscira\",\n",
    "    \"New York City\",\n",
    "    \"Los Angeles\",\n",
    "    \"London\",\n",
    "    \"Tokyo\",\n",
    "    \"Paris\",\n",
    "    \"Berlin\",\n",
    "    \"Moscow\",\n",
    "    \"Sydney\",\n",
    "    \"Rio de Janeiro\",\n",
    "    \"Cairo\",\n",
    "    \"Toronto\",\n",
    "    \"Chicago\",\n",
    "    \"Mexico City\",\n",
    "    \"Hong Kong\",\n",
    "    \"Mumbai\",\n",
    "    \"Cape Town\",\n",
    "    \"Rome\",\n",
    "    \"Dubai\",\n",
    "    \"Seoul\",\n",
    "    \"Istanbul\",\n",
    "    \"Nairobi\",\n",
    "    \"Bangkok\",\n",
    "    \"Amsterdam\",\n",
    "    \"Singapore\",\n",
    "    \"Barcelona\",\n",
    "    \"Vancouver\",\n",
    "    \"San Francisco\",\n",
    "    \"Dublin\",\n",
    "    \"Vienna\",\n",
    "    \"Stockholm\",\n",
    "    \"Madrid\",\n",
    "    \"Buenos Aires\",\n",
    "    \"Athens\",\n",
    "    \"Prague\",\n",
    "    \"São Paulo\",\n",
    "    \"Havana\",\n",
    "    \"Budapest\",\n",
    "    \"Beijing\",\n",
    "    \"Copenhagen\",\n",
    "    \"Helsinki\",\n",
    "    \"Reykjavik\",\n",
    "    \"Oslo\",\n",
    "    \"Lisbon\",\n",
    "    \"Jerusalem\",\n",
    "    \"Copenhagen\",\n",
    "    \"Wellington\",\n",
    "    \"Brussels\",\n",
    "    \"Warsaw\",\n",
    "    \"New Delhi\",\n",
    "    \"Lima\",\n",
    "    \"Helsinki\",\n",
    "    \"Zurich\",\n",
    "    \"Luxembourg City\",\n",
    "    \"Abu Dhabi\",\n",
    "    \"Panama City\",\n",
    "    \"Brasília\",\n",
    "    \"Kingston\",\n",
    "    \"Dakar\",\n",
    "    \"Bogotá\",\n",
    "    \"Manila\",\n",
    "    \"Phnom Penh\",\n",
    "    \"Kuala Lumpur\",\n",
    "    \"Jakarta\",\n",
    "    \"Santiago\",\n",
    "    \"Caracas\",\n",
    "    \"Hanoi\",\n",
    "    \"Manhattan\",\n",
    "    \"Queens\",\n",
    "    \"Brooklyn\",\n",
    "    \"Bronx\",\n",
    "    \"St. Petersburg\",\n",
    "    \"Cologne\",\n",
    "    \"Munich\",\n",
    "    \"Frankfurt\",\n",
    "    \"Hamburg\",\n",
    "    \"Auckland\",\n",
    "    \"Wellington\",\n",
    "    \"Melbourne\",\n",
    "    \"Perth\",\n",
    "    \"Adelaide\",\n",
    "    \"Brisbane\",\n",
    "    \"Cairns\",\n",
    "    \"Gold Coast\",\n",
    "    \"Darwin\",\n",
    "    \"Hobart\",\n",
    "    \"Christchurch\",\n",
    "    \"Queenstown\",\n",
    "    \"Auckland\",\n",
    "    \"Wellington\",\n",
    "    \"Melbourne\",\n",
    "    \"Perth\",\n",
    "    \"Adelaide\",\n",
    "    \"Brisbane\",\n",
    "    \"Cairns\",\n",
    "    \"Gold Coast\",\n",
    "    \"Darwin\",\n",
    "    \"Hobart\",\n",
    "    \"Christchurch\",\n",
    "    \"Queenstown\"\n",
    "]\n"
   ]
  },
  {
   "cell_type": "code",
   "execution_count": 7,
   "metadata": {
    "id": "9HABu7Ajmw_c"
   },
   "outputs": [],
   "source": [
    "style_list = [\n",
    "    \"Dark and mysterious\",\n",
    "    \"Edgy and cool\",\n",
    "    \"Mysterious and powerful\",\n",
    "    \"Classic and elegant\",\n",
    "    \"Sporty and stylish\",\n",
    "    \"Sleek and futuristic\",\n",
    "    \"Gritty and urban\",\n",
    "    \"Epic and grandiose\",\n",
    "    \"Bold and fearless\",\n",
    "    \"Dynamic and energetic\",\n",
    "    \"Savage and primal\",\n",
    "    \"Regal and majestic\",\n",
    "    \"Quirky and eccentric\",\n",
    "    \"Slick and sophisticated\",\n",
    "    \"Tech-inspired and cybernetic\",\n",
    "    \"Glamorous and fashionable\",\n",
    "    \"Stealthy and covert\",\n",
    "    \"Rugged and tough\",\n",
    "    \"Charming and charismatic\",\n",
    "    \"Whimsical and fantastical\",\n",
    "    \"High-tech and cutting-edge\",\n",
    "    \"Ethereal and otherworldly\",\n",
    "    \"Robust and muscular\",\n",
    "    \"Fierce and relentless\",\n",
    "    \"Mystical and enchanting\",\n",
    "    \"Futuristic and sleek\",\n",
    "    \"Elegant and graceful\",\n",
    "    \"Intense and brooding\",\n",
    "    \"Vibrant and colorful\",\n",
    "    \"Retro and nostalgic\",\n",
    "    \"Luminous and radiant\",\n",
    "    \"Sensual and seductive\",\n",
    "    \"Resilient and indomitable\",\n",
    "    \"Dynamic and acrobatic\",\n",
    "    \"Rugged and wild\",\n",
    "    \"Witty and clever\",\n",
    "    \"Powerful and commanding\",\n",
    "    \"Swift and agile\",\n",
    "    \"Chaotic and unpredictable\",\n",
    "    \"Sophisticated and refined\",\n",
    "    \"Daring and audacious\",\n",
    "    \"Gothic and macabre\",\n",
    "    \"Mythical and legendary\",\n",
    "    \"Effortless and suave\",\n",
    "    \"Enigmatic and enchanter\",\n",
    "    \"Bold and daring\",\n",
    "    \"Supernatural and occult\",\n",
    "    \"Epic and heroic\",\n",
    "    \"Modern and sleek\",\n",
    "    \"Gutsy and daring\",\n",
    "    \"Energetic and lively\",\n",
    "    \"Sassy and fierce\",\n",
    "    \"Vigilant and watchful\",\n",
    "    \"Free-spirited and rebellious\",\n",
    "    \"Cunning and resourceful\",\n",
    "    \"Futuristic and advanced\",\n",
    "    \"Graceful and nimble\",\n",
    "    \"Audacious and adventurous\",\n",
    "    \"Intriguing and enigmatic\",\n",
    "    \"Dynamic and forceful\",\n",
    "    \"Majestic and awe-inspiring\",\n",
    "    \"Fearless and relentless\",\n",
    "    \"Cutting-edge and innovative\",\n",
    "    \"Efficient and precise\",\n",
    "    \"Heroic and valiant\",\n",
    "    \"Sleek and polished\",\n",
    "    \"Elegant and timeless\",\n",
    "    \"Unconventional and eccentric\",\n",
    "    \"Bold and powerful\",\n",
    "    \"Enigmatic and mysterious\",\n",
    "    \"Spirited and lively\",\n",
    "    \"Masterful and skilled\",\n",
    "    \"Ethereal and graceful\",\n",
    "    \"Resolute and determined\",\n",
    "    \"Rebellious and defiant\",\n",
    "    \"Fierce and ferocious\",\n",
    "    \"Timeless and classic\",\n",
    "    \"Sleek and stylish\",\n",
    "    \"Daring and brave\",\n",
    "    \"Glamorous and charismatic\",\n",
    "    \"Energetic and daring\",\n",
    "    \"Savage and primal\",\n",
    "    \"Mysterious and alluring\",\n",
    "    \"Regal and dignified\",\n",
    "    \"Innovative and cutting-edge\",\n",
    "    \"Sophisticated and suave\",\n",
    "    \"Vibrant and dynamic\",\n",
    "    \"Bold and audacious\",\n",
    "    \"Epic and monumental\",\n",
    "    \"Elegant and refined\",\n",
    "    \"Edgy and rebellious\",\n",
    "    \"Mystical and ethereal\",\n",
    "    \"Powerful and dominant\",\n",
    "    \"Graceful and fluid\",\n",
    "    \"Iconic and legendary\",\n",
    "    \"Dashing and debonair\",\n",
    "    \"Intenseand brooding\",\n",
    "    \"Sleek and powerful\",\n",
    "    \"Unpredictable and enigmatic\",\n",
    "    \"Fearless and tenacious\",\n",
    "    \"Futuristic and sleek\",\n",
    "    \"Dynamic and agile\",\n",
    "    \"Charming and suave\",\n",
    "    \"Spirited and adventurous\",\n",
    "    \"Bold and daring\",\n",
    "    \"Intriguing and mysterious\",\n",
    "    \"Regal and majestic\",\n",
    "    \"Energetic and vibrant\",\n",
    "    \"Rebellious and fierce\",\n",
    "    \"Masterful and skilled\",\n",
    "    \"Ethereal and enchanting\",\n",
    "    \"Sleek and polished\",\n",
    "    \"Daring and heroic\",\n",
    "    \"Glamorous and captivating\",\n",
    "    \"Fearless and unstoppable\",\n",
    "    \"Dynamic and intense\",\n",
    "    \"Bold and powerful\",\n",
    "    \"Epic and awe-inspiring\",\n",
    "    \"Sensual and seductive\",\n",
    "    \"Mystical and mystical\",\n",
    "    \"Resilient and indomitable\",\n",
    "    \"Swift and nimble\",\n",
    "    \"Sophisticated and refined\",\n",
    "    \"Elegant and timeless\",\n",
    "    \"Gutsy and audacious\",\n",
    "    \"Vibrant and energetic\",\n",
    "    \"Sassy and charismatic\",\n",
    "    \"Vigilant and watchful\",\n",
    "    \"Unconventional and rebellious\",\n",
    "    \"Cunning and resourceful\",\n",
    "    \"Cutting-edge and futuristic\",\n",
    "    \"Graceful and agile\",\n",
    "    \"Audacious and adventurous\",\n",
    "    \"Intriguing and enigmatic\",\n",
    "    \"Dynamic and forceful\",\n",
    "    \"Majestic and awe-inspiring\",\n",
    "    \"Fearless and relentless\",\n",
    "    \"Efficient and innovative\",\n",
    "    \"Heroic and valiant\",\n",
    "    \"Sleek and polished\",\n",
    "    \"Elegant and timeless\",\n",
    "    \"Unconventional and eccentric\",\n",
    "    \"Bold and powerful\",\n",
    "    \"Enigmatic and mysterious\",\n",
    "    \"Spirited and lively\",\n",
    "    \"Masterful and skilled\",\n",
    "    \"Ethereal and graceful\",\n",
    "    \"Resolute and determined\",\n",
    "    \"Rebellious and defiant\",\n",
    "    \"Fierce and ferocious\",\n",
    "    \"Timeless and classic\",\n",
    "    \"Sleek and stylish\",\n",
    "    \"Daring and brave\",\n",
    "    \"Glamorous and charismatic\",\n",
    "    \"Energetic and daring\",\n",
    "    \"Savage and primal\",\n",
    "    \"Mysterious and alluring\",\n",
    "    \"Regal and dignified\",\n",
    "    \"Innovative and cutting-edge\",\n",
    "    \"Sophisticated and suave\",\n",
    "    \"Vibrant and dynamic\",\n",
    "    \"Bold and audacious\",\n",
    "    \"Epic and monumental\",\n",
    "    \"Elegant and refined\",\n",
    "    \"Edgy and rebellious\",\n",
    "    \"Mystical and ethereal\",\n",
    "    \"Powerful and dominant\",\n",
    "    \"Graceful and fluid\",\n",
    "    \"Iconic and legendary\",\n",
    "    \"Dashing and debonair\",\n",
    "    \"Intense and electrifying\"\n",
    "]\n"
   ]
  },
  {
   "cell_type": "code",
   "execution_count": 8,
   "metadata": {
    "id": "h3Xr-N42nVG7"
   },
   "outputs": [],
   "source": [
    "signature_power_list = [\n",
    "    \"Super strength\",\n",
    "    \"Flight\",\n",
    "    \"Invisibility\",\n",
    "    \"Healing factor\",\n",
    "    \"Web-slinging\",\n",
    "    \"Telekinesis\",\n",
    "    \"Energy manipulation\",\n",
    "    \"Time manipulation\",\n",
    "    \"Teleportation\",\n",
    "    \"Super speed\",\n",
    "    \"Force fields\",\n",
    "    \"Molecular manipulation\",\n",
    "    \"Shape-shifting\",\n",
    "    \"Pyrokinesis\",\n",
    "    \"Ice manipulation\",\n",
    "    \"Electrokinesis\",\n",
    "    \"Mind control\",\n",
    "    \"Phasing through objects\",\n",
    "    \"Elasticity\",\n",
    "    \"Intangibility\",\n",
    "    \"X-ray vision\",\n",
    "    \"Super agility\",\n",
    "    \"Animal communication\",\n",
    "    \"Precognition\",\n",
    "    \"Size manipulation\",\n",
    "    \"Aquatic adaptation\",\n",
    "    \"Super intelligence\",\n",
    "    \"Technopathy\",\n",
    "    \"Gravity manipulation\",\n",
    "    \"Sound manipulation\",\n",
    "    \"Plant manipulation\",\n",
    "    \"Earth manipulation\",\n",
    "    \"Magnetism manipulation\",\n",
    "    \"Illusion casting\",\n",
    "    \"Toxic immunity\",\n",
    "    \"Weather control\",\n",
    "    \"Enhanced senses\",\n",
    "    \"Shadow manipulation\",\n",
    "    \"Light manipulation\",\n",
    "    \"Sonic scream\",\n",
    "    \"Time travel\",\n",
    "    \"Dimensional travel\",\n",
    "    \"Density control\",\n",
    "    \"Clairvoyance\",\n",
    "    \"Bioluminescence\",\n",
    "    \"Force projection\",\n",
    "    \"Holographic projection\",\n",
    "    \"Energy blasts\",\n",
    "    \"Regeneration\",\n",
    "    \"Psychic abilities\",\n",
    "    \"Summoning\",\n",
    "    \"Intuitive aptitude\",\n",
    "    \"Dream manipulation\",\n",
    "    \"Probability manipulation\",\n",
    "    \"Acid manipulation\",\n",
    "    \"Super durability\",\n",
    "    \"Sonic speed\",\n",
    "    \"Infrared vision\",\n",
    "    \"Adaptive camouflage\",\n",
    "    \"Night vision\",\n",
    "    \"Power mimicry\",\n",
    "    \"Poison generation\",\n",
    "    \"Mirror manipulation\",\n",
    "    \"Force absorption\",\n",
    "    \"Emotional manipulation\",\n",
    "    \"Chronokinesis\",\n",
    "    \"Artificial intelligence\",\n",
    "    \"Gravity manipulation\",\n",
    "    \"Supernatural strength\",\n",
    "    \"Laser vision\",\n",
    "    \"Portal creation\",\n",
    "    \"Super hearing\",\n",
    "    \"Hyper senses\",\n",
    "    \"Duplication\",\n",
    "    \"Force manipulation\",\n",
    "    \"Energy absorption\",\n",
    "    \"Sonar\",\n",
    "    \"Probability field manipulation\",\n",
    "    \"Echolocation\",\n",
    "    \"Magic manipulation\",\n",
    "    \"Psychometry\",\n",
    "    \"Empathy\",\n",
    "    \"Terrakinesis\",\n",
    "    \"Feline agility\",\n",
    "    \"Power nullification\",\n",
    "    \"Force blasts\",\n",
    "    \"Weapon mastery\",\n",
    "    \"Swordsmanship\",\n",
    "    \"Electromagnetism\",\n",
    "    \"Power mimicry\",\n",
    "    \"Technological manipulation\",\n",
    "    \"Soul manipulation\",\n",
    "    \"Dimensional manipulation\",\n",
    "    \"Adaptive regeneration\",\n",
    "    \"Gravity control\",\n",
    "    \"Energy shields\",\n",
    "    \"Electroreception\",\n",
    "    \"Heat vision\",\n",
    "    \"Hyperkinesis\",\n",
    "    \"Chronomancy\",\n",
    "    \"Enhanced reflexes\",\n",
    "    \"Bio-electric manipulation\",\n",
    "    \"Psychokinesis\",\n",
    "    \"Photokinesis\",\n",
    "    \"Nanokinesis\",\n",
    "    \"Probability field manipulation\",\n",
    "    \"Energy constructs\"\n",
    "]\n"
   ]
  },
  {
   "cell_type": "code",
   "execution_count": 9,
   "metadata": {
    "id": "QD_lVe-EoAgP"
   },
   "outputs": [],
   "source": [
    "plot_list = [\n",
    "    \"The superhero battles a powerful supervillain in a city engulfed in chaos.\",\n",
    "    \"The superhero discovers a hidden underground lair filled with dangerous experiments.\",\n",
    "    \"The superhero races against time to defuse a bomb threatening a crowded stadium.\",\n",
    "    \"The superhero must protect innocent civilians from an alien invasion.\",\n",
    "    \"The superhero uncovers a conspiracy within the government that threatens the world.\",\n",
    "    \"The superhero undergoes intense training to master a new superpower.\",\n",
    "    \"The superhero confronts a personal nemesis from their past.\",\n",
    "    \"The superhero saves a group of trapped miners from a collapsed tunnel.\",\n",
    "    \"The superhero teams up with other heroes to form a powerful alliance against a common enemy.\",\n",
    "    \"The superhero must find a cure for a deadly virus sweeping through the city.\",\n",
    "    \"The superhero discovers a hidden society of extraordinary beings with their own agendas.\",\n",
    "    \"The superhero faces a moral dilemma when a loved one becomes a supervillain.\",\n",
    "    \"The superhero battles an army of mind-controlled robots controlled by a mastermind.\",\n",
    "    \"The superhero's secret identity is at risk of being exposed, leading to a dangerous confrontation.\",\n",
    "    \"The superhero travels through time to prevent a catastrophic event from altering history.\",\n",
    "    \"The superhero must overcome their greatest fear to save the city from destruction.\",\n",
    "    \"The superhero protects a young prodigy with incredible powers from falling into the wrong hands.\",\n",
    "    \"The superhero faces off against a rival hero with conflicting ideals.\",\n",
    "    \"The superhero must retrieve a stolen artifact with unimaginable power before it falls into the wrong hands.\",\n",
    "    \"The superhero's powers are mysteriously weakened, forcing them to find a way to restore them.\",\n",
    "    \"The superhero delves into the criminal underworld to dismantle a powerful crime syndicate.\",\n",
    "    \"The superhero races against a ticking clock to rescue hostages from a high-tech skyscraper.\",\n",
    "    \"The superhero gains a new ally with unique abilities, but they may not be trustworthy.\",\n",
    "    \"The superhero's arch-nemesis unveils a sinister plan to dominate the world, leading to an epic showdown.\",\n",
    "    \"The superhero must protect a young orphan with a hidden connection to their past.\",\n",
    "    \"The superhero discovers a secret society of ancient warriors and becomes their reluctant leader.\",\n",
    "    \"The superhero must prevent a catastrophic natural disaster caused by a rogue elemental being.\",\n",
    "    \"The superhero confronts their own inner demons in a surreal dreamscape.\",\n",
    "    \"The superhero uncovers a hidden plot to control the world through mind control technology.\",\n",
    "    \"The superhero races against a deadly poison spreading through the city's water supply.\",\n",
    "    \"The superhero must navigate a treacherous maze of illusions to save a trapped group of heroes.\",\n",
    "    \"The superhero battles an army of genetically enhanced soldiers created by a mad scientist.\",\n",
    "    \"The superhero must infiltrate a high-security facility to retrieve stolen classified information.\",\n",
    "    \"The superhero's powers are temporarily swapped with a fellow hero, leading to unexpected challenges.\",\n",
    "    \"The superhero is hunted by a relentless bounty hunter with their own superhuman abilities.\",\n",
    "    \"The superhero discovers an ancient artifact that grants them incredible strength, but at a cost.\",\n",
    "    \"The superhero must rescue a kidnapped scientist whose invention could change the world.\",\n",
    "    \"The superhero faces a team of supervillains with diverse powers and abilities.\",\n",
    "    \"The superhero must confront their own dark side manifesting as a malevolent alter ego.\",\n",
    "    \"The superhero battles a group of rogue cyborgs intent on world domination.\",\n",
    "    \"The superhero joins forces with a reformed supervillain to take down a common enemy.\",\n",
    "    \"The superhero must protect a mystical relic from falling into the hands of a powerful sorcerer.\"\n",
    "]\n",
    "\n",
    "\n",
    "\n",
    "\n",
    "\n"
   ]
  },
  {
   "cell_type": "code",
   "execution_count": 10,
   "metadata": {
    "id": "CkavsEx1qLtU"
   },
   "outputs": [],
   "source": [
    "lighting = [\n",
    "    \"Soft sunlight\",\n",
    "    \"Golden hour\",\n",
    "    \"Backlit silhouette\",\n",
    "    \"Dramatic low-key\",\n",
    "    \"Harsh midday sun\",\n",
    "    \"Colorful sunset\",\n",
    "    \"Misty morning\",\n",
    "    \"Rainy day\",\n",
    "    \"Moody overcast\",\n",
    "    \"Dynamic shadows\",\n",
    "    \"Indoor studio lighting\",\n",
    "    \"Candlelight\",\n",
    "    \"Neon lights\",\n",
    "    \"Firelight\",\n",
    "    \"Starlight\",\n",
    "    \"Glowing moonlight\",\n",
    "    \"Underwater lighting\",\n",
    "    \"Cityscape at night\",\n",
    "    \"Stormy lightning\",\n",
    "    \"Flashing strobe lights\",\n",
    "    \"Flickering torches\",\n",
    "    \"Sunrise on a mountaintop\",\n",
    "    \"Cloudy sky with soft light\",\n",
    "    \"Spotlight\",\n",
    "    \"Foggy atmosphere\",\n",
    "    \"Sunbeams through clouds\",\n",
    "    \"Glistening raindrops\",\n",
    "    \"Reflected light on water\",\n",
    "    \"Softbox lighting\",\n",
    "    \"Crepuscular rays\",\n",
    "    \"Moonlit forest\",\n",
    "    \"Spotlight from below\",\n",
    "    \"Streetlights at twilight\",\n",
    "    \"Bonfire\",\n",
    "    \"Glowing embers\",\n",
    "    \"Twinkling starry sky\",\n",
    "    \"Dim candlelight\",\n",
    "    \"Underground cave lighting\",\n",
    "    \"Laser lights\",\n",
    "    \"Aurora borealis\",\n",
    "    \"Gloomy dungeon lighting\",\n",
    "    \"Magical glow\",\n",
    "    \"Electric sparks\",\n",
    "    \"Sunset over the ocean\",\n",
    "    \"Mystical moonlight\",\n",
    "    \"Underground subway lighting\",\n",
    "    \"Flash photography\",\n",
    "    \"Tropical sunrise\",\n",
    "    \"Nightclub strobe lights\",\n",
    "    \"Glowing crystals\",\n",
    "    \"Soft sidelight\",\n",
    "    \"Fluorescent lighting\",\n",
    "    \"City skyline at dusk\",\n",
    "    \"Campfire\",\n",
    "    \"Rays of light through trees\",\n",
    "    \"Lantern light\",\n",
    "    \"Glittering disco lights\",\n",
    "    \"Sparkling fireworks\",\n",
    "    \"Vintage lamp lighting\",\n",
    "    \"Underwater bioluminescence\",\n",
    "    \"Sunset over a skyscraper\",\n",
    "    \"Bright stadium lights\",\n",
    "    \"Candlelit chandelier\",\n",
    "    \"Glistening ice\",\n",
    "    \"Fluorescent body paint\",\n",
    "    \"Sunset on a beach\",\n",
    "    \"Solar eclipse\",\n",
    "    \"Flashlight beam\",\n",
    "    \"Blinding snow reflection\",\n",
    "    \"Soft candlelight\",\n",
    "    \"Sunset through a window\",\n",
    "    \"Northern lights\",\n",
    "    \"Flashing police lights\",\n",
    "    \"Glowing lava\",\n",
    "    \"Spotlight from above\",\n",
    "    \"Carnival lights\",\n",
    "    \"Glow sticks\",\n",
    "    \"Mysterious moonlit alley\",\n",
    "    \"Fireworks in the night sky\",\n",
    "    \"Twilight sky with pastel hues\",\n",
    "    \"Dappled sunlight through leaves\",\n",
    "    \"Bioluminescent forest\",\n",
    "    \"Fire escape stairwell\",\n",
    "    \"Glowing computer screen\",\n",
    "    \"Street lamp illumination\",\n",
    "    \"Shimmering desert heat\",\n",
    "    \"Rooftop sunset\",\n",
    "    \"Candle-lit room\",\n",
    "    \"Disco ball reflections\",\n",
    "    \"Moonlit rooftop\",\n",
    "    \"Burning building backdrop\",\n",
    "    \"Crackling lightning\",\n",
    "    \"Soft glow from a potion\",\n",
    "    \"Industrial fluorescent lighting\",\n",
    "    \"Crescent moonlight\",\n",
    "    \"Rainbow prism effect\",\n",
    "    \"Spotlight through fog\",\n",
    "    \"Glowing alien technology\",\n",
    "    \"Candlelit library\",\n",
    "    \"Twilight over a lake\",\n",
    "    \"Flashing arcade lights\",\n",
    "    \"Car headlights at night\",\n",
    "    \"Burning car wreckage\",\n",
    "    \"Underground tunnel lighting\",\n",
    "    \"Dusk on a rooftop\",\n",
    "\n",
    "]\n"
   ]
  },
  {
   "cell_type": "code",
   "execution_count": 11,
   "metadata": {
    "id": "V2uky4Ggq85X"
   },
   "outputs": [],
   "source": [
    "colors = [\n",
    "    \"Red\",\n",
    "    \"Blue\",\n",
    "    \"Green\",\n",
    "    \"Yellow\",\n",
    "    \"Orange\",\n",
    "    \"Purple\",\n",
    "    \"Pink\",\n",
    "    \"Black\",\n",
    "    \"White\",\n",
    "    \"Gray\",\n",
    "    \"Brown\",\n",
    "    \"Teal\",\n",
    "    \"Cyan\",\n",
    "    \"Magenta\",\n",
    "    \"Lime\",\n",
    "    \"Gold\",\n",
    "    \"Silver\",\n",
    "    \"Bronze\",\n",
    "    \"Indigo\",\n",
    "    \"Ruby\",\n",
    "    \"Sapphire\",\n",
    "    \"Emerald\",\n",
    "    \"Amber\",\n",
    "    \"Crimson\",\n",
    "    \"Turquoise\",\n",
    "    \"Ivory\",\n",
    "    \"Ebony\",\n",
    "    \"Pearl\",\n",
    "    \"Onyx\",\n",
    "    \"Opal\",\n",
    "    \"Jade\",\n",
    "    \"Amethyst\",\n",
    "    \"Garnet\",\n",
    "    \"Topaz\",\n",
    "    \"Aquamarine\",\n",
    "    \"Saffron\",\n",
    "    \"Coral\",\n",
    "    \"Platinum\",\n",
    "    \"Slate\",\n",
    "    \"Cerulean\",\n",
    "    \"Olive\",\n",
    "    \"Maroon\",\n",
    "    \"Mauve\",\n",
    "    \"Periwinkle\",\n",
    "    \"Lavender\",\n",
    "    \"Tangerine\",\n",
    "    \"Mint\",\n",
    "    \"Peach\",\n",
    "    \"Violet\",\n",
    "    \"Champagne\",\n",
    "    \"Rose\",\n",
    "    \"Charcoal\",\n",
    "    \"Mulberry\",\n",
    "    \"Lilac\",\n",
    "    \"Cobalt\",\n",
    "    \"Sky Blue\",\n",
    "    \"Azure\",\n",
    "    \"Rust\",\n",
    "    \"Mustard\",\n",
    "    \"Denim\",\n",
    "    \"Magenta\",\n",
    "    \"Cyan\",\n",
    "    \"Lemon\",\n",
    "    \"Seafoam\",\n",
    "    \"Chestnut\",\n",
    "    \"Slate Gray\",\n",
    "    \"Silver Gray\",\n",
    "    \"Steel Blue\",\n",
    "    \"Lime Green\",\n",
    "    \"Olive Green\",\n",
    "    \"Forest Green\",\n",
    "    \"Teal Green\",\n",
    "    \"Burnt Orange\",\n",
    "    \"Mellow Yellow\",\n",
    "    \"Cherry Red\",\n",
    "    \"Raspberry\",\n",
    "    \"Pumpkin\",\n",
    "    \"Terra Cotta\",\n",
    "    \"Brick Red\",\n",
    "    \"Copper\",\n",
    "    \"Midnight Blue\",\n",
    "    \"Navy Blue\",\n",
    "    \"Sunset Orange\",\n",
    "    \"Sunflower Yellow\",\n",
    "    \"Sage Green\",\n",
    "    \"Cinnamon\",\n",
    "    \"Rose Gold\",\n",
    "    \"Peacock Blue\",\n",
    "    \"Salmon\",\n",
    "    \"Apricot\",\n",
    "    \"Magenta Pink\",\n",
    "    \"Lavender Purple\",\n",
    "    \"Plum\",\n",
    "    \"Goldenrod\",\n",
    "    \"Caramel\",\n",
    "    \"Butterscotch\",\n",
    "    \"Limeade\",\n",
    "    \"Emerald Green\",\n",
    "    \"Powder Blue\",\n",
    "    \"Royal Blue\",\n",
    "    \"Tropical Orange\",\n",
    "    \"Golden Yellow\",\n",
    "    \"Pewter\",\n",
    "    \"Stone Gray\",\n",
    "    \"Mist Gray\",\n",
    "    \"Burgundy\"\n",
    "]\n"
   ]
  },
  {
   "cell_type": "code",
   "execution_count": 12,
   "metadata": {
    "id": "-NrD-bpztGro"
   },
   "outputs": [],
   "source": [
    "era = [\n",
    "    \"1930\", \"1940\", \"1950\", \"1960\", \"1970\", \"1980\", \"1990\", \"2000\", \"2010\", \"2020\",\n",
    "    \"2030\", \"2040\", \"2050\", \"2060\", \"2070\", \"2080\", \"2090\", \"2100\", \"2110\", \"2120\",\n",
    "    \"2130\", \"2140\", \"2150\", \"2160\", \"2170\", \"2180\", \"2190\", \"2200\", \"2210\", \"2220\",\n",
    "    \"2230\", \"2240\", \"2250\", \"2260\", \"2270\", \"2280\", \"2290\", \"2300\", \"2310\", \"2320\",\n",
    "    \"2330\", \"2340\", \"2350\", \"2360\", \"2370\", \"2380\", \"2390\", \"2400\", \"2410\", \"2420\",\n",
    "    \"2430\", \"2440\", \"2450\", \"2460\", \"2470\", \"2480\", \"2490\", \"2500\", \"2510\", \"2520\",\n",
    "    \"2530\", \"2540\", \"2550\", \"2560\", \"2570\", \"2580\", \"2590\", \"2600\", \"2610\", \"2620\",\n",
    "    \"2630\", \"2640\", \"2650\", \"2660\", \"2670\", \"2680\", \"2690\", \"2700\", \"2710\", \"2720\",\n",
    "    \"2730\", \"2740\", \"2750\", \"2760\", \"2770\", \"2780\", \"2790\", \"2800\", \"2810\", \"2820\",\n",
    "    \"2830\", \"2840\", \"2850\", \"2860\", \"2870\", \"2880\", \"2890\", \"2900\", \"2910\", \"2920\",\n",
    "    \"2930\", \"2940\", \"2950\", \"2960\", \"2970\", \"2980\", \"2990\", \"3000\", \"3010\", \"3020\"\n",
    "]\n"
   ]
  },
  {
   "cell_type": "code",
   "execution_count": 18,
   "metadata": {
    "id": "lbuOP7pCtnLY"
   },
   "outputs": [],
   "source": [
    "import random\n",
    "\n",
    "def generate_random_prompt(superhero_inspiration_list, costume_material_list, designer_list, costume_pattern_list,\n",
    "                          home_city_list, style_list, signature_power_list, plot_list, lighting, colors, era):\n",
    "    prompt = []\n",
    "\n",
    "    prompt.append(\"hs3\")\n",
    "\n",
    "    prompt.append(\"Superhero Nocturne\")\n",
    "\n",
    "    # Step 1: Superhero Inspiration\n",
    "    superhero_inspiration = random.choice(superhero_inspiration_list)\n",
    "    prompt.append(superhero_inspiration)\n",
    "\n",
    "    # Step 2: Costume Material\n",
    "    costume_material = random.choice(costume_material_list)\n",
    "    prompt.append(costume_material)\n",
    "\n",
    "    # Step 3: Designer\n",
    "    designer = random.choice(designer_list)\n",
    "    prompt.append(designer)\n",
    "\n",
    "    # Step 4: Costume Pattern\n",
    "    costume_pattern = random.choice(costume_pattern_list)\n",
    "    prompt.append(costume_pattern)\n",
    "\n",
    "    # Step 5: Home City\n",
    "    home_city = random.choice(home_city_list)\n",
    "    prompt.append(home_city)\n",
    "\n",
    "    # Step 6: Style\n",
    "    num_styles = random.randint(0, 2)\n",
    "    styles = random.sample(style_list, num_styles)\n",
    "    prompt.extend(styles)\n",
    "\n",
    "    # Step 7: Signature Power\n",
    "    signature_power = random.choice(signature_power_list)\n",
    "    prompt.append(signature_power)\n",
    "\n",
    "    # Step 8: Plot\n",
    "    plot = random.choice(plot_list)\n",
    "    prompt.append(plot)\n",
    "\n",
    "    # Step 9: Lighting\n",
    "    lighting_choice = random.choice(lighting)\n",
    "    prompt.append(lighting_choice)\n",
    "\n",
    "    # Step 10: Colors\n",
    "    num_colors = random.randint(0, 3)\n",
    "    colors_choice = random.sample(colors, num_colors)\n",
    "    prompt.extend(colors_choice)\n",
    "\n",
    "    # Step 11: Era\n",
    "    era_choice = random.choice(era)\n",
    "    prompt.append(str(era_choice))\n",
    "\n",
    "    return ', '.join(prompt)\n",
    "\n",
    "\n",
    "random_prompt = generate_random_prompt(superhero_inspiration_list, costume_material_list, designer_list,\n",
    "                                      costume_pattern_list, home_city_list, style_list, signature_power_list,\n",
    "                                      plot_list, lighting, colors, era)\n",
    "\n"
   ]
  },
  {
   "cell_type": "markdown",
   "metadata": {
    "id": "ut2COjy0CPBI"
   },
   "source": [
    "## Prompts for Superhero Nocturne\n"
   ]
  },
  {
   "cell_type": "code",
   "execution_count": 19,
   "metadata": {
    "colab": {
     "base_uri": "https://localhost:8080/"
    },
    "id": "LnvvJjU_u5sV",
    "outputId": "7b7ba5d5-cb23-47ec-f475-08ca06cd226c"
   },
   "outputs": [
    {
     "data": {
      "text/plain": [
       "['hs3, Superhero Nocturne, Dragonheart, Piqué, Scarlett Wright, Pixel, Barcelona, Intenseand brooding, Power nullification, The superhero is hunted by a relentless bounty hunter with their own superhuman abilities., Crepuscular rays, Mellow Yellow, 2300',\n",
       " 'hs3, Superhero Nocturne, Spectral, Hemp, Sofia Young, Hexagon, St. Petersburg, Gothic and macabre, Fearless and unstoppable, Sonic speed, The superhero must protect a young orphan with a hidden connection to their past., Moody overcast, 2590',\n",
       " 'hs3, Superhero Nocturne, Driftwood, Beaded, Scarlett Wilson, Lightning, Atlantis, Savage and primal, Graceful and fluid, Illusion casting, The superhero travels through time to prevent a catastrophic event from altering history., Softbox lighting, Emerald Green, 2810',\n",
       " \"hs3, Superhero Nocturne, Bladehawk, Denim, Joseph Turner, Tropical, Adelaide, Resilient and indomitable, Glamorous and captivating, Electroreception, The superhero's secret identity is at risk of being exposed, leading to a dangerous confrontation., Rooftop sunset, 2830\",\n",
       " 'hs3, Superhero Nocturne, Frostbite, Charmeuse, Lily Anderson, Hexagon, Nairobi, Masterful and skilled, Healing factor, The superhero must protect a mystical relic from falling into the hands of a powerful sorcerer., Nightclub strobe lights, Amber, 3000',\n",
       " 'hs3, Superhero Nocturne, Frostbyte, Jacquard, Samuel Thompson, Starry Night, Manhattan, Bioluminescence, The superhero battles an army of mind-controlled robots controlled by a mastermind., Aurora borealis, 2540',\n",
       " \"hs3, Superhero Nocturne, Thunderstrike, Camel hair, Henry Young, Digital, Seoul, Powerful and dominant, Dynamic and forceful, Hyperkinesis, The superhero races against a deadly poison spreading through the city's water supply., Fluorescent body paint, Ivory, Aquamarine, Sky Blue, 2800\",\n",
       " 'hs3, Superhero Nocturne, Shadowstrike, Burlap, Avery Turner, Checkered, Gold Coast, Ethereal and enchanting, Vibrant and dynamic, Super agility, The superhero battles an army of genetically enhanced soldiers created by a mad scientist., Underwater bioluminescence, 2430',\n",
       " 'hs3, Superhero Nocturne, Meteor, Crepe, Elizabeth Clark, Wavy Lines, Wellington, Heroic and valiant, Sleek and polished, Clairvoyance, The superhero saves a group of trapped miners from a collapsed tunnel., Starlight, 2880',\n",
       " 'hs3, Superhero Nocturne, Gravity, Herringbone, Jonathan Mitchell, Stripes, New Delhi, Vigilant and watchful, Enigmatic and enchanter, Photokinesis, The superhero delves into the criminal underworld to dismantle a powerful crime syndicate., Carnival lights, Apricot, 1960',\n",
       " \"hs3, Superhero Nocturne, Driftwood, Nylon, Oliver Garcia, Circuit, Melbourne, Spirited and lively, Sensual and seductive, Hyperkinesis, The superhero's secret identity is at risk of being exposed, leading to a dangerous confrontation., City skyline at dusk, Blue, Seafoam, Cobalt, 2190\",\n",
       " 'hs3, Superhero Nocturne, Blaze, Crepe, Daniel Moore, Mosaic, Cologne, Glamorous and charismatic, Elasticity, The superhero confronts a personal nemesis from their past., Reflected light on water, Rose Gold, Magenta, Burgundy, 2910',\n",
       " 'hs3, Superhero Nocturne, Thunderbolt, Spandex, Amelia Wright, Stipple, Hobart, Unconventional and eccentric, Photokinesis, The superhero must protect a mystical relic from falling into the hands of a powerful sorcerer., Twilight over a lake, Emerald, Brick Red, Indigo, 2260',\n",
       " \"hs3, Superhero Nocturne, Frostfire, Metallic, Scarlett Wilson, Ripple, Nairobi, Mystical and ethereal, Healing factor, The superhero's powers are temporarily swapped with a fellow hero, leading to unexpected challenges., Cloudy sky with soft light, Stone Gray, Seafoam, 2650\",\n",
       " 'hs3, Superhero Nocturne, Swiftblade, Tweed, Gabriel Thompson, Patchwork, Cairo, Ethereal and enchanting, Vibrant and energetic, Technological manipulation, The superhero must protect a young orphan with a hidden connection to their past., Fireworks in the night sky, 1930',\n",
       " 'hs3, Superhero Nocturne, Velocity, Tweed, Gabriel Kim, Stained Glass, Wellington, Fearless and unstoppable, Clairvoyance, The superhero confronts a personal nemesis from their past., Glowing moonlight, Indigo, Pink, Cerulean, 2480',\n",
       " 'hs3, Superhero Nocturne, Silverfox, Plisse, Wyatt Moore, Tiger Stripes, Atlantis, Gothic and macabre, Elasticity, The superhero confronts their own inner demons in a surreal dreamscape., Starlight, Golden Yellow, Seafoam, Peach, 2920',\n",
       " 'hs3, Superhero Nocturne, Starstrike, Mohair, Isabella Mitchell, Feather, Hong Kong, Cutting-edge and innovative, Classic and elegant, Enhanced reflexes, The superhero battles a powerful supervillain in a city engulfed in chaos., Moody overcast, 2850',\n",
       " 'hs3, Superhero Nocturne, Ignite, Boucle, Ella Hill, Geometric, Stockholm, Epic and monumental, Photokinesis, The superhero uncovers a hidden plot to control the world through mind control technology., Mystical moonlight, Raspberry, Mustard, Opal, 2970',\n",
       " 'hs3, Superhero Nocturne, Quicksilver, Rayon, Harper Green, Wood Grain, Munich, Elasticity, The superhero faces a team of supervillains with diverse powers and abilities., Indoor studio lighting, Ivory, Ebony, Platinum, 2050',\n",
       " 'hs3, Superhero Nocturne, Tempestuous, Poplin, Avery Martin, Glossy, Darwin, Powerful and dominant, Ethereal and graceful, X-ray vision, The superhero discovers a hidden underground lair filled with dangerous experiments., Blinding snow reflection, Teal Green, Platinum, Gray, 2800',\n",
       " \"hs3, Superhero Nocturne, Spectra, Cashmere, Victoria Clark, Paisley, Luxembourg City, Nanokinesis, The superhero races against a deadly poison spreading through the city's water supply., Underground subway lighting, Cyan, 2550\",\n",
       " 'hs3, Superhero Nocturne, Quasar, Ramie, Scarlett Wright, Herringbone, Madrid, Edgy and rebellious, Rugged and tough, Enhanced reflexes, The superhero must rescue a kidnapped scientist whose invention could change the world., Glow sticks, 2890',\n",
       " 'hs3, Superhero Nocturne, Whirlwind, Silk, Samuel Baker, Animal Print, Tokyo, Charming and charismatic, Unconventional and eccentric, Sonic scream, The superhero discovers a hidden underground lair filled with dangerous experiments., Flashing police lights, Pearl, 2660',\n",
       " 'hs3, Superhero Nocturne, Spectra, Sateen, Charlotte Lewis, Digital, Reykjavik, Tech-inspired and cybernetic, Bold and audacious, Enhanced reflexes, The superhero must find a cure for a deadly virus sweeping through the city., Candlelight, Opal, Red, Slate Gray, 2160',\n",
       " \"hs3, Superhero Nocturne, Pyro, Gauze, Isabella Mitchell, Abstract Print, Hobart, Cunning and resourceful, Vibrant and dynamic, X-ray vision, The superhero's powers are temporarily swapped with a fellow hero, leading to unexpected challenges., Blinding snow reflection, Mellow Yellow, 2800\",\n",
       " 'hs3, Superhero Nocturne, Vortex, Sailcloth, Grace Taylor, Herringbone, Rome, Glamorous and fashionable, Bio-electric manipulation, The superhero discovers a secret society of ancient warriors and becomes their reluctant leader., Soft candlelight, Tangerine, 1940',\n",
       " 'hs3, Superhero Nocturne, Ironclad, Boucle, Samuel Phillips, Harlequin, Brisbane, Vigilant and watchful, Feline agility, The superhero is hunted by a relentless bounty hunter with their own superhuman abilities., Dynamic shadows, Blue, White, 2500',\n",
       " 'hs3, Superhero Nocturne, Whirlwind, Shimmer, Stella Van Der Linde, Feather Print, Paris, Flight, The superhero protects a young prodigy with incredible powers from falling into the wrong hands., Mysterious moonlit alley, Teal Green, Mauve, 2110',\n",
       " 'hs3, Superhero Nocturne, Ignite, Alpaca, Lucas Wilson, Stipple, Wellington, Dashing and debonair, Dark and mysterious, Enhanced reflexes, The superhero must protect a young orphan with a hidden connection to their past., Disco ball reflections, Ivory, Red, Lime Green, 2670',\n",
       " 'hs3, Superhero Nocturne, Moonshadow, Wool, Christopher Rodriguez, Flower Power, Helsinki, Epic and awe-inspiring, Resilient and indomitable, Photokinesis, The superhero must retrieve a stolen artifact with unimaginable power before it falls into the wrong hands., Misty morning, Lavender Purple, Gold, 2050',\n",
       " 'hs3, Superhero Nocturne, Radiant, Terrycloth, Ava Singh, Pop Art, Atlantis, Acid manipulation, The superhero must overcome their greatest fear to save the city from destruction., Tropical sunrise, Silver, 2600',\n",
       " 'hs3, Superhero Nocturne, Whirlwind, Tulle, Elijah Thompson, Stripes, Hobart, Sleek and polished, Poison generation, The superhero must navigate a treacherous maze of illusions to save a trapped group of heroes., Golden hour, Amber, Terra Cotta, Indigo, 2410',\n",
       " 'hs3, Superhero Nocturne, Crimson, Herringbone, Wyatt Moore, Gingham Check, Gold Coast, Dark and mysterious, Animal communication, The superhero must protect innocent civilians from an alien invasion., City skyline at dusk, Magenta Pink, Mellow Yellow, Blue, 1960',\n",
       " 'hs3, Superhero Nocturne, Starburst, Ramie, Chloe Johnson, Basketweave, Chicago, Futuristic and advanced, Force absorption, The superhero battles an army of genetically enhanced soldiers created by a mad scientist., Flashing arcade lights, Rose Gold, Pearl, 2840',\n",
       " 'hs3, Superhero Nocturne, Prism, Nylon, Jackson Mitchell, Feather, Havana, Time manipulation, The superhero races against time to defuse a bomb threatening a crowded stadium., Underground tunnel lighting, Magenta, Violet, Navy Blue, 2590',\n",
       " 'hs3, Superhero Nocturne, Stormbringer, Flannel, Avery Walker, Chevron, Brisbane, Sound manipulation, The superhero uncovers a conspiracy within the government that threatens the world., Mystical moonlight, Mist Gray, Gold, Black, 2200',\n",
       " 'hs3, Superhero Nocturne, Spectra, Burlap, Julian Nguyen, Digital Camo, Moscow, Unconventional and rebellious, Rebellious and fierce, Chronomancy, The superhero saves a group of trapped miners from a collapsed tunnel., Sunset through a window, Lime, Mint, Garnet, 2170',\n",
       " 'hs3, Superhero Nocturne, Silverstorm, Suede, Christopher Scott, Flower Power, Beijing, Epic and grandiose, Regal and majestic, Force projection, The superhero battles an army of genetically enhanced soldiers created by a mad scientist., Sunrise on a mountaintop, Golden Yellow, 2070',\n",
       " 'hs3, Superhero Nocturne, Thunderstorm, Brocade, Charlotte Lewis, Harlequin, Gold Coast, Probability field manipulation, The superhero joins forces with a reformed supervillain to take down a common enemy., Glowing embers, 2980',\n",
       " 'hs3, Superhero Nocturne, Cyclone, Leather, Xavier Martin, Mosaic, Melbourne, Mysterious and powerful, Sensual and seductive, Time travel, The superhero must prevent a catastrophic natural disaster caused by a rogue elemental being., Glowing alien technology, Plum, Red, Violet, 2480',\n",
       " 'hs3, Superhero Nocturne, Sentinel, Wool, Avery Allen, Mosaic, Beijing, Bold and fearless, Swift and agile, Terrakinesis, The superhero confronts a personal nemesis from their past., Glowing embers, Plum, 1960',\n",
       " 'hs3, Superhero Nocturne, Tempestuous, Charmeuse, Scarlett Hill, Gingham, Luxembourg City, Charming and suave, Feline agility, The superhero undergoes intense training to master a new superpower., Misty morning, Magenta, Olive Green, Limeade, 2670',\n",
       " 'hs3, Superhero Nocturne, Frostbite, Sequins, Isabella Mitchell, Starburst, Darwin, Intense and electrifying, Cutting-edge and futuristic, Sonic speed, The superhero uncovers a conspiracy within the government that threatens the world., Fluorescent body paint, Red, White, Ivory, 2660',\n",
       " 'hs3, Superhero Nocturne, Steelhawk, Gabardine, Isabella Chen, Marble, Istanbul, Probability field manipulation, The superhero races against time to defuse a bomb threatening a crowded stadium., Spotlight, 2620',\n",
       " 'hs3, Superhero Nocturne, Solaris, Gabardine, Gabriel Kim, Marble, Hanoi, Graceful and nimble, Rebellious and defiant, Intuitive aptitude, The superhero confronts their own inner demons in a surreal dreamscape., Soft sidelight, Lilac, Lavender Purple, Violet, 2660',\n",
       " 'hs3, Superhero Nocturne, Solstice, Spandex, Leo Smith, Argyle, Manila, Energy blasts, The superhero battles an army of genetically enhanced soldiers created by a mad scientist., Spotlight from below, 2750',\n",
       " 'hs3, Superhero Nocturne, Blaze, Gabardine, Elena Martinez, Speckled, Bogotá, Elegant and refined, Infrared vision, The superhero confronts their own inner demons in a surreal dreamscape., Solar eclipse, Sunset Orange, 2570',\n",
       " 'hs3, Superhero Nocturne, Torrent, Organza, David Lewis, Pixelated, Atlantis, Fierce and ferocious, Teleportation, The superhero gains a new ally with unique abilities, but they may not be trustworthy., Vintage lamp lighting, Olive, Sage Green, Teal, 2780',\n",
       " 'hs3, Superhero Nocturne, Crimson, Polyester, James Young, Color Block, Perth, Sleek and stylish, Power nullification, The superhero must rescue a kidnapped scientist whose invention could change the world., Flash photography, Burgundy, Ebony, 2450',\n",
       " 'hs3, Superhero Nocturne, Avalanche, Cambric, Aria Davis, Circles, Star City, Rebellious and defiant, Elegant and timeless, Sound manipulation, The superhero discovers a hidden society of extraordinary beings with their own agendas., Flashing arcade lights, Steel Blue, Red, 2740',\n",
       " \"hs3, Superhero Nocturne, Nightwatcher, Modal, Milo Rivera, Starburst, Frankfurt, Intense and electrifying, Portal creation, The superhero's arch-nemesis unveils a sinister plan to dominate the world, leading to an epic showdown., Sunbeams through clouds, Green, Emerald, 2650\",\n",
       " 'hs3, Superhero Nocturne, Quasar, Tweed, Dominic Rodriguez, Camo, Queenstown, Bold and powerful, Vigilant and watchful, Psychokinesis, The superhero travels through time to prevent a catastrophic event from altering history., Underwater lighting, Blue, Purple, Mint, 2960',\n",
       " 'hs3, Superhero Nocturne, Shadowstrike, Plisse, Sophia Patel, Color Block, Dubai, Intriguing and enigmatic, Cunning and resourceful, Terrakinesis, The superhero discovers a hidden underground lair filled with dangerous experiments., Campfire, Mauve, Sky Blue, Magenta Pink, 1930',\n",
       " 'hs3, Superhero Nocturne, Nightwatcher, Faux fur, Andrew Adams, Stripes, Nairobi, Super durability, The superhero must infiltrate a high-security facility to retrieve stolen classified information., Industrial fluorescent lighting, 2700',\n",
       " 'hs3, Superhero Nocturne, Sentinel, Velour, Alexander Thomas, Lace, Cairo, Masterful and skilled, Bold and powerful, Enhanced senses, The superhero teams up with other heroes to form a powerful alliance against a common enemy., Underground cave lighting, Tropical Orange, Topaz, 2530',\n",
       " 'hs3, Superhero Nocturne, Frostwind, Viscose, Gabriel Thompson, Abstract, Auckland, Probability manipulation, The superhero discovers a hidden society of extraordinary beings with their own agendas., Campfire, Garnet, Opal, 2680',\n",
       " 'hs3, Superhero Nocturne, Crimsonwing, Melton, Aurora Turner, Ombre, Cairo, Aquatic adaptation, The superhero battles an army of genetically enhanced soldiers created by a mad scientist., Flashing strobe lights, 2670',\n",
       " \"hs3, Superhero Nocturne, Thunderclap, Fleece, Victoria Clark, Starburst, Cologne, Elegant and graceful, Heat vision, The superhero's arch-nemesis unveils a sinister plan to dominate the world, leading to an epic showdown., Vintage lamp lighting, Charcoal, 2000\",\n",
       " 'hs3, Superhero Nocturne, Starstrike, Lawn, Abigail Davis, Flower Power, Los Angeles, Chaotic and unpredictable, Ethereal and otherworldly, Super speed, The superhero races against time to defuse a bomb threatening a crowded stadium., Lantern light, Rose Gold, 2760',\n",
       " 'hs3, Superhero Nocturne, Pyromancer, Tulle, Lily Anderson, Leaves, Reykjavik, Resolute and determined, Mysterious and powerful, Elasticity, The superhero uncovers a conspiracy within the government that threatens the world., Backlit silhouette, Pink, Magenta Pink, Crimson, 2780',\n",
       " 'hs3, Superhero Nocturne, Velocity, Calico, Benjamin Lewis, Gingham Check, Wellington, Echolocation, The superhero faces a moral dilemma when a loved one becomes a supervillain., Disco ball reflections, Ivory, Sage Green, 2940',\n",
       " \"hs3, Superhero Nocturne, Stormrider, Cambric, Victoria Turner, Paisley, Sydney, Dynamic and forceful, Molecular manipulation, The superhero's secret identity is at risk of being exposed, leading to a dangerous confrontation., Glowing computer screen, Caramel, 2200\",\n",
       " 'hs3, Superhero Nocturne, Nightflare, Burlap, Samuel Phillips, Wood Grain, Tokyo, Graceful and fluid, Classic and elegant, Electrokinesis, The superhero battles a powerful supervillain in a city engulfed in chaos., Underground cave lighting, Olive, Mauve, 2110',\n",
       " 'hs3, Superhero Nocturne, Pyre, Feathers, Evelyn Wang, Zigzag Print, Metropolis, Cunning and resourceful, Sonic scream, The superhero must retrieve a stolen artifact with unimaginable power before it falls into the wrong hands., Moonlit rooftop, Crimson, 2120',\n",
       " 'hs3, Superhero Nocturne, Silverstorm, Crepe, Christopher Scott, Basketball Texture, Melbourne, Graceful and fluid, Time travel, The superhero faces a moral dilemma when a loved one becomes a supervillain., Bioluminescent forest, Charcoal, Lime, Gray, 2690',\n",
       " \"hs3, Superhero Nocturne, Vapor, Cotton, Grace Wright, Tribal, Hobart, Nanokinesis, The superhero races against a deadly poison spreading through the city's water supply., Colorful sunset, Garnet, 2250\",\n",
       " \"hs3, Superhero Nocturne, Nightshade, Bamboo, Sebastian Khan, Cracked, Gold Coast, Epic and monumental, Fierce and relentless, Swordsmanship, The superhero's powers are mysteriously weakened, forcing them to find a way to restore them., Gloomy dungeon lighting, 2900\",\n",
       " 'hs3, Superhero Nocturne, Mirage, Rayon, Joseph Adams, Sunburst, Manhattan, Bold and powerful, Unconventional and rebellious, Sonic scream, The superhero faces off against a rival hero with conflicting ideals., Campfire, 2080',\n",
       " \"hs3, Superhero Nocturne, Silverfox, Voile, Amelia Wright, Cork, Stockholm, Heat vision, The superhero's powers are temporarily swapped with a fellow hero, leading to unexpected challenges., Sunset over the ocean, Saffron, Slate, Maroon, 2670\",\n",
       " 'hs3, Superhero Nocturne, Whirlwind, Knit, Xavier Martin, Houndstooth, Vancouver, Elegant and timeless, Energy constructs, The superhero joins forces with a reformed supervillain to take down a common enemy., Sunset over the ocean, Amber, Sky Blue, 1990',\n",
       " 'hs3, Superhero Nocturne, Quasar, Madras, Lily Anderson, Marble, Lisbon, Futuristic and sleek, Luminous and radiant, Feline agility, The superhero saves a group of trapped miners from a collapsed tunnel., Candlelight, Salmon, Bronze, Black, 2480',\n",
       " \"hs3, Superhero Nocturne, Gravity, Rhinestone, David Lee, Speckled, Cape Town, Innovative and cutting-edge, Sonic scream, The superhero races against a deadly poison spreading through the city's water supply., Fire escape stairwell, Seafoam, Platinum, 2820\",\n",
       " 'hs3, Superhero Nocturne, Blitzkrieg, Mesh, Jack Wright, Feather, Bangkok, Regeneration, The superhero must prevent a catastrophic natural disaster caused by a rogue elemental being., Rooftop sunset, Rose, 2520',\n",
       " 'hs3, Superhero Nocturne, Nebulae, Shantung, Mila Wilson, Leopard Print, Vancouver, Vibrant and colorful, Aquatic adaptation, The superhero teams up with other heroes to form a powerful alliance against a common enemy., Cloudy sky with soft light, Cyan, 2390']"
      ]
     },
     "execution_count": 19,
     "metadata": {},
     "output_type": "execute_result"
    }
   ],
   "source": [
    "output= []\n",
    "n = 75\n",
    "\n",
    "\n",
    "for i in range(n):\n",
    "    prompt = generate_random_prompt(superhero_inspiration_list, costume_material_list, designer_list,\n",
    "                                      costume_pattern_list, home_city_list, style_list, signature_power_list,\n",
    "                                      plot_list, lighting, colors, era)\n",
    "    output.append(prompt)\n",
    "\n",
    "output"
   ]
  },
  {
   "cell_type": "code",
   "execution_count": 4,
   "metadata": {},
   "outputs": [
    {
     "data": {
      "text/plain": [
       "['.DS_Store',\n",
       " 'July 14',\n",
       " 'alpha_numeric_opt.py',\n",
       " '.ipynb_checkpoints',\n",
       " 'Archive.zip',\n",
       " 'Zebonastic_Prompt_Playground_Harshith_01.ipynb',\n",
       " '75257b7e40d1157e524f303f2f657ad4.jpg',\n",
       " 'midjourney_selection_2023-7-12_184540_[241].zip']"
      ]
     },
     "execution_count": 4,
     "metadata": {},
     "output_type": "execute_result"
    }
   ],
   "source": [
    "os.listdir()"
   ]
  },
  {
   "cell_type": "code",
   "execution_count": 2,
   "metadata": {},
   "outputs": [],
   "source": [
    "import os"
   ]
  },
  {
   "cell_type": "markdown",
   "metadata": {},
   "source": [
    "## Best images July 14th"
   ]
  },
  {
   "cell_type": "code",
   "execution_count": 8,
   "metadata": {},
   "outputs": [
    {
     "data": {
      "text/html": [
       "<img src=\"./July 14/Best/mj_hs6_X3fNE9.png\" width=\"300\" height=\"300\"/>"
      ],
      "text/plain": [
       "<IPython.core.display.Image object>"
      ]
     },
     "execution_count": 8,
     "metadata": {},
     "output_type": "execute_result"
    }
   ],
   "source": [
    "Image(url=\"./July 14/Best/mj_hs6_X3fNE9.png\", width=300, height=300)"
   ]
  },
  {
   "cell_type": "code",
   "execution_count": 20,
   "metadata": {},
   "outputs": [
    {
     "data": {
      "text/html": [
       "<img src=\"./July 14/Best/mj_hs6_28CGS0.png\" width=\"300\" height=\"300\"/>"
      ],
      "text/plain": [
       "<IPython.core.display.Image object>"
      ]
     },
     "execution_count": 20,
     "metadata": {},
     "output_type": "execute_result"
    }
   ],
   "source": [
    "Image(url=\"./July 14/Best/mj_hs6_28CGS0.png\", width=300, height=300)"
   ]
  },
  {
   "cell_type": "code",
   "execution_count": 21,
   "metadata": {},
   "outputs": [
    {
     "data": {
      "text/html": [
       "<img src=\"./July 14/Best/mj_hs6_YItAE4.png\" width=\"300\" height=\"300\"/>"
      ],
      "text/plain": [
       "<IPython.core.display.Image object>"
      ]
     },
     "execution_count": 21,
     "metadata": {},
     "output_type": "execute_result"
    }
   ],
   "source": [
    "Image(url=\"./July 14/Best/mj_hs6_YItAE4.png\", width=300, height=300)"
   ]
  },
  {
   "cell_type": "code",
   "execution_count": 22,
   "metadata": {},
   "outputs": [
    {
     "data": {
      "text/html": [
       "<img src=\"./July 14/Best/mj_hs6_kpuEh2.png\" width=\"300\" height=\"300\"/>"
      ],
      "text/plain": [
       "<IPython.core.display.Image object>"
      ]
     },
     "execution_count": 22,
     "metadata": {},
     "output_type": "execute_result"
    }
   ],
   "source": [
    "Image(url=\"./July 14/Best/mj_hs6_kpuEh2.png\", width=300, height=300)"
   ]
  },
  {
   "cell_type": "code",
   "execution_count": 24,
   "metadata": {},
   "outputs": [
    {
     "data": {
      "text/html": [
       "<img src=\"./July 14/Best/mj_hs6_VRJCW2.png\" width=\"300\" height=\"300\"/>"
      ],
      "text/plain": [
       "<IPython.core.display.Image object>"
      ]
     },
     "execution_count": 24,
     "metadata": {},
     "output_type": "execute_result"
    }
   ],
   "source": [
    "Image(url=\"./July 14/Best/mj_hs6_VRJCW2.png\", width=300, height=300)"
   ]
  },
  {
   "cell_type": "code",
   "execution_count": 23,
   "metadata": {},
   "outputs": [
    {
     "data": {
      "text/html": [
       "<img src=\"./July 14/Best/mj_hs6_fv8zd1.png\" width=\"300\" height=\"300\"/>"
      ],
      "text/plain": [
       "<IPython.core.display.Image object>"
      ]
     },
     "execution_count": 23,
     "metadata": {},
     "output_type": "execute_result"
    }
   ],
   "source": [
    "Image(url=\"./July 14/Best/mj_hs6_fv8zd1.png\", width=300, height=300)"
   ]
  },
  {
   "cell_type": "code",
   "execution_count": 25,
   "metadata": {},
   "outputs": [
    {
     "data": {
      "text/html": [
       "<img src=\"./July 14/Best/mj_hs6_Y7n229.png\" width=\"300\" height=\"300\"/>"
      ],
      "text/plain": [
       "<IPython.core.display.Image object>"
      ]
     },
     "execution_count": 25,
     "metadata": {},
     "output_type": "execute_result"
    }
   ],
   "source": [
    "Image(url=\"./July 14/Best/mj_hs6_Y7n229.png\", width=300, height=300)"
   ]
  },
  {
   "cell_type": "code",
   "execution_count": 26,
   "metadata": {},
   "outputs": [
    {
     "data": {
      "text/html": [
       "<img src=\"./July 14/Best/mj_hs6_cX5HB3.png\" width=\"300\" height=\"300\"/>"
      ],
      "text/plain": [
       "<IPython.core.display.Image object>"
      ]
     },
     "execution_count": 26,
     "metadata": {},
     "output_type": "execute_result"
    }
   ],
   "source": [
    "Image(url=\"./July 14/Best/mj_hs6_cX5HB3.png\", width=300, height=300)"
   ]
  },
  {
   "cell_type": "code",
   "execution_count": 27,
   "metadata": {},
   "outputs": [
    {
     "data": {
      "text/html": [
       "<img src=\"./July 14/Best/mj_hs6_yNDDE7.png\" width=\"300\" height=\"300\"/>"
      ],
      "text/plain": [
       "<IPython.core.display.Image object>"
      ]
     },
     "execution_count": 27,
     "metadata": {},
     "output_type": "execute_result"
    }
   ],
   "source": [
    "Image(url=\"./July 14/Best/mj_hs6_yNDDE7.png\", width=300, height=300)"
   ]
  },
  {
   "cell_type": "code",
   "execution_count": 28,
   "metadata": {},
   "outputs": [
    {
     "data": {
      "text/html": [
       "<img src=\"./July 14/Best/mj_hs6_yVOXF5.png\" width=\"300\" height=\"300\"/>"
      ],
      "text/plain": [
       "<IPython.core.display.Image object>"
      ]
     },
     "execution_count": 28,
     "metadata": {},
     "output_type": "execute_result"
    }
   ],
   "source": [
    "Image(url=\"./July 14/Best/mj_hs6_yVOXF5.png\", width=300, height=300)"
   ]
  },
  {
   "cell_type": "code",
   "execution_count": 29,
   "metadata": {},
   "outputs": [
    {
     "data": {
      "text/html": [
       "<img src=\"./July 14/Best/mj_hs6_1UKe41.png\" width=\"300\" height=\"300\"/>"
      ],
      "text/plain": [
       "<IPython.core.display.Image object>"
      ]
     },
     "execution_count": 29,
     "metadata": {},
     "output_type": "execute_result"
    }
   ],
   "source": [
    "Image(url=\"./July 14/Best/mj_hs6_1UKe41.png\", width=300, height=300)"
   ]
  },
  {
   "cell_type": "code",
   "execution_count": 30,
   "metadata": {},
   "outputs": [
    {
     "data": {
      "text/html": [
       "<img src=\"./July 14/Best/mj_hs6_NBdbx4.png\" width=\"300\" height=\"300\"/>"
      ],
      "text/plain": [
       "<IPython.core.display.Image object>"
      ]
     },
     "execution_count": 30,
     "metadata": {},
     "output_type": "execute_result"
    }
   ],
   "source": [
    "Image(url=\"./July 14/Best/mj_hs6_NBdbx4.png\", width=300, height=300)"
   ]
  },
  {
   "cell_type": "code",
   "execution_count": 31,
   "metadata": {},
   "outputs": [
    {
     "data": {
      "text/html": [
       "<img src=\"./July 14/Best/mj_hs6_NLRoQ1.png\" width=\"300\" height=\"300\"/>"
      ],
      "text/plain": [
       "<IPython.core.display.Image object>"
      ]
     },
     "execution_count": 31,
     "metadata": {},
     "output_type": "execute_result"
    }
   ],
   "source": [
    "Image(url=\"./July 14/Best/mj_hs6_NLRoQ1.png\", width=300, height=300)"
   ]
  },
  {
   "cell_type": "code",
   "execution_count": 32,
   "metadata": {},
   "outputs": [
    {
     "data": {
      "text/html": [
       "<img src=\"./July 14/Best/mj_hs6_Ghhqq9.png\" width=\"300\" height=\"300\"/>"
      ],
      "text/plain": [
       "<IPython.core.display.Image object>"
      ]
     },
     "execution_count": 32,
     "metadata": {},
     "output_type": "execute_result"
    }
   ],
   "source": [
    "Image(url=\"./July 14/Best/mj_hs6_Ghhqq9.png\", width=300, height=300)"
   ]
  },
  {
   "cell_type": "code",
   "execution_count": 33,
   "metadata": {},
   "outputs": [
    {
     "data": {
      "text/html": [
       "<img src=\"./July 14/Best/mj_hs6_HUc5M2.png\" width=\"300\" height=\"300\"/>"
      ],
      "text/plain": [
       "<IPython.core.display.Image object>"
      ]
     },
     "execution_count": 33,
     "metadata": {},
     "output_type": "execute_result"
    }
   ],
   "source": [
    "Image(url=\"./July 14/Best/mj_hs6_HUc5M2.png\", width=300, height=300)"
   ]
  },
  {
   "cell_type": "code",
   "execution_count": 34,
   "metadata": {},
   "outputs": [
    {
     "data": {
      "text/html": [
       "<img src=\"./July 14/Best/mj_hs6_HUc5M2.png\" width=\"300\" height=\"300\"/>"
      ],
      "text/plain": [
       "<IPython.core.display.Image object>"
      ]
     },
     "execution_count": 34,
     "metadata": {},
     "output_type": "execute_result"
    }
   ],
   "source": [
    "Image(url=\"./July 14/Best/mj_hs6_HUc5M2.png\", width=300, height=300)"
   ]
  },
  {
   "cell_type": "code",
   "execution_count": 35,
   "metadata": {},
   "outputs": [
    {
     "data": {
      "text/html": [
       "<img src=\"./July 14/Best/mj_hs6_Rmb6u0.png\" width=\"300\" height=\"300\"/>"
      ],
      "text/plain": [
       "<IPython.core.display.Image object>"
      ]
     },
     "execution_count": 35,
     "metadata": {},
     "output_type": "execute_result"
    }
   ],
   "source": [
    "Image(url=\"./July 14/Best/mj_hs6_Rmb6u0.png\", width=300, height=300)"
   ]
  },
  {
   "cell_type": "code",
   "execution_count": 36,
   "metadata": {},
   "outputs": [
    {
     "data": {
      "text/html": [
       "<img src=\"./July 14/Best/mj_hs6_vWotP2.png\" width=\"300\" height=\"300\"/>"
      ],
      "text/plain": [
       "<IPython.core.display.Image object>"
      ]
     },
     "execution_count": 36,
     "metadata": {},
     "output_type": "execute_result"
    }
   ],
   "source": [
    "Image(url=\"./July 14/Best/mj_hs6_vWotP2.png\", width=300, height=300)"
   ]
  },
  {
   "cell_type": "code",
   "execution_count": 37,
   "metadata": {},
   "outputs": [
    {
     "data": {
      "text/html": [
       "<img src=\"./July 14/Best/mj_hs6_z0Qo94.png\" width=\"300\" height=\"300\"/>"
      ],
      "text/plain": [
       "<IPython.core.display.Image object>"
      ]
     },
     "execution_count": 37,
     "metadata": {},
     "output_type": "execute_result"
    }
   ],
   "source": [
    "Image(url=\"./July 14/Best/mj_hs6_z0Qo94.png\", width=300, height=300)"
   ]
  },
  {
   "cell_type": "code",
   "execution_count": 38,
   "metadata": {},
   "outputs": [
    {
     "data": {
      "text/html": [
       "<img src=\"./July 14/Best/mj_hs6_MrpHF4.png\" width=\"300\" height=\"300\"/>"
      ],
      "text/plain": [
       "<IPython.core.display.Image object>"
      ]
     },
     "execution_count": 38,
     "metadata": {},
     "output_type": "execute_result"
    }
   ],
   "source": [
    "Image(url=\"./July 14/Best/mj_hs6_MrpHF4.png\", width=300, height=300)"
   ]
  },
  {
   "cell_type": "code",
   "execution_count": 39,
   "metadata": {},
   "outputs": [
    {
     "data": {
      "text/html": [
       "<img src=\"./July 14/Best/mj_hs6_zY7wV2.png\" width=\"300\" height=\"300\"/>"
      ],
      "text/plain": [
       "<IPython.core.display.Image object>"
      ]
     },
     "execution_count": 39,
     "metadata": {},
     "output_type": "execute_result"
    }
   ],
   "source": [
    "Image(url=\"./July 14/Best/mj_hs6_zY7wV2.png\", width=300, height=300)"
   ]
  },
  {
   "cell_type": "code",
   "execution_count": 40,
   "metadata": {},
   "outputs": [
    {
     "data": {
      "text/html": [
       "<img src=\"./July 14/Best/mj_hs6_b78Mr7.png\" width=\"300\" height=\"300\"/>"
      ],
      "text/plain": [
       "<IPython.core.display.Image object>"
      ]
     },
     "execution_count": 40,
     "metadata": {},
     "output_type": "execute_result"
    }
   ],
   "source": [
    "Image(url=\"./July 14/Best/mj_hs6_b78Mr7.png\", width=300, height=300)"
   ]
  },
  {
   "cell_type": "code",
   "execution_count": 41,
   "metadata": {},
   "outputs": [
    {
     "data": {
      "text/html": [
       "<img src=\"./July 14/Best/mj_hs6_xrylW9.png\" width=\"300\" height=\"300\"/>"
      ],
      "text/plain": [
       "<IPython.core.display.Image object>"
      ]
     },
     "execution_count": 41,
     "metadata": {},
     "output_type": "execute_result"
    }
   ],
   "source": [
    "Image(url=\"./July 14/Best/mj_hs6_xrylW9.png\", width=300, height=300)"
   ]
  },
  {
   "cell_type": "code",
   "execution_count": 42,
   "metadata": {},
   "outputs": [
    {
     "data": {
      "text/html": [
       "<img src=\"./July 14/Best/mj_hs6_IoiNN8.png\" width=\"300\" height=\"300\"/>"
      ],
      "text/plain": [
       "<IPython.core.display.Image object>"
      ]
     },
     "execution_count": 42,
     "metadata": {},
     "output_type": "execute_result"
    }
   ],
   "source": [
    "Image(url=\"./July 14/Best/mj_hs6_IoiNN8.png\", width=300, height=300)"
   ]
  },
  {
   "cell_type": "code",
   "execution_count": 43,
   "metadata": {},
   "outputs": [
    {
     "data": {
      "text/html": [
       "<img src=\"./July 14/Best/mj_hs6_yWo2o1.png\" width=\"300\" height=\"300\"/>"
      ],
      "text/plain": [
       "<IPython.core.display.Image object>"
      ]
     },
     "execution_count": 43,
     "metadata": {},
     "output_type": "execute_result"
    }
   ],
   "source": [
    "Image(url=\"./July 14/Best/mj_hs6_yWo2o1.png\", width=300, height=300)"
   ]
  },
  {
   "cell_type": "code",
   "execution_count": 44,
   "metadata": {},
   "outputs": [
    {
     "data": {
      "text/html": [
       "<img src=\"./July 14/Best/mj_hs6_zZ5uZ9.png\" width=\"300\" height=\"300\"/>"
      ],
      "text/plain": [
       "<IPython.core.display.Image object>"
      ]
     },
     "execution_count": 44,
     "metadata": {},
     "output_type": "execute_result"
    }
   ],
   "source": [
    "Image(url=\"./July 14/Best/mj_hs6_zZ5uZ9.png\", width=300, height=300)"
   ]
  },
  {
   "cell_type": "markdown",
   "metadata": {
    "id": "P39S4mwlv-2P"
   },
   "source": [
    "![]()"
   ]
  }
 ],
 "metadata": {
  "colab": {
   "provenance": []
  },
  "kernelspec": {
   "display_name": "Python 3 (ipykernel)",
   "language": "python",
   "name": "python3"
  },
  "language_info": {
   "codemirror_mode": {
    "name": "ipython",
    "version": 3
   },
   "file_extension": ".py",
   "mimetype": "text/x-python",
   "name": "python",
   "nbconvert_exporter": "python",
   "pygments_lexer": "ipython3",
   "version": "3.9.16"
  }
 },
 "nbformat": 4,
 "nbformat_minor": 1
}
