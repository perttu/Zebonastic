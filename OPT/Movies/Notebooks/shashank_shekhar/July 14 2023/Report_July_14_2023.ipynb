{
  "nbformat": 4,
  "nbformat_minor": 0,
  "metadata": {
    "colab": {
      "provenance": []
    },
    "kernelspec": {
      "name": "python3",
      "display_name": "Python 3"
    },
    "language_info": {
      "name": "python"
    }
  },
  "cells": [
    {
      "cell_type": "markdown",
      "source": [
        "#Report: Movies\n",
        "##Date: July 14, 2023\n",
        "\n",
        "I completed the following tasks this week:\n",
        "\n",
        "1. I generated multiple lists realted of topics that are realted to\n",
        " Movies such as:\n",
        " screenplay, hollywood_characters, bollywood_actions, children_movies, cinematography_terms, Imdb_movie_scenes. I used ChatGPT to generate the above lists with random elements.\n",
        "\n",
        "2. I modified the prompt_generation script present in the Zebonastic_Prompt_Playground to take the above lists as input and generated multiple prompts.\n",
        "\n",
        "\n",
        "3. I then generated 50 images using the /imagine command.\n",
        "After that I upscaled the images and renamed them using the\n",
        "alpha_numeric_opt.py script before uploading them to GitHub in the\n",
        "\"OPT/Movies/Images/shashank_shekhar/07:14:2023/imagine\" subdirectory.\n",
        "\n",
        "Some of them are the following:\n",
        "\n",
        "\n",
        "* The Joker exhilaratingly pioneering doing the 'lungi dance' to bullets at the The Ministry Of Magic( Harry Potter) in a De Stijl Stained Glass Window In A Post - Apocalyptic Setting with dramatic lighting and Opaque tones, setting a Enigmatic mood.\n",
        "\n",
        "<img src='https://drive.google.com/uc?id=1LhRGsDmCcgjtQFy-PBXOb5RKZkixasFR'>\n",
        "\n",
        "\n",
        "* The Hulk energetically savoring dancing to coconuts at the Azeroth( World Of Warcraft) in a Avant - Garde Tattoo. Captivating Reflection Horizontal View captures the essence, created by Yoji Shinkawa. The Batik Art evokes a In A Parallel Universe with natural lighting and Blueberry Color tones, setting a Captivating mood.\n",
        "\n",
        "<img src='https://cdn.midjourney.com/06a5f29b-4c98-4826-9a9c-d422be12028b/0_1.png'>\n",
        "\n",
        "\n",
        "* Captain Jack Sparrow gloriously igniting juggling to dance battles at the Hong Kong in a Renaissance Architectural Blueprint In A Cyberpunk City with ambient lighting and Blackberry Color tones, setting a Chill mood.\n",
        "\n",
        "<img src='https://cdn.midjourney.com/0755d696-0a04-4130-902b-d52f6beba5f0/0_0.png'>\n",
        "\n",
        "\n",
        "* Ryan Reynolds vivaciously executing breaking a world record in a daring feat to enchanting orchestras at the Niagara Falls.\n",
        "\n",
        "<img src='https://cdn.midjourney.com/dbf48132-0c1f-472a-9552-0179b5dcd9a0/0_2.png'>\n",
        "\n",
        "* Charlize Theron vivaciously demonstrating engaging in a dance battle to backup dancers at the Concert Venue in a Ancient Art Music Video In A Desert with ambient lighting and Warm Yellows tones, setting a Uplifting mood.\n",
        "\n",
        "<img src = 'https://cdn.midjourney.com/6fe68ce1-0d58-4ab6-99b7-73f109a9b4ee/0_0.png'>\n",
        "\n",
        "\n",
        "4. I blended together some of the generated images using the /blend command. A word file with all the blended images is present here: OPT/Movies/Images/shashank_shekhar/07:14:2023/blend/_blend_07_14_2023.docx\n",
        "\n",
        "\n",
        "\n",
        "5. I also used /describe command to describe some of the images that are related to Movies. A word file with all the described images is present here: OPT/Movies/Images/shashank_shekhar/07:14:2023/describe/_describe_07_14_2023.docx\n",
        "\n",
        "\n"
      ],
      "metadata": {
        "id": "IHOcccaEl54B"
      }
    }
  ]
}