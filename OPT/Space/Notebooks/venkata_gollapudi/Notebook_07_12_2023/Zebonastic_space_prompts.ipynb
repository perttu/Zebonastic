{
  "nbformat": 4,
  "nbformat_minor": 0,
  "metadata": {
    "colab": {
      "provenance": []
    },
    "kernelspec": {
      "name": "python3",
      "display_name": "Python 3"
    },
    "language_info": {
      "name": "python"
    }
  },
  "cells": [
    {
      "cell_type": "code",
      "execution_count": null,
      "metadata": {
        "colab": {
          "base_uri": "https://localhost:8080/"
        },
        "id": "Q65l7OfrSKEq",
        "outputId": "2dbf9b70-80c9-475f-e9bc-a4f0fc1c3b33"
      },
      "outputs": [
        {
          "output_type": "stream",
          "name": "stdout",
          "text": [
            "The original list is : ['Vija Celmins', 'Robert McCall', 'Lucien Rudaux', 'Alexey Leonov', 'Ron Miller', 'Chesley Bonestell', 'Don Davis', 'Lynette Cook', 'Kim Poor', 'David A. Hardy', 'Jon Lomberg', 'Björn Jonsson', 'Dan Durda', 'Bonnie Buratti', 'Michael Carroll', 'Fred Freeman', 'Ralph McQuarrie', 'Norman Rockwell', 'Peter Elson', 'Ron Cobb', 'Chris Foss', 'Syd Mead', 'H.R. Giger', 'Annie Leibovitz', 'Trevor Paglen', 'Olafur Eliasson', 'Ai Weiwei', 'Thomas Ruff', 'Tomas Saraceno', 'Hiroshi Sugimoto', 'Janet Echelman', 'James Turrell', 'Carsten Höller', 'Matthew Ritchie', 'Michael Benson', 'Eduardo Kac', 'Agnes Meyer-Brandis', 'Diane Tuft', 'Ryoji Ikeda', 'Trevor Paglen', 'Hiraki Sawa', 'Nathalie Djurberg', 'Hajime Sorayama', 'Lowry Burgess', 'Michael Najjar', 'Simon Faithfull', 'Julia Christensen', 'Lia Halloran', 'Tom Sachs', 'Antony Gormley', 'Luke Jerram', 'Oliver Beer', 'Jane and Louise Wilson', 'Josiah McElheny', 'Julian Charrière', 'Amy Balkin', 'Liliane Lijn', 'Luke Jerram', 'Rachael Champion', 'Yayoi Kusama', 'Lauren Bon', 'Tomás Saraceno', 'Angela Bulloch', 'Tavares Strachan', 'Ruth Jarman and Joe Gerhardt (Semiconductor)', 'Sarah Sze', 'Leonid Tishkov', 'Sarah Morris', 'William Kentridge', 'John Gerrard', 'Trevor Paglen', 'Diana Thater', 'Luisa Lambri', 'Evan Penny', 'Peter Fischli and David Weiss', 'Richard Mosse', 'Evan Roth', 'Omer Fast', 'Anish Kapoor', 'Tomas Saraceno', 'Doug Aitken', 'Bridget Riley', 'Shahzia Sikander', 'Julie Mehretu', 'Shirazeh Houshiary', 'Doug Aitken', 'James Turrell', 'The Otolith Group', 'Alfredo Jaar', 'Olafur Eliasson', 'Carsten Höller', 'Cai Guo-Qiang', 'Tacita Dean', 'Cornelia Parker', 'Rachel Whiteread', 'Mark Bradford', 'Glenn Ligon', 'Wangechi Mutu', 'Sam Durant', 'Theaster Gates', 'Rashid Johnson', 'Sanford Biggers', 'Hank Willis Thomas', 'Bisa Butler', 'Firelei Báez', 'Mary Weatherford', 'Jenny Holzer', 'Tania Bruguera', 'Ai Weiwei', 'Yinka Shonibare', 'Mona Hatoum', 'Nari Ward', 'David Hammons', 'Kerry James Marshall', 'Cindy Sherman', 'Barbara Kruger', 'Kara Walker', 'Marina Abramović', 'Yayoi Kusama', 'Louise Bourgeois', 'Diane Arbus', 'Agnes Martin', 'Bridget Riley', 'Yvonne Rainer', 'Catherine Opie', 'Carrie Mae Weems', 'Mickalene Thomas', 'Janine Antoni', 'Nan Goldin', 'Wangechi Mutu', 'Rachel Harrison', 'Elaine Sturtevant', 'Cady Noland', 'Pipilotti Rist', 'Helen Marten', 'Eva Hesse', 'Kiki Smith', 'Lorna Simpson', 'Sigmar Polke', 'Georg Baselitz', 'Günther Uecker', 'Anselm Kiefer', 'Gerhard Richter', 'Thomas Struth', 'Andreas Gursky', 'Olafur Eliasson', 'Albert Oehlen', 'Rosemarie Trockel', 'Marlene Dumas', 'Neo Rauch', 'Julian Schnabel', 'Cindy Sherman', 'Jenny Holzer', 'Barbara Kruger', 'Matthew Barney', 'Jeff Koons', 'Damien Hirst', 'Takashi Murakami', 'Yayoi Kusama', 'Ai Weiwei', 'Marina Abramović', 'Anish Kapoor', 'Olafur Eliasson', 'Chris Ofili', 'Sarah Sze', 'Kara Walker', 'Kehinde Wiley', 'Tracey Emin', 'Grayson Perry', 'Rachel Whiteread', 'Cornelia Parker', 'Tacita Dean', 'Wolfgang Tillmans', 'Elizabeth Peyton', 'Shirin Neshat', 'Mariko Mori', 'Matthew Ritchie', 'John Currin', 'Julie Mehretu', 'Ed Ruscha', 'Mark Bradford', 'Kerry James Marshall', 'Njideka Akunyili Crosby', 'Kehinde Wiley', 'Amy Sherald', 'Toyin Ojih Odutola', 'Lorna Simpson', 'David Hammons', 'Theaster Gates', 'Mickalene Thomas', 'Kara Walker', 'Hank Willis Thomas', 'Glenn Ligon', 'Kerry James Marshall', 'Nari Ward', 'El Anatsui', 'Mark Bradford', 'Nick Cave', 'Kehinde Wiley', 'Chris Ofili', 'Yinka Shonibare', 'Julie Mehretu', 'Wangechi Mutu', 'Kerry James Marshall', 'Mickalene Thomas', 'Glenn Ligon', 'Kara Walker', 'Hank Willis Thomas', 'Njideka Akunyili Crosby', 'Lorna Simpson', 'David Hammons', 'Theaster Gates', 'Nari Ward']\n",
            "The String List after extension : ['Vija Celmins', 'Robert McCall', 'Lucien Rudaux', 'Alexey Leonov', 'Ron Miller', 'Chesley Bonestell', 'Don Davis', 'Lynette Cook', 'Kim Poor', 'David A. Hardy', 'Jon Lomberg', 'Björn Jonsson', 'Dan Durda', 'Bonnie Buratti', 'Michael Carroll', 'Fred Freeman', 'Ralph McQuarrie', 'Norman Rockwell', 'Peter Elson', 'Ron Cobb', 'Chris Foss', 'Syd Mead', 'H.R. Giger', 'Annie Leibovitz', 'Trevor Paglen', 'Olafur Eliasson', 'Ai Weiwei', 'Thomas Ruff', 'Tomas Saraceno', 'Hiroshi Sugimoto', 'Janet Echelman', 'James Turrell', 'Carsten Höller', 'Matthew Ritchie', 'Michael Benson', 'Eduardo Kac', 'Agnes Meyer', 'Brandis', 'Diane Tuft', 'Ryoji Ikeda', 'Trevor Paglen', 'Hiraki Sawa', 'Nathalie Djurberg', 'Hajime Sorayama', 'Lowry Burgess', 'Michael Najjar', 'Simon Faithfull', 'Julia Christensen', 'Lia Halloran', 'Tom Sachs', 'Antony Gormley', 'Luke Jerram', 'Oliver Beer', 'Jane and Louise Wilson', 'Josiah McElheny', 'Julian Charrière', 'Amy Balkin', 'Liliane Lijn', 'Luke Jerram', 'Rachael Champion', 'Yayoi Kusama', 'Lauren Bon', 'Tomás Saraceno', 'Angela Bulloch', 'Tavares Strachan', 'Ruth Jarman and Joe Gerhardt (Semiconductor)', 'Sarah Sze', 'Leonid Tishkov', 'Sarah Morris', 'William Kentridge', 'John Gerrard', 'Trevor Paglen', 'Diana Thater', 'Luisa Lambri', 'Evan Penny', 'Peter Fischli and David Weiss', 'Richard Mosse', 'Evan Roth', 'Omer Fast', 'Anish Kapoor', 'Tomas Saraceno', 'Doug Aitken', 'Bridget Riley', 'Shahzia Sikander', 'Julie Mehretu', 'Shirazeh Houshiary', 'Doug Aitken', 'James Turrell', 'The Otolith Group', 'Alfredo Jaar', 'Olafur Eliasson', 'Carsten Höller', 'Cai Guo', 'Qiang', 'Tacita Dean', 'Cornelia Parker', 'Rachel Whiteread', 'Mark Bradford', 'Glenn Ligon', 'Wangechi Mutu', 'Sam Durant', 'Theaster Gates', 'Rashid Johnson', 'Sanford Biggers', 'Hank Willis Thomas', 'Bisa Butler', 'Firelei Báez', 'Mary Weatherford', 'Jenny Holzer', 'Tania Bruguera', 'Ai Weiwei', 'Yinka Shonibare', 'Mona Hatoum', 'Nari Ward', 'David Hammons', 'Kerry James Marshall', 'Cindy Sherman', 'Barbara Kruger', 'Kara Walker', 'Marina Abramović', 'Yayoi Kusama', 'Louise Bourgeois', 'Diane Arbus', 'Agnes Martin', 'Bridget Riley', 'Yvonne Rainer', 'Catherine Opie', 'Carrie Mae Weems', 'Mickalene Thomas', 'Janine Antoni', 'Nan Goldin', 'Wangechi Mutu', 'Rachel Harrison', 'Elaine Sturtevant', 'Cady Noland', 'Pipilotti Rist', 'Helen Marten', 'Eva Hesse', 'Kiki Smith', 'Lorna Simpson', 'Sigmar Polke', 'Georg Baselitz', 'Günther Uecker', 'Anselm Kiefer', 'Gerhard Richter', 'Thomas Struth', 'Andreas Gursky', 'Olafur Eliasson', 'Albert Oehlen', 'Rosemarie Trockel', 'Marlene Dumas', 'Neo Rauch', 'Julian Schnabel', 'Cindy Sherman', 'Jenny Holzer', 'Barbara Kruger', 'Matthew Barney', 'Jeff Koons', 'Damien Hirst', 'Takashi Murakami', 'Yayoi Kusama', 'Ai Weiwei', 'Marina Abramović', 'Anish Kapoor', 'Olafur Eliasson', 'Chris Ofili', 'Sarah Sze', 'Kara Walker', 'Kehinde Wiley', 'Tracey Emin', 'Grayson Perry', 'Rachel Whiteread', 'Cornelia Parker', 'Tacita Dean', 'Wolfgang Tillmans', 'Elizabeth Peyton', 'Shirin Neshat', 'Mariko Mori', 'Matthew Ritchie', 'John Currin', 'Julie Mehretu', 'Ed Ruscha', 'Mark Bradford', 'Kerry James Marshall', 'Njideka Akunyili Crosby', 'Kehinde Wiley', 'Amy Sherald', 'Toyin Ojih Odutola', 'Lorna Simpson', 'David Hammons', 'Theaster Gates', 'Mickalene Thomas', 'Kara Walker', 'Hank Willis Thomas', 'Glenn Ligon', 'Kerry James Marshall', 'Nari Ward', 'El Anatsui', 'Mark Bradford', 'Nick Cave', 'Kehinde Wiley', 'Chris Ofili', 'Yinka Shonibare', 'Julie Mehretu', 'Wangechi Mutu', 'Kerry James Marshall', 'Mickalene Thomas', 'Glenn Ligon', 'Kara Walker', 'Hank Willis Thomas', 'Njideka Akunyili Crosby', 'Lorna Simpson', 'David Hammons', 'Theaster Gates', 'Nari Ward']\n"
          ]
        }
      ],
      "source": [
        "# Python3 code to demonstrate working of\n",
        "# Split flatten String List\n",
        "# Using list comprehension + split() + extend()\n",
        "\n",
        "# initializing list\n",
        "test_list = []\n",
        "\n",
        "# printing original list\n",
        "print(\"The original list is : \" + str(test_list))\n",
        "\n",
        "# Split flatten String List\n",
        "# Using list comprehension + split() + extend()\n",
        "res = []\n",
        "[res.extend(idx.split(\"-\")) for idx in test_list]\n",
        "\n",
        "# printing result\n",
        "print(\"The String List after extension : \" + str(res))\n"
      ]
    },
    {
      "cell_type": "code",
      "source": [
        "# Some helper functions, most of these aren't used in this notebook but Zebonastic uses them for more advanced prompting so are included just in case they are useful\n",
        "import string\n",
        "import re, random\n",
        "\n",
        "def clean_lists(input_list):\n",
        "    cleaned_list = list(set(filter(lambda x: len(x) >= 3, input_list)))\n",
        "    return cleaned_list\n",
        "\n",
        "def clean_up_commas(string):\n",
        "    # Replace multiple commas with a single comma\n",
        "    string = re.sub(r',+', ',', string)\n",
        "\n",
        "    # Replace commas not properly flushed with a letter and a single white space\n",
        "    string = re.sub(r'(?<=[a-zA-Z]),(?!\\s|$)', ', ', string)\n",
        "\n",
        "    return string\n",
        "\n",
        "def combine_lists(list_of_lists):\n",
        "    combined_list = [element.title() for sublist in list_of_lists for element in sublist]\n",
        "    unique_list = list(set(combined_list))\n",
        "    return unique_list\n",
        "\n",
        "def alpha_numeric(n):\n",
        "    non_ascii_letters = ''.join([char for char in string.printable if char not in string.ascii_letters and ord(char) < 128 and char.isprintable()])\n",
        "    alpha_numeric = string.ascii_letters + string.digits  # contains both upper and lowercase letters and digits\n",
        "    result = ''\n",
        "    while len(result) < n:\n",
        "        result += random.choice(alpha_numeric)\n",
        "   # result += random.choice(non_ascii_letters)\n",
        "    result += str(random.randint(0, 9))\n",
        "    return result\n",
        "\n",
        "def decades():\n",
        "    start_year = 1840\n",
        "    end_year = 2040\n",
        "    decade = random.randint(start_year, end_year) // 10 * 10\n",
        "    return f\"{decade}s\"\n",
        "\n",
        "def biased_coin_flip(probability):\n",
        "    flip = random.random() # random number between 0 and 1\n",
        "    if flip < probability:\n",
        "        return True\n",
        "    else:\n",
        "        return False\n",
        "\n",
        "def replace_photoart(string, reverse=False):\n",
        "    if reverse:\n",
        "        replacements = {\n",
        "            'photo': 'art',\n",
        "            'photograph': 'drawing',\n",
        "            'photography': 'illustration'\n",
        "        }\n",
        "    else:\n",
        "        replacements = {\n",
        "            'illustration': 'photography',\n",
        "            'drawing': 'photograph',\n",
        "            'art': 'photo',\n",
        "            'artgraphy': 'photography'\n",
        "        }\n",
        "    for old_word, new_word in replacements.items():\n",
        "        string = string.replace(old_word, new_word)\n",
        "    replacements = {\n",
        "            'artgraphy': 'drawing',\n",
        "            'artgraph': 'drawing'\n",
        "        }\n",
        "    for old_word, new_word in replacements.items():\n",
        "        string = string.replace(old_word, new_word)\n",
        "    return string\n"
      ],
      "metadata": {
        "id": "0UE-Da3ggqzv"
      },
      "execution_count": null,
      "outputs": []
    },
    {
      "cell_type": "code",
      "source": [
        "#lists\n",
        "subjects =[\"Astronomy\", \"Astrophysics\",\"Astrophotography\", \"Cosmology\", \"Gravity\", \"Black Hole\", \"Supernova\", \"Galaxy\", \"Nebula\", \"Star\", \"Planet\", \"Solar System\", \"Exoplanet\", \"Milky Way\", \"Andromeda\", \"Dark Matter\", \"Dark Energy\", \"Big Bang\", \"Universe\", \"Cosmos\", \"Astrobiology\", \"Space Exploration\", \"NASA\", \"Spacecraft\", \"Satellite\", \"Rocket\", \"Space Shuttle\", \"International Space Station\", \"Mars\", \"Moon\", \"Lunar\", \"Apollo\", \"Extraterrestrial\", \"Alien\", \"Interstellar\", \"Orbit\", \"Telescope\", \"Hubble\", \"Radio Astronomy\", \"Gravitational Waves\", \"Space-time\", \"Space Probe\", \"Asteroid\", \"Comet\", \"Meteor\", \"Landing\", \"Spacewalk\", \"Space Mission\", \"Space Agency\", \"Star Cluster\", \"Planetary System\", \"Celestial\", \"Redshift\", \"Blueshift\", \"Cosmic Microwave Background\", \"Astrochemistry\", \"Astrogeology\", \"Astrodynamics\", \"Astrography\", \"Astroinformatics\", \"Astrostatistics\", \"Astroengineering\", \"Astroethics\", \"Astroecology\", \"Astroparticle Physics\", \"Extraterrestrial Life\", \"Space Weather\", \"Meteor Shower\", \"Space Debris\", \"Space Colonization\", \"Astrocartography\", \"Astrozoology\", \"Astrotheology\", \"Astropaleontology\", \"Astroart\", \"Astroculture\", \"Astrofuturism\", \"Astroethnography\", \"Astronomical Phenomenon\", \"Space-time Continuum\", \"Celestial Mechanics\", \"Space Technology\", \"Astrovisualization\", \"Astrophotography\", \"Stellar Evolution\", \"Astrochronology\", \"Astrobiology\", \"Space Tourism\", \"Space Race\", \"Astroinformatics\", \"Astrogeodesy\", \"Astrohydrodynamics\", \"Astrokinematics\", \"Astrolithology\", \"Astrologistics\", \"Astrooptics\", \"Astroclimatology\", \"Astroclimatology\", \"Astrooceanography\", \"Astroaerobiology\", \"Astroecology\", \"Astrogeography\", \"Astrogeology\", \"Astrohydrology\", \"Astrohydrography\", \"Astrobiology\", \"Astroarchaeology\", \"Astroarchaeology\", \"Astroanthropology\", \"Astrosociology\"]\n",
        "actions =['Launch','Exoplanet Discovery', 'Dock', 'Orbit', 'Land', 'Takeoff', 'Reentry', 'Decelerate', 'Accelerate', 'Deploy', 'Capture', 'Explore', 'Discover', 'Investigate', 'Study', 'Survey', 'Observe', 'Monitor', 'Collect', 'Analyze', 'Sample', 'Experiment', 'Measure', 'Record', 'Transmit', 'Communicate', 'Navigate', 'Fly', 'Ascend', 'Descend', 'Maneuver', 'Resupply', 'Repair', 'Refuel', 'Upgrade', 'Install', 'Assemble', 'Detach', 'Eject', 'Test', 'Calibrate', 'Deploy', 'Retrieve', 'Recover', 'Return', 'Rescue', 'Evacuate', 'Liftoff', 'Docking', 'Rendezvous', 'Undocking', 'Sample', 'Descend', 'Extravehicular Activity', 'Spacewalk', 'Recharge', 'Release', 'Abort', 'Refurbish', 'Simulate', 'Communicate', 'Reposition', 'Rotate', 'Stabilize', 'Transfer', 'Image', 'Target', 'Align', 'Man', 'Control', 'Capture', 'Maneuver', 'Rotate', 'Attach', 'Detach', 'Transport', 'Move', 'Change', 'Adjust', 'Stow', 'Open', 'Close', 'Seal', 'Deploy', 'Retract', 'Activate', 'Deactivate', 'Release', 'Secure', 'Disconnect', 'Connect', 'Switch', 'Operate', 'Monitor', 'Command', 'Abort', 'Maneuver', 'Align', 'Coordinate', 'Execute']\n",
        "places = ['International Space Station', 'Kennedy Space Center', 'Cape Canaveral', 'Baikonur Cosmodrome', 'Wallops Flight Facility', 'Johnson Space Center', 'Goddard Space Flight Center', 'Mojave Air and Space Port', 'Vandenberg Space Force Base', 'SpaceX Launch Facility', 'Blue Origin Launch Site', 'Woomera Test Range', 'Jiuquan Satellite Launch Center', 'Xichang Satellite Launch Center', 'Taiyuan Satellite Launch Center', 'Wenchang Satellite Launch Center', 'Sriharikota Spaceport', 'Satish Dhawan Space Centre', 'Plesetsk Cosmodrome', 'Guiana Space Centre', 'European Spaceport', 'Alcântara Space Center', 'Tanegashima Space Center', 'Uchinoura Space Center', 'Kagoshima Space Center', 'Andøya Space Center', 'Esrange Space Center', 'Thumba Equatorial Rocket Launching Station', 'Svalbard Satellite Station', 'Kiruna Space Campus', 'Northrop Grumman Space Park', 'Spaceport America', 'White Sands Missile Range', 'NASA Ames Research Center', 'Jet Propulsion Laboratory', 'European Space Research and Technology Centre', 'Australian Space Agency', 'National Space Science Center (China)', 'Russian Academy of Sciences Space Research Institute', 'Brazilian National Institute for Space Research', 'Canadian Space Agency', 'Indian Space Research Organisation', 'Japan Aerospace Exploration Agency', 'Korea Aerospace Research Institute', 'European Space Agency', 'German Aerospace Center', 'Italian Space Agency', 'UK Space Agency', 'Russian Federal Space Agency', 'China National Space Administration', 'United Arab Emirates Space Agency', 'Spaceport Sweden', 'New Mexico Spaceport Authority', 'Texas Spaceport', 'California Spaceport', 'Virginia Commercial Space Flight Authority', 'Cape York Spaceport', 'Midland International Air and Space Port', 'Spaceport Camden', 'Omelek Island', 'Rocket Lab Launch Complex', 'Rocket Lab Launch Complex', 'Canso Spaceport', 'Nova Scotia', 'Yasny Cosmodrome', 'Svobodny Cosmodrome', 'Naro Space Center', 'South Jeolla', 'Brazilian Spaceport', 'Alcântara', 'Adelaide', 'Santa Maria', 'Kourou', 'Guiana Space Centre', 'European Spaceport', 'Lusaka', 'Shymkent', 'Vostochny Cosmodrome', 'Amur Oblast', 'Xichang Satellite Launch Center', 'Sriharikota', 'Andhra Pradesh', 'Tanegashima Space Center', 'Kagoshima', 'Uchinoura Space Center', 'Kiruna', 'Esrange', 'Garpenberg', 'Newquay', 'Lashkar Gah', 'Köyceğiz', 'Oruro', 'Dakhla', 'Marsa Alam', 'Awdal', 'Richmond', 'Zhukovsky', \"L'viv\", 'Bredasdorp', 'Djenné', 'Yongxing Island', 'Isla Aves', 'Azimuthal equidistant projection', 'Spaceport', 'Cosmodrome', 'Rocket Launch Site', 'Satellite Launch Center', 'Launch Pad', 'Space Research Center', 'Space Agency', 'Space Campus', 'Satellite Station', 'Flight Facility', 'Launch Complex', 'Test Range', 'Space Technology Center', 'Spaceport Authority', 'Research and Technology Centre']\n",
        "styles = ['De Stijl', 'Realism', 'Abstract Art', 'Medieval Art', 'Primitivism', 'Modernism', 'Conceptual Art', 'Avant-Garde', 'Impressionist', 'Post-Apocalyptic', 'Impressionism', 'Minimalism', 'Airbrush', 'Prehistoric Art', 'Collage', 'Romanticism', 'Punk', 'Rococo', 'Digital Art', 'Vintage', 'Surrealist', 'Hieroglyphics', 'Neoclassicism', 'Ancient Art', 'Installation', 'Graffiti', 'Constructivism', 'Ecological', 'Abstract', 'Fauvism', 'Fractal', 'Steampunk', 'Baroque', 'Casual', 'Symbolism', 'Glam', 'Low Poly', 'Futurism', 'Calligraphy', 'Classicism', 'Eclectic', 'Street Art', 'Expressionism', 'Babylonian Art', 'Dieselpunk', 'Contemporary', 'Biopunk', 'Traditional', 'Gothic', 'Photorealism', 'Sculpture', 'Glitchcore', 'Land Art', 'Pop Art', 'Cinematic', 'Afrofuturism', 'Dadaism', 'Synthwave', 'Abstract Organic', 'Suprematism', 'Op Art', 'Formal', 'Suminagashi', 'Abstract Expressionism', 'Anime', 'Mexican Muralism', 'Renaissance', 'Ethnic', 'Surrealism', 'Alegria', 'Retro', 'Industrial', 'Mannerism', 'Skeumorphism', 'Cubism', 'Vaporwave', 'Art Deco', 'Cyberpunk', 'Folk Art', 'Bohemian', 'Art Nouveau', 'Cybernetic', 'Post-Impressionism', 'Kinetic Art', 'Ancient Egyptian Art', 'Pointillism', 'Chinese Watercolor']\n",
        "formats = ['Street Photography', 'Courtroom Sketch', 'Claymation', 'Camera Obscura', 'Wireframe', 'One-Line Drawing', 'Lomography', 'Book Cover', 'Theatrical Press Release', 'Line Drawing', 'Brand Identity', 'Stage Set Design', 'Comic Book Art', 'Modeling Photoshoot', 'Advertising Campaign', 'Fashion Editorial', 'Professional Corporate Portrait', 'Watercolor Painting', 'Macro 35Mm Photograph', 'Music Video', 'Sound Installation', 'Collage', 'Concept Art', 'Promotional Video', 'Interactive Installation', '3D Render', 'Architectural Photography From Magazine', 'Social Media Campaign', 'Logo Design', 'Short Film', 'Animated Gif', 'Pixel Art', 'Real Estate Photography', 'Architectural Blueprint', 'Aquatint Print', 'Poster Design', 'Motion Graphics', 'Layered Paper', 'Stained Glass Window', 'Illustration', 'Autochrome', 'Long-Exposure Photograph With Slow Shutter Speed', 'Portrait Photography', 'Album Art Cover', 'Infographic', 'Photo Manipulation', 'Web Design', 'Photograph', 'Editorial Fashion Photography', 'Travel Photography', 'Street Art Mural', 'Portrait', 'Fifth Grade Yearbook', 'Line Art', 'Brochure Design', 'Cartoon', 'Spray-Painted Onto A Wall', 'Oil Painting', 'Harsh Flash Photography', 'Data Visualization', 'Sigma 75Mm', 'Press Release', 'Shot On Iphone 11', 'Low Poly', 'Fashion Show', 'Full Body Photo', 'Disposable Camera', 'Marble Statue', 'Typography Design', 'Storyboard', 'Commercial Print Ad', 'Street Art', 'Augmented Reality (Ar) App', 'Charcoal Drawing', 'Under Electron Microscope', 'T-Shirt Design', 'Trail Cam', 'Origami', 'Pinhole Photography', 'Aztec Carving', 'Colouring-In Sheet', 'Pastel Drawing', 'Video Game Design', 'Sketchbook', 'Blueprint', 'Visual Effects (Vfx)', 'Topiary', 'Decorative Minoan Mural', 'Storybook', 'Houdini 3D Render', 'Voynich Manuscript', 'Ice Carving', 'Editorial Illustration', 'Album Cover', 'Medieval Portrait', 'Pencil Sketch', 'Mugshot', 'Action Photography', 'Selfie', 'Logo Animation', 'Instruction Manual', 'Byzantine Icon', 'Ancient Egypt Papyrus', 'Interior Design', 'Manuscripts', 'Stop-Motion Animation', 'Fashion Lookbook', 'Roman Mosaic', 'Diagram', 'Linocut', 'Packaging Design', 'Pencil And Watercolor Drawing', 'Product Prototype', 'Virtual Reality (Vr) Experience', 'Packaging Prototype', 'Event Poster', 'Documentary Film', 'Polaroid', 'Advertising Poster', 'Sticker Illustration', 'Mythological Map', 'Double Exposure', 'Dashcam', 'Catalog Design', 'Photoshopped Image', 'Cgi', 'Product Photography', 'Patent Drawing', 'Magazine Layout', 'Art Installation', 'Cave Painting', 'Tattoo', 'Comic Strip', 'Brand Mascot', 'Vector Art', 'Pirate Map', 'Experimental Expired Film Photo', 'Crayon Drawing', 'Exhibition Design', 'Studio Photography', 'Bronze Statue', 'Kindergartener Drawing', 'Painting', 'Cinematography From Music Video', 'Terracotta Warriors', 'Branding Guidelines']\n",
        "boosters = ['Beautiful', 'Inspiring', 'Extraordinary', 'Unbelievable', 'Innovative', 'Rendered In Unreal Engine', 'Exceptionally Skilled', 'Unique', 'Spectacular', 'Stunning', 'Game-Changing', 'Hyper Realistic', 'Striking', 'Detailed', 'Studio Lighting', 'Jaw-Dropping', 'Magical', 'Digital Art', 'Skillful', 'Fantastic', 'Unforgettable', 'Visionary', 'Exceptional', 'Very Beautiful', 'Captivating', 'Genius', 'Expertise', 'Masterful', 'Outstanding', 'Impressive', 'Highly Detailed', 'Arnold Render', 'Contest Winner', 'Perspectives', 'State-Of-The-Art', 'Iconic', 'Mind-Blowing', '4K Resolution', 'Well Preserved', 'Rendering', 'One-Of-A-Kind', 'Exquisite', 'Groundbreaking', 'Vibes', 'Mesmerizing', 'Unmatched', 'Exemplary', 'Aesthetic', 'Ingenious', 'Hyperrealistic', 'Epic', 'High Poly', 'Top-Notch', 'Wow Factor', 'Trailblazing', 'Impressive Detail', 'Trending On Artstation', 'Vfx', 'Incredible', 'Photorealistic', 'Ultra High Poly', 'Remarkable', 'Wondrous', 'Blender 3D', '#Wow', 'Postprocessing', 'Creative', 'Phenomenal', 'Unreal Engine', 'Octane Render', 'Talented', 'Revolutionary', '70Mm', 'Extremely Detailed', 'Vivid', 'Cutting-Edge', 'Professional', 'Masterpiece', 'Inspire', 'World-Class', 'High Detail', 'Fascinating']\n",
        "perspectives = ['Off-Center', 'Panning', 'Plain Background', 'Candid', 'Wide Angle', 'In The Distance', 'Low Angle', 'Tilt-Shift', 'Oversaturated Filter', 'Underwater', \"Bird'S Eye\", 'Overhead View', 'Close Face', 'Zoomed', 'Overhead', 'High Angle', 'First-Person', 'Through A Periscope', 'From Above', 'From Below', 'Infrared', 'Drone', 'Unconventional', 'Telephoto', 'Reverse', 'Aerial View', 'Hard Lighting', 'Leading Lines', 'Close-Up', 'Portrait', 'Dutch Angle', 'Abstract', 'Split Screen', 'Fish-Eye', 'Forced Perspective', 'Night Vision', 'Vertical', 'White Background', '85Mm', 'Diagonal', 'Landscape', 'Sunset Photo At Golden Hour', 'X-Ray', 'Tilted Frame', 'Through A Porthole', 'Flat Lay', 'Head-And-Shoulders Shot', 'Extreme Close-Up', 'Panoramic', 'Spherical', 'Tilted', 'Shallow Depth Of Field', 'Warped', 'Cinematic', 'Lens Flare', 'Top-Down', 'Wide-Angle', 'Astrological', 'Long Shot', 'Long Exposure', 'Full Shot', 'Midshot', 'Parallel', 'Selective Focus', 'Omniscient', 'Bokeh', 'Isometric', 'From Behind', 'Viewed From Behind', 'Vertigo Effect', 'Silhouette', 'Time-Lapse', 'Wide Shot', 'Framed', 'Motion Blur', 'On Canvas', 'Multiple Exposure', 'Reflection', 'Fisheye Lens', 'Symmetrical', 'Macro', 'Close Up', 'Over-The-Shoulder Shot', 'Point Of View (Pov)']\n",
        "views = ['Birds-Eye View', 'Panning', 'Wide-Angle View', 'Drone Shot', 'Street View', 'Close-Up Shot, ', 'Focus Shot On The Style Inspired Clothing, ', 'Split Focus', 'Plain Background', 'Hdr (High Dynamic Range)', 'Candid', 'In The Distance', 'Front View', 'Low Angle', 'Medium Close-Up Shot Of Style Inspired Clothing, ', 'Tilt-Shift', 'Light Painting', 'Oversaturated Filter', 'Backlit Subjectmedium-Wide Full Body Shot Doing Yoga, Focus Shot On The Model, ', 'Medium-Wide Full Body Shot, ', 'Handheld', 'Overhead View', 'Macro View', 'Cityscape View', 'Collage View', 'Selective View', 'Close Face', 'Night Photography', 'Low Angle View', 'Split View', 'Night View', 'Overhead', 'High Angle', 'Through A Periscope', 'From Above', 'From Below', 'Infrared', 'Symmetrical View', 'Asymmetric View', 'Tracking Shot', 'Telephoto', 'Close-Up Shot Of Style Inspired Clothing On The Style Inspired Clothing, ', 'Focus Shot On The Model, ', 'Top-Down View', 'Aerial View', 'High Angle View', 'Hard Lighting', 'Narrow-Angle View', 'Medium-Wide Full Body Shot Doing Yoga, Focus Shot On The Model, ', 'Close-Up', 'Rooftop View', 'Portrait', 'Dutch Angle', 'Medium Close-Up Shot, ', 'Slow Motion', 'Zoomed-Out View', 'Extreme Close-Up View', 'Fixed View', 'Fish-Eye', 'Dark Background', 'Interior View', 'Back View', '85Mm', 'Rack Focus', 'Narrow Perspective View', 'Landscape', 'Sunset Photo At Golden Hour', 'Scenic View', 'Tilted Frame', 'Close-Up Shot On The Model, ', 'Micro View', 'Through A Porthole', 'Exterior View', 'Head-And-Shoulders Shot', '360-Degree View', 'Panoramic', 'Focus Shot On The Style Inspired Clothing, Focus Shot On The Model, ', 'Dynamic View', 'Close-Up Shot Of Style Inspired Clothing, ', 'Extreme Close-Up Shot On The Model, ', 'Over-The-Shoulder View', 'Zoomed-In View', 'Crane Shot', 'Shallow Depth Of Field', 'Lens Flare', 'Distant View', 'Extreme Close-Up Shot Of Style Inspired Clothing On The Style Inspired Clothing, ', 'Wide-Angle', 'Long Shot', 'Vertical View', 'Long Exposure', 'Full Shot', 'Midshot', 'Extreme Wide Shot', 'Point-Of-View (Pov)', 'Extreme Close-Up Shot, ', '360-Degree Panoramic View', 'Bokeh', 'Static View', 'Steadicam', 'Subject In Motion', 'Framed Shot', '35Mm Aerial View', 'Isometric', 'First-Person View', 'Seascape View', 'From Behind', 'Viewed From Behind', 'Close Distance View', 'Horizontal View', 'Double Exposure', 'Landscape View', 'Panoramic View', 'Wide Perspective View', 'Headshot', 'Full View', 'Silhouette', 'Time-Lapse', 'Wide Shot', 'Motion Blur', 'On Canvas', 'Candid View', 'Reflection', 'Fisheye Lens', 'Partial View', \"Bird'S Eye View\", 'Side View', 'Unconventional Framing', 'Slo-Mo View', 'Skyline View', 'Extreme Close-Up Shot', 'Detailed View Of The Model, ', 'Macro', 'Extreme Close-Up Shot Of Style Inspired Clothing, ', 'Close Up', 'Over-The-Shoulder Shot', 'Underwater View', 'Time-Lapse View']\n",
        "artists = ['Vija Celmins', 'Robert McCall', 'Lucien Rudaux', 'Alexey Leonov', 'Ron Miller', 'Chesley Bonestell', 'Don Davis', 'Lynette Cook', 'Kim Poor', 'David A. Hardy', 'Jon Lomberg', 'Björn Jonsson', 'Dan Durda', 'Bonnie Buratti', 'Michael Carroll', 'Fred Freeman', 'Ralph McQuarrie', 'Norman Rockwell', 'Peter Elson', 'Ron Cobb', 'Chris Foss', 'Syd Mead', 'H.R. Giger', 'Annie Leibovitz', 'Trevor Paglen', 'Olafur Eliasson', 'Ai Weiwei', 'Thomas Ruff', 'Tomas Saraceno', 'Hiroshi Sugimoto', 'Janet Echelman', 'James Turrell', 'Carsten Höller', 'Matthew Ritchie', 'Michael Benson', 'Eduardo Kac', 'Agnes Meyer-Brandis', 'Diane Tuft', 'Ryoji Ikeda', 'Trevor Paglen', 'Hiraki Sawa', 'Nathalie Djurberg', 'Hajime Sorayama', 'Lowry Burgess', 'Michael Najjar', 'Simon Faithfull', 'Julia Christensen', 'Lia Halloran', 'Tom Sachs', 'Antony Gormley', 'Luke Jerram', 'Oliver Beer', 'Jane and Louise Wilson', 'Josiah McElheny', 'Julian Charrière', 'Amy Balkin', 'Liliane Lijn', 'Luke Jerram', 'Rachael Champion', 'Yayoi Kusama', 'Lauren Bon', 'Tomás Saraceno', 'Angela Bulloch', 'Tavares Strachan', 'Ruth Jarman and Joe Gerhardt (Semiconductor)', 'Sarah Sze', 'Leonid Tishkov', 'Sarah Morris', 'William Kentridge', 'John Gerrard', 'Trevor Paglen', 'Diana Thater', 'Luisa Lambri', 'Evan Penny', 'Peter Fischli and David Weiss', 'Richard Mosse', 'Evan Roth', 'Omer Fast', 'Anish Kapoor', 'Tomas Saraceno', 'Doug Aitken', 'Bridget Riley', 'Shahzia Sikander', 'Julie Mehretu', 'Shirazeh Houshiary', 'Doug Aitken', 'James Turrell', 'The Otolith Group', 'Alfredo Jaar', 'Olafur Eliasson', 'Carsten Höller', 'Cai Guo-Qiang', 'Tacita Dean', 'Cornelia Parker', 'Rachel Whiteread', 'Mark Bradford', 'Glenn Ligon', 'Wangechi Mutu', 'Sam Durant', 'Theaster Gates', 'Rashid Johnson', 'Sanford Biggers', 'Hank Willis Thomas', 'Bisa Butler', 'Firelei Báez', 'Mary Weatherford', 'Jenny Holzer', 'Tania Bruguera', 'Ai Weiwei', 'Yinka Shonibare', 'Mona Hatoum', 'Nari Ward', 'David Hammons', 'Kerry James Marshall', 'Cindy Sherman', 'Barbara Kruger', 'Kara Walker', 'Marina Abramović', 'Yayoi Kusama', 'Louise Bourgeois', 'Diane Arbus', 'Agnes Martin', 'Bridget Riley', 'Yvonne Rainer', 'Catherine Opie', 'Carrie Mae Weems', 'Mickalene Thomas', 'Janine Antoni', 'Nan Goldin', 'Wangechi Mutu', 'Rachel Harrison', 'Elaine Sturtevant', 'Cady Noland', 'Pipilotti Rist', 'Helen Marten', 'Eva Hesse', 'Kiki Smith', 'Lorna Simpson', 'Sigmar Polke', 'Georg Baselitz', 'Günther Uecker', 'Anselm Kiefer', 'Gerhard Richter', 'Thomas Struth', 'Andreas Gursky', 'Olafur Eliasson', 'Albert Oehlen', 'Rosemarie Trockel', 'Marlene Dumas', 'Neo Rauch', 'Julian Schnabel', 'Cindy Sherman', 'Jenny Holzer', 'Barbara Kruger', 'Matthew Barney', 'Jeff Koons', 'Damien Hirst', 'Takashi Murakami', 'Yayoi Kusama', 'Ai Weiwei', 'Marina Abramović', 'Anish Kapoor', 'Olafur Eliasson', 'Chris Ofili', 'Sarah Sze', 'Kara Walker', 'Kehinde Wiley', 'Tracey Emin', 'Grayson Perry', 'Rachel Whiteread', 'Cornelia Parker', 'Tacita Dean', 'Wolfgang Tillmans', 'Elizabeth Peyton', 'Shirin Neshat', 'Mariko Mori', 'Matthew Ritchie', 'John Currin', 'Julie Mehretu', 'Ed Ruscha', 'Mark Bradford', 'Kerry James Marshall', 'Njideka Akunyili Crosby', 'Kehinde Wiley', 'Amy Sherald', 'Toyin Ojih Odutola', 'Lorna Simpson', 'David Hammons', 'Theaster Gates', 'Mickalene Thomas', 'Kara Walker', 'Hank Willis Thomas', 'Glenn Ligon', 'Kerry James Marshall', 'Nari Ward', 'El Anatsui', 'Mark Bradford', 'Nick Cave', 'Kehinde Wiley', 'Chris Ofili', 'Yinka Shonibare', 'Julie Mehretu', 'Wangechi Mutu', 'Kerry James Marshall', 'Mickalene Thomas', 'Glenn Ligon', 'Kara Walker', 'Hank Willis Thomas', 'Njideka Akunyili Crosby', 'Lorna Simpson', 'David Hammons', 'Theaster Gates', 'Nari Ward']\n",
        "mediums = ['Fiber Art', 'Performance Art', 'Charcoal Drawing', 'Woodworking', 'Metal Sculpture', 'Gouache Painting', 'Marker Art', 'Wire Sculpture', 'Illustration', 'Assemblage', 'Acrylic Painting', 'Printmaking', 'Mosaic', 'Pastel Drawing', 'Textile Printing', 'Encaustic Art', 'Spray Painting', 'Scratchboard Art', 'Installation Art', 'Metalwork', 'Lithography', 'Textile Art', 'Pencil Drawing', 'Stained Glass', 'Ink Art', 'Bronze Sculpture', 'Doodle', 'Sculpture', 'Pottery', 'Pen And Ink Drawing', 'Watercolor Painting', 'Digital Painting', 'Collage', 'Screen Printing', 'Engraving', 'Glass Art', 'Ceramics', 'Oil Painting', 'Tapestry', 'Photomontage', 'Photo', 'Painting', 'Airbrush Art', 'Digital Art', 'Calligraphy', 'Childrens Art', 'Batik Art', 'Clay Sculpture', 'Paper Art', 'Etching', 'Video Art', 'Graphite Drawing', 'Mixed Media']\n",
        "environments = ['In A Surreal Landscape','Space Station', 'In A Post-Apocalyptic Setting', 'In A Utopian Society', 'Alien Civilization', 'In A Dream', 'In A Desert', 'In A Cozy Cottage', 'In A Wild West Town', 'In A Futuristic City', 'In A Forest', 'In A Celestial Realm', 'Indoors', 'In A Mythical Land', 'In A Fantasy Kingdom', 'In A Museum', 'In An Alternate Dimension', 'In A Historical Setting', 'In A Science Laboratory', 'Outdoors', 'On The Moon', 'In A Parallel Universe', 'In Narnia', 'In A Small Town', 'In A Space Station', 'In A Haunted House', 'In A Futuristic Spaceship', 'In An Underwater City', 'In A Film Noir Setting', 'In A Circus', 'Underwater', 'In An Enchanted Forest', 'In A Bustling Market', 'In A Castle', 'In A Snowy Landscape', 'In A Hidden Cave', 'In A Zen Garden', 'Yoga Studio', 'The Emerald City', 'In A Lunar Colony', 'In A Jungle', 'In A Magical Realm', 'In A Dystopian World', 'In A Virtual Reality', 'In A Cyberpunk City', 'In A Floating City', 'In A Steampunk World', 'In A Time-Traveling Adventure', 'In A Tropical Paradise', 'In A War Zone']\n",
        "colors = ['Iridescent', 'Cool', 'Red Apple Color', 'Black And White', 'Deep', 'Autumnal Colors', 'Nectarine Color', 'Cool Blues', 'Blueberry Color', 'Endive Color', 'Kiwi Color', 'Turnip Color', 'Subtle', 'Raspberry Color', 'Primary Colors', 'Sun-Kissed', 'Pale', 'Potato Color', 'Metallic', 'Yellow Apple Color', 'Broccoli Color', 'Desaturated', 'Yellow Squash Color', 'Warm', 'Purple Potato Color', 'Persimmon Color', 'Carrot Color', 'Playful', 'Pop Of Color', 'Harmonious', 'Yellow Tomato Color', 'Bell Pepper Color', 'Rhubarb Color', 'Lemon Color', 'Soothing', 'Jewel Tones', 'Thyme Color', 'Eggplant Color', 'Garlic Color', 'Watermelon Color', 'Yellow Bell Pepper Color', 'Apricot Color', 'Elegant', 'Lime Color', 'Papaya Color', 'Dramatic', 'Purple Carrot Color', 'Bold', 'Faded', 'Contrasting', 'Tangerine Color', 'Rosemary Color', 'Gradient', 'Variegated', 'Chili Pepper Color', 'Parsley Color', 'Pastel Pinks', 'Pepper Color', 'Green Pea Color', 'Honeydew Melon Color', 'Cucumber Color', 'Turmeric Color', 'Neon', 'Saturated', 'Lavender Color', 'Whimsical', 'Mango Color', 'Sweet Potato Color', 'Translucent', 'Orange Color', 'Butternut Squash Color', 'Passion Fruit Color', 'Warm Yellows', 'Toned', 'Rich', 'Sage Color', 'Crisp', 'Secondary Colors', 'Plum Color', 'Jalapeno Pepper Color', 'Earth Tones', 'Tomato Color', 'Red Onion Color', 'Vivid Greens', 'Radish Color', 'Monochromatic', 'Tinted', 'Vibrant', 'Glowing', 'Peach Color', 'Cantaloupe Color', 'Okra Color', 'Grape Color', 'Acai Color', 'Popsicle Colors', 'Strawberry Color', 'Mint Color', 'Zucchini Color', 'Grapefruit Color', 'Colorful', 'Clementine Color', 'Soothing Purples', 'Spinach Color', 'Guava Color', 'Ginger Color', 'Pear Color', 'Kale Color', 'Transitional', 'Pineapple Color', 'Green Bean Color', 'Purple Cabbage Color', 'Muted', 'Glossy', 'Cranberry Color', 'Complementary', 'Shades Of Gray', 'Green Apple Color', 'Bright', 'Blackberry Color', 'Fig Color', 'Beet Color', 'Cherry Color', 'Earthy Browns', 'Pastel', 'Pumpkin Color', 'Pearlescent', 'Red Cabbage Color', 'Pomegranate Color', 'Arugula Color', 'Opaque', 'Multicolored', 'Matte', 'Red Pepper Color', 'Dusky Oranges']\n",
        "lights = ['Rainy', 'Sunrise', 'Stormy', 'Candlelight', 'Moonlight', 'Firelight', 'Misty', 'Torchlight', 'Strobe', 'Gloomy', 'Intense', 'Chandelier', 'Fairy Lights', 'Cloudy', 'Backlighting', 'Laser', 'Ambient', 'Twilight', 'Lantern', 'Mysterious', 'Moody', 'Foggy', 'Silhouette', 'Soft', 'High-Key', 'Dramatic', 'Dusk', 'Dynamic', 'Streetlights', 'Dreamy', 'Subtle', 'Vibrant', 'Glowing', 'Bright', 'Low-Key', 'Rim Lighting', 'Dappled', 'Underwater', 'Cinematic', 'Studio Lights', 'Romantic', 'Overcast', 'Ethereal', 'Dawn', 'Magical', 'Fluorescent', 'Harsh', 'Spotlight', 'Firefly', 'Disco Lights', 'Natural Light', 'Golden Hour', 'Ambient Lighting', 'Neon', 'Sunset', 'Fireworks']\n",
        "moods = ['Brooding', 'Whimsical', 'Lively', 'Enigmatic', 'Soothing', 'Blissful', 'Optimistic', 'Raucous', 'Captivating', 'Hopeful', 'Intense', 'Joyful', 'Elegant', 'Moody', 'Mysterious', 'Pensive', 'Energetic', 'Reflective', 'Uplifting', 'Upbeat', 'Peaceful', 'Thoughtful', 'Melancholic', 'Euphoric', 'Dreamlike', 'Dreamy', 'Sedate', 'Mellow', 'Passionate', 'Enchanting', 'Soulful', 'Exuberant', 'Serene', 'Suspenseful', 'Romantic', 'Empowering', 'Contemplative', 'Ethereal', 'Fierce', 'Magical', 'Tranquil', 'Haunting', 'Calm', 'Smiling Happy', 'Chill', 'Playful', 'Funky', 'Dark', 'Nostalgic', 'Hypnotic']\n",
        "decades = ['Ancient Greece', 'Future Dystopia', 'World War Ii', 'Ancient Egypt', 'Colonial Era', 'Swinging Sixties', 'Ice Age', 'Information Age', 'Roaring Twenties', 'Middle Ages', 'Gothic Era', 'Inca Empire', 'Elizabethan Era', 'Renaissance Period', 'Great Depression', 'Viking Age', 'Digital Age', 'Belle Époque', 'Disco Era', 'Post-War Era', 'Jurassic Era', 'Hippie Era', 'New Wave Era', 'World War I', 'Industrial Revolution', 'Feudal Japan', 'Prehistorical', 'Space Exploration Era', '1920S', '1800S', 'Cretaceous Period', 'Ancient Rome', 'Civil Rights Movement', 'Space Age', 'Art Deco Era', 'Aztec Civilization', 'Victorian Era', 'Age Of Exploration', 'Wild West', 'Age Of Enlightenment', 'Punk Rock Era', 'Edwardian Era', 'Medieval Era', 'Prohibition Era', 'Prehistoric Times', 'Regency Era', '1960S', 'Future', 'Gilded Age', 'Golden Age Of Hollywood', 'Stone Age', 'Cold War', 'Art Nouveau Period']\n",
        "mj_parameters = []"
      ],
      "metadata": {
        "id": "mF3_8C8WSmZN"
      },
      "execution_count": null,
      "outputs": []
    },
    {
      "cell_type": "code",
      "source": [
        "subjects =[\"Astronomy\", \"Astrophysics\",\"Astrophotography\", \"Cosmology\", \"Gravity\", \"Black Hole\", \"Supernova\", \"Galaxy\", \"Nebula\", \"Star\", \"Planet\", \"Solar System\", \"Exoplanet\", \"Milky Way\", \"Andromeda\", \"Dark Matter\", \"Dark Energy\", \"Big Bang\", \"Universe\", \"Cosmos\", \"Astrobiology\", \"Space Exploration\", \"NASA\", \"Spacecraft\", \"Satellite\", \"Rocket\", \"Space Shuttle\", \"International Space Station\", \"Mars\", \"Moon\", \"Lunar\", \"Apollo\", \"Extraterrestrial\", \"Alien\", \"Interstellar\", \"Orbit\", \"Telescope\", \"Hubble\", \"Radio Astronomy\", \"Gravitational Waves\", \"Space-time\", \"Space Probe\", \"Asteroid\", \"Comet\", \"Meteor\", \"Landing\", \"Spacewalk\", \"Space Mission\", \"Space Agency\", \"Star Cluster\", \"Planetary System\", \"Celestial\", \"Redshift\", \"Blueshift\", \"Cosmic Microwave Background\", \"Astrochemistry\", \"Astrogeology\", \"Astrodynamics\", \"Astrography\", \"Astroinformatics\", \"Astrostatistics\", \"Astroengineering\", \"Astroethics\", \"Astroecology\", \"Astroparticle Physics\", \"Extraterrestrial Life\", \"Space Weather\", \"Meteor Shower\", \"Space Debris\", \"Space Colonization\", \"Astrocartography\", \"Astrozoology\", \"Astrotheology\", \"Astropaleontology\", \"Astroart\", \"Astroculture\", \"Astrofuturism\", \"Astroethnography\", \"Astronomical Phenomenon\", \"Space-time Continuum\", \"Celestial Mechanics\", \"Space Technology\", \"Astrovisualization\", \"Astrophotography\", \"Stellar Evolution\", \"Astrochronology\", \"Astrobiology\", \"Space Tourism\", \"Space Race\", \"Astroinformatics\", \"Astrogeodesy\", \"Astrohydrodynamics\", \"Astrokinematics\", \"Astrolithology\", \"Astrologistics\", \"Astrooptics\", \"Astroclimatology\", \"Astroclimatology\", \"Astrooceanography\", \"Astroaerobiology\", \"Astroecology\", \"Astrogeography\", \"Astrogeology\", \"Astrohydrology\", \"Astrohydrography\", \"Astrobiology\", \"Astroarchaeology\", \"Astroarchaeology\", \"Astroanthropology\", \"Astrosociology\"]\n",
        "actions =['Launch','Exoplanet Discovery', 'Dock', 'Orbit', 'Land', 'Takeoff', 'Reentry', 'Decelerate', 'Accelerate', 'Deploy', 'Capture', 'Explore', 'Discover', 'Investigate', 'Study', 'Survey', 'Observe', 'Monitor', 'Collect', 'Analyze', 'Sample', 'Experiment', 'Measure', 'Record', 'Transmit', 'Communicate', 'Navigate', 'Fly', 'Ascend', 'Descend', 'Maneuver', 'Resupply', 'Repair', 'Refuel', 'Upgrade', 'Install', 'Assemble', 'Detach', 'Eject', 'Test', 'Calibrate', 'Deploy', 'Retrieve', 'Recover', 'Return', 'Rescue', 'Evacuate', 'Liftoff', 'Docking', 'Rendezvous', 'Undocking', 'Sample', 'Descend', 'Extravehicular Activity', 'Spacewalk', 'Recharge', 'Release', 'Abort', 'Refurbish', 'Simulate', 'Communicate', 'Reposition', 'Rotate', 'Stabilize', 'Transfer', 'Image', 'Target', 'Align', 'Man', 'Control', 'Capture', 'Maneuver', 'Rotate', 'Attach', 'Detach', 'Transport', 'Move', 'Change', 'Adjust', 'Stow', 'Open', 'Close', 'Seal', 'Deploy', 'Retract', 'Activate', 'Deactivate', 'Release', 'Secure', 'Disconnect', 'Connect', 'Switch', 'Operate', 'Monitor', 'Command', 'Abort', 'Maneuver', 'Align', 'Coordinate', 'Execute']\n",
        "places = ['International Space Station', 'Kennedy Space Center', 'Cape Canaveral', 'Baikonur Cosmodrome', 'Wallops Flight Facility', 'Johnson Space Center', 'Goddard Space Flight Center', 'Mojave Air and Space Port', 'Vandenberg Space Force Base', 'SpaceX Launch Facility', 'Blue Origin Launch Site', 'Woomera Test Range', 'Jiuquan Satellite Launch Center', 'Xichang Satellite Launch Center', 'Taiyuan Satellite Launch Center', 'Wenchang Satellite Launch Center', 'Sriharikota Spaceport', 'Satish Dhawan Space Centre', 'Plesetsk Cosmodrome', 'Guiana Space Centre', 'European Spaceport', 'Alcântara Space Center', 'Tanegashima Space Center', 'Uchinoura Space Center', 'Kagoshima Space Center', 'Andøya Space Center', 'Esrange Space Center', 'Thumba Equatorial Rocket Launching Station', 'Svalbard Satellite Station', 'Kiruna Space Campus', 'Northrop Grumman Space Park', 'Spaceport America', 'White Sands Missile Range', 'NASA Ames Research Center', 'Jet Propulsion Laboratory', 'European Space Research and Technology Centre', 'Australian Space Agency', 'National Space Science Center (China)', 'Russian Academy of Sciences Space Research Institute', 'Brazilian National Institute for Space Research', 'Canadian Space Agency', 'Indian Space Research Organisation', 'Japan Aerospace Exploration Agency', 'Korea Aerospace Research Institute', 'European Space Agency', 'German Aerospace Center', 'Italian Space Agency', 'UK Space Agency', 'Russian Federal Space Agency', 'China National Space Administration', 'United Arab Emirates Space Agency', 'Spaceport Sweden', 'New Mexico Spaceport Authority', 'Texas Spaceport', 'California Spaceport', 'Virginia Commercial Space Flight Authority', 'Cape York Spaceport', 'Midland International Air and Space Port', 'Spaceport Camden', 'Omelek Island', 'Rocket Lab Launch Complex', 'Rocket Lab Launch Complex', 'Canso Spaceport', 'Nova Scotia', 'Yasny Cosmodrome', 'Svobodny Cosmodrome', 'Naro Space Center', 'South Jeolla', 'Brazilian Spaceport', 'Alcântara', 'Adelaide', 'Santa Maria', 'Kourou', 'Guiana Space Centre', 'European Spaceport', 'Lusaka', 'Shymkent', 'Vostochny Cosmodrome', 'Amur Oblast', 'Xichang Satellite Launch Center', 'Sriharikota', 'Andhra Pradesh', 'Tanegashima Space Center', 'Kagoshima', 'Uchinoura Space Center', 'Kiruna', 'Esrange', 'Garpenberg', 'Newquay', 'Lashkar Gah', 'Köyceğiz', 'Oruro', 'Dakhla', 'Marsa Alam', 'Awdal', 'Richmond', 'Zhukovsky', \"L'viv\", 'Bredasdorp', 'Djenné', 'Yongxing Island', 'Isla Aves', 'Azimuthal equidistant projection', 'Spaceport', 'Cosmodrome', 'Rocket Launch Site', 'Satellite Launch Center', 'Launch Pad', 'Space Research Center', 'Space Agency', 'Space Campus', 'Satellite Station', 'Flight Facility', 'Launch Complex', 'Test Range', 'Space Technology Center', 'Spaceport Authority', 'Research and Technology Centre']\n",
        "styles = ['Space Art', 'Astronomical Realism', 'Celestial Abstraction', 'Astro-Medieval Art', 'Extraterrestrial Primitivism', 'Cosmic Modernism', 'Astroconceptual Art', 'Astro-Avant-Garde', 'Stellar Impressionism', 'Interstellar Post-Apocalyptic Art', 'Astro-Impressionism', 'Celestial Minimalism', 'Astro-Airbrush', 'Cosmic Prehistoric Art', 'Galactic Collage', 'Astro-Romanticism', 'Astro-Punk', 'Astro-Rococo', 'Astro-Digital Art', 'Astro-Vintage', 'Astro-Surrealism', 'Astro-Hieroglyphics', 'Astro-Neoclassicism', 'Astro-Ancient Art', 'Astro-Installation', 'Astro-Graffiti', 'Astro-Constructivism', 'Astro-Ecological Art', 'Astro-Abstract', 'Astro-Fauvism', 'Astro-Fractal Art', 'Astro-Steampunk', 'Astro-Baroque', 'Astro-Casual', 'Astro-Symbolism', 'Astro-Glam', 'Astro-Low Poly', 'Astro-Futurism', 'Astro-Calligraphy', 'Astro-Classicism', 'Astro-Eclectic Art', 'Astro-Street Art', 'Astro-Expressionism', 'Astro-Babylonian Art', 'Astro-Dieselpunk', 'Astro-Contemporary', 'Astro-Biopunk', 'Astro-Traditional', 'Astro-Gothic', 'Astro-Photorealism', 'Astro-Sculpture', 'Astro-Glitchcore', 'Astro-Land Art', 'Astro-Pop Art', 'Astro-Cinematic', 'Astro-Afrofuturism', 'Astro-Dadaism', 'Astro-Synthwave', 'Astro-Abstract Organic', 'Astro-Suprematism', 'Astro-Op Art', 'Astro-Formal Art', 'Astro-Suminagashi', 'Astro-Abstract Expressionism', 'Astro-Anime', 'Astro-Mexican Muralism', 'Astro-Renaissance', 'Astro-Ethnic Art', 'Astro-Surrealism', 'Astro-Alegria', 'Astro-Retro', 'Astro-Industrial Art', 'Astro-Mannerism', 'Astro-Skeumorphism', 'Astro-Cubism', 'Astro-Vaporwave', 'Astro-Art Deco', 'Astro-Cyberpunk', 'Astro-Folk Art', 'Astro-Bohemian', 'Astro-Art Nouveau', 'Astro-Cybernetic Art', 'Astro-Post-Impressionism', 'Astro-Kinetic Art', 'Astro-Ancient Egyptian Art', 'Astro-Pointillism', 'Astro-Chinese Watercolor']\n",
        "formats = ['Space Photography', 'Celestial Courtroom Sketch', 'Astro Claymation', 'Camera Obscura', 'Astro Wireframe', 'Celestial One-Line Drawing', 'Astro Lomography', 'Astro Book Cover', 'Astro Theatrical Press Release', 'Celestial Line Drawing', 'Astro Brand Identity', 'Astro Stage Set Design', 'Astro Comic Book Art', 'Astro Modeling Photoshoot', 'Astro Advertising Campaign', 'Astro Fashion Editorial', 'Astro Professional Corporate Portrait', 'Astro Watercolor Painting', 'Astro Macro 35Mm Photograph', 'Astro Music Video', 'Astro Sound Installation', 'Astro Collage', 'Astro Concept Art', 'Astro Promotional Video', 'Astro Interactive Installation', 'Astro 3D Render', 'Astro Architectural Photography From Magazine', 'Astro Social Media Campaign', 'Astro Logo Design', 'Astro Short Film', 'Astro Animated Gif', 'Astro Pixel Art', 'Astro Real Estate Photography', 'Astro Architectural Blueprint', 'Astro Aquatint Print', 'Astro Poster Design', 'Astro Motion Graphics', 'Astro Layered Paper', 'Astro Stained Glass Window', 'Astro Illustration', 'Astro Autochrome', 'Astro Long-Exposure Photograph With Slow Shutter Speed', 'Astro Portrait Photography', 'Astro Album Art Cover', 'Astro Infographic', 'Astro Photo Manipulation', 'Astro Web Design', 'Astro Photograph', 'Astro Editorial Fashion Photography', 'Astro Travel Photography', 'Astro Street Art Mural', 'Astro Portrait', 'Astro Fifth Grade Yearbook', 'Astro Line Art', 'Astro Brochure Design', 'Astro Cartoon', 'Astro Spray-Painted Onto A Wall', 'Astro Oil Painting', 'Astro Harsh Flash Photography', 'Astro Data Visualization', 'Astro Sigma 75Mm', 'Astro Press Release', 'Astro Shot On Iphone 11', 'Astro Low Poly', 'Astro Fashion Show', 'Astro Full Body Photo', 'Astro Disposable Camera', 'Astro Marble Statue', 'Astro Typography Design', 'Astro Storyboard', 'Astro Commercial Print Ad', 'Astro Street Art', 'Astro Augmented Reality (Ar) App', 'Astro Charcoal Drawing', 'Astro Under Electron Microscope', 'Astro T-Shirt Design', 'Astro Trail Cam', 'Astro Origami', 'Astro Pinhole Photography', 'Astro Aztec Carving', 'Astro Colouring-In Sheet', 'Astro Pastel Drawing', 'Astro Video Game Design', 'Astro Sketchbook', 'Astro Blueprint', 'Astro Visual Effects (Vfx)', 'Astro Topiary', 'Astro Decorative Minoan Mural', 'Astro Storybook', 'Astro Houdini 3D Render', 'Astro Voynich Manuscript', 'Astro Ice Carving', 'Astro Editorial Illustration', 'Astro Album Cover', 'Astro Medieval Portrait', 'Astro Pencil Sketch', 'Astro Mugshot', 'Astro Action Photography', 'Astro Selfie', 'Astro Logo Animation', 'Astro Instruction Manual', 'Astro Byzantine Icon', 'Astro Ancient Egypt Papyrus', 'Astro Interior Design', 'Astro Manuscripts', 'Astro Stop-Motion Animation', 'Astro Fashion Lookbook', 'Astro Roman Mosaic', 'Astro Diagram', 'Astro Linocut', 'Astro Packaging Design', 'Astro Pencil And Watercolor Drawing', 'Astro Product Prototype', 'Astro Virtual Reality (Vr) Experience', 'Astro Packaging Prototype', 'Astro Event Poster', 'Astro Documentary Film', 'Astro Polaroid', 'Astro Advertising Poster', 'Astro Sticker Illustration', 'Astro Mythological Map', 'Astro Double Exposure', 'Astro Dashcam', 'Astro Catalog Design', 'Astro Photoshopped Image', 'Astro Cgi', 'Astro Product Photography', 'Astro Patent Drawing', 'Astro Magazine Layout', 'Astro Art Installation', 'Astro Cave Painting', 'Astro Tattoo', 'Astro Comic Strip', 'Astro Brand Mascot', 'Astro Vector Art', 'Astro Pirate Map', 'Astro Experimental Expired Film Photo', 'Astro Crayon Drawing', 'Astro Exhibition Design', 'Astro Studio Photography', 'Astro Bronze Statue', 'Astro Kindergartener Drawing', 'Astro Painting', 'Astro Cinematography From Music Video', 'Astro Terracotta Warriors', 'Astro Branding Guidelines']\n",
        "boosters = ['Celestial and Beautiful', 'Astro Inspiring', 'Extraordinary Celestial', 'Unbelievable and Innovative', 'Astro Space Rendered In Unreal Engine', 'Exceptionally Skilled in Celestial Art', 'Unique and Spectacular', 'Stunning Cosmic', 'Game-Changing Astro', 'Hyper Realistic Space', 'Astro Striking', 'Detailed and Stellar', 'Studio Lighting in Space', 'Jaw-Dropping Celestial', 'Magical and Digital Art', 'Skillful and Fantastic', 'Unforgettable Astro', 'Astro Visionary', 'Exceptional in Space', 'Very Beautiful and Captivating', 'Genius Astro', 'Expertise in Celestial Art', 'Masterful and Outstanding', 'Impressive and Highly Detailed', 'Arnold Render in Space', 'Contest Winner in Celestial Art', 'Perspectives of Space', 'State-Of-The-Art Astro', 'Iconic Celestial', 'Mind-Blowing Space', '4K Resolution Astro', 'Well Preserved in Space', 'Astro Rendering', 'One-Of-A-Kind Celestial', 'Exquisite and Groundbreaking', 'Astro Vibes', 'Mesmerizing and Unmatched', 'Exemplary in Space', 'Aesthetic Astro', 'Ingenious and Hyperrealistic', 'Epic Celestial', 'High Poly Astro', 'Top-Notch and Wow Factor', 'Trailblazing Space', 'Impressive Detail in Astro', 'Trending On Artstation in Space', 'Vfx in Celestial Art', 'Incredible Astro', 'Photorealistic Space', 'Ultra High Poly in Astro', 'Remarkable and Wondrous', 'Blender 3D Astro', '#Wow in Space', 'Postprocessing in Celestial Art', 'Creative Astro', 'Phenomenal and Unreal Engine', 'Octane Render in Space', 'Talented in Astro Art', 'Revolutionary and 70Mm Astro', 'Extremely Detailed Space', 'Vivid and Cutting-Edge', 'Professional Celestial', 'Masterpiece in Space', 'Inspire with Astro', 'World-Class and High Detail', 'Fascinating in Space']\n",
        "perspectives = ['Off-Center in Space', 'Panning Celestial', 'Plain Background in Space', 'Candid Astro', 'Wide Angle in Space', 'In The Distance of Space', 'Low Angle in Space', 'Tilt-Shift Astro', 'Oversaturated Filter in Space', 'Underwater Celestial', \"Bird's Eye in Space\", 'Overhead View of Space', 'Close Face in Astro', 'Zoomed Space', 'Overhead in Celestial', 'High Perspective in Space', 'First-Person Astro', 'Through A Periscope in Space', 'From Above in Astro', 'From Below in Space', 'Infrared in Celestial', 'Drone Perspective in Astro', 'Unconventional Astro', 'Telephoto in Space', 'Reverse in Celestial', 'Aerial View of Space', 'Hard Lighting in Astro', 'Leading Lines in Space', 'Close-Up Astro', 'Portrait in Space', 'Dutch Angle in Celestial', 'Abstract Perspective in Space', 'Split Screen Astro', 'Fish-Eye View of Space', 'Forced Perspective in Celestial', 'Night Vision in Astro', 'Vertical in Space', 'White Background in Celestial', '85Mm Perspective in Astro', 'Diagonal Space', 'Landscape Perspective', 'Sunset Photo At Golden Hour in Space', 'X-Ray Perspective', 'Tilted Frame in Astro', 'Through A Porthole in Space', 'Flat Lay in Celestial', 'Head-And-Shoulders Shot in Astro', 'Extreme Close-Up in Space', 'Panoramic Astro', 'Spherical Perspective in Space', 'Tilted Astro', 'Shallow Depth Of Field in Celestial', 'Warped Perspective in Space', 'Cinematic in Astro', 'Lens Flare in Space', 'Top-Down Perspective in Astro', 'Wide-Angle in Celestial', 'Astrological Perspective in Space', 'Long Shot in Astro', 'Long Exposure in Celestial', 'Full Shot in Space', 'Midshot Perspective in Astro', 'Parallel in Celestial', 'Selective Focus in Space', 'Omniscient Perspective in Astro', 'Bokeh in Space', 'Isometric in Celestial', 'From Behind in Astro', 'Viewed From Behind in Space', 'Vertigo Effect in Celestial', 'Silhouette in Astro', 'Time-Lapse Perspective in Space', 'Wide Shot in Celestial', 'Framed Astro', 'Motion Blur in Space', 'On Canvas Perspective', 'Multiple Exposure in Celestial', 'Reflection in Space', 'Fisheye Lens Perspective in Astro', 'Symmetrical in Space', 'Macro Perspective in Celestial', 'Close Up in Astro', 'Over-The-Shoulder Shot in Space', 'Point Of View (Pov) Astro']\n",
        "views = ['Birds-Eye View of Space', 'Panning in Celestial', 'Wide-Angle View of Space', 'Drone Shot in Astro', 'Street View in Celestial', 'Close-Up Shot in Space', 'Focus Shot On The Style Inspired Clothing in Celestial', 'Split Focus in Space', 'Plain Background in Astro', 'Hdr (High Dynamic Range) in Space', 'Candid Astro', 'In The Distance of Celestial', 'Front View in Astro', 'Low Angle View of Space', 'Medium Close-Up Shot Of Style Inspired Clothing in Celestial', 'Tilt-Shift Astro', 'Light Painting in Space', 'Oversaturated Filter in Celestial', 'Backlit Subjectmedium-Wide Full Body Shot Doing Yoga in Astro', 'Medium-Wide Full Body Shot in Space', 'Handheld in Celestial', 'Overhead View in Astro', 'Macro View in Space', 'Cityscape View in Celestial', 'Collage View in Space', 'Selective View in Astro', 'Close Face in Space', 'Night Photography in Celestial', 'Low Angle View in Astro', 'Split View of Space', 'Night View in Celestial', 'Overhead in Astro', 'High Angle in Space', 'Through A Periscope in Celestial', 'From Above in Astro', 'From Below in Space', 'Infrared in Astro', 'Symmetrical View of Space', 'Asymmetric View in Celestial', 'Tracking Shot in Astro', 'Telephoto in Space', 'Close-Up Shot Of Style Inspired Clothing On The Style Inspired Clothing in Celestial', 'Focus Shot On The Model in Astro', 'Top-Down View of Space', 'Aerial View in Celestial', 'High Angle View in Astro', 'Hard Lighting in Space', 'Narrow-Angle View in Celestial', 'Medium-Wide Full Body Shot Doing Yoga in Astro', 'Close-Up in Celestial', 'Rooftop View in Space', 'Portrait in Astro', 'Dutch Angle in Space', 'Medium Close-Up Shot in Celestial', 'Slow Motion in Astro', 'Zoomed-Out View in Space', 'Extreme Close-Up View of Celestial', 'Fixed View in Astro', 'Fish-Eye View of Space', 'Dark Background in Celestial', 'Interior View in Astro', 'Back View in Space', '85Mm Perspective in Astro', 'Rack Focus in Space', 'Narrow Perspective View in Astro', 'Landscape in Celestial', 'Sunset Photo At Golden Hour in Astro', 'Scenic View in Space', 'Tilted Frame in Celestial', 'Close-Up Shot On The Model in Astro', 'Micro View in Space', 'Through A Porthole in Celestial', 'Exterior View in Astro', 'Head-And-Shoulders Shot in Space', '360-Degree View in Celestial', 'Panoramic in Astro', 'Focus Shot On The Style Inspired Clothing in Celestial', 'Focus Shot On The Model in Astro', 'Dynamic View of Space', 'Close-Up Shot Of Style Inspired Clothing in Astro', 'Extreme Close-Up Shot On The Model in Celestial', 'Over-The-Shoulder View in Astro', 'Zoomed-In View of Space', 'Crane Shot in Celestial', 'Shallow Depth Of Field in Astro', 'Lens Flare in Space', 'Distant View in Celestial', 'Extreme Close-Up Shot of Style Inspired Clothing On The Style Inspired Clothing in Astro', 'Wide-Angle in Celestial', 'Long Shot in Space', 'Vertical View in Astro', 'Long Exposure in Celestial', 'Full Shot in Astro', 'Midshot in Space', 'Parallel View in Astro', 'Selective Focus in Celestial', 'Foreground View in Astro', 'Bokeh in Celestial', 'Isometric View of Space', 'Through-The-Legs Shot in Astro', 'Viewed From Behind in Celestial', 'From The Ground in Astro', 'Vertigo Effect in Space', 'Silhouette in Celestial', 'Through-The-Lens View in Astro', 'Time-Lapse View of Space', 'Framed View in Celestial', 'Motion Blur in Astro', 'Symmetrical View in Celestial', 'Macro View in Astro', 'Close Up in Celestial', 'Over-The-Shoulder View in Space', 'Point Of View (Pov) Astro', 'Tilt-Shift View of Space', 'Overhead Shot in Astro', 'Wide Shot in Celestial', 'Fisheye Lens View of Space', 'From The Top in Celestial', 'Reflection View in Astro', 'Medium-Wide Full Body Shot Doing Yoga in Space', 'Point Of View (Pov) in Celestial']\n",
        "artists = ['Vija Celmins', 'Robert McCall', 'Lucien Rudaux', 'Alexey Leonov', 'Ron Miller', 'Chesley Bonestell', 'Don Davis', 'Lynette Cook', 'Kim Poor', 'David A. Hardy', 'Jon Lomberg', 'Björn Jonsson', 'Dan Durda', 'Bonnie Buratti', 'Michael Carroll', 'Fred Freeman', 'Ralph McQuarrie', 'Norman Rockwell', 'Peter Elson', 'Ron Cobb', 'Chris Foss', 'Syd Mead', 'H.R. Giger', 'Annie Leibovitz', 'Trevor Paglen', 'Olafur Eliasson', 'Ai Weiwei', 'Thomas Ruff', 'Tomas Saraceno', 'Hiroshi Sugimoto', 'Janet Echelman', 'James Turrell', 'Carsten Höller', 'Matthew Ritchie', 'Michael Benson', 'Eduardo Kac', 'Agnes Meyer-Brandis', 'Diane Tuft', 'Ryoji Ikeda', 'Trevor Paglen', 'Hiraki Sawa', 'Nathalie Djurberg', 'Hajime Sorayama', 'Lowry Burgess', 'Michael Najjar', 'Simon Faithfull', 'Julia Christensen', 'Lia Halloran', 'Tom Sachs', 'Antony Gormley', 'Luke Jerram', 'Oliver Beer', 'Jane and Louise Wilson', 'Josiah McElheny', 'Julian Charrière', 'Amy Balkin', 'Liliane Lijn', 'Luke Jerram', 'Rachael Champion', 'Yayoi Kusama', 'Lauren Bon', 'Tomás Saraceno', 'Angela Bulloch', 'Tavares Strachan', 'Ruth Jarman and Joe Gerhardt (Semiconductor)', 'Sarah Sze', 'Leonid Tishkov', 'Sarah Morris', 'William Kentridge', 'John Gerrard', 'Trevor Paglen', 'Diana Thater', 'Luisa Lambri', 'Evan Penny', 'Peter Fischli and David Weiss', 'Richard Mosse', 'Evan Roth', 'Omer Fast', 'Anish Kapoor', 'Tomas Saraceno', 'Doug Aitken', 'Bridget Riley', 'Shahzia Sikander', 'Julie Mehretu', 'Shirazeh Houshiary', 'Doug Aitken', 'James Turrell', 'The Otolith Group', 'Alfredo Jaar', 'Olafur Eliasson', 'Carsten Höller', 'Cai Guo-Qiang', 'Tacita Dean', 'Cornelia Parker', 'Rachel Whiteread', 'Mark Bradford', 'Glenn Ligon', 'Wangechi Mutu', 'Sam Durant', 'Theaster Gates', 'Rashid Johnson', 'Sanford Biggers', 'Hank Willis Thomas', 'Bisa Butler', 'Firelei Báez', 'Mary Weatherford', 'Jenny Holzer', 'Tania Bruguera', 'Ai Weiwei', 'Yinka Shonibare', 'Mona Hatoum', 'Nari Ward', 'David Hammons', 'Kerry James Marshall', 'Cindy Sherman', 'Barbara Kruger', 'Kara Walker', 'Marina Abramović', 'Yayoi Kusama', 'Louise Bourgeois', 'Diane Arbus', 'Agnes Martin', 'Bridget Riley', 'Yvonne Rainer', 'Catherine Opie', 'Carrie Mae Weems', 'Mickalene Thomas', 'Janine Antoni', 'Nan Goldin', 'Wangechi Mutu', 'Rachel Harrison', 'Elaine Sturtevant', 'Cady Noland', 'Pipilotti Rist', 'Helen Marten', 'Eva Hesse', 'Kiki Smith', 'Lorna Simpson', 'Sigmar Polke', 'Georg Baselitz', 'Günther Uecker', 'Anselm Kiefer', 'Gerhard Richter', 'Thomas Struth', 'Andreas Gursky', 'Olafur Eliasson', 'Albert Oehlen', 'Rosemarie Trockel', 'Marlene Dumas', 'Neo Rauch', 'Julian Schnabel', 'Cindy Sherman', 'Jenny Holzer', 'Barbara Kruger', 'Matthew Barney', 'Jeff Koons', 'Damien Hirst', 'Takashi Murakami', 'Yayoi Kusama', 'Ai Weiwei', 'Marina Abramović', 'Anish Kapoor', 'Olafur Eliasson', 'Chris Ofili', 'Sarah Sze', 'Kara Walker', 'Kehinde Wiley', 'Tracey Emin', 'Grayson Perry', 'Rachel Whiteread', 'Cornelia Parker', 'Tacita Dean', 'Wolfgang Tillmans', 'Elizabeth Peyton', 'Shirin Neshat', 'Mariko Mori', 'Matthew Ritchie', 'John Currin', 'Julie Mehretu', 'Ed Ruscha', 'Mark Bradford', 'Kerry James Marshall', 'Njideka Akunyili Crosby', 'Kehinde Wiley', 'Amy Sherald', 'Toyin Ojih Odutola', 'Lorna Simpson', 'David Hammons', 'Theaster Gates', 'Mickalene Thomas', 'Kara Walker', 'Hank Willis Thomas', 'Glenn Ligon', 'Kerry James Marshall', 'Nari Ward', 'El Anatsui', 'Mark Bradford', 'Nick Cave', 'Kehinde Wiley', 'Chris Ofili', 'Yinka Shonibare', 'Julie Mehretu', 'Wangechi Mutu', 'Kerry James Marshall', 'Mickalene Thomas', 'Glenn Ligon', 'Kara Walker', 'Hank Willis Thomas', 'Njideka Akunyili Crosby', 'Lorna Simpson', 'David Hammons', 'Theaster Gates', 'Nari Ward']\n",
        "mediums = ['Fiber Art', 'Performance Art', 'Charcoal Drawing', 'Woodworking', 'Metal Sculpture', 'Gouache Painting', 'Marker Art', 'Wire Sculpture', 'Illustration', 'Assemblage', 'Acrylic Painting', 'Printmaking', 'Mosaic', 'Pastel Drawing', 'Textile Printing', 'Encaustic Art', 'Spray Painting', 'Scratchboard Art', 'Installation Art', 'Metalwork', 'Lithography', 'Textile Art', 'Pencil Drawing', 'Stained Glass', 'Ink Art', 'Bronze Sculpture', 'Doodle', 'Sculpture', 'Pottery', 'Pen And Ink Drawing', 'Watercolor Painting', 'Digital Painting', 'Collage', 'Screen Printing', 'Engraving', 'Glass Art', 'Ceramics', 'Oil Painting', 'Tapestry', 'Photomontage', 'Photo', 'Painting', 'Airbrush Art', 'Digital Art', 'Calligraphy', 'Childrens Art', 'Batik Art', 'Clay Sculpture', 'Paper Art', 'Etching', 'Video Art', 'Graphite Drawing', 'Mixed Media']\n",
        "environments = ['In A Surreal Landscape','Space Station', 'In A Post-Apocalyptic Setting', 'In A Utopian Society', 'In A Cityscape', 'In A Dream', 'In A Desert', 'In A Cozy Cottage', 'In A Wild West Town', 'In A Futuristic City', 'In A Forest', 'In A Celestial Realm', 'Indoors', 'In A Mythical Land', 'In A Fantasy Kingdom', 'In A Museum', 'In An Alternate Dimension', 'In A Historical Setting', 'In A Science Laboratory', 'Outdoors', 'On The Moon', 'In A Parallel Universe', 'In Narnia', 'In A Small Town', 'In A Space Station', 'In A Haunted House', 'In A Futuristic Spaceship', 'In An Underwater City', 'In A Film Noir Setting', 'In A Circus', 'Underwater', 'In An Enchanted Forest', 'In A Bustling Market', 'In A Castle', 'In A Snowy Landscape', 'In A Hidden Cave', 'In A Zen Garden', 'Yoga Studio', 'The Emerald City', 'In A Lunar Colony', 'In A Jungle', 'In A Magical Realm', 'In A Dystopian World', 'In A Virtual Reality', 'In A Cyberpunk City', 'In A Floating City', 'In A Steampunk World', 'In A Time-Traveling Adventure', 'In A Tropical Paradise', 'In A War Zone']\n",
        "colors = ['Stellar Blue', 'Galactic Silver', 'Nebula Purple', 'Cosmic Black', 'Celestial White', 'Lunar Gray', 'Astronomical Teal', 'Meteorite Gray', 'Interstellar Indigo', 'Comet Gold', 'Saturnine Green', 'Solar Flare Orange', 'Aurora Pink', 'Supernova Yellow', 'Plasma Red', 'Orbiting Turquoise', 'Milky Way Ivory', 'Asteroid Brown', 'Cosmonaut Cyan', 'Interplanetary Magenta', 'Zero Gravity Violet', 'Astro Blue', 'Nova Green', 'Lunaris Lilac', 'Starlight Silver', 'Cosmos Coral', 'Galaxy Glow', 'Luminous Lime', 'Space Dust Gray', 'Meteor Shower Blue', 'Solar Beam Yellow', 'Celestial Sapphire', 'Stardust Silver', 'Nebulous Navy', 'Cosmic Coral', 'Lunar Mist', 'Astronomical Amethyst', 'Galactic Gold', 'Orbit Orange', 'Supernova Pink', 'Stellar Turquoise', 'Celestial Citrine', 'Interstellar Plum', 'Comet Copper', 'Meteor Gray', 'Solar Flare Yellow', 'Aurora Borealis Green', 'Plasma Pink', 'Astro Teal', 'Stardust Pink', 'Zero Gravity Green', 'Milky Way Beige', 'Asteroid Olive', 'Cosmonaut Crimson', 'Interplanetary Aqua', 'Nova Purple', 'Lunaris Lavender', 'Starlight Slate', 'Cosmos Cream', 'Galaxy Blue', 'Luminous Lemon', 'Space Dust Brown', 'Meteor Shower Teal', 'Solar Beam Orange', 'Celestial Sky', 'Stardust Gold', 'Nebulous Night', 'Cosmic Coral', 'Lunar Mist', 'Astronomical Amethyst', 'Galactic Gold', 'Orbit Orange', 'Supernova Pink', 'Stellar Turquoise', 'Celestial Citrine', 'Interstellar Plum', 'Comet Copper', 'Meteor Gray', 'Solar Flare Yellow', 'Aurora Borealis Green', 'Plasma Pink', 'Astro Teal', 'Stardust Pink', 'Zero Gravity Green', 'Milky Way Beige', 'Asteroid Olive', 'Cosmonaut Crimson', 'Interplanetary Aqua', 'Nova Purple', 'Lunaris Lavender', 'Starlight Slate', 'Cosmos Cream', 'Galaxy Blue', 'Luminous Lemon', 'Space Dust Brown', 'Meteor Shower Teal', 'Solar Beam Orange', 'Celestial Sky']\n",
        "lights = ['Starry', 'Solar', 'Celestial', 'Candlelight', 'Moonlight', 'Firelight', 'Misty', 'Torchlight', 'Strobe', 'Gloomy', 'Intense', 'Chandelier', 'Fairy Lights', 'Cloudy', 'Backlighting', 'Laser', 'Ambient', 'Twilight', 'Lantern', 'Mysterious', 'Moody', 'Foggy', 'Silhouette', 'Soft', 'High-Key', 'Dramatic', 'Dusk', 'Dynamic', 'Streetlights', 'Dreamy', 'Subtle', 'Vibrant', 'Glowing', 'Bright', 'Low-Key', 'Rim Lighting', 'Dappled', 'Underwater', 'Cinematic', 'Studio Lights', 'Romantic', 'Overcast', 'Ethereal', 'Dawn', 'Magical', 'Fluorescent', 'Harsh', 'Spotlight', 'Firefly', 'Disco Lights', 'Natural Light', 'Golden Hour', 'Ambient Lighting', 'Neon', 'Sunset', 'Fireworks']\n",
        "moods = ['Stellar', 'Whimsical', 'Lively', 'Enigmatic', 'Soothing', 'Blissful', 'Optimistic', 'Raucous', 'Captivating', 'Hopeful', 'Intense', 'Joyful', 'Elegant', 'Moody', 'Mysterious', 'Pensive', 'Energetic', 'Reflective', 'Uplifting', 'Upbeat', 'Peaceful', 'Thoughtful', 'Melancholic', 'Euphoric', 'Dreamlike', 'Dreamy', 'Sedate', 'Mellow', 'Passionate', 'Enchanting', 'Soulful', 'Exuberant', 'Serene', 'Suspenseful', 'Romantic', 'Empowering', 'Contemplative', 'Ethereal', 'Fierce', 'Magical', 'Tranquil', 'Haunting', 'Calm', 'Smiling', 'Chill', 'Playful', 'Funky', 'Dark', 'Nostalgic', 'Hypnotic']\n",
        "decades = ['Ancient Greece', 'Future Dystopia', 'World War II', 'Ancient Egypt', 'Colonial Era', 'Swinging Sixties', 'Ice Age', 'Information Age', 'Roaring Twenties', 'Middle Ages', 'Gothic Era', 'Inca Empire', 'Elizabethan Era', 'Renaissance Period', 'Great Depression', 'Viking Age', 'Digital Age', 'Belle Époque', 'Disco Era', 'Post-War Era', 'Jurassic Era', 'Hippie Era', 'New Wave Era', 'World War I', 'Industrial Revolution', 'Feudal Japan', 'Prehistorical', 'Space Exploration Era', '1920s', '1800s', 'Cretaceous Period', 'Ancient Rome', 'Civil Rights Movement', 'Space Age', 'Art Deco Era', 'Aztec Civilization', 'Victorian Era', 'Age of Exploration', 'Wild West', 'Age of Enlightenment', 'Punk Rock Era', 'Edwardian Era', 'Medieval Era', 'Prohibition Era', 'Prehistoric Times', 'Regency Era', '1960s', 'Future', 'Gilded Age', 'Golden Age of Hollywood', 'Stone Age', 'Cold War', 'Art Nouveau Period', 'Ancient India', 'Mughal Empire', 'Mauryan Empire', 'Gupta Empire', 'Vijayanagara Empire', 'Maratha Empire', 'Sultanate of Delhi', 'British Raj']\n",
        "mj_parameters = []"
      ],
      "metadata": {
        "id": "bRF156EIYYUJ"
      },
      "execution_count": null,
      "outputs": []
    },
    {
      "cell_type": "code",
      "source": [
        "import random\n",
        "\n",
        "def generate_random_text(subjects, actions, places, styles, formats, boosters):\n",
        "    text = []\n",
        "\n",
        "    # Step 1: Subject\n",
        "    subject = random.choice(subjects)\n",
        "    text.append(subject)\n",
        "\n",
        "    # Step 2: Action\n",
        "    if random.random() < 0.5:\n",
        "        action = random.choice(actions)\n",
        "        text.append(action)\n",
        "\n",
        "    # Step 3: Place\n",
        "    if random.random() < 0.5:\n",
        "        place = random.choice(places)\n",
        "        text.append(place)\n",
        "\n",
        "    # Step 4: Style\n",
        "    num_styles = random.randint(0, 2)\n",
        "    styles = random.sample(styles, num_styles)\n",
        "    text.extend(styles)\n",
        "\n",
        "    # Step 5: Format\n",
        "    num_formats = random.randint(0, 2)\n",
        "    formats = random.sample(formats, num_formats)\n",
        "    text.extend(formats)\n",
        "\n",
        "    # Step 6: Booster\n",
        "    num_boosters = random.randint(0, 5)\n",
        "    boosters = random.sample(boosters, num_boosters)\n",
        "    text.extend(boosters)\n",
        "\n",
        "    return ', '.join(text)\n",
        "\n",
        "\n",
        "random_text = generate_random_text(subjects, actions, places, styles, formats, boosters)\n",
        "print(random_text)\n"
      ],
      "metadata": {
        "colab": {
          "base_uri": "https://localhost:8080/"
        },
        "id": "OesquV-kcUjg",
        "outputId": "4dbcf50b-e679-4d90-902c-016ef2896244"
      },
      "execution_count": null,
      "outputs": [
        {
          "output_type": "stream",
          "name": "stdout",
          "text": [
            "Extraterrestrial, Space Agency, Astro-Glam, Astro-Medieval Art, Astro Comic Strip, Mesmerizing and Unmatched, Unbelievable and Innovative\n"
          ]
        }
      ]
    },
    {
      "cell_type": "code",
      "source": [
        "output = []\n",
        "n = 3\n",
        "\n",
        "\n",
        "for i in range(n):\n",
        "    prompt = generate_random_text(subjects, actions, places, styles, formats, boosters)\n",
        "    if biased_coin_flip(0.1):\n",
        "          prompt = 'Make it weird, ' + prompt\n",
        "    output.append(prompt)\n",
        "\n",
        "for i in output:\n",
        "  print(i)"
      ],
      "metadata": {
        "colab": {
          "base_uri": "https://localhost:8080/"
        },
        "outputId": "f2a0b620-67fd-43e1-d93b-a165b7c76ff8",
        "id": "icuMSAD_sE2_"
      },
      "execution_count": null,
      "outputs": [
        {
          "output_type": "stream",
          "name": "stdout",
          "text": [
            "Gravity, Return, Sriharikota, Astro Photoshopped Image, Astro Photograph, One-Of-A-Kind Celestial, Game-Changing Astro, Top-Notch and Wow Factor, Mind-Blowing Space\n",
            "Big Bang, Astro-Futurism, Astronomical Realism, Astro Visionary, Creative Astro, Epic Celestial, Very Beautiful and Captivating, Inspire with Astro\n",
            "Blueshift, Maneuver, Andøya Space Center, Astro-Fractal Art, Astro-Fauvism, Astro Cgi, Astro Advertising Campaign, Genius Astro, Vivid and Cutting-Edge, Postprocessing in Celestial Art, Masterpiece in Space, Astro Inspiring\n"
          ]
        }
      ]
    },
    {
      "cell_type": "code",
      "source": [
        "mj_prompts =[\"Galaxy, Sample, Johnson Space Center, Astro-Biopunk, Astro Street Art, Astro Cinematography From Music Video, Unforgettable Astro\",\n",
        "             \"Astroarchaeology, Abort, Cape Canaveral, Astro-Contemporary, Astro-Cubism, Astro Ice Carving, Astro Long-Exposure Photograph With Slow Shutter Speed, Skillful and Fantastic, Mind-Blowing Space, Vivid and Cutting-Edge\",\n",
        "             \"Astrohydrology, Astro-Suminagashi, Astro Crayon Drawing, Professional Celestial, Masterpiece in Space\",\n",
        "             \"Celestial, Astro-Op Art, Astro-Synthwave, Astro Lomography\",\n",
        "             \"Lunar, Sample, Johnson Space Center, Astro-Mexican Muralism, Trailblazing Space, Astro Striking, Masterful and Outstanding, Magical and Digital Art, Astro Vibes\",\n",
        "             \"Astroengineering, Align, Nova Scotia, Astro-Cubism, Astro-Alegria, Astro Stop-Motion Animation, Astro Cgi, 4K Resolution Astro, Epic Celestial, Perspectives of Space\",\n",
        "\"Astrohydrography, Control, Astro-Hieroglyphics, Extraterrestrial Primitivism, Genius Astro, Astro Vibes, Hyper Realistic Space, Studio Lighting in Space, Blender 3D Astro\",\n",
        "\"Make it weird, Extraterrestrial Life, Analyze, Naro Space Center, Astro-Cubism, Astro Pirate Map, Vivid and Cutting-Edge\",\n",
        "\"Astrogeology, Move, Astro-Synthwave, Astro Under Electron Microscope, Astro Music Video, Exquisite and Groundbreaking\",\n",
        "\"Cosmology, Sriharikota Spaceport, Cosmic Prehistoric Art, Astro Shot On Iphone 11, Photorealistic Space\",\n",
        "\"Extraterrestrial, Astro-Anime, Vfx in Celestial Art, Masterful and Outstanding, One-Of-A-Kind Celestial\",\n",
        "\"Space-time, Astro Commercial Print Ad\",\n",
        "\"NASA, Astro-Symbolism, Astro-Vintage, Astro Storybook, Expertise in Celestial Art, Astro Vibes, Revolutionary and 70Mm Astro, #Wow in Space\",\n",
        "\"Space Exploration, Retrieve, Launch Complex, Astro-Abstract Expressionism, Astro-Romanticism, Astro Logo Animation, Skillful and Fantastic, Vivid and Cutting-Edge, Astro Visionary, Impressive and Highly Detailed\",\n",
        "\"Astrobiology, Maneuver, Djenné, Astro-Impressionism, Astro Action Photography, Genius Astro, Revolutionary and 70Mm Astro, Octane Render in Space, Perspectives of Space, Blender 3D Astro\",\n",
        "\"Astroecology, Jet Propulsion Laboratory, Contest Winner in Celestial Art, Exceptionally Skilled in Celestial Art, Exemplary in Space\",\n",
        "\"Telescope, Assemble, Amur Oblast, Celestial Minimalism, Astro Claymation, Astro Patent Drawing, Trending On Artstation in Space, Postprocessing in Celestial Art, Skillful and Fantastic, Exquisite and Groundbreaking\",\n",
        "\"Astrogeodesy, Astro-Photorealism, Astro-Kinetic Art, Exquisite and Groundbreaking\",\n",
        "\"Astropaleontology, Sriharikota Spaceport, Astro Street Art Mural, Arnold Render in Space, Mind-Blowing Space, Exemplary in Space, Professional Celestial, Extraordinary Celestial\",\n",
        "\"Astroclimatology, Detach, Blue Origin Launch Site, Astro-Cinematic, Astro Storybook, Astro Patent Drawing\",\n",
        "\"Hubble, Astro Action Photography, Astro Bronze Statue\",\n",
        "\"Planetary System, Capture, Launch Pad, Astro-Airbrush, Astro-Land Art, Astro Interior Design, Astro Aquatint Print, Stunning Cosmic\",\n",
        "\"Space Race, Launch, Isla Aves, Astro-Abstract Organic, Astro Pencil Sketch, Game-Changing Astro, Astro Vibes, Professional Celestial, Mesmerizing and Unmatched\",\n",
        "\"Astrotheology, Astro-Gothic, Astro Ancient Egypt Papyrus, Photorealistic Space, Masterful and Outstanding\",\n",
        "\"Astropaleontology, Astro-Suminagashi, Astro Poster Design, Photorealistic Space, Well Preserved in Space, Epic Celestial, Fascinating in Space\",\n",
        "\"Space Debris, L'viv, Cosmic Prehistoric Art, Astro Brand Mascot, Astro Decorative Minoan Mural, Exceptionally Skilled in Celestial Art, One-Of-A-Kind Celestial, Ingenious and Hyperrealistic, Incredible Astro\",\n",
        "\"Blueshift, Tanegashima Space Center, Celestial One-Line Drawing, Astro Marble Statue, Celestial and Beautiful, Exceptional in Space\",\n",
        "\"Astroinformatics, Stow, Astro-Gothic, Astro-Street Art, One-Of-A-Kind Celestial\",\n",
        "\"Astrohydrodynamics, Satellite Station, Octane Render in Space, Very Beautiful and Captivating, Talented in Astro Art, Hyper Realistic Space\",\n",
        "\"Galaxy, Yongxing Island, Astro Professional Corporate Portrait, Astro Diagram, Well Preserved in Space, High Poly Astro, Contest Winner in Celestial Art, Exquisite and Groundbreaking\",\n",
        "\"Astrophotography, Maneuver, Vfx in Celestial Art, Unforgettable Astro, Astro Visionary, Epic Celestial, Exquisite and Groundbreaking\",\n",
        "\"Astrobiology, Undocking, Tanegashima Space Center, Astro-Low Poly, Trailblazing Space, Astro Visionary, Impressive Detail in Astro, Phenomenal and Unreal Engine, Epic Celestial\",\n",
        "\"Space Mission, Simulate, Space Campus, Astro-Formal Art, Astro-Skeumorphism, Celestial One-Line Drawing, Astro Magazine Layout, Very Beautiful and Captivating, Mesmerizing and Unmatched, State-Of-The-Art Astro\",\n",
        "\"Lunar\",\n",
        "\"Radio Astronomy, Orbit, Tanegashima Space Center, Astro Bronze Statue, Astro Animated Gif\",\n",
        "\"Hubble, Rocket Launch Site, Photorealistic Space\",\n",
        "\"Astronomical Phenomenon, Transfer, Alcântara, Astro-Industrial Art, Astro Pinhole Photography, Astro Virtual Reality (Vr) Experience\",\n",
        "\"Make it weird, Astrodynamics, Kagoshima Space Center, Astro-Industrial Art, Astro-Ancient Art, Astro Sigma 75Mm, Astro Inspiring\",\n",
        "\"Space Exploration, Transfer, Astro-Skeumorphism, Astro Sticker Illustration, World-Class and High Detail, Octane Render in Space\",\n",
        "\"Astroclimatology, Astro Branding Guidelines, Astro Fashion Editorial, Mind-Blowing Space, World-Class and High Detail\",\n",
        "\"Make it weird, Astronomy, Capture, Andøya Space Center, Astro Lomography, Remarkable and Wondrous, Contest Winner in Celestial Art\",\n",
        "\"Astrogeology, Deploy, Astro-Abstract Expressionism, Astro-Rococo, Astro Inspiring, 4K Resolution Astro\"]"
      ],
      "metadata": {
        "id": "64pCU6VCYfSb"
      },
      "execution_count": null,
      "outputs": []
    },
    {
      "cell_type": "code",
      "source": [
        "mj_parameters = [\n",
        "\"--v 5\",\n",
        "\"--v 5\"]"
      ],
      "metadata": {
        "id": "f49yokGbZc5j"
      },
      "execution_count": null,
      "outputs": []
    },
    {
      "cell_type": "code",
      "source": [],
      "metadata": {
        "id": "pscksPANZd2P"
      },
      "execution_count": null,
      "outputs": []
    },
    {
      "cell_type": "code",
      "source": [
        "import random\n",
        "\n",
        "def generate_random_prompt(subjects, actions, places, styles, formats, boosters, perspectives, views, artists, mediums, environments, lights, colors, moods, decades, mj_prompts, mj_parameters):\n",
        "    text = []\n",
        "\n",
        "    # Step 1: Subject\n",
        "    subject = random.choice(subjects)\n",
        "    text.append(subject)\n",
        "\n",
        "    # Step 2: Action\n",
        "    if random.random() < 0.5:\n",
        "        action = random.choice(actions)\n",
        "        text.append(action)\n",
        "\n",
        "    # Step 3: Place\n",
        "    if random.random() < 0.5:\n",
        "        place = random.choice(places)\n",
        "        text.append(place)\n",
        "\n",
        "    # Step 4: Style\n",
        "    num_styles = random.randint(0, 2)\n",
        "    styles = random.sample(styles, num_styles)\n",
        "    text.extend(styles)\n",
        "\n",
        "    # Step 5: Format\n",
        "    num_formats = random.randint(0, 2)\n",
        "    formats = random.sample(formats, num_formats)\n",
        "    text.extend(formats)\n",
        "\n",
        "    # Step 6: Booster\n",
        "    num_boosters = random.randint(0, 5)\n",
        "    boosters = random.sample(boosters, num_boosters)\n",
        "    text.extend(boosters)\n",
        "\n",
        "    # Step 7: Perspective\n",
        "    if random.random() < 0.5:\n",
        "        perspective = random.choice(perspectives)\n",
        "        text.append(perspective)\n",
        "\n",
        "    # Step 8: View\n",
        "    if random.random() < 0.5:\n",
        "        view = random.choice(views)\n",
        "        text.append(view)\n",
        "\n",
        "    # Step 9: Artists\n",
        "    num_artists = random.randint(0, 3)\n",
        "    artists = random.sample(artists, num_artists)\n",
        "    text.extend(artists)\n",
        "\n",
        "    # Step 10: Medium\n",
        "    if random.random() < 0.5:\n",
        "        medium = random.choice(mediums)\n",
        "        text.append(medium)\n",
        "\n",
        "    # Step 11: Environment\n",
        "    if random.random() < 0.5:\n",
        "        environment = random.choice(environments)\n",
        "        text.append(environment)\n",
        "\n",
        "    # Step 12: Lighting\n",
        "    if random.random() < 0.5:\n",
        "        lighting = random.choice(lights)\n",
        "        text.append(lighting)\n",
        "\n",
        "    # Step 13: Color\n",
        "    num_colors = random.randint(0, 5)\n",
        "    colors = random.sample(colors, num_colors)\n",
        "    text.extend(colors)\n",
        "\n",
        "    # Step 14: Mood\n",
        "    if random.random() < 0.5:\n",
        "        mood = random.choice(moods)\n",
        "        text.append(mood)\n",
        "\n",
        "    # Step 15: Decade\n",
        "    if random.random() < 0.5:\n",
        "        decade = random.choice(decades)\n",
        "        text.append(decade)\n",
        "\n",
        "    # Step 16: MJ_prompt\n",
        "    if random.random() < 0.5:\n",
        "        mj_prompt = random.choice(mj_prompts)\n",
        "        text.append(mj_prompt)\n",
        "\n",
        "    # Step 17: Parameters\n",
        "    num_parameters = random.randint(0, 2)\n",
        "    parameters = random.sample(mj_parameters, num_parameters)\n",
        "    text.extend(parameters)\n",
        "\n",
        "    return ', '.join(text)\n",
        "\n",
        "\n",
        "\n",
        "\n",
        "random_text = generate_random_prompt(subjects, actions, places, styles, formats, boosters, perspectives, views, artists, mediums, environments, lights, colors, moods, decades, mj_prompts, mj_parameters)\n",
        "print(random_text)\n",
        "\n"
      ],
      "metadata": {
        "colab": {
          "base_uri": "https://localhost:8080/"
        },
        "id": "XCylxOSDykvg",
        "outputId": "f627864c-bc35-4a4b-c95b-43c9b710bfc9"
      },
      "execution_count": null,
      "outputs": [
        {
          "output_type": "stream",
          "name": "stdout",
          "text": [
            "Astroinformatics, Evacuate, Extraordinary Celestial, Solar Beam Yellow, Meteorite Gray, New Wave Era, Lunar\n"
          ]
        }
      ]
    },
    {
      "cell_type": "code",
      "source": [
        "output = []\n",
        "n = 75\n",
        "\n",
        "\n",
        "for i in range(n):\n",
        "    prompt = generate_random_text(subjects, actions, places, styles, formats, boosters)\n",
        "    prompt = generate_random_prompt(subjects, actions, places, styles, formats, boosters, perspectives, views, artists, mediums, environments, lights, colors, moods, decades, mj_prompts, mj_parameters)\n",
        "    if biased_coin_flip(0.1):\n",
        "          prompt = 'Make it weird, ' + prompt\n",
        "    output.append(prompt)\n",
        "\n",
        "for i in output:\n",
        "  print(i)"
      ],
      "metadata": {
        "colab": {
          "base_uri": "https://localhost:8080/"
        },
        "id": "ni0gCKAgZ2Zh",
        "outputId": "3db95a3c-4442-401d-a6a9-2292230d00b7"
      },
      "execution_count": null,
      "outputs": [
        {
          "output_type": "stream",
          "name": "stdout",
          "text": [
            "Astrochemistry, Record, Yongxing Island, Astro-Vaporwave, Astro Web Design, Exquisite and Groundbreaking, Astro Space Rendered In Unreal Engine, Stunning Cosmic, Oversaturated Filter in Space, Micro View in Space, Oliver Beer, Fiber Art, In A Cozy Cottage, Luminous Lemon\n",
            "Space-time Continuum, Operate, Astro Space Rendered In Unreal Engine, Masterful and Outstanding, Hyper Realistic Space, Epic Celestial, Wide Shot in Celestial, Full Shot in Astro, Barbara Kruger, In A Desert, Sunset, Luminous Lemon, Galaxy Blue, Swinging Sixties, Astroengineering, Align, Nova Scotia, Astro-Cubism, Astro-Alegria, Astro Stop-Motion Animation, Astro Cgi, 4K Resolution Astro, Epic Celestial, Perspectives of Space\n",
            "Astrogeodesy, Orbit, Kiruna Space Campus, Astro Catalog Design, Astro Cave Painting, #Wow in Space, Masterful and Outstanding, Close-Up in Celestial, Glenn Ligon, Glenn Ligon, Doug Aitken, Textile Art, Astronomical Amethyst, Romantic\n",
            "Star Cluster, Astro Street Art Mural, Trending On Artstation in Space, Expertise in Celestial Art, Octane Render in Space, Zoomed-Out View in Space, Assemblage, The Emerald City, Moody, Celestial Citrine, Thoughtful, Post-War Era, --v 5, --v 5\n",
            "Astroanthropology, Capture, Astro Music Video, Astro Book Cover, Unique and Spectacular, Jaw-Dropping Celestial, Astro Rendering, Isometric View of Space, David Hammons, Sigmar Polke, In A Cityscape, Solar Beam Yellow, Galaxy Blue, Lunaris Lavender, Nova Purple, Optimistic, Age of Exploration, --v 5\n",
            "Astrooceanography, Astro-Hieroglyphics, Astro Byzantine Icon, Creative Astro, Macro View in Astro, Antony Gormley, Sanford Biggers, Cosmos Cream, Blissful\n",
            "Astroanthropology, Decelerate, Astro-Digital Art, Astro Branding Guidelines, Masterful and Outstanding, Mesmerizing and Unmatched, Through A Porthole in Space, Micro View in Space, Hiroshi Sugimoto, Luisa Lambri, Sanford Biggers, Gouache Painting, In An Enchanted Forest, Intense, Solar Beam Orange, Meteor Gray, Uplifting, Edwardian Era, --v 5, --v 5\n",
            "Extraterrestrial, Spaceport America, Astro-Glitchcore, Astro Stop-Motion Animation, Unbelievable and Innovative, Landscape Perspective, Close-Up Shot On The Model in Astro, Chris Ofili, Amy Balkin, Syd Mead, Childrens Art, Chandelier, Galactic Gold, Space Dust Gray, Sedate, --v 5, --v 5\n",
            "Astrogeology, Survey, Astro-Op Art, Astro-Impressionism, Professional Celestial, Incredible Astro, Octane Render in Space, Head-And-Shoulders Shot in Astro, Agnes Martin, Nari Ward, Gouache Painting, Outdoors, Ethereal, Milky Way Beige, Starlight Slate, Celestial Sapphire, Cosmic Black, Jurassic Era, Astrogeology, Move, Astro-Synthwave, Astro Under Electron Microscope, Astro Music Video, Exquisite and Groundbreaking\n",
            "Spacecraft, Detach, Astro-Cyberpunk, Exemplary in Space, High Poly Astro, Celestial and Beautiful, Reflection View in Astro, Wangechi Mutu, Omer Fast, Assemblage, In A Steampunk World, Mysterious, Funky, Ancient Greece\n",
            "Telescope, Astroconceptual Art, Astro-Skeumorphism, Impressive Detail in Astro, Game-Changing Astro, State-Of-The-Art Astro, Michael Najjar, H.R. Giger, In A Parallel Universe, Interplanetary Aqua, Starlight Silver, Galactic Silver, Cosmic Black, Feudal Japan, --v 5, --v 5\n",
            "Cosmology, Deploy, Spaceport Sweden, Astro-Eclectic Art, Astro Ancient Egypt Papyrus, Hyper Realistic Space, Tilted Astro, Matthew Ritchie, Alexey Leonov, Shahzia Sikander, In An Underwater City, Celestial Sapphire, Euphoric, Information Age, Space Mission, Simulate, Space Campus, Astro-Formal Art, Astro-Skeumorphism, Celestial One-Line Drawing, Astro Magazine Layout, Very Beautiful and Captivating, Mesmerizing and Unmatched, State-Of-The-Art Astro, --v 5\n",
            "Make it weird, Alien, Install, Spaceport Authority, Expertise in Celestial Art, Dark Background in Celestial, Anselm Kiefer, Textile Printing, In A Time-Traveling Adventure, Intense, Nostalgic\n",
            "Astrodynamics, Study, Astro-Afrofuturism, Celestial Line Drawing, Exceptional in Space, Macro View in Astro, Cornelia Parker, Yinka Shonibare, Mysterious, Stardust Pink, Nebula Purple, Galaxy Glow, Lunaris Lavender, Melancholic, Vijayanagara Empire\n",
            "International Space Station, Space Art, Masterpiece in Space, Trending On Artstation in Space, Tilted Frame in Astro, Chesley Bonestell, Watercolor Painting, Lunaris Lavender, Digital Age, --v 5, --v 5\n",
            "Astronomical Phenomenon, Astro Sketchbook, Astro Branding Guidelines, Well Preserved in Space, 4K Resolution Astro, In A Surreal Landscape, Neon, Cosmic Black, Galactic Gold, Space Dust Brown, Supernova Pink, Interplanetary Aqua, Tranquil, --v 5\n",
            "Rocket, Align, Rocket Lab Launch Complex, Galactic Collage, Astro-Chinese Watercolor, Astro Packaging Design, Jaw-Dropping Celestial, Through A Periscope in Celestial, Lucien Rudaux, Evan Penny, Sarah Sze, Illustration, Romantic, Stardust Pink, Colonial Era, Astrogeodesy, Astro-Photorealism, Astro-Kinetic Art, Exquisite and Groundbreaking, --v 5\n",
            "Astrophysics, Adelaide, Astro-Surrealism, Astro-Sculpture, Astro Stained Glass Window, Astro Brand Identity, Vfx in Celestial Art, Well Preserved in Space, Perspectives of Space, Astro Visionary, Exquisite and Groundbreaking, Through A Porthole in Space, Fixed View in Astro, Simon Faithfull, Tacita Dean, Julie Mehretu, Painting, Streetlights, Interplanetary Aqua, Melancholic, Great Depression, Space Exploration, Transfer, Astro-Skeumorphism, Astro Sticker Illustration, World-Class and High Detail, Octane Render in Space\n",
            "NASA, Move, Astro Disposable Camera, Iconic Celestial, 360-Degree View in Celestial, Marina Abramović, Ink Art, Celestial, Future\n",
            "Big Bang, Decelerate, Xichang Satellite Launch Center, Astro-Gothic, Exquisite and Groundbreaking, Astro Vibes, Trending On Artstation in Space, Nari Ward, Ron Cobb, Sarah Sze, On The Moon, Nebula Purple, Astro Blue, Solar Beam Yellow, Lunaris Lilac, Comet Copper, Serene, Space Mission, Simulate, Space Campus, Astro-Formal Art, Astro-Skeumorphism, Celestial One-Line Drawing, Astro Magazine Layout, Very Beautiful and Captivating, Mesmerizing and Unmatched, State-Of-The-Art Astro, --v 5, --v 5\n",
            "Star, Communicate, Astro Blueprint, Astro Manuscripts, Astro Rendering, Exceptionally Skilled in Celestial Art, Bird's Eye in Space, Tilt-Shift View of Space, Josiah McElheny, Tacita Dean, Stardust Gold, Lunar Gray, Cosmonaut Crimson, Celestial Sky, Meteor Shower Teal\n",
            "Astrologistics, Repair, White Sands Missile Range, Astro-Babylonian Art, Astro Aztec Carving, Astro Experimental Expired Film Photo, Very Beautiful and Captivating, Bokeh in Space, Acrylic Painting, In An Alternate Dimension, Soft, Starlight Silver, Starlight Slate, 1800s\n",
            "Make it weird, Space Shuttle, Discover, Richmond, Astro Action Photography, Exceptional in Space, #Wow in Space, Octane Render in Space, Flat Lay in Celestial, Kehinde Wiley, Carsten Höller, Spray Painting, In A Historical Setting, Dreamy, Nostalgic, Post-War Era, Astrogeology, Move, Astro-Synthwave, Astro Under Electron Microscope, Astro Music Video, Exquisite and Groundbreaking, --v 5\n",
            "Astroinformatics, Astro-Art Deco, Astro-Punk, Astro Full Body Photo, Astro Packaging Design, Extreme Close-Up in Space, John Gerrard, Elaine Sturtevant, Annie Leibovitz, In A Mythical Land, Spotlight, Astro Blue, Solar Beam Orange, Supernova Pink, Asteroid Olive, Lunaris Lilac, Euphoric, --v 5\n",
            "Make it weird, Meteor Shower, Canadian Space Agency, Astro Bronze Statue, Exceptionally Skilled in Celestial Art, Mind-Blowing Space, Backlit Subjectmedium-Wide Full Body Shot Doing Yoga in Astro, Yinka Shonibare, Wangechi Mutu, Amy Balkin, In A War Zone, Solar Beam Orange, Astrohydrology, Astro-Suminagashi, Astro Crayon Drawing, Professional Celestial, Masterpiece in Space, --v 5, --v 5\n",
            "Astrodynamics, Fly, Astro-Dadaism, #Wow in Space, Game-Changing Astro, Exquisite and Groundbreaking, Overhead View in Astro, Alfredo Jaar, Tracey Emin, James Turrell, --v 5\n",
            "Cosmic Microwave Background, Astro-Eclectic Art, Astro-Renaissance, Astro Fifth Grade Yearbook, Omniscient Perspective in Astro, Batik Art, Subtle, Asteroid Olive, Galaxy, Yongxing Island, Astro Professional Corporate Portrait, Astro Diagram, Well Preserved in Space, High Poly Astro, Contest Winner in Celestial Art, Exquisite and Groundbreaking, --v 5\n",
            "Astrostatistics, Sample, Guiana Space Centre, Astro-Steampunk, Astro-Classicism, Astro Rendering, Phenomenal and Unreal Engine, Point Of View (Pov) Astro, Through-The-Lens View in Astro, Ink Art, In A Museum, Subtle, Astronomical Teal, Galactic Gold, Stellar Blue, Orbiting Turquoise, Space Dust Gray, Punk Rock Era, Galaxy, Sample, Johnson Space Center, Astro-Biopunk, Astro Street Art, Astro Cinematography From Music Video, Unforgettable Astro, --v 5\n",
            "Meteor, Discover, Andøya Space Center, Astro Advertising Poster, Pensive, Astrobiology, Undocking, Tanegashima Space Center, Astro-Low Poly, Trailblazing Space, Astro Visionary, Impressive Detail in Astro, Phenomenal and Unreal Engine, Epic Celestial, --v 5, --v 5\n",
            "Star, Astro Byzantine Icon, Astro Aztec Carving, Perspectives of Space, Drone Shot in Astro, Marina Abramović, Graphite Drawing, Galaxy Glow, Starlight Silver, Plasma Red, Galactic Gold, Ancient India, --v 5, --v 5\n",
            "Astrogeology, Image, Astro Packaging Design, Astro Book Cover, World-Class and High Detail, Ingenious and Hyperrealistic, Astro Space Rendered In Unreal Engine, Postprocessing in Celestial Art, Aesthetic Astro, 360-Degree View in Celestial, Leonid Tishkov, Ai Weiwei, Doug Aitken, Mysterious, Aurora Pink, Starlight Silver, Meteor Shower Teal, Space Dust Brown, Soulful, Prohibition Era, Telescope, Assemble, Amur Oblast, Celestial Minimalism, Astro Claymation, Astro Patent Drawing, Trending On Artstation in Space, Postprocessing in Celestial Art, Skillful and Fantastic, Exquisite and Groundbreaking\n",
            "Orbit, Astro-Babylonian Art, Vivid and Cutting-Edge, Very Beautiful and Captivating, Jaw-Dropping Celestial, Astro Visionary, Celestial and Beautiful, Luke Jerram, Anselm Kiefer, In A Cityscape, Cosmic Coral, --v 5, --v 5\n",
            "Astrogeology, Newquay, Astro-Surrealism, Astro Pinhole Photography, Cindy Sherman, Doug Aitken, Mary Weatherford, Fiber Art, Dynamic, Aurora Borealis Green, Art Deco Era, Radio Astronomy, Orbit, Tanegashima Space Center, Astro Bronze Statue, Astro Animated Gif\n",
            "Solar System, Dock, Yongxing Island, Astro-Abstract Organic, Astro-Impressionism, Astro Marble Statue, Astro Album Cover, Astro Rendering, Perspectives of Space, Vivid and Cutting-Edge, Professional Celestial, Arnold Render in Space, Painting, Natural Light, Starlight Slate, --v 5, --v 5\n",
            "Hubble, Astro-Surrealism, Astro-Constructivism, Astro Concept Art, Astro Origami, Unbelievable and Innovative, Talented in Astro Art, Trending On Artstation in Space, Hyper Realistic Space, Illustration, In A Dream, Meteorite Gray, Solar Flare Orange, Milky Way Beige, Space Dust Brown, Contemplative, Ancient Egypt, --v 5, --v 5\n",
            "Astroarchaeology, Coordinate, Astro-Airbrush, Professional Celestial, Cityscape View in Celestial, Nathalie Djurberg, Jenny Holzer, Glowing, Nova Green, --v 5, --v 5\n",
            "Astronomical Phenomenon, Astro-Industrial Art, Astro-Pop Art, Astro Commercial Print Ad, Astro Long-Exposure Photograph With Slow Shutter Speed, Close-Up Astro, Lucien Rudaux, Tom Sachs, Mariko Mori, In A Jungle, Nova Purple, Interplanetary Aqua, Starlight Slate, Meteor Gray, Interplanetary Magenta, Astrophotography, Maneuver, Vfx in Celestial Art, Unforgettable Astro, Astro Visionary, Epic Celestial, Exquisite and Groundbreaking, --v 5, --v 5\n",
            "Astroarchaeology, Astro-Ecological Art, Astro Street Art, Astro Editorial Illustration, Astro Vibes, Astro Rendering, Hyper Realistic Space, Bird's Eye in Space, Portrait in Astro, David Hammons, Glenn Ligon, Carrie Mae Weems, Foggy, Lunaris Lavender, Supernova Pink, Magical, Prehistorical, Galaxy, Yongxing Island, Astro Professional Corporate Portrait, Astro Diagram, Well Preserved in Space, High Poly Astro, Contest Winner in Celestial Art, Exquisite and Groundbreaking, --v 5, --v 5\n",
            "Make it weird, Spacewalk, Align, Astro Origami, Framed Astro, Silhouette in Celestial, Elaine Sturtevant, Helen Marten, Kerry James Marshall, Harsh, Space Dust Brown, Lunaris Lavender, Stardust Silver, Suspenseful, Jurassic Era, Astrogeology, Move, Astro-Synthwave, Astro Under Electron Microscope, Astro Music Video, Exquisite and Groundbreaking, --v 5\n",
            "Make it weird, Astrolithology, Reentry, Astro-Alegria, Astro-Glam, Astro Travel Photography, Expertise in Celestial Art, Zoomed-Out View in Space, Matthew Ritchie, Toyin Ojih Odutola, In A War Zone, Cosmonaut Cyan, Astroecology, Jet Propulsion Laboratory, Contest Winner in Celestial Art, Exceptionally Skilled in Celestial Art, Exemplary in Space, --v 5\n",
            "Space Mission, Canadian Space Agency, Astro Fashion Show, Trailblazing Space, Professional Celestial, Exceptional in Space, Perspectives of Space, Light Painting in Space, Luke Jerram, Lowry Burgess, Agnes Martin, Photo, Astropaleontology, Sriharikota Spaceport, Astro Street Art Mural, Arnold Render in Space, Mind-Blowing Space, Exemplary in Space, Professional Celestial, Extraordinary Celestial\n",
            "Spacecraft, Alcântara, Astro-Babylonian Art, Astro-Land Art, Astro Pencil Sketch, Astro Illustration, Astro Rendering, Hyper Realistic Space, Exceptionally Skilled in Celestial Art, Blender 3D Astro, Impressive Detail in Astro, Collage View in Space, Yinka Shonibare, El Anatsui, Tavares Strachan, In A Hidden Cave, Stardust Gold, Lunaris Lavender, Interstellar Indigo, Stardust Pink, Saturnine Green\n",
            "Astrokinematics, Astro-Pop Art, Astro-Cyberpunk, Astro Mugshot, Astro Selfie, Exemplary in Space, Tomás Saraceno, Doug Aitken, Julie Mehretu, Batik Art, Orbit Orange, Space Dust Gray, Feudal Japan, Telescope, Assemble, Amur Oblast, Celestial Minimalism, Astro Claymation, Astro Patent Drawing, Trending On Artstation in Space, Postprocessing in Celestial Art, Skillful and Fantastic, Exquisite and Groundbreaking, --v 5\n",
            "Astrobiology, Astro Origami, State-Of-The-Art Astro, Blender 3D Astro, Astro Visionary, Wide-Angle in Celestial, Georg Baselitz, Andreas Gursky, In A Cityscape, Glowing, Meteor Shower Teal, Milky Way Beige, Future, --v 5\n",
            "Extraterrestrial Life, Close, Yasny Cosmodrome, Astro-Symbolism, Astro-Abstract, Astro Collage, High Poly Astro, Masterpiece in Space, Skillful and Fantastic, Reverse in Celestial, Elizabeth Peyton, Bridget Riley, Cosmos Cream, Cosmonaut Cyan, Nova Green, Galaxy Glow, British Raj, --v 5\n",
            "Andromeda, Maneuver, Rocket Lab Launch Complex, Astro-Digital Art, Astro-Renaissance, Astro Social Media Campaign, Astro Music Video, #Wow in Space, Extraordinary Celestial, Photorealistic Space, Point Of View (Pov) Astro, Eva Hesse, Oliver Beer, Mixed Media, Fireworks, Starlight Slate, Luminous Lime, Plasma Pink, Solar Beam Orange, --v 5\n",
            "Solar System, Detach, Satish Dhawan Space Centre, Astro Travel Photography, Astro Mugshot, Extremely Detailed Space, X-Ray Perspective, Sunset Photo At Golden Hour in Astro, Shahzia Sikander, Fiber Art, In A Cozy Cottage, Astrohydrodynamics, Satellite Station, Octane Render in Space, Very Beautiful and Captivating, Talented in Astro Art, Hyper Realistic Space\n",
            "Redshift, Transport, Space Art, Astro-Cyberpunk, Astro T-Shirt Design, Astro Sketchbook, Mesmerizing and Unmatched, Iconic Celestial, Inspire with Astro, Viewed From Behind in Celestial, Michael Carroll, Kehinde Wiley, Ethereal, Galaxy Glow, Gilded Age, --v 5\n",
            "Cosmic Microwave Background, Astro-Formal Art, Astro Editorial Fashion Photography, Phenomenal and Unreal Engine, Epic Celestial, Astro Vibes, Hank Willis Thomas, In A Dystopian World, Luminous Lemon\n",
            "Astroparticle Physics, Astro-Pop Art, Astro Colouring-In Sheet, Astro Houdini 3D Render, Expertise in Celestial Art, Exceptional in Space, State-Of-The-Art Astro, Norman Rockwell, Jon Lomberg, Ai Weiwei, Sculpture, Yoga Studio, Solar Flare Yellow, Meteor Shower Blue, Celestial Sapphire, Astronomical Amethyst, Milky Way Ivory, Roaring Twenties\n",
            "Astrolithology, Close, China National Space Administration, Astro-Surrealism, Astro Brand Identity, Telephoto in Space, Marina Abramović, Dan Durda, Pastel Drawing, In A Post-Apocalyptic Setting, Orbiting Turquoise, Space Dust Brown, Galaxy Blue, Calm, --v 5\n",
            "Astrochemistry, Dock, Astro-Traditional, Astro-Surrealism, Astro Kindergartener Drawing, Octane Render in Space, Astro Rendering, Ultra High Poly in Astro, Unique and Spectacular, Motion Blur in Space, Wangechi Mutu, Kiki Smith, Paper Art, Galaxy Blue, Upbeat, --v 5, --v 5\n",
            "Gravitational Waves, Astroconceptual Art, Astro Aquatint Print, Astro Book Cover, Point Of View (Pov) Astro, Lens Flare in Space, Textile Printing, In A Cyberpunk City, Interplanetary Aqua, Plasma Pink, Interstellar Plum, Meteorite Gray, Solar Flare Yellow\n",
            "Asteroid, Astro-Renaissance, Impressive Detail in Astro, Unique and Spectacular, Revolutionary and 70Mm Astro, Top-Notch and Wow Factor, Extraordinary Celestial, Top-Down Perspective in Astro, Tilted Frame in Celestial, Shahzia Sikander, Omer Fast, Kara Walker, In A Zen Garden, Calm, Celestial, Astro-Op Art, Astro-Synthwave, Astro Lomography, --v 5\n",
            "Orbit, Upgrade, Astro Music Video, Stunning Cosmic, Top-Notch and Wow Factor, Game-Changing Astro, Postprocessing in Celestial Art, Expertise in Celestial Art, Long Shot in Space, Lorna Simpson, Angela Bulloch, Kara Walker, Gouache Painting, Zero Gravity Green, Solar Flare Orange, Interplanetary Aqua, Chill, Astrohydrology, Astro-Suminagashi, Astro Crayon Drawing, Professional Celestial, Masterpiece in Space, --v 5\n",
            "Rocket, Retrieve, European Spaceport, Astro-Surrealism, Astro-Baroque, Astro Poster Design, Unforgettable Astro, Astro Visionary, Exceptionally Skilled in Celestial Art, Postprocessing in Celestial Art, Masterful and Outstanding, Parallel View in Astro, Jane and Louise Wilson, Jeff Koons, Woodworking, Meteorite Gray, Zero Gravity Green, Luminous Lemon, Orbiting Turquoise, Upbeat, Astroarchaeology, Abort, Cape Canaveral, Astro-Contemporary, Astro-Cubism, Astro Ice Carving, Astro Long-Exposure Photograph With Slow Shutter Speed, Skillful and Fantastic, Mind-Blowing Space, Vivid and Cutting-Edge, --v 5\n",
            "Astroethnography, Xichang Satellite Launch Center, Astro Short Film, Astro Trail Cam, Incredible Astro, Professional Celestial, World-Class and High Detail, Time-Lapse Perspective in Space, From The Ground in Astro, Printmaking, Outdoors, Solar Flare Yellow, Cosmic Coral, Orbit Orange, Planetary System, Capture, Launch Pad, Astro-Airbrush, Astro-Land Art, Astro Interior Design, Astro Aquatint Print, Stunning Cosmic, --v 5, --v 5\n",
            "Astroaerobiology, Target, Astro-Calligraphy, Astro Colouring-In Sheet, Astro Kindergartener Drawing, Astro Vibes, Isometric in Celestial, Fisheye Lens View of Space, Julie Mehretu, Lowry Burgess, In A Utopian Society, Stellar Blue, Astronomical Amethyst, Supernova Yellow, Cosmonaut Crimson, Stellar, --v 5, --v 5\n",
            "Astrogeodesy, Collect, Astro-Hieroglyphics, Exemplary in Space, Photorealistic Space, Skillful and Fantastic, From Below in Space, Over-The-Shoulder View in Astro, Thomas Struth, Pen And Ink Drawing, In A Desert, Solar Beam Yellow, Milky Way Ivory, Comet Copper, Celestial Citrine, Solar Flare Yellow, Reflective, Astroecology, Jet Propulsion Laboratory, Contest Winner in Celestial Art, Exceptionally Skilled in Celestial Art, Exemplary in Space, --v 5\n",
            "Astrostatistics, Discover, Astro Interactive Installation, Astro Instruction Manual, Trending On Artstation in Space, Masterpiece in Space, Extraordinary Celestial, Unconventional Astro, Julie Mehretu, Tomás Saraceno, Streetlights, Solar Beam Orange, Space Dust Gray, Mellow, --v 5, --v 5\n",
            "Astrokinematics, Spaceport Camden, Astro Comic Strip, #Wow in Space, Medium-Wide Full Body Shot Doing Yoga in Astro, Mixed Media, Stardust Pink, Stellar Blue, Luminous Lemon, Passionate, Gothic Era\n",
            "Astroparticle Physics, Retrieve, Amur Oblast, Astro-Abstract Organic, Astro-Babylonian Art, Well Preserved in Space, Extraordinary Celestial, Extremely Detailed Space, Aesthetic Astro, Close Face in Astro, Kehinde Wiley, Nathalie Djurberg, Stained Glass, In A Desert, Glowing, Cosmic Coral, Orbit Orange, Cosmonaut Crimson, Meteor Shower Teal, 1960s, Space Race, Launch, Isla Aves, Astro-Abstract Organic, Astro Pencil Sketch, Game-Changing Astro, Astro Vibes, Professional Celestial, Mesmerizing and Unmatched\n",
            "Orbit, Move, Astro Typography Design, Astro Architectural Blueprint, Detailed and Stellar, Postprocessing in Celestial Art, Aesthetic Astro, Kerry James Marshall, In A Fantasy Kingdom, Orbit Orange, Telescope, Assemble, Amur Oblast, Celestial Minimalism, Astro Claymation, Astro Patent Drawing, Trending On Artstation in Space, Postprocessing in Celestial Art, Skillful and Fantastic, Exquisite and Groundbreaking, --v 5, --v 5\n",
            "Space-time Continuum, Experiment, Russian Federal Space Agency, Astro-Digital Art, Astro-Futurism, Astro Real Estate Photography, Astro Architectural Photography From Magazine, Ingenious and Hyperrealistic, Skillful and Fantastic, Bird's Eye in Space, Leonid Tishkov, Digital Art, In An Alternate Dimension, Astronomical Amethyst, Nova Purple, Astro Teal, Stellar Blue, Stone Age, --v 5, --v 5\n",
            "Extraterrestrial, Isla Aves, Astro Short Film, Astro Comic Book Art, Astro Inspiring, Hdr (High Dynamic Range) in Space, Michael Najjar, Fred Freeman, Ai Weiwei, Clay Sculpture, Solar Flare Yellow, Saturnine Green, Interplanetary Aqua, Age of Enlightenment, Hubble, Astro Action Photography, Astro Bronze Statue, --v 5, --v 5\n",
            "Astrobiology, Abort, White Sands Missile Range, Astro-Suprematism, Astro-Afrofuturism, Astro Photo Manipulation, Masterful and Outstanding, Top-Notch and Wow Factor, Exceptionally Skilled in Celestial Art, Luke Jerram, Carsten Höller, Strobe, Joyful, --v 5, --v 5\n",
            "Telescope, Astro-Dadaism, Astro Commercial Print Ad, Astro Promotional Video, Perspectives of Space, Fascinating in Space, Well Preserved in Space, Extraordinary Celestial, #Wow in Space, On Canvas Perspective, Doodle, In A Science Laboratory, Ambient, Stardust Silver, World War II, --v 5\n",
            "Celestial, Monitor, Guiana Space Centre, Skillful and Fantastic, 4K Resolution Astro, Macro Perspective in Celestial, Fixed View in Astro, Marker Art, Space Station, Bright, Astrohydrology, Astro-Suminagashi, Astro Crayon Drawing, Professional Celestial, Masterpiece in Space\n",
            "Extraterrestrial Life, Exoplanet Discovery, Celestial Minimalism, Astro Medieval Portrait, Astro Sticker Illustration, Extraordinary Celestial, Blender 3D Astro, State-Of-The-Art Astro, Telephoto in Space, Macro View in Astro, Screen Printing, Nebulous Night, Asteroid Olive, Lunaris Lavender, Astronomical Amethyst, Celestial Sky, Suspenseful, Astroecology, Jet Propulsion Laboratory, Contest Winner in Celestial Art, Exceptionally Skilled in Celestial Art, Exemplary in Space\n",
            "Astronomy, Disconnect, Lusaka, Astro-Avant-Garde, Astro Sketchbook, Astro Sound Installation, Lia Halloran, Luke Jerram, In A Magical Realm, Foggy, Lunaris Lilac, Interplanetary Aqua, Fierce, Stone Age, Astroclimatology, Astro Branding Guidelines, Astro Fashion Editorial, Mind-Blowing Space, World-Class and High Detail\n",
            "Astrotheology, Retrieve, Woomera Test Range, Astro-Suminagashi, Astro-Kinetic Art, Contest Winner in Celestial Art, Aesthetic Astro, Trending On Artstation in Space, Extremely Detailed Space, Forced Perspective in Celestial, Yayoi Kusama, Hajime Sorayama, Kerry James Marshall, Clay Sculpture, Torchlight, Interstellar Plum, Solar Beam Orange, Cosmos Coral, Galactic Silver, Saturnine Green, Victorian Era, Hubble, Astro Action Photography, Astro Bronze Statue, --v 5\n",
            "Space Weather, Astro-Suminagashi, Astro-Alegria, Astro Colouring-In Sheet, Astro Sigma 75Mm, Forced Perspective in Celestial, Through-The-Legs Shot in Astro, Neo Rauch, Mariko Mori, Gouache Painting, In A Parallel Universe, Space Dust Brown, Stardust Pink, Galaxy Blue, British Raj, Astrobiology, Maneuver, Djenné, Astro-Impressionism, Astro Action Photography, Genius Astro, Revolutionary and 70Mm Astro, Octane Render in Space, Perspectives of Space, Blender 3D Astro, --v 5, --v 5\n",
            "Comet, European Space Agency, Interstellar Post-Apocalyptic Art, Astro-Sculpture, Astro Portrait, Studio Lighting in Space, Masterpiece in Space, Through A Periscope in Celestial, Simon Faithfull, Julia Christensen, Neon, Nebula Purple, Starlight Slate, Meteor Shower Teal, Energetic, Disco Era\n",
            "Make it weird, Astrovisualization, Operate, Kennedy Space Center, Astro Pirate Map, Astro Theatrical Press Release, Hyper Realistic Space, Aesthetic Astro, Exquisite and Groundbreaking, Genius Astro, Takashi Murakami, Carrie Mae Weems, Olafur Eliasson, Torchlight, Galactic Gold, Lively, --v 5, --v 5\n",
            "Astrofuturism, Andøya Space Center, Astro Motion Graphics, Astro Street Art Mural, Oversaturated Filter in Space, Rack Focus in Space, Hank Willis Thomas, Textile Art, Streetlights, Lunar Mist, Supernova Pink, Galactic Gold, Zero Gravity Green, Zero Gravity Violet, Regency Era, Space Debris, L'viv, Cosmic Prehistoric Art, Astro Brand Mascot, Astro Decorative Minoan Mural, Exceptionally Skilled in Celestial Art, One-Of-A-Kind Celestial, Ingenious and Hyperrealistic, Incredible Astro, --v 5\n"
          ]
        }
      ]
    },
    {
      "cell_type": "code",
      "source": [
        "import os\n",
        "import random\n",
        "import string\n",
        "from pathlib import Path\n",
        "import sys\n",
        "\n",
        "def alpha_numeric(n):\n",
        "    non_ascii_letters = ''.join([char for char in string.printable if char not in string.ascii_letters and ord(char) < 128 and char.isprintable()])\n",
        "    alpha_numeric = string.ascii_letters + string.digits\n",
        "    result = ''\n",
        "    while len(result) < n:\n",
        "        result += random.choice(alpha_numeric)\n",
        "    result += str(random.randint(0, 9))\n",
        "    return result\n",
        "\n",
        "# Get the current directory name\n",
        "current_directory = os.getcwd()\n",
        "\n",
        "# Get the provided group_id from command line\n",
        "if len(sys.argv) < 2:\n",
        "    print(\"Please provide the group_id as a command line argument.\")\n",
        "    sys.exit(1)\n",
        "\n",
        "group_id = sys.argv[1]\n",
        "\n",
        "# Get a list of PNG files in the current directory\n",
        "png_files = [file for file in os.listdir('.') if file.lower().endswith('.png')]\n",
        "\n",
        "# Rename each PNG file\n",
        "for filename in png_files:\n",
        "    file_parts = os.path.splitext(filename)\n",
        "    image_id = alpha_numeric(5)\n",
        "    if 'topaz' in filename.lower():\n",
        "        new_filename = f\"topaz_{group_id}_{image_id}.png\"\n",
        "    else:\n",
        "        new_filename = f\"mj_{group_id}_{image_id}.png\"\n",
        "    os.rename(filename, new_filename)\n",
        "\n",
        "print(\"PNG files have been renamed.\")"
      ],
      "metadata": {
        "colab": {
          "base_uri": "https://localhost:8080/"
        },
        "id": "MFKjmWWPcZlZ",
        "outputId": "28639380-537b-4be4-d04e-a18179f2ba44"
      },
      "execution_count": null,
      "outputs": [
        {
          "output_type": "stream",
          "name": "stdout",
          "text": [
            "PNG files have been renamed.\n"
          ]
        }
      ]
    }
  ]
}