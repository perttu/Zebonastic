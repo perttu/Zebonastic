{
 "cells": [
  {
   "cell_type": "markdown",
   "metadata": {
    "id": "DWf0BXOWfWkG"
   },
   "source": [
    "#  Zebonastic Prompt Playground\n",
    "\n",
    "The Zebonastic Prompt Playground is a Google colab notebook that helps play with prompts. It has lists of tens of thousands of terms related to the components of a midjourney prompt. That is, the subject, action, place, styles, format, booster, perspective, camera view, media type (illustration,photo or design, artistic inspiration, other mj prompts, and midjourney parameters.\n",
    "\n",
    "To use the Zebonastic Prompt Playground you need to upload it to the free Google colab, and hit \"Run All\".  Please watch the Colab intro video [https://colab.research.google.com/](https://colab.research.google.com/) if unfamiliar with colab. The code is very simple and comes with python lists for the subject, action, place, styles, format, booster, perspective, camera view, media type (illustration,photo or design, artistic inspiration, other mj prompts, and midjourney parameters. It is intended as a sandbox to begin the play with prompt engineering and as a starting point for you to make the noteboook your own.\n",
    "\n",
    "\n",
    "The Zebonastic Prompt Playground [https://www.instagram.com/zebonastic.ai/](https://www.instagram.com/zebonastic.ai/) works especially well with our 9999 Midjourney Prompts lists which, besides a .csv file, gives two text files with two formatted python lists called mj_prompts, which can be cut and pasted into the Zebonastic Prompt Playground Colab notebook to create prompts that are specific to a topic like fashion, game art, or data visualization.\n",
    "\n",
    "Zebonastic has used this notebook the create over 50,000 stuning midjourney images some of which you can see at [https://www.instagram.com/zebonastic.ai/](https://www.instagram.com/zebonastic.ai/) and [https://www.etsy.com/shop/Zebonastic](https://www.etsy.com/shop/Zebonastic)\n",
    "\n",
    "_*Anatomy of a Midjourney prompt*_\n",
    "\n",
    "1. Subject (1) - person, animal, character, location, object, etc.\n",
    "2. Action (0.1) - jumping, dancing, posing, etc.\n",
    "3. Place (0,1) - supermarket, Venice beach, Eiffel Tower, etc.\n",
    "4. Style (0,2) - Expressionism, Steampunk, Renaissance, Pop Art, etc.\n",
    "5. Format (0,2) -  3D Render, Action Photography, Advertising Campaign, etc.\n",
    "6. Booster (0,5) - #wow, 4k,Arnold Render, Beautiful, Blender 3d,Contest Winner  etc.\n",
    "7. Perspective (0,1) -  85mm, Aerial View, Bokeh, Close Face, etc.\n",
    "8. View (0,1) - Portrait, headshot, closeup, birds-eye view, etc.\n",
    "9. Artists (0,3) - Wes Anderson, Arcimboldo, Pierre Auguste Renoir, Banksy, etc.\n",
    "10. Medium (0,1) - photo, painting, illustration, sculpture, doodle, tapestry, etc.\n",
    "11. Environment (0,1) - indoors, outdoors, on the moon, in Narnia, underwater, the Emerald City, etc.\n",
    "12. Lighting (0,1) - soft, ambient, overcast, neon, studio lights, etc\n",
    "13. Color (0,5) - vibrant, muted, bright, monochromatic, colorful, black and white, pastel, etc.\n",
    "14. Mood (0,1) - Sedate, calm, raucous, energetic, etc.\n",
    "15. Time Travel (0,1) - 1700s, 1960s, 2070s, etc.\n",
    "16. mj_prompt (0,1) - an existing mj prompt that has worked\n",
    "17. Midjourney parameters (0,2)  , etc.\n",
    "\n",
    "The notebook is very simple, (1) means one of the element is required, (0,5) anywhere from zero to five elements of the type, for example, zero to five boosters might be added.\n",
    "\n",
    "The user specifies the subject or lets the script assingn and random subject and hitting \"Run All\" generates num_prompts random prompt strings.\n",
    "\n",
    "The strings can be pasted into midjourney or as English prompts that can be edited by hand.  Note that while you can choose to write your prompts like a traditional sentnce all Midjourney cares about is the keywords in the prompt string.\n",
    "\n",
    "## Grammar\n",
    "\n",
    "The Midjourney Bot does not understand grammar, sentence structure, or words like humans. Word choice also matters. More specific synonyms work better in many circumstances. Instead of big, try gigantic, enormous, or immense. Remove words when possible. Fewer words mean each word has a more powerful influence. Use commas, brackets, and hyphens to help organize your thoughts, but know the Midjourney Bot will not reliably interpret them. The Midjourney Bot does not consider capitalization.\n",
    "\n",
    "## Use Collective Nouns\n",
    "\n",
    "Plural words leave a lot to chance. Try specific numbers. \"Three cats\" is more specific than \"cats.\" Collective nouns also work, “flock of birds” instead of \"birds.”  Try 27-year-old woman rather than woman.\n",
    "\n",
    "## Basic Parameters\n",
    "\n",
    "Using an Apple device?\n",
    "Many Apple devices automatically change double hyphens (--) to an em-dash (—). Midjourney accepts both!\n",
    "\n",
    "Aspect Ratios\n",
    "--aspect, or --ar Change the aspect ratio of a generation.\n",
    "\n",
    "Chaos\n",
    "--chaos <number 0–100> Change how varied the results will be. Higher values produce more unusual and unexpected generations.\n",
    "\n",
    "Image Weight\n",
    "--iw Sets image prompt weight relative to text weight. The default value is --iw 0.25.\n",
    "\n",
    "No\n",
    "--no Negative prompting, --no plants would try to remove plants from the image.\n",
    "\n",
    "Quality\n",
    "--quality <.25, .5, or 1>, or --q <.25, .5, or 1> How much rendering quality time you want to spend. The default value is 1. Higher values use more GPU minutes; lower values use less.\n",
    "\n",
    "Repeat\n",
    "--repeat <1–40>, or --r <1–40> Create multiple Jobs from a single prompt. --repeat is useful for quickly rerunning a job multiple times.\n",
    "\n",
    "Seed\n",
    "--seed <integer between 0–4294967295> The Midjourney bot uses a seed number to create a field of visual noise, like television static, as a starting point to generate the initial image grids. Seed numbers are generated randomly for each image but can be specified with the --seed or --sameseed parameter. Using the same seed number and prompt will produce similar ending images.\n",
    "\n",
    "Stop\n",
    "--stop <integer between 10–100> Use the --stop parameter to finish a Job partway through the process. Stopping a Job at an earlier percentage can create blurrier, less detailed results.\n",
    "\n",
    "Style\n",
    "--style <raw> Switch between versions of the Midjourney Model Version 5.1.\n",
    "--style <4a, 4b, or 4c> Switch between versions of the Midjourney Model Version 4.\n",
    "--style <cute, expressive, or scenic> Switch between versions of the Niji Model Version 5.\n",
    "\n",
    "Stylize\n",
    "--stylize <number>, or --s <number> parameter influences how strongly Midjourney's default aesthetic style is applied to Jobs.\n",
    "\n",
    "Tile\n",
    "--tile parameter generates images that can be used as repeating tiles to create seamless patterns.\n"
   ]
  },
  {
   "cell_type": "code",
   "execution_count": 1,
   "metadata": {
    "id": "0UE-Da3ggqzv"
   },
   "outputs": [],
   "source": [
    "# Some helper functions, most of these aren't used in this notebook but Zebonastic uses them for more advanced prompting so are included just in case they are useful\n",
    "import string\n",
    "import re, random\n",
    "\n",
    "def clean_lists(input_list):\n",
    "    cleaned_list = list(set(filter(lambda x: len(x) >= 3, input_list)))\n",
    "    return cleaned_list\n",
    "\n",
    "def clean_up_commas(string):\n",
    "    # Replace multiple commas with a single comma\n",
    "    string = re.sub(r',+', ',', string)\n",
    "\n",
    "    # Replace commas not properly flushed with a letter and a single white space\n",
    "    string = re.sub(r'(?<=[a-zA-Z]),(?!\\s|$)', ', ', string)\n",
    "\n",
    "    return string\n",
    "\n",
    "def combine_lists(list_of_lists):\n",
    "    combined_list = [element.title() for sublist in list_of_lists for element in sublist]\n",
    "    unique_list = list(set(combined_list))\n",
    "    return unique_list\n",
    "\n",
    "def alpha_numeric(n):\n",
    "    non_ascii_letters = ''.join([char for char in string.printable if char not in string.ascii_letters and ord(char) < 128 and char.isprintable()])\n",
    "    alpha_numeric = string.ascii_letters + string.digits  # contains both upper and lowercase letters and digits\n",
    "    result = ''\n",
    "    while len(result) < n:\n",
    "        result += random.choice(alpha_numeric)\n",
    "   # result += random.choice(non_ascii_letters)\n",
    "    result += str(random.randint(0, 9))\n",
    "    return result\n",
    "\n",
    "def decades():\n",
    "    start_year = 1840\n",
    "    end_year = 2040\n",
    "    decade = random.randint(start_year, end_year) // 10 * 10\n",
    "    return f\"{decade}s\"\n",
    "\n",
    "def biased_coin_flip(probability):\n",
    "    flip = random.random() # random number between 0 and 1\n",
    "    if flip < probability:\n",
    "        return True\n",
    "    else:\n",
    "        return False\n",
    "\n",
    "def replace_photoart(string, reverse=False):\n",
    "    if reverse:\n",
    "        replacements = {\n",
    "            'photo': 'art',\n",
    "            'photograph': 'drawing',\n",
    "            'photography': 'illustration'\n",
    "        }\n",
    "    else:\n",
    "        replacements = {\n",
    "            'illustration': 'photography',\n",
    "            'drawing': 'photograph',\n",
    "            'art': 'photo',\n",
    "            'artgraphy': 'photography'\n",
    "        }\n",
    "    for old_word, new_word in replacements.items():\n",
    "        string = string.replace(old_word, new_word)\n",
    "    replacements = {\n",
    "            'artgraphy': 'drawing',\n",
    "            'artgraph': 'drawing'\n",
    "        }\n",
    "    for old_word, new_word in replacements.items():\n",
    "        string = string.replace(old_word, new_word)\n",
    "    return string\n"
   ]
  },
  {
   "cell_type": "code",
   "execution_count": 2,
   "metadata": {
    "id": "TD_8kmtKdBKM"
   },
   "outputs": [],
   "source": [
    "# Lists\n",
    "\n",
    "subjects = [\"Mountains\", \"Forests\", \"Waterfalls\", \"Canyons\", \"Beaches\", \"Deserts\", \"Lakes\", \"Rivers\", \"Islands\", \"Volcanoes\", \"Glaciers\", \"Caves\", \"Coral Reefs\", \"Valleys\", \"Meadows\", \"Tundra\", \"Rainforests\", \"Wetlands\", \"Savannas\", \"Prairies\", \"Dunes\", \"Cliffs\", \"Fjords\", \"Oases\", \"Mangroves\", \"Hills\", \"Plateaus\", \"Archipelagos\", \"Hot Springs\", \"Geysers\", \"Oceans\", \"Dunes\", \"Tundra\", \"Stars\", \"Sun\", \"Islands\", \"Valleys\", \"Coral\", \"Ecosystems\", \"Ponds\", \"Sunsets\", \"Canyons\", \"Moons\", \"Trees\", \"Volcanoes\", \"Glaciers\", \"Rocks\", \"Waterfalls\", \"Leaves\", \"Wind\", \"Deserts\", \"Hills\", \"Rainbows\", \"Flowers\", \"Meadows\", \"Clouds\", \"Savannas\", \"Marshes\", \"Wildlife\", \"Caves\", \"Rivers\", \"Lakes\", \"Mountains\", \"Rain\", \"Grass\", \"Wetlands\", \"Fields\", \"Tropical\", \"Sunrises\", \"Bamboo\", \"Fjords\", \"Forests\", \"Jungles\", \"Snow\", \"Beaches\", \"Water\", \"Underwater\", \"Starscapes\", \"Countryside\", \"Natural Wonders\", \"Treetops\", \"Coastlines\", \"Auroras\", \"Aerial Views\", \"Hidden Gems\", \"Vistas\", \"Icebergs\", \"Cliffsides\", \"Oases\", \"Mossy Forests\", \"Sand Dunes\", \"Lush Valleys\", \"Colorful Reefs\", \"Craggy Peaks\", \"Misty Waterfalls\", \"Gentle Rivers\", \"Breathtaking Canyons\"]\n",
    "actions = [\"Hiking\", \"Exploring\", \"Photographing\", \"Climbing\", \"Swimming\", \"Boating\", \"Fishing\", \"Birdwatching\", \"Camping\", \"Picnicking\", \"Rafting\", \"Kayaking\", \"Canoeing\", \"Surfing\", \"Snorkeling\", \"Diving\", \"Skiing\", \"Snowboarding\", \"Sledding\", \"Stargazing\", \"Sunset Viewing\", \"Sunrise Viewing\", \"Wildlife Spotting\", \"Nature Walks\", \"Off-Roading\", \"Rock Climbing\", \"Paragliding\", \"Bungee Jumping\", \"Ziplining\", \"Hot Air Ballooning\", \"Nature Journaling\", \"Painting\", \"Sketching\", \"Meditating\", \"Yoga\", \"Adventuring\", \"Fossil Hunting\", \"Geocaching\", \"Bonfire Camping\", \"Backpacking\", \"Nature Photography\", \"Environmental Conservation\", \"Horseback Riding\", \"Wildflower Picking\", \"Planting Trees\", \"Cave Exploring\", \"Sailing\", \"Storm Chasing\", \"Trekking\", \"Canopy Tour\", \"Nature Study\", \"Photography Workshop\", \"Nature Sound Recording\", \"Butterfly Watching\", \"Rock Skipping\", \"Whale Watching\", \"Sandcastle Building\", \"Geyser Watching\", \"Dune Surfing\", \"Studying Flora and Fauna\", \"Hot Spring Soaking\", \"Glacier Hiking\", \"Star Photography\", \"Meteor Shower Gazing\", \"Environmental Cleanup\", \"Outdoor Yoga Retreat\", \"Canyoneering\", \"Mushroom Hunting\", \"Natural Water Slides\"]\n",
    "places = [\"Rocky Mountains\", \"Amazon Rainforest\", \"Great Barrier Reef\", \"Grand Canyon\", \"Yosemite National Park\", \"Sahara Desert\", \"Great Smoky Mountains\", \"Yellowstone National Park\", \"Giant's Causeway\", \"Machu Picchu\", \"Victoria Falls\", \"Antelope Canyon\", \"Great Ocean Road\", \"Norwegian Fjords\", \"Galapagos Islands\", \"Bora Bora\", \"Iguazu Falls\", \"Serengeti National Park\", \"Plitvice Lakes National Park\", \"Trolltunga\", \"Salar de Uyuni\", \"Torres del Paine National Park\", \"Huangshan\", \"The Wave\", \"Santorini\", \"The Maldives\", \"Banff National Park\", \"Zhangjiajie National Forest Park\", \"Lake Louise\", \"Jasper National Park\", \"Angel Falls\", \"Namib Desert\", \"Hawaii Volcanoes National Park\", \"Great Wall of China\", \"Isle of Skye\", \"Taj Mahal\", \"Arches National Park\", \"Cappadocia\", \"Zion National Park\", \"Havasu Falls\", \"Cinque Terre\", \"Swiss Alps\", \"Alaska's Inside Passage\", \"Torres del Paine\", \"Bryce Canyon National Park\", \"Easter Island\", \"Halong Bay\", \"Niagara Falls\", \"Atacama Desert\", \"Faroe Islands\", \"Fairy Pools\", \"Perito Moreno Glacier\", \"Mount Kilimanjaro\", \"Svalbard\", \"Bryce Canyon\", \"The Twelve Apostles\"]\n",
    "styles = ['De Stijl', 'Realism', 'Abstract Art', 'Medieval Art', 'Primitivism', 'Modernism', 'Conceptual Art', 'Avant-Garde', 'Impressionist', 'Post-Apocalyptic', 'Impressionism', 'Minimalism', 'Airbrush', 'Prehistoric Art', 'Collage', 'Romanticism', 'Punk', 'Rococo', 'Digital Art', 'Vintage', 'Surrealist', 'Hieroglyphics', 'Neoclassicism', 'Ancient Art', 'Installation', 'Graffiti', 'Constructivism', 'Ecological', 'Abstract', 'Fauvism', 'Fractal', 'Steampunk', 'Baroque', 'Casual', 'Symbolism', 'Glam', 'Low Poly', 'Futurism', 'Calligraphy', 'Classicism', 'Eclectic', 'Street Art', 'Expressionism', 'Babylonian Art', 'Dieselpunk', 'Contemporary', 'Biopunk', 'Traditional', 'Gothic', 'Photorealism', 'Sculpture', 'Glitchcore', 'Land Art', 'Pop Art', 'Cinematic', 'Afrofuturism', 'Dadaism', 'Synthwave', 'Abstract Organic', 'Suprematism', 'Op Art', 'Formal', 'Suminagashi', 'Abstract Expressionism', 'Anime', 'Mexican Muralism', 'Renaissance', 'Ethnic', 'Surrealism', 'Alegria', 'Retro', 'Industrial', 'Mannerism', 'Skeumorphism', 'Cubism', 'Vaporwave', 'Art Deco', 'Cyberpunk', 'Folk Art', 'Bohemian', 'Art Nouveau', 'Cybernetic', 'Post-Impressionism', 'Kinetic Art', 'Ancient Egyptian Art', 'Pointillism', 'Chinese Watercolor']\n",
    "formats = ['Street Photography', 'Courtroom Sketch', 'Claymation', 'Camera Obscura', 'Wireframe', 'One-Line Drawing', 'Lomography', 'Book Cover', 'Theatrical Press Release', 'Line Drawing', 'Brand Identity', 'Stage Set Design', 'Comic Book Art', 'Modeling Photoshoot', 'Advertising Campaign', 'Fashion Editorial', 'Professional Corporate Portrait', 'Watercolor Painting', 'Macro 35Mm Photograph', 'Music Video', 'Sound Installation', 'Collage', 'Concept Art', 'Promotional Video', 'Interactive Installation', '3D Render', 'Architectural Photography From Magazine', 'Social Media Campaign', 'Logo Design', 'Short Film', 'Animated Gif', 'Pixel Art', 'Real Estate Photography', 'Architectural Blueprint', 'Aquatint Print', 'Poster Design', 'Motion Graphics', 'Layered Paper', 'Stained Glass Window', 'Illustration', 'Autochrome', 'Long-Exposure Photograph With Slow Shutter Speed', 'Portrait Photography', 'Album Art Cover', 'Infographic', 'Photo Manipulation', 'Web Design', 'Photograph', 'Editorial Fashion Photography', 'Travel Photography', 'Street Art Mural', 'Portrait', 'Fifth Grade Yearbook', 'Line Art', 'Brochure Design', 'Cartoon', 'Spray-Painted Onto A Wall', 'Oil Painting', 'Harsh Flash Photography', 'Data Visualization', 'Sigma 75Mm', 'Press Release', 'Shot On Iphone 11', 'Low Poly', 'Fashion Show', 'Full Body Photo', 'Disposable Camera', 'Marble Statue', 'Typography Design', 'Storyboard', 'Commercial Print Ad', 'Street Art', 'Augmented Reality (Ar) App', 'Charcoal Drawing', 'Under Electron Microscope', 'T-Shirt Design', 'Trail Cam', 'Origami', 'Pinhole Photography', 'Aztec Carving', 'Colouring-In Sheet', 'Pastel Drawing', 'Video Game Design', 'Sketchbook', 'Blueprint', 'Visual Effects (Vfx)', 'Topiary', 'Decorative Minoan Mural', 'Storybook', 'Houdini 3D Render', 'Voynich Manuscript', 'Ice Carving', 'Editorial Illustration', 'Album Cover', 'Medieval Portrait', 'Pencil Sketch', 'Mugshot', 'Action Photography', 'Selfie', 'Logo Animation', 'Instruction Manual', 'Byzantine Icon', 'Ancient Egypt Papyrus', 'Interior Design', 'Manuscripts', 'Stop-Motion Animation', 'Fashion Lookbook', 'Roman Mosaic', 'Diagram', 'Linocut', 'Packaging Design', 'Pencil And Watercolor Drawing', 'Product Prototype', 'Virtual Reality (Vr) Experience', 'Packaging Prototype', 'Event Poster', 'Documentary Film', 'Polaroid', 'Advertising Poster', 'Sticker Illustration', 'Mythological Map', 'Double Exposure', 'Dashcam', 'Catalog Design', 'Photoshopped Image', 'Cgi', 'Product Photography', 'Patent Drawing', 'Magazine Layout', 'Art Installation', 'Cave Painting', 'Tattoo', 'Comic Strip', 'Brand Mascot', 'Vector Art', 'Pirate Map', 'Experimental Expired Film Photo', 'Crayon Drawing', 'Exhibition Design', 'Studio Photography', 'Bronze Statue', 'Kindergartener Drawing', 'Painting', 'Cinematography From Music Video', 'Terracotta Warriors', 'Branding Guidelines']\n",
    "boosters = ['Beautiful', 'Inspiring', 'Extraordinary', 'Unbelievable', 'Innovative', 'Rendered In Unreal Engine', 'Exceptionally Skilled', 'Unique', 'Spectacular', 'Stunning', 'Game-Changing', 'Hyper Realistic', 'Striking', 'Detailed', 'Studio Lighting', 'Jaw-Dropping', 'Magical', 'Digital Art', 'Skillful', 'Fantastic', 'Unforgettable', 'Visionary', 'Exceptional', 'Very Beautiful', 'Captivating', 'Genius', 'Expertise', 'Masterful', 'Outstanding', 'Impressive', 'Highly Detailed', 'Arnold Render', 'Contest Winner', 'Perspectives', 'State-Of-The-Art', 'Iconic', 'Mind-Blowing', '4K Resolution', 'Well Preserved', 'Rendering', 'One-Of-A-Kind', 'Exquisite', 'Groundbreaking', 'Vibes', 'Mesmerizing', 'Unmatched', 'Exemplary', 'Aesthetic', 'Ingenious', 'Hyperrealistic', 'Epic', 'High Poly', 'Top-Notch', 'Wow Factor', 'Trailblazing', 'Impressive Detail', 'Trending On Artstation', 'Vfx', 'Incredible', 'Photorealistic', 'Ultra High Poly', 'Remarkable', 'Wondrous', 'Blender 3D', '#Wow', 'Postprocessing', 'Creative', 'Phenomenal', 'Unreal Engine', 'Octane Render', 'Talented', 'Revolutionary', '70Mm', 'Extremely Detailed', 'Vivid', 'Cutting-Edge', 'Professional', 'Masterpiece', 'Inspire', 'World-Class', 'High Detail', 'Fascinating', 'Stellar Composition', 'Master of Lighting', 'Impeccable Textures', 'Impressionistic', 'Meticulous Brushwork', 'Artistic Vision', 'Skillful Use of Color', 'Breathtaking Depth', 'Sublime Proportions', 'Unreal Beauty', 'Ethereal Atmosphere', 'Transcendent Quality', 'Awe-Inspiring Perspective']\n",
    "\n",
    "# Part 2 perspectives, views, artists, mediums, environments, lights, colors, moods, decades, mj_prompts, mj_parameters lists\n",
    "perspectives = ['Off-Center', 'Panning', 'Plain Background', 'Candid', 'Wide Angle', 'In The Distance', 'Low Angle', 'Tilt-Shift', 'Oversaturated Filter', 'Underwater', \"Bird'S Eye\", 'Overhead View', 'Close Face', 'Zoomed', 'Overhead', 'High Angle', 'First-Person', 'Through A Periscope', 'From Above', 'From Below', 'Infrared', 'Drone', 'Unconventional', 'Telephoto', 'Reverse', 'Aerial View', 'Hard Lighting', 'Leading Lines', 'Close-Up', 'Portrait', 'Dutch Angle', 'Abstract', 'Split Screen', 'Fish-Eye', 'Forced Perspective', 'Night Vision', 'Vertical', 'White Background', '85Mm', 'Diagonal', 'Landscape', 'Sunset Photo At Golden Hour', 'X-Ray', 'Tilted Frame', 'Through A Porthole', 'Flat Lay', 'Head-And-Shoulders Shot', 'Extreme Close-Up', 'Panoramic', 'Spherical', 'Tilted', 'Shallow Depth Of Field', 'Warped', 'Cinematic', 'Lens Flare', 'Top-Down', 'Wide-Angle', 'Astrological', 'Long Shot', 'Long Exposure', 'Full Shot', 'Midshot', 'Parallel', 'Selective Focus', 'Omniscient', 'Bokeh', 'Isometric', 'From Behind', 'Viewed From Behind', 'Vertigo Effect', 'Silhouette', 'Time-Lapse', 'Wide Shot', 'Framed', 'Motion Blur', 'On Canvas', 'Multiple Exposure', 'Reflection', 'Fisheye Lens', 'Symmetrical', 'Macro', 'Close Up', 'Over-The-Shoulder Shot', 'Point Of View (Pov)']\n",
    "views = ['Birds-Eye View', 'Panning', 'Wide-Angle View', 'Drone Shot', 'Street View', 'Close-Up Shot, ', 'Focus Shot On The Style Inspired Clothing, ', 'Split Focus', 'Plain Background', 'Hdr (High Dynamic Range)', 'Candid', 'In The Distance', 'Front View', 'Low Angle', 'Medium Close-Up Shot Of Style Inspired Clothing, ', 'Tilt-Shift', 'Light Painting', 'Oversaturated Filter', 'Backlit Subjectmedium-Wide Full Body Shot Doing Yoga, Focus Shot On The Model, ', 'Medium-Wide Full Body Shot, ', 'Handheld', 'Overhead View', 'Macro View', 'Cityscape View', 'Collage View', 'Selective View', 'Close Face', 'Night Photography', 'Low Angle View', 'Split View', 'Night View', 'Overhead', 'High Angle', 'Through A Periscope', 'From Above', 'From Below', 'Infrared', 'Symmetrical View', 'Asymmetric View', 'Tracking Shot', 'Telephoto', 'Close-Up Shot Of Style Inspired Clothing On The Style Inspired Clothing, ', 'Focus Shot On The Model, ', 'Top-Down View', 'Aerial View', 'High Angle View', 'Hard Lighting', 'Narrow-Angle View', 'Medium-Wide Full Body Shot Doing Yoga, Focus Shot On The Model, ', 'Close-Up', 'Rooftop View', 'Portrait', 'Dutch Angle', 'Medium Close-Up Shot, ', 'Slow Motion', 'Zoomed-Out View', 'Extreme Close-Up View', 'Fixed View', 'Fish-Eye', 'Dark Background', 'Interior View', 'Back View', '85Mm', 'Rack Focus', 'Narrow Perspective View', 'Landscape', 'Sunset Photo At Golden Hour', 'Scenic View', 'Tilted Frame', 'Close-Up Shot On The Model, ', 'Micro View', 'Through A Porthole', 'Exterior View', 'Head-And-Shoulders Shot', '360-Degree View', 'Panoramic', 'Focus Shot On The Style Inspired Clothing, Focus Shot On The Model, ', 'Dynamic View', 'Close-Up Shot Of Style Inspired Clothing, ', 'Extreme Close-Up Shot On The Model, ', 'Over-The-Shoulder View', 'Zoomed-In View', 'Crane Shot', 'Shallow Depth Of Field', 'Lens Flare', 'Distant View', 'Extreme Close-Up Shot Of Style Inspired Clothing On The Style Inspired Clothing, ', 'Wide-Angle', 'Long Shot', 'Vertical View', 'Long Exposure', 'Full Shot', 'Midshot', 'Extreme Wide Shot', 'Point-Of-View (Pov)', 'Extreme Close-Up Shot, ', '360-Degree Panoramic View', 'Bokeh', 'Static View', 'Steadicam', 'Subject In Motion', 'Framed Shot', '35Mm Aerial View', 'Isometric', 'First-Person View', 'Seascape View', 'From Behind', 'Viewed From Behind', 'Close Distance View', 'Horizontal View', 'Double Exposure', 'Landscape View', 'Panoramic View', 'Wide Perspective View', 'Headshot', 'Full View', 'Silhouette', 'Time-Lapse', 'Wide Shot', 'Motion Blur', 'On Canvas', 'Candid View', 'Reflection', 'Fisheye Lens', 'Partial View', \"Bird'S Eye View\", 'Side View', 'Unconventional Framing', 'Slo-Mo View', 'Skyline View', 'Extreme Close-Up Shot', 'Detailed View Of The Model, ', 'Macro', 'Extreme Close-Up Shot Of Style Inspired Clothing, ', 'Close Up', 'Over-The-Shoulder Shot', 'Underwater View', 'Time-Lapse View']\n",
    "artists = ['Pablo Picasso', 'Lisa Frank', 'Georges Seurat', 'Edvard Munch', 'Norman Rockwell', 'Georges Braque', 'Duffer Brothers', 'Frank Frazetta', 'René Magritte', 'Toshi Yoshida', 'Duchamp', 'Maurice Sendak', 'Charles Schulz', 'Goya', 'Piet Mondrian', 'Beatrix Potter', 'Rembrandt', 'Francisco Goya', 'Raphael', 'Leonardo Da Vinci', 'Kazimir Malevich', 'Thomas Kinkaid', 'Dorothea Lange', 'Frida Kahlo', 'Brueghel The Elder', 'Roy Lichtenstein', 'Hatsune Miku', 'Samuel Daniell', 'Caravaggio', 'Seurat', 'Yves Klein', 'Cezanne', 'Mark Rothko', 'Saul Leiter', 'Salvador Dali', 'Diego Rivera', 'Banksy', 'Michelangelo', 'Gustave Doré', 'Jean-Michel Basquiat', 'Yoji Shinkawa', 'Bacon', 'Albert Bierstadt', 'Dean Cornwell', 'Mary Blair', 'Marc Chagall', 'Gainsborough', 'Vermeer', 'Hokusai', 'Kahlo', 'Rene Magritte', 'Vincent Van Gogh', 'Lucian Freud', 'Robert Hargreaves', 'Henri Matisse', 'Galen', 'Simon Stalenhag', 'Hayao Miyazaki', 'Alphonse Mucha', 'Pieter Brueghel', 'Frank Gehry', 'Modigliani', 'J.K. Rowling', 'Turner', 'Arcimboldo', 'Gustave Dore', 'Margaret Keane', 'Axel Schaefer', 'Mc Escher', 'Dr. Seuss', 'Jackson Pollock', 'Ivan Shishkin', 'Robert Mccall', \"Georgia O'Keeffe\", 'Keith Haring', 'Katsushika Hokusai', 'Edward Hopper', 'Eric Carle', 'Yayoi Kusama', 'Andy Warhol', 'Terry Richardson', 'Basquiat', 'Sargent', 'Ansel Adams', 'Lichtenstein', 'Henri Rousseau', 'Edouard Manet', 'Toulouse-Lautrec', 'Claude Lorrain', 'Utagawa Kuniyoshi', 'Pierre Auguste Renoir', 'Thomas Cole', 'Ralph Mcquarrie', 'Annie Leibovitz', 'Wes Anderson', 'Hieronymus Bosch', 'Zdzislaw Beksinski', 'Gustav Klimt', 'Gericault', 'Johannes Vermeer', 'John Constable', 'Botticelli', 'Claude Monet', 'Craig Mullins', 'Edgar Degas', 'Bill Watterson', 'James Gurney', 'Auguste Rodin', 'Paul Gauguin', 'Greg Rutkowski', 'Salvador Dalí', 'Hanna Barbera', 'Paul Cézanne']\n",
    "mediums = ['Fiber Art', 'Performance Art', 'Charcoal Drawing', 'Woodworking', 'Metal Sculpture', 'Gouache Painting', 'Marker Art', 'Wire Sculpture', 'Illustration', 'Assemblage', 'Acrylic Painting', 'Printmaking', 'Mosaic', 'Pastel Drawing', 'Textile Printing', 'Encaustic Art', 'Spray Painting', 'Scratchboard Art', 'Installation Art', 'Metalwork', 'Lithography', 'Textile Art', 'Pencil Drawing', 'Stained Glass', 'Ink Art', 'Bronze Sculpture', 'Doodle', 'Sculpture', 'Pottery', 'Pen And Ink Drawing', 'Watercolor Painting', 'Digital Painting', 'Collage', 'Screen Printing', 'Engraving', 'Glass Art', 'Ceramics', 'Oil Painting', 'Tapestry', 'Photomontage', 'Photo', 'Painting', 'Airbrush Art', 'Digital Art', 'Calligraphy', 'Childrens Art', 'Batik Art', 'Clay Sculpture', 'Paper Art', 'Etching', 'Video Art', 'Graphite Drawing', 'Mixed Media']\n",
    "environments = ['In A Surreal Landscape', 'In A Post-Apocalyptic Setting', 'In A Utopian Society', 'In A Cityscape', 'In A Dream', 'In A Desert', 'In A Cozy Cottage', 'In A Wild West Town', 'In A Futuristic City', 'In A Forest', 'In A Celestial Realm', 'Indoors', 'In A Mythical Land', 'In A Fantasy Kingdom', 'In A Museum', 'In An Alternate Dimension', 'In A Historical Setting', 'In A Science Laboratory', 'Outdoors', 'On The Moon', 'In A Parallel Universe', 'In Narnia', 'In A Small Town', 'In A Space Station', 'In A Haunted House', 'In A Futuristic Spaceship', 'In An Underwater City', 'In A Film Noir Setting', 'In A Circus', 'Underwater', 'In An Enchanted Forest', 'In A Bustling Market', 'In A Castle', 'In A Snowy Landscape', 'In A Hidden Cave', 'In A Zen Garden', 'Yoga Studio', 'The Emerald City', 'In A Lunar Colony', 'In A Jungle', 'In A Magical Realm', 'In A Dystopian World', 'In A Virtual Reality', 'In A Cyberpunk City', 'In A Floating City', 'In A Steampunk World', 'In A Time-Traveling Adventure', 'In A Tropical Paradise', 'In A War Zone']\n",
    "lights = ['Rainy', 'Sunrise', 'Stormy', 'Candlelight', 'Moonlight', 'Firelight', 'Misty', 'Torchlight', 'Strobe', 'Gloomy', 'Intense', 'Chandelier', 'Fairy Lights', 'Cloudy', 'Backlighting', 'Laser', 'Ambient', 'Twilight', 'Lantern', 'Mysterious', 'Moody', 'Foggy', 'Silhouette', 'Soft', 'High-Key', 'Dramatic', 'Dusk', 'Dynamic', 'Streetlights', 'Dreamy', 'Subtle', 'Vibrant', 'Glowing', 'Bright', 'Low-Key', 'Rim Lighting', 'Dappled', 'Underwater', 'Cinematic', 'Studio Lights', 'Romantic', 'Overcast', 'Ethereal', 'Dawn', 'Magical', 'Fluorescent', 'Harsh', 'Spotlight', 'Firefly', 'Disco Lights', 'Natural Light', 'Golden Hour', 'Ambient Lighting', 'Neon', 'Sunset', 'Fireworks']\n",
    "colors = ['Iridescent', 'Cool', 'Red Apple Color', 'Black And White', 'Deep', 'Autumnal Colors', 'Nectarine Color', 'Cool Blues', 'Blueberry Color', 'Endive Color', 'Kiwi Color', 'Turnip Color', 'Subtle', 'Raspberry Color', 'Primary Colors', 'Sun-Kissed', 'Pale', 'Potato Color', 'Metallic', 'Yellow Apple Color', 'Broccoli Color', 'Desaturated', 'Yellow Squash Color', 'Warm', 'Purple Potato Color', 'Persimmon Color', 'Carrot Color', 'Playful', 'Pop Of Color', 'Harmonious', 'Yellow Tomato Color', 'Bell Pepper Color', 'Rhubarb Color', 'Lemon Color', 'Soothing', 'Jewel Tones', 'Thyme Color', 'Eggplant Color', 'Garlic Color', 'Watermelon Color', 'Yellow Bell Pepper Color', 'Apricot Color', 'Elegant', 'Lime Color', 'Papaya Color', 'Dramatic', 'Purple Carrot Color', 'Bold', 'Faded', 'Contrasting', 'Tangerine Color', 'Rosemary Color', 'Gradient', 'Variegated', 'Chili Pepper Color', 'Parsley Color', 'Pastel Pinks', 'Pepper Color', 'Green Pea Color', 'Honeydew Melon Color', 'Cucumber Color', 'Turmeric Color', 'Neon', 'Saturated', 'Lavender Color', 'Whimsical', 'Mango Color', 'Sweet Potato Color', 'Translucent', 'Orange Color', 'Butternut Squash Color', 'Passion Fruit Color', 'Warm Yellows', 'Toned', 'Rich', 'Sage Color', 'Crisp', 'Secondary Colors', 'Plum Color', 'Jalapeno Pepper Color', 'Earth Tones', 'Tomato Color', 'Red Onion Color', 'Vivid Greens', 'Radish Color', 'Monochromatic', 'Tinted', 'Vibrant', 'Glowing', 'Peach Color', 'Cantaloupe Color', 'Okra Color', 'Grape Color', 'Acai Color', 'Popsicle Colors', 'Strawberry Color', 'Mint Color', 'Zucchini Color', 'Grapefruit Color', 'Colorful', 'Clementine Color', 'Soothing Purples', 'Spinach Color', 'Guava Color', 'Ginger Color', 'Pear Color', 'Kale Color', 'Transitional', 'Pineapple Color', 'Green Bean Color', 'Purple Cabbage Color', 'Muted', 'Glossy', 'Cranberry Color', 'Complementary', 'Shades Of Gray', 'Green Apple Color', 'Bright', 'Blackberry Color', 'Fig Color', 'Beet Color', 'Cherry Color', 'Earthy Browns', 'Pastel', 'Pumpkin Color', 'Pearlescent', 'Red Cabbage Color', 'Pomegranate Color', 'Arugula Color', 'Opaque', 'Multicolored', 'Matte', 'Red Pepper Color', 'Dusky Oranges']\n",
    "moods = ['Brooding', 'Whimsical', 'Lively', 'Enigmatic', 'Soothing', 'Blissful', 'Optimistic', 'Raucous', 'Captivating', 'Hopeful', 'Intense', 'Joyful', 'Elegant', 'Moody', 'Mysterious', 'Pensive', 'Energetic', 'Reflective', 'Uplifting', 'Upbeat', 'Peaceful', 'Thoughtful', 'Melancholic', 'Euphoric', 'Dreamlike', 'Dreamy', 'Sedate', 'Mellow', 'Passionate', 'Enchanting', 'Soulful', 'Exuberant', 'Serene', 'Suspenseful', 'Romantic', 'Empowering', 'Contemplative', 'Ethereal', 'Fierce', 'Magical', 'Tranquil', 'Haunting', 'Calm', 'Smiling Happy', 'Chill', 'Playful', 'Funky', 'Dark', 'Nostalgic', 'Hypnotic']\n",
    "decades = ['Ancient Greece', 'Future Dystopia', 'World War Ii', 'Ancient Egypt', 'Colonial Era', 'Swinging Sixties', 'Ice Age', 'Information Age', 'Roaring Twenties', 'Middle Ages', 'Gothic Era', 'Inca Empire', 'Elizabethan Era', 'Renaissance Period', 'Great Depression', 'Viking Age', 'Digital Age', 'Belle Époque', 'Disco Era', 'Post-War Era', 'Jurassic Era', 'Hippie Era', 'New Wave Era', 'World War I', 'Industrial Revolution', 'Feudal Japan', 'Prehistorical', 'Space Exploration Era', '1920S', '1800S', 'Cretaceous Period', 'Ancient Rome', 'Civil Rights Movement', 'Space Age', 'Art Deco Era', 'Aztec Civilization', 'Victorian Era', 'Age Of Exploration', 'Wild West', 'Age Of Enlightenment', 'Punk Rock Era', 'Edwardian Era', 'Medieval Era', 'Prohibition Era', 'Prehistoric Times', 'Regency Era', '1960S', 'Future', 'Gilded Age', 'Golden Age Of Hollywood', 'Stone Age', 'Cold War', 'Art Nouveau Period']\n",
    "mj_parameters = []"
   ]
  },
  {
   "cell_type": "code",
   "execution_count": 3,
   "metadata": {
    "id": "T855-lo3V5Ey"
   },
   "outputs": [],
   "source": [
    "# mj_prompts\n",
    "mj_prompts = []\n"
   ]
  },
  {
   "cell_type": "code",
   "execution_count": 4,
   "metadata": {
    "colab": {
     "base_uri": "https://localhost:8080/",
     "height": 35
    },
    "id": "2fBL2g-IhZfv",
    "outputId": "135ad53e-093f-46ad-e75f-67722b13fa37"
   },
   "outputs": [
    {
     "data": {
      "text/plain": [
       "'\\nl=[colorful_foods, color_terms]\\ntmp = clean_lists(combine_lists(l))\\nprint(tmp)\\n'"
      ]
     },
     "execution_count": 4,
     "metadata": {},
     "output_type": "execute_result"
    }
   ],
   "source": [
    "'''\n",
    "l=[colorful_foods, color_terms]\n",
    "tmp = clean_lists(combine_lists(l))\n",
    "print(tmp)\n",
    "'''"
   ]
  },
  {
   "cell_type": "markdown",
   "metadata": {
    "id": "zufhoEcdcLN8"
   },
   "source": [
    "# A simple example of prompt generation\n",
    "\n",
    "The function *generate_random_text* assumes there are 6 lists that have text elements. The lists are called subjects, actions,\n",
    "places, styles, formats, and boosters.\n",
    "\n",
    "The text prompt returned has the following structure\n",
    "1. Subject - exactly 1 element from the subjects list\n",
    "2. Action  -  0 or 1 elements from the actions list\n",
    "3. Place  - 0 or 1 elements from the places list\n",
    "4. Style  - 0 to 2 elements from the styles list with no duplicates\n",
    "5. Format - 0 to 2 elements from the formats list with no duplicates\n",
    "6. Booster - 0 to 5 elements from the boosters list with no duplicates\n"
   ]
  },
  {
   "cell_type": "code",
   "execution_count": 5,
   "metadata": {
    "colab": {
     "base_uri": "https://localhost:8080/"
    },
    "id": "OesquV-kcUjg",
    "outputId": "2503389d-fa5d-49ac-967c-e7325574ff25"
   },
   "outputs": [
    {
     "name": "stdout",
     "output_type": "stream",
     "text": [
      "Breathtaking Canyons, Off-Roading, Installation, Post-Impressionism, Unforgettable, Skillful Use of Color, Sublime Proportions, Trailblazing\n"
     ]
    }
   ],
   "source": [
    "import random\n",
    "\n",
    "def generate_random_text(subjects, actions, places, styles, formats, boosters):\n",
    "    text = []\n",
    "\n",
    "    # Step 1: Subject\n",
    "    subject = random.choice(subjects)\n",
    "    text.append(subject)\n",
    "\n",
    "    # Step 2: Action\n",
    "    if random.random() < 0.5:\n",
    "        action = random.choice(actions)\n",
    "        text.append(action)\n",
    "\n",
    "    # Step 3: Place\n",
    "    if random.random() < 0.5:\n",
    "        place = random.choice(places)\n",
    "        text.append(place)\n",
    "\n",
    "    # Step 4: Style\n",
    "    num_styles = random.randint(0, 2)\n",
    "    styles = random.sample(styles, num_styles)\n",
    "    text.extend(styles)\n",
    "\n",
    "    # Step 5: Format\n",
    "    num_formats = random.randint(0, 2)\n",
    "    formats = random.sample(formats, num_formats)\n",
    "    text.extend(formats)\n",
    "\n",
    "    # Step 6: Booster\n",
    "    num_boosters = random.randint(0, 5)\n",
    "    boosters = random.sample(boosters, num_boosters)\n",
    "    text.extend(boosters)\n",
    "\n",
    "    return ', '.join(text)\n",
    "\n",
    "\n",
    "random_text = generate_random_text(subjects, actions, places, styles, formats, boosters)\n",
    "print(random_text)\n"
   ]
  },
  {
   "cell_type": "markdown",
   "metadata": {
    "id": "8LRnkyzBrF_T"
   },
   "source": [
    "# describe and midjounrey prompts"
   ]
  },
  {
   "cell_type": "code",
   "execution_count": 6,
   "metadata": {
    "id": "J1ydgPXiAiif"
   },
   "outputs": [],
   "source": [
    "mj_prompts = [\n",
    "    \"A pink purple sunset surrounded by pine trees and water with red mountains, in the style of Flickr, Vancouver School, Windows XP, joyful celebration of nature, I can't believe how beautiful this is, eye-catching, dark pink and aquamarine --ar 2:3.\",\n",
    "    \"A pink and purple sky is seen over a body of water, in the style of the Vancouver School, Flickr, joyful celebration of nature, romantic: dramatic landscapes, Charles Ginner, red and purple, naturecore --ar 2:3.\",\n",
    "    \"Photograph BC sunrise by Jamie Yr, in the style of Kodak Aerochrome, naturecore, romanticized views, emphasis on nature, violet and magenta, Flickr, cabincore --ar 2:3.\",\n",
    "    \"I dipped my tooth into the water at the sunrise, which was the light of our dreams, in the style of dark pink and violet, the Vancouver School, romanticized nature, Flickr, nature-based patterns, Windows XP, romantic scenery --ar 2:3.\",\n",
    "    \"Banff National Park turquoise lake under cloudy sky, in the style of post-apocalyptic backdrops, UHD image, 3840x2160, nature-inspired motifs, birds-eye-view, creative commons attribution, dark violet and dark green --ar 14:25.\",\n",
    "    \"A lake or mountain is shown in the foreground, in the style of dark turquoise and light turquoise, vintage aesthetics, Y2K aesthetic, hikecore, Joel Robison, nature inspired, violet and emerald --ar 14:25.\",\n",
    "    \"Banff National Park park DJ AE, in the style of turquoise and cyan, natural symbolism, poetic landscapes, hikecore, Joel Robison, light purple and dark amber, environmental awareness --ar 14:25.\",\n",
    "    \"The Kahkia, a mountain lake in nature, by the viewfinder of a tree and mountains, in the style of light turquoise and dark emerald, Y2K aesthetic, hikecore, sparse backgrounds, light purple and turquoise, Vancouver School, 8k resolution --ar 14:25.\",\n",
    "    \"A waterfall outside of a cave inside Iceland, in the style of pixelated landscapes, serene landscapism --ar 92:163.\",\n",
    "    \"Waterfall in Iceland, in the style of nature-inspired imagery, pixelated landscapes --ar 92:163.\",\n",
    "    \"Waterfall Iceland, Iceland, waterfall, in the style of pixelated landscapes, light amber and green, serene and peaceful ambiance, 32k UHD, Vik Muniz, Caras Ionut, imposing monumentality --ar 92:163.\",\n",
    "    \"A waterfall coming out of a cave inside Iceland photo, in the style of pixelated landscapes, expansive landscapes --ar 92:163.\",\n",
    "    \"Autumn and snow in the Alps, in the style of yellow and emerald, earthy elegance, Monsù Desiderio, grandiose color schemes, Maximilian Pirner, use of bright colors, precise and sharp --ar 77:127.\",\n",
    "    \"The trees are red, yellow, and orange, in the style of Italian landscapes, cabincore, yellow and emerald, precise and sharp, Swiss style, Whistlerian, landscape inspirations --ar 77:127.\",\n",
    "    \"Autumn leaves in a field, in the style of mountainous vistas, cabincore, yellow and emerald, Swiss style, eye-catching, villagecore, pristine naturalism --ar 77:127.\",\n",
    "    \"Mountain range in the background, in the style of yellow and emerald, cottagecore --ar 77:127.\",\n",
    "    \"The full moon rising over a lake, in the style of dark orange and light gold, gigantic scale, Flickr, photographic source, Magewave, bombacore, eye-catching --ar 91:163.\",\n",
    "    \"A full moon rising over lake at sunset, in the style of dark yellow and dark orange, gigantic scale, Flickr, Misha Gordin, elaborate spacecrafts, Magewave, associated press photo --ar 91:163.\",\n",
    "    \"A full moon sets over the water, and birds fly onto it, in the style of dark orange and light amber, gigantic scale, sleek, luminous colors, dark gold, long lens, luminescent installations --ar 91:163.\",\n",
    "    \"Full moon with birds flying over water, in the style of dark orange and light gold, gigantic scale, Misha Gordin, Flickr, 32k UHD, National Geographic photo, alien worlds --ar 91:163.\",\n",
    "    \"Travel in Iceland Iran waterfalls, Iceland tour packages, in the style of fleeting moments, wetcore --ar 75:133.\",\n",
    "    \"The Iceland waterfall at sunset, in the style of iconic imagery, wetcore, iconic --ar 75:133.\",\n",
    "    \"Waterfall at sunset in Iceland, in the style of iconic imagery, 500–1000 CE, wetcore, exacting precision, environmental awareness --ar 75:133.\",\n",
    "    \"A waterfall with beautiful water falls down in the middle of a green grove of grass, in the style of iconic imagery, kimoicore, light sky-blue and light amber, raw metallicity, studyblr, 500–1000 CE, expansive landscapes --ar 75:133.\",\n",
    "    \"Landscape with pine trees and mountains at sunset around the Dolomites by Julian Bosniak, in the style of photo-realistic landscapes, dark beige and green, light amber and green, photo taken with Provia, Emilio Giuseppe Dossena, landscape inspirations, Caras Ionut --ar 14:25.\",\n",
    "    \"Sunset over rocky terrain in the Dolomites of the Alps, in the style of photo-realistic landscapes, forestpunk, rural landscapes --ar 14:25.\",\n",
    "    \"Landscape at sunset over mountains in a Dolomite plateau, in the style of photo-realistic landscapes, schlieren photography --ar 14:25.\",\n",
    "    \"A mountain with green grass and trees, in the style of Dimitry Roulland, Nikon D850, Jacopo Bassano, light amber, quadratura, Rimel Neffati, traditional --ar 14:25.\",\n",
    "    \"Starry night over Mount Rainier Northwest, in the style of captivating documentary photos, surrealistic dream-like imagery, surreal dream-like imagery, nebulous forms --ar 53:80.\",\n",
    "    \"The mountain is lit up at night with a starry sky, in the style of Michael Eastman, Dimitry Roulland, Bob Ross, surrealistic dream-like imagery, light red and white, associated press photo, Whistlerian --ar 53:80.\",\n",
    "    \"Mike Hauge, storms of mountain highalp, Rainier County, Washington, in the style of the stars art group (xing xing), precisionism, captivating documentary photos, cosmic visions, Evgeni Gordiets, Jeremy Geddes, light pink and red --ar 53:80.\",\n",
    "    \"A storm passes over a mountain in a dark sky, in the style of the stars art group (xing xing), dreamy portraits, Whistlerian, associated press photo, light pink and red, exaggerated features, organic formations --ar 53:80.\",\n",
    "    \"An untouched piece of natural landscape, in the style of vibrant hues master, precisionist, nature-inspired imagery, Whistlerian, violet and pink, associated press photo, traditional craftsmanship --ar 2:3.\",\n",
    "    \"A mountain with mountains behind it, in the style of vibrant landscapes, floralpunk, violet and brown, Washington Color School, National Geographic photo, spectacular backdrops, romantic riverscapes --ar 2:3.\",\n",
    "    \"Fir trees around grassy hillsides, in the style of richly colored skies, intricate floral arrangements, National Geographic photo, Whistlerian, captures the essence of nature, vibrant landscapes, mountainous vistas --ar 2:3.\",\n",
    "    \"The tree leaves on the ground, in the style of mountainous vistas, purple and emerald, Whistlerian, captures the essence of nature, snapshots of America, floral explosions, impressive panoramas --ar 2:3.\",\n",
    "    \"The red and pink sun setting over a river, in the style of natural symbolism, lush colors --ar 33:56.\",\n",
    "    \"Sunset over a river near trees, in the style of red and magenta, mesmerizing colorscapes, the snapshot aesthetic, Whistlerian --ar 33:56.\",\n",
    "    \"Sunset over the Meadowbrook River in Sagago County, Colorado by OGF Photography, in the style of light crimson and magenta, contest winner, Elihu Vedder, Norwegian nature, UHD image, Andreas Achenbach, emotional naturalism --ar 33:56.\",\n",
    "    \"Sunset over a pond and mountain, in the style of red and magenta, photo-realistic landscapes, swirling vortexes, Windows XP --ar 33:56.\",\n",
    "    \"An old reformed stone mill and waterfall in the forest, in the style of Erik Jones, dark white and amber, Mike Campau, vibrant coloration, Burt Glinn, fine art photography, colorful landscapes --ar 33:50.\",\n",
    "    \"A fall scene with water flowing in the background, in the style of old-world charm, grandiose color schemes, cabincore, UHD image, pictorial storytelling, industrialization, bold primary colors --ar 33:50.\",\n",
    "    \"A yellow house in the forest with autumn leaves, in the style of Mitch Griffiths, romantic riverscapes, photographic source, David Nordahl, industrialization, dark white and orange, National Geographic photo --ar 33:50.\",\n",
    "    \"A country house sits among a small stream, in the style of dramatic colors, new American color photography, Samyang AF 14mm f/2.8 RF, industrialization, detailed foliage, romantic: dramatic landscapes, Whirly --ar 33:50.\"\n",
    "]"
   ]
  },
  {
   "cell_type": "markdown",
   "metadata": {
    "id": "k62-VKEkrxQU"
   },
   "source": [
    "# mj_parameters"
   ]
  },
  {
   "cell_type": "code",
   "execution_count": 7,
   "metadata": {
    "id": "KjBQ9vlSrwT6"
   },
   "outputs": [],
   "source": [
    "mj_parameters = [\n",
    "\"--v 5\",\n",
    "\"--v 5\"]"
   ]
  },
  {
   "cell_type": "markdown",
   "metadata": {
    "id": "SeZjdUJYyaQU"
   },
   "source": [
    "# Full Prompt Generator\n",
    "\n",
    "\n"
   ]
  },
  {
   "cell_type": "code",
   "execution_count": 8,
   "metadata": {
    "colab": {
     "base_uri": "https://localhost:8080/"
    },
    "id": "XCylxOSDykvg",
    "outputId": "4e338285-05e6-4bbd-a0be-04410bbe47ed"
   },
   "outputs": [
    {
     "name": "stdout",
     "output_type": "stream",
     "text": [
      "Beaches, Bora Bora, Post-Apocalyptic, Formal, Album Art Cover, Very Beautiful, Genius, Wondrous, Candid, Frank Frazetta, Greg Rutkowski, Moody, Saturated, Cool, Upbeat, Mike Hauge, storms of mountain highalp, Rainier County, Washington, in the style of the stars art group (xing xing), precisionism, captivating documentary photos, cosmic visions, Evgeni Gordiets, Jeremy Geddes, light pink and red --ar 53:80., --v 5\n"
     ]
    }
   ],
   "source": [
    "import random\n",
    "\n",
    "def generate_random_prompt(subjects, actions, places, styles, formats, boosters, perspectives, views, artists, mediums, environments, lights, colors, moods, decades, mj_prompts, mj_parameters):\n",
    "    text = []\n",
    "\n",
    "    # Step 1: Subject\n",
    "    subject = random.choice(subjects)\n",
    "    text.append(subject)\n",
    "\n",
    "    # Step 2: Action\n",
    "    if random.random() < 0.5:\n",
    "        action = random.choice(actions)\n",
    "        text.append(action)\n",
    "\n",
    "    # Step 3: Place\n",
    "    if random.random() < 0.5:\n",
    "        place = random.choice(places)\n",
    "        text.append(place)\n",
    "\n",
    "    # Step 4: Style\n",
    "    num_styles = random.randint(0, 2)\n",
    "    styles = random.sample(styles, num_styles)\n",
    "    text.extend(styles)\n",
    "\n",
    "    # Step 5: Format\n",
    "    num_formats = random.randint(0, 2)\n",
    "    formats = random.sample(formats, num_formats)\n",
    "    text.extend(formats)\n",
    "\n",
    "    # Step 6: Booster\n",
    "    num_boosters = random.randint(0, 5)\n",
    "    boosters = random.sample(boosters, num_boosters)\n",
    "    text.extend(boosters)\n",
    "\n",
    "    # Step 7: Perspective\n",
    "    if random.random() < 0.5:\n",
    "        perspective = random.choice(perspectives)\n",
    "        text.append(perspective)\n",
    "\n",
    "    # Step 8: View\n",
    "    if random.random() < 0.5:\n",
    "        view = random.choice(views)\n",
    "        text.append(view)\n",
    "\n",
    "    # Step 9: Artists\n",
    "    num_artists = random.randint(0, 3)\n",
    "    artists = random.sample(artists, num_artists)\n",
    "    text.extend(artists)\n",
    "\n",
    "    # Step 10: Medium\n",
    "    if random.random() < 0.5:\n",
    "        medium = random.choice(mediums)\n",
    "        text.append(medium)\n",
    "\n",
    "    # Step 11: Environment\n",
    "    if random.random() < 0.5:\n",
    "        environment = random.choice(environments)\n",
    "        text.append(environment)\n",
    "\n",
    "    # Step 12: Lighting\n",
    "    if random.random() < 0.5:\n",
    "        lighting = random.choice(lights)\n",
    "        text.append(lighting)\n",
    "\n",
    "    # Step 13: Color\n",
    "    num_colors = random.randint(0, 5)\n",
    "    colors = random.sample(colors, num_colors)\n",
    "    text.extend(colors)\n",
    "\n",
    "    # Step 14: Mood\n",
    "    if random.random() < 0.5:\n",
    "        mood = random.choice(moods)\n",
    "        text.append(mood)\n",
    "\n",
    "    # Step 15: Decade\n",
    "    if random.random() < 0.5:\n",
    "        decade = random.choice(decades)\n",
    "        text.append(decade)\n",
    "\n",
    "    # Step 16: MJ_prompt\n",
    "    if random.random() < 0.5:\n",
    "        mj_prompt = random.choice(mj_prompts)\n",
    "        text.append(mj_prompt)\n",
    "\n",
    "    # Step 17: Parameters\n",
    "    num_parameters = random.randint(0, 2)\n",
    "    parameters = random.sample(mj_parameters, num_parameters)\n",
    "    text.extend(parameters)\n",
    "\n",
    "    return ', '.join(text)\n",
    "\n",
    "\n",
    "\n",
    "\n",
    "random_text = generate_random_prompt(subjects, actions, places, styles, formats, boosters, perspectives, views, artists, mediums, environments, lights, colors, moods, decades, mj_prompts, mj_parameters)\n",
    "print(random_text)\n",
    "\n"
   ]
  },
  {
   "cell_type": "markdown",
   "metadata": {
    "id": "izqpctlMlvNQ"
   },
   "source": [
    "# Generating a list of prompts\n",
    "\n",
    "Let's extend out script by creating a variable called *num_prompts* to create a bunch of prompts.   We will also add a \"Make it weird, \" modifier to 10% of the prompt for fun.  Again, the idea of this notebook and the products on the Zebonastic store is to act as a starting point for your prompt engineering journey.  See [https://www.instagram.com/zebonastic.ai/](https://www.instagram.com/zebonastic.ai/) and [https://www.etsy.com/shop/Zebonastic](https://www.etsy.com/shop/Zebonastic)\n",
    "\n",
    "\n"
   ]
  },
  {
   "cell_type": "code",
   "execution_count": 13,
   "metadata": {
    "colab": {
     "base_uri": "https://localhost:8080/"
    },
    "id": "py70_QromXZT",
    "outputId": "21e65114-f657-4bcb-a7c9-3ad3c2a26311"
   },
   "outputs": [
    {
     "name": "stdout",
     "output_type": "stream",
     "text": [
      "mT2 Oases, #Wow, Wide-Angle, Long Shot, Paul Cézanne, Ivan Shishkin, Banksy, Bell Pepper Color, Joyful, Art Nouveau Period, The trees are red, yellow, and orange, in the style of Italian landscapes, cabincore, yellow and emerald, precise and sharp, Swiss style, Whistlerian, landscape inspirations --ar 77:127., --v 5 #mansi\n",
      "mT2 Breathtaking Canyons, Zion National Park, Post-Impressionism, Ancient Egypt Papyrus, Stop-Motion Animation, Photorealistic, Stunning, Phenomenal, Top-Notch, Trailblazing, Kazimir Malevich, Dr. Seuss, Strobe, Okra Color, Gothic Era, --v 5 #mansi\n",
      "mT2 Lakes, Sunset Viewing, Digital Art, Cave Painting, Storyboard, Vertigo Effect, Zoomed-In View, Axel Schaefer, Galen, Collage, In A Science Laboratory, Vivid Greens, Arugula Color, Yellow Bell Pepper Color, Gradient, Monochromatic, Chill, Sunset over a pond and mountain, in the style of red and magenta, photo-realistic landscapes, swirling vortexes, Windows XP --ar 33:56., --v 5 #mansi\n",
      "mT2 Savannas, Photography Workshop, Land Art, Storybook, Perspectives, Artistic Vision, Extremely Detailed, Hyperrealistic, Candid, Hdr (High Dynamic Range), Sargent, Clay Sculpture, Thyme Color, Subtle, Guava Color, Neon, Dramatic, Waterfall Iceland, Iceland, waterfall, in the style of pixelated landscapes, light amber and green, serene and peaceful ambiance, 32k UHD, Vik Muniz, Caras Ionut, imposing monumentality --ar 92:163., --v 5, --v 5 #mansi\n",
      "mT2 Bamboo, Fishing, Swiss Alps, Dieselpunk, Collage, Street Art, Captivating, Unique, Mind-Blowing, Ansel Adams, Axel Schaefer, Alphonse Mucha, Batik Art, In A Cityscape, Sunset, Turnip Color, Potato Color, Serene, Landscape at sunset over mountains in a Dolomite plateau, in the style of photo-realistic landscapes, schlieren photography --ar 14:25., --v 5, --v 5 #mansi\n",
      "mT2 Glaciers, Rock Skipping, Victoria Falls, Bohemian, Cybernetic, Ancient Egypt Papyrus, Pencil Sketch, 70Mm, Unreal Beauty, 85Mm, Magical, Neon, Mint Color, Magical, --v 5 #mansi\n",
      "mT2 Rainforests, Sandcastle Building, Bora Bora, Neoclassicism, Video Game Design, Trailblazing, Rendering, Rendered In Unreal Engine, Innovative, Symmetrical, Extreme Close-Up Shot, , Ralph Mcquarrie, Goya, Craig Mullins, Chili Pepper Color, Persimmon Color, Disco Era, A lake or mountain is shown in the foreground, in the style of dark turquoise and light turquoise, vintage aesthetics, Y2K aesthetic, hikecore, Joel Robison, nature inspired, violet and emerald --ar 14:25., --v 5 #mansi\n",
      "mT2 Make it weird, Cliffsides, Camping, Alegria, Linocut, Mugshot, Maurice Sendak, Calligraphy, In A Desert, Raspberry Color, Peach Color, Autumnal Colors, Fir trees around grassy hillsides, in the style of richly colored skies, intricate floral arrangements, National Geographic photo, Whistlerian, captures the essence of nature, vibrant landscapes, mountainous vistas --ar 2:3., --v 5 #mansi\n",
      "mT2 Deserts, The Twelve Apostles, Babylonian Art, Crayon Drawing, Catalog Design, Trailblazing, Well Preserved, X-Ray, Fisheye Lens, Paul Cézanne, James Gurney, Doodle, In A War Zone, Romantic, Bell Pepper Color, Bold, Sage Color, Parsley Color, Shades Of Gray, Space Exploration Era, A waterfall with beautiful water falls down in the middle of a green grove of grass, in the style of iconic imagery, kimoicore, light sky-blue and light amber, raw metallicity, studyblr, 500–1000 CE, expansive landscapes --ar 75:133. #mansi\n",
      "mT2 Starscapes, Industrial, Glam, Fashion Show, Fashion Lookbook, Trailblazing, Professional, Over-The-Shoulder Shot, Dark Background, Galen, Leonardo Da Vinci, Rembrandt, In A Haunted House, Elizabethan Era #mansi\n",
      "mT2 Oases, Perspectives, Stunning, Henri Rousseau, Banksy, Modigliani, Rich, Pastel, --v 5, --v 5 #mansi\n",
      "mT2 Lush Valleys, Sahara Desert, Short Film, Animated Gif, Unreal Engine, Leonardo Da Vinci, Beatrix Potter, Dean Cornwell, Screen Printing, In A Small Town, Dreamy, Persimmon Color, Smiling Happy, New Wave Era, --v 5, --v 5 #mansi\n",
      "mT2 Valleys, Land Art, Eclectic, Hyper Realistic, Masterpiece, Creative, Vfx, Outstanding, Point-Of-View (Pov), Axel Schaefer, Screen Printing, In A Castle, Turmeric Color, Yellow Bell Pepper Color, Jalapeno Pepper Color, Warm Yellows, Landscape with pine trees and mountains at sunset around the Dolomites by Julian Bosniak, in the style of photo-realistic landscapes, dark beige and green, light amber and green, photo taken with Provia, Emilio Giuseppe Dossena, landscape inspirations, Caras Ionut --ar 14:25., --v 5 #mansi\n",
      "mT2 Craggy Peaks, Diving, Watercolor Painting, Epic, Jaw-Dropping, Striking, Through A Porthole, Paper Art, Tomato Color, Dramatic, Pensive, Space Exploration Era, A pink purple sunset surrounded by pine trees and water with red mountains, in the style of Flickr, Vancouver School, Windows XP, joyful celebration of nature, I can't believe how beautiful this is, eye-catching, dark pink and aquamarine --ar 2:3., --v 5 #mansi\n",
      "mT2 Grass, Yoga, Chinese Watercolor, Inspiring, Mesmerizing, Highly Detailed, Gustav Klimt, Vincent Van Gogh, Frank Frazetta, In A Zen Garden, Mysterious, Broccoli Color, Purple Cabbage Color, Funky, --v 5, --v 5 #mansi\n",
      "mT2 Mossy Forests, Yellowstone National Park, Cave Painting, Portrait, Hyperrealistic, Postprocessing, Plain Background, Cityscape View, Frank Frazetta, J.K. Rowling, Georges Seurat, Firefly, Bell Pepper Color, Cucumber Color, Mint Color, Pumpkin Color, Tranquil, --v 5, --v 5 #mansi\n",
      "mT2 Valleys, Wildlife Spotting, Rococo, Architectural Blueprint, Blender 3D, Low Angle View, Bill Watterson, Scratchboard Art, Yoga Studio, Carrot Color, Tangerine Color, Blueberry Color, Grape Color, Belle Époque #mansi\n",
      "mT2 Waterfalls, Outdoor Yoga Retreat, Disposable Camera, Pencil Sketch, Stellar Composition, High Detail, Framed, Georges Braque, Yoji Shinkawa, Eric Carle, Twilight, Watermelon Color, Turnip Color, Rich, Playful, Pearlescent, --v 5 #mansi\n",
      "mT2 Mangroves, Canoeing, Modeling Photoshoot, Vfx, Epic, Aesthetic, Groundbreaking, Panoramic, Framed Shot, Cezanne, Thomas Kinkaid, Mixed Media, Cinematic, Dusky Oranges, Cold War, --v 5, --v 5 #mansi\n",
      "mT2 Aerial Views, Fossil Hunting, Interactive Installation, Packaging Prototype, Mind-Blowing, Top-Notch, Ultra High Poly, Cutting-Edge, Close Face, Arcimboldo, In A Mythical Land, Pumpkin Color, Green Apple Color, --v 5 #mansi\n",
      "mT2 Grass, Outdoor Yoga Retreat, Cinque Terre, Digital Art, Post-Apocalyptic, Disposable Camera, Data Visualization, Striking, Vfx, Skillful, Double Exposure, Robert Mccall, Doodle, Autumnal Colors, Multicolored, Pomegranate Color, Red Pepper Color, --v 5 #mansi\n",
      "mT2 Colorful Reefs, Professional Corporate Portrait, Advertising Poster, Exceptional, Inspire, Outstanding, Extremely Detailed, Extreme Close-Up Shot, , Thomas Cole, Airbrush Art, Rainy, Tinted, Fierce, Wild West, --v 5 #mansi\n",
      "mT2 Make it weird, Prairies, Bungee Jumping, Atacama Desert, Augmented Reality (Ar) App, Press Release, Artistic Vision, Point-Of-View (Pov), Rene Magritte, Craig Mullins, Diego Rivera, Lemon Color, Pastel Pinks, Cool, Broccoli Color, Earthy Browns, Haunting, Roaring Twenties, The red and pink sun setting over a river, in the style of natural symbolism, lush colors --ar 33:56., --v 5 #mansi\n",
      "mT2 Sand Dunes, Bryce Canyon, Photorealism, Kinetic Art, Short Film, Collage, Exceptionally Skilled, Impressive, Split Focus, Auguste Rodin, In A Forest, Rim Lighting, Red Onion Color, Apricot Color, Pepper Color, Thoughtful, Colonial Era, Sunset over rocky terrain in the Dolomites of the Alps, in the style of photo-realistic landscapes, forestpunk, rural landscapes --ar 14:25., --v 5 #mansi\n",
      "mT2 Hidden Gems, Fossil Hunting, Atacama Desert, Breathtaking Depth, Trending On Artstation, Inspiring, Spotlight, Primary Colors, Yellow Tomato Color, Papaya Color #mansi\n",
      "mT2 Aerial Views, Bronze Statue, Split Screen, Pierre Auguste Renoir, Eric Carle, Auguste Rodin, Studio Lights, Orange Color, Spinach Color, Vibrant, Bright, Prehistoric Times, --v 5 #mansi\n",
      "mT2 Oases, Easter Island, Vivid, Unforgettable, Impressive, Studio Lighting, Scenic View, Edward Hopper, Mixed Media, Twilight, Sweet Potato Color, Endive Color, Purple Potato Color, Chili Pepper Color, Cretaceous Period #mansi\n",
      "mT2 Make it weird, Misty Waterfalls, Cinque Terre, Retro, Airbrush, Logo Design, Macro, Split View, Margaret Keane, Roy Lichtenstein, Basquiat, Chili Pepper Color, Pumpkin Color, Sage Color, Shades Of Gray, Roaring Twenties, The trees are red, yellow, and orange, in the style of Italian landscapes, cabincore, yellow and emerald, precise and sharp, Swiss style, Whistlerian, landscape inspirations --ar 77:127., --v 5, --v 5 #mansi\n",
      "mT2 Dunes, Bronze Statue, Typography Design, Unreal Beauty, Iconic, Fantastic, First-Person, Long Shot, Turner, Collage, Foggy, Glowing, Thoughtful, --v 5, --v 5 #mansi\n",
      "mT2 Meadows, Hot Spring Soaking, Skeumorphism, Graffiti, Music Video, World-Class, Game-Changing, Warped, Medium-Wide Full Body Shot Doing Yoga, Focus Shot On The Model, , Eric Carle, Video Art, Cool Blues, Mint Color, Pumpkin Color, Green Pea Color, --v 5, --v 5 #mansi\n",
      "mT2 Islands, Sketching, Biopunk, Skeumorphism, Impeccable Textures, Highly Detailed, Studio Lighting, Bokeh, Collage View, Kahlo, Wes Anderson, Pablo Picasso, Video Art, Pensive, Landscape with pine trees and mountains at sunset around the Dolomites by Julian Bosniak, in the style of photo-realistic landscapes, dark beige and green, light amber and green, photo taken with Provia, Emilio Giuseppe Dossena, landscape inspirations, Caras Ionut --ar 14:25. #mansi\n",
      "mT2 Grass, Sketchbook, Pencil And Watercolor Drawing, Detailed, Wow Factor, Revolutionary, Dorothea Lange, Edgar Degas, Georges Braque, Outdoors, Ambient, Carrot Color, Earth Tones, Regency Era, A waterfall coming out of a cave inside Iceland photo, in the style of pixelated landscapes, expansive landscapes --ar 92:163., --v 5 #mansi\n",
      "mT2 Glaciers, Wildflower Picking, Amazon Rainforest, Alegria, Album Art Cover, Trending On Artstation, Expertise, Leading Lines, In A Steampunk World, Dreamy, Bright, Pomegranate Color, Kiwi Color, Purple Potato Color, Soulful, Ancient Greece, --v 5 #mansi\n",
      "mT2 Fields, Cinque Terre, Vector Art, Portrait Photography, Impressionistic, Innovative, Mind-Blowing, Utagawa Kuniyoshi, Piet Mondrian, Ralph Mcquarrie, Stained Glass, Sunrise, Toned, Honeydew Melon Color, Hopeful, Inca Empire, Starry night over Mount Rainier Northwest, in the style of captivating documentary photos, surrealistic dream-like imagery, surreal dream-like imagery, nebulous forms --ar 53:80. #mansi\n",
      "mT2 Mountains, Environmental Conservation, Namib Desert, Suprematism, Vector Art, Autochrome, Photorealistic, Studio Lighting, Aesthetic, Rendering, Fascinating, Top-Down, Interior View, Scratchboard Art, Turnip Color, Neon, Iridescent, Turmeric Color, Yellow Apple Color, --v 5 #mansi\n",
      "mT2 Meadows, Trekking, Serengeti National Park, Mannerism, Magical, Trending On Artstation, Wide-Angle View, In A Hidden Cave, Sunset, Pale, Soothing Purples, Bold, Mango Color, Radish Color, Playful, Prehistorical, --v 5, --v 5 #mansi\n",
      "mT2 Glaciers, Great Wall of China, Street Art, Digital Art, Awe-Inspiring Perspective, Cutting-Edge, Phenomenal, Drone, Underwater View, Botticelli, Robert Hargreaves, In A Wild West Town, Firefly, Kiwi Color, Turnip Color, Beet Color, Guava Color, Kale Color, Optimistic, --v 5 #mansi\n",
      "mT2 Deserts, Lake Louise, Surrealist, Sketchbook, Innovative, Arnold Render, Rendered In Unreal Engine, First-Person, Fish-Eye, Arcimboldo, Graphite Drawing, In A Cityscape, Cool Blues, Plum Color, Medieval Era, Full moon with birds flying over water, in the style of dark orange and light gold, gigantic scale, Misha Gordin, Flickr, 32k UHD, National Geographic photo, alien worlds --ar 91:163., --v 5, --v 5 #mansi\n",
      "mT2 Wetlands, Mushroom Hunting, Pointillism, Op Art, Book Cover, Ingenious, Hyper Realistic, Skillful Use of Color, One-Of-A-Kind, Lichtenstein, Etching, In An Alternate Dimension, Sunset, Red Onion Color, Contrasting, Persimmon Color, Jalapeno Pepper Color, Purple Potato Color, Mysterious, Autumn leaves in a field, in the style of mountainous vistas, cabincore, yellow and emerald, Swiss style, eye-catching, villagecore, pristine naturalism --ar 77:127., --v 5, --v 5 #mansi\n",
      "mT2 Glaciers, Digital Art, Simon Stalenhag, Pablo Picasso, Indoors, Apricot Color, Pop Of Color, Butternut Squash Color, Peach Color, Playful, The Kahkia, a mountain lake in nature, by the viewfinder of a tree and mountains, in the style of light turquoise and dark emerald, Y2K aesthetic, hikecore, sparse backgrounds, light purple and turquoise, Vancouver School, 8k resolution --ar 14:25. #mansi\n",
      "mT2 Icebergs, Digital Art, Babylonian Art, Exhibition Design, Decorative Minoan Mural, Vivid, Well Preserved, Perspectives, Tilted Frame, Frank Gehry, Saul Leiter, Cezanne, In A Futuristic Spaceship, Vibrant, Broccoli Color, Persimmon Color, Yellow Squash Color, Cold War, --v 5, --v 5 #mansi\n",
      "mT2 Oases, Sandcastle Building, Yosemite National Park, Vintage, Pointillism, Street Photography, Cinematography From Music Video, Masterpiece, Underwater View, Yayoi Kusama, Georgia O'Keeffe, Digital Painting, Black And White, Renaissance Period, --v 5 #mansi\n",
      "mT2 Beaches, Nature Walks, De Stijl, Steampunk, 70Mm, Iconic, Exquisite, Genius, Master of Lighting, Drone Shot, Ralph Mcquarrie, In A Bustling Market, Firelight, Dusky Oranges, Bold, Colorful, Upbeat, Waterfall Iceland, Iceland, waterfall, in the style of pixelated landscapes, light amber and green, serene and peaceful ambiance, 32k UHD, Vik Muniz, Caras Ionut, imposing monumentality --ar 92:163. #mansi\n",
      "mT2 Sunsets, Nature Study, Lake Louise, Romanticism, #Wow, Gainsborough, Gustav Klimt, In A Lunar Colony, Dusk, Warm, Kale Color, Primary Colors, Sun-Kissed, Fierce, Information Age, Mike Hauge, storms of mountain highalp, Rainier County, Washington, in the style of the stars art group (xing xing), precisionism, captivating documentary photos, cosmic visions, Evgeni Gordiets, Jeremy Geddes, light pink and red --ar 53:80., --v 5, --v 5 #mansi\n",
      "mT2 Lakes, Storm Chasing, Iguazu Falls, Installation, Romanticism, Inspiring, Arnold Render, Infrared, Metal Sculpture, Pear Color, Honeydew Melon Color, Brooding, Art Deco Era, --v 5, --v 5 #mansi\n",
      "mT2 Make it weird, Ponds, Boating, Torres del Paine, Abstract Art, Impressionist, Sigma 75Mm, Full Body Photo, Time-Lapse View, Dean Cornwell, Francisco Goya, Goya, Mosaic, Sunset, Broccoli Color, Earthy Browns, Empowering, Prehistorical #mansi\n",
      "mT2 Moons, Birdwatching, Amazon Rainforest, Industrial, Magical, Unbelievable, Silhouette, Claude Monet, Turner, In A Forest, Twilight, Colorful, Purple Cabbage Color, Suspenseful, --v 5, --v 5 #mansi\n",
      "mT2 Meadows, Stargazing, Jasper National Park, Cinematic, Magical, Cutting-Edge, Creative, 70Mm, In A Zen Garden, Disco Era, A storm passes over a mountain in a dark sky, in the style of the stars art group (xing xing), dreamy portraits, Whistlerian, associated press photo, light pink and red, exaggerated features, organic formations --ar 53:80., --v 5 #mansi\n",
      "mT2 Hills, Antelope Canyon, Charcoal Drawing, Top-Down, Henri Rousseau, Thomas Cole, In Narnia, Dramatic, --v 5, --v 5 #mansi\n",
      "mT2 Dunes, Grand Canyon, Dieselpunk, Graffiti, Collage View, Piet Mondrian, Ivan Shishkin, Watercolor Painting, In A Floating City, Romantic, Warm, Earthy Browns, Bell Pepper Color, Gothic Era, --v 5, --v 5 #mansi\n"
     ]
    }
   ],
   "source": [
    "output = []\n",
    "n = 50\n",
    "\n",
    "\n",
    "for i in range(n):\n",
    "    prompt = generate_random_prompt(subjects, actions, places, styles, formats, boosters, perspectives, views, artists, mediums, environments, lights, colors, moods, decades, mj_prompts, mj_parameters)\n",
    "    if biased_coin_flip(0.1):\n",
    "          prompt = 'Make it weird, ' + prompt\n",
    "    output.append(prompt)\n",
    "\n",
    "for i in output:\n",
    "  print(\"mT2 \" + i+\" #mansi\")"
   ]
  },
  {
   "cell_type": "code",
   "execution_count": null,
   "metadata": {},
   "outputs": [],
   "source": []
  }
 ],
 "metadata": {
  "colab": {
   "provenance": []
  },
  "kernelspec": {
   "display_name": "Python 3",
   "language": "python",
   "name": "python3"
  },
  "language_info": {
   "codemirror_mode": {
    "name": "ipython",
    "version": 3
   },
   "file_extension": ".py",
   "mimetype": "text/x-python",
   "name": "python",
   "nbconvert_exporter": "python",
   "pygments_lexer": "ipython3",
   "version": "3.8.3"
  }
 },
 "nbformat": 4,
 "nbformat_minor": 1
}
